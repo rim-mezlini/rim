{
 "cells": [
  {
   "cell_type": "code",
   "execution_count": 8,
   "metadata": {
    "id": "AFijdWmcSP8G"
   },
   "outputs": [],
   "source": [
    "import pandas as pd\n",
    "import matplotlib.pyplot as plt\n",
    "import seaborn as sns\n",
    "import plotly.graph_objects as go\n"
   ]
  },
  {
   "cell_type": "code",
   "execution_count": 11,
   "metadata": {
    "colab": {
     "base_uri": "https://localhost:8080/"
    },
    "id": "M5bvD7ALUEtw",
    "outputId": "8520f36e-7075-442f-9b79-881dff094d16"
   },
   "outputs": [],
   "source": [
    "\n",
    "import pandas as pd\n",
    "\n",
    "# Spécifiez le chemin complet du fichier Excel\n",
    "chemin_fichier_excel = 'C:\\\\netflix_titles_nov_2019.xlsx'\n",
    "\n",
    "# Utilisez la fonction read_excel pour lire les données\n",
    "df = pd.read_excel(chemin_fichier_excel)"
   ]
  },
  {
   "cell_type": "code",
   "execution_count": 12,
   "metadata": {
    "colab": {
     "base_uri": "https://localhost:8080/",
     "height": 293
    },
    "id": "w5uAuGeXU7Mm",
    "outputId": "337b717c-86ad-45c5-b29d-06161ba2c965"
   },
   "outputs": [
    {
     "data": {
      "text/html": [
       "<div>\n",
       "<style scoped>\n",
       "    .dataframe tbody tr th:only-of-type {\n",
       "        vertical-align: middle;\n",
       "    }\n",
       "\n",
       "    .dataframe tbody tr th {\n",
       "        vertical-align: top;\n",
       "    }\n",
       "\n",
       "    .dataframe thead th {\n",
       "        text-align: right;\n",
       "    }\n",
       "</style>\n",
       "<table border=\"1\" class=\"dataframe\">\n",
       "  <thead>\n",
       "    <tr style=\"text-align: right;\">\n",
       "      <th></th>\n",
       "      <th>show_id</th>\n",
       "      <th>title</th>\n",
       "      <th>director</th>\n",
       "      <th>cast</th>\n",
       "      <th>country</th>\n",
       "      <th>date_added</th>\n",
       "      <th>release_year</th>\n",
       "      <th>rating</th>\n",
       "      <th>duration</th>\n",
       "      <th>listed_in</th>\n",
       "      <th>description</th>\n",
       "      <th>type</th>\n",
       "    </tr>\n",
       "  </thead>\n",
       "  <tbody>\n",
       "    <tr>\n",
       "      <th>0</th>\n",
       "      <td>81193313</td>\n",
       "      <td>Chocolate</td>\n",
       "      <td>NaN</td>\n",
       "      <td>Ha Ji-won, Yoon Kye-sang, Jang Seung-jo, Kang ...</td>\n",
       "      <td>South Korea</td>\n",
       "      <td>November 30, 2019</td>\n",
       "      <td>2019</td>\n",
       "      <td>TV-14</td>\n",
       "      <td>1 Season</td>\n",
       "      <td>International TV Shows, Korean TV Shows, Roman...</td>\n",
       "      <td>Brought together by meaningful meals in the pa...</td>\n",
       "      <td>TV Show</td>\n",
       "    </tr>\n",
       "    <tr>\n",
       "      <th>1</th>\n",
       "      <td>81197050</td>\n",
       "      <td>Guatemala: Heart of the Mayan World</td>\n",
       "      <td>Luis Ara, Ignacio Jaunsolo</td>\n",
       "      <td>Christian Morales</td>\n",
       "      <td>NaN</td>\n",
       "      <td>November 30, 2019</td>\n",
       "      <td>2019</td>\n",
       "      <td>TV-G</td>\n",
       "      <td>67 min</td>\n",
       "      <td>Documentaries, International Movies</td>\n",
       "      <td>From Sierra de las Minas to Esquipulas, explor...</td>\n",
       "      <td>Movie</td>\n",
       "    </tr>\n",
       "    <tr>\n",
       "      <th>2</th>\n",
       "      <td>81213894</td>\n",
       "      <td>The Zoya Factor</td>\n",
       "      <td>Abhishek Sharma</td>\n",
       "      <td>Sonam Kapoor, Dulquer Salmaan, Sanjay Kapoor, ...</td>\n",
       "      <td>India</td>\n",
       "      <td>November 30, 2019</td>\n",
       "      <td>2019</td>\n",
       "      <td>TV-14</td>\n",
       "      <td>135 min</td>\n",
       "      <td>Comedies, Dramas, International Movies</td>\n",
       "      <td>A goofy copywriter unwittingly convinces the I...</td>\n",
       "      <td>Movie</td>\n",
       "    </tr>\n",
       "    <tr>\n",
       "      <th>3</th>\n",
       "      <td>81082007</td>\n",
       "      <td>Atlantics</td>\n",
       "      <td>Mati Diop</td>\n",
       "      <td>Mama Sane, Amadou Mbow, Ibrahima Traore, Nicol...</td>\n",
       "      <td>France, Senegal, Belgium</td>\n",
       "      <td>November 29, 2019</td>\n",
       "      <td>2019</td>\n",
       "      <td>TV-14</td>\n",
       "      <td>106 min</td>\n",
       "      <td>Dramas, Independent Movies, International Movies</td>\n",
       "      <td>Arranged to marry a rich man, young Ada is cru...</td>\n",
       "      <td>Movie</td>\n",
       "    </tr>\n",
       "    <tr>\n",
       "      <th>4</th>\n",
       "      <td>80213643</td>\n",
       "      <td>Chip and Potato</td>\n",
       "      <td>NaN</td>\n",
       "      <td>Abigail Oliver, Andrea Libman, Briana Buckmast...</td>\n",
       "      <td>Canada, United Kingdom</td>\n",
       "      <td>NaN</td>\n",
       "      <td>2019</td>\n",
       "      <td>TV-Y</td>\n",
       "      <td>2 Seasons</td>\n",
       "      <td>Kids' TV</td>\n",
       "      <td>Lovable pug Chip starts kindergarten, makes ne...</td>\n",
       "      <td>TV Show</td>\n",
       "    </tr>\n",
       "    <tr>\n",
       "      <th>5</th>\n",
       "      <td>81172754</td>\n",
       "      <td>Crazy people</td>\n",
       "      <td>Moses Inwang</td>\n",
       "      <td>Ramsey Nouah, Chigul, Sola Sobowale, Ireti Doy...</td>\n",
       "      <td>Nigeria</td>\n",
       "      <td>November 29, 2019</td>\n",
       "      <td>2018</td>\n",
       "      <td>TV-14</td>\n",
       "      <td>107 min</td>\n",
       "      <td>Comedies, International Movies, Thrillers</td>\n",
       "      <td>Nollywood star Ramsey Nouah learns that someon...</td>\n",
       "      <td>Movie</td>\n",
       "    </tr>\n",
       "    <tr>\n",
       "      <th>6</th>\n",
       "      <td>81120982</td>\n",
       "      <td>I Lost My Body</td>\n",
       "      <td>JÃ©rÃ©my Clapin</td>\n",
       "      <td>Hakim Faris, Victoire Du Bois, Patrick d'Assum...</td>\n",
       "      <td>France</td>\n",
       "      <td>November 29, 2019</td>\n",
       "      <td>2019</td>\n",
       "      <td>TV-MA</td>\n",
       "      <td>81 min</td>\n",
       "      <td>Dramas, Independent Movies, International Movies</td>\n",
       "      <td>Romance, mystery and adventure intertwine as a...</td>\n",
       "      <td>Movie</td>\n",
       "    </tr>\n",
       "    <tr>\n",
       "      <th>7</th>\n",
       "      <td>81227195</td>\n",
       "      <td>Kalushi: The Story of Solomon Mahlangu</td>\n",
       "      <td>Mandla Dube</td>\n",
       "      <td>Thabo Rametsi, Thabo Malema, Welile Nzuza, Jaf...</td>\n",
       "      <td>South Africa</td>\n",
       "      <td>November 29, 2019</td>\n",
       "      <td>2016</td>\n",
       "      <td>TV-MA</td>\n",
       "      <td>107 min</td>\n",
       "      <td>Dramas, International Movies</td>\n",
       "      <td>The life and times of iconic South African lib...</td>\n",
       "      <td>Movie</td>\n",
       "    </tr>\n",
       "    <tr>\n",
       "      <th>8</th>\n",
       "      <td>70205672</td>\n",
       "      <td>La Reina del Sur</td>\n",
       "      <td>NaN</td>\n",
       "      <td>Kate del Castillo, Cristina Urgel, Alberto Jim...</td>\n",
       "      <td>United States, Spain, Colombia, Mexico</td>\n",
       "      <td>NaN</td>\n",
       "      <td>2019</td>\n",
       "      <td>TV-14</td>\n",
       "      <td>2 Seasons</td>\n",
       "      <td>Crime TV Shows, International TV Shows, Spanis...</td>\n",
       "      <td>This compelling show tells the story of the le...</td>\n",
       "      <td>TV Show</td>\n",
       "    </tr>\n",
       "    <tr>\n",
       "      <th>9</th>\n",
       "      <td>81172841</td>\n",
       "      <td>Lagos Real Fake Life</td>\n",
       "      <td>Mike Ezuruonye</td>\n",
       "      <td>Nonso Diobi, Mike Ezuruonye, Mercy Aigbe, Rex ...</td>\n",
       "      <td>NaN</td>\n",
       "      <td>November 29, 2019</td>\n",
       "      <td>2018</td>\n",
       "      <td>TV-14</td>\n",
       "      <td>118 min</td>\n",
       "      <td>Comedies, International Movies</td>\n",
       "      <td>Two mooching friends vie for the attention of ...</td>\n",
       "      <td>Movie</td>\n",
       "    </tr>\n",
       "  </tbody>\n",
       "</table>\n",
       "</div>"
      ],
      "text/plain": [
       "    show_id                                   title  \\\n",
       "0  81193313                               Chocolate   \n",
       "1  81197050     Guatemala: Heart of the Mayan World   \n",
       "2  81213894                         The Zoya Factor   \n",
       "3  81082007                               Atlantics   \n",
       "4  80213643                         Chip and Potato   \n",
       "5  81172754                            Crazy people   \n",
       "6  81120982                          I Lost My Body   \n",
       "7  81227195  Kalushi: The Story of Solomon Mahlangu   \n",
       "8  70205672                        La Reina del Sur   \n",
       "9  81172841                    Lagos Real Fake Life   \n",
       "\n",
       "                     director  \\\n",
       "0                         NaN   \n",
       "1  Luis Ara, Ignacio Jaunsolo   \n",
       "2             Abhishek Sharma   \n",
       "3                   Mati Diop   \n",
       "4                         NaN   \n",
       "5                Moses Inwang   \n",
       "6             JÃ©rÃ©my Clapin   \n",
       "7                 Mandla Dube   \n",
       "8                         NaN   \n",
       "9              Mike Ezuruonye   \n",
       "\n",
       "                                                cast  \\\n",
       "0  Ha Ji-won, Yoon Kye-sang, Jang Seung-jo, Kang ...   \n",
       "1                                  Christian Morales   \n",
       "2  Sonam Kapoor, Dulquer Salmaan, Sanjay Kapoor, ...   \n",
       "3  Mama Sane, Amadou Mbow, Ibrahima Traore, Nicol...   \n",
       "4  Abigail Oliver, Andrea Libman, Briana Buckmast...   \n",
       "5  Ramsey Nouah, Chigul, Sola Sobowale, Ireti Doy...   \n",
       "6  Hakim Faris, Victoire Du Bois, Patrick d'Assum...   \n",
       "7  Thabo Rametsi, Thabo Malema, Welile Nzuza, Jaf...   \n",
       "8  Kate del Castillo, Cristina Urgel, Alberto Jim...   \n",
       "9  Nonso Diobi, Mike Ezuruonye, Mercy Aigbe, Rex ...   \n",
       "\n",
       "                                  country         date_added release_year  \\\n",
       "0                             South Korea  November 30, 2019         2019   \n",
       "1                                     NaN  November 30, 2019         2019   \n",
       "2                                   India  November 30, 2019         2019   \n",
       "3                France, Senegal, Belgium  November 29, 2019         2019   \n",
       "4                  Canada, United Kingdom                NaN         2019   \n",
       "5                                 Nigeria  November 29, 2019         2018   \n",
       "6                                  France  November 29, 2019         2019   \n",
       "7                            South Africa  November 29, 2019         2016   \n",
       "8  United States, Spain, Colombia, Mexico                NaN         2019   \n",
       "9                                     NaN  November 29, 2019         2018   \n",
       "\n",
       "  rating   duration                                          listed_in  \\\n",
       "0  TV-14   1 Season  International TV Shows, Korean TV Shows, Roman...   \n",
       "1   TV-G     67 min                Documentaries, International Movies   \n",
       "2  TV-14    135 min             Comedies, Dramas, International Movies   \n",
       "3  TV-14    106 min   Dramas, Independent Movies, International Movies   \n",
       "4   TV-Y  2 Seasons                                           Kids' TV   \n",
       "5  TV-14    107 min          Comedies, International Movies, Thrillers   \n",
       "6  TV-MA     81 min   Dramas, Independent Movies, International Movies   \n",
       "7  TV-MA    107 min                       Dramas, International Movies   \n",
       "8  TV-14  2 Seasons  Crime TV Shows, International TV Shows, Spanis...   \n",
       "9  TV-14    118 min                     Comedies, International Movies   \n",
       "\n",
       "                                         description     type  \n",
       "0  Brought together by meaningful meals in the pa...  TV Show  \n",
       "1  From Sierra de las Minas to Esquipulas, explor...    Movie  \n",
       "2  A goofy copywriter unwittingly convinces the I...    Movie  \n",
       "3  Arranged to marry a rich man, young Ada is cru...    Movie  \n",
       "4  Lovable pug Chip starts kindergarten, makes ne...  TV Show  \n",
       "5  Nollywood star Ramsey Nouah learns that someon...    Movie  \n",
       "6  Romance, mystery and adventure intertwine as a...    Movie  \n",
       "7  The life and times of iconic South African lib...    Movie  \n",
       "8  This compelling show tells the story of the le...  TV Show  \n",
       "9  Two mooching friends vie for the attention of ...    Movie  "
      ]
     },
     "execution_count": 12,
     "metadata": {},
     "output_type": "execute_result"
    }
   ],
   "source": [
    "df.head(10)"
   ]
  },
  {
   "cell_type": "code",
   "execution_count": 38,
   "metadata": {},
   "outputs": [
    {
     "data": {
      "text/plain": [
       "(5839, 15)"
      ]
     },
     "execution_count": 38,
     "metadata": {},
     "output_type": "execute_result"
    }
   ],
   "source": [
    "#dimensions \n",
    "df.shape"
   ]
  },
  {
   "cell_type": "markdown",
   "metadata": {
    "id": "eNVmdipbVdDa"
   },
   "source": [
    "Statistique descriptive (Sum,moy,min,max)"
   ]
  },
  {
   "cell_type": "code",
   "execution_count": 13,
   "metadata": {
    "colab": {
     "base_uri": "https://localhost:8080/"
    },
    "id": "z9peFlRgVBkz",
    "outputId": "d6c08cff-9386-45d9-ccc3-df6d53f546e4"
   },
   "outputs": [
    {
     "data": {
      "text/plain": [
       "<bound method NDFrame.describe of        show_id                                title  \\\n",
       "0     81193313                            Chocolate   \n",
       "1     81197050  Guatemala: Heart of the Mayan World   \n",
       "2     81213894                      The Zoya Factor   \n",
       "3     81082007                            Atlantics   \n",
       "4     80213643                      Chip and Potato   \n",
       "...        ...                                  ...   \n",
       "5834  70141644          Mad Ron's Prevues from Hell   \n",
       "5835  70127998                             Splatter   \n",
       "5836  70084180              Just Another Love Story   \n",
       "5837  70157452                      Dinner for Five   \n",
       "5838  70053412                 To and From New York   \n",
       "\n",
       "                        director  \\\n",
       "0                            NaN   \n",
       "1     Luis Ara, Ignacio Jaunsolo   \n",
       "2                Abhishek Sharma   \n",
       "3                      Mati Diop   \n",
       "4                            NaN   \n",
       "...                          ...   \n",
       "5834                  Jim Monaco   \n",
       "5835                   Joe Dante   \n",
       "5836                Ole Bornedal   \n",
       "5837                         NaN   \n",
       "5838        Sorin Dan Mihalcescu   \n",
       "\n",
       "                                                   cast  \\\n",
       "0     Ha Ji-won, Yoon Kye-sang, Jang Seung-jo, Kang ...   \n",
       "1                                     Christian Morales   \n",
       "2     Sonam Kapoor, Dulquer Salmaan, Sanjay Kapoor, ...   \n",
       "3     Mama Sane, Amadou Mbow, Ibrahima Traore, Nicol...   \n",
       "4     Abigail Oliver, Andrea Libman, Briana Buckmast...   \n",
       "...                                                 ...   \n",
       "5834  Nick Pawlow, Jordu Schell, Jay Kushwara, Micha...   \n",
       "5835  Corey Feldman, Tony Todd, Tara Leigh, Erin Way...   \n",
       "5836  Anders W. Berthelsen, Rebecka Hemse, Nikolaj L...   \n",
       "5837                                                NaN   \n",
       "5838  Barbara King, Shaana Diya, John Krisiukenas, Y...   \n",
       "\n",
       "                       country         date_added release_year rating  \\\n",
       "0                  South Korea  November 30, 2019         2019  TV-14   \n",
       "1                          NaN  November 30, 2019         2019   TV-G   \n",
       "2                        India  November 30, 2019         2019  TV-14   \n",
       "3     France, Senegal, Belgium  November 29, 2019         2019  TV-14   \n",
       "4       Canada, United Kingdom                NaN         2019   TV-Y   \n",
       "...                        ...                ...          ...    ...   \n",
       "5834             United States   November 1, 2010         1987     NR   \n",
       "5835             United States  November 18, 2009         2009  TV-14   \n",
       "5836                   Denmark        May 5, 2009         2007     NR   \n",
       "5837             United States   February 4, 2008         2007  TV-MA   \n",
       "5838             United States    January 1, 2008         2006     NR   \n",
       "\n",
       "       duration                                          listed_in  \\\n",
       "0      1 Season  International TV Shows, Korean TV Shows, Roman...   \n",
       "1        67 min                Documentaries, International Movies   \n",
       "2       135 min             Comedies, Dramas, International Movies   \n",
       "3       106 min   Dramas, Independent Movies, International Movies   \n",
       "4     2 Seasons                                           Kids' TV   \n",
       "...         ...                                                ...   \n",
       "5834     84 min                         Cult Movies, Horror Movies   \n",
       "5835     29 min                                      Horror Movies   \n",
       "5836    104 min                       Dramas, International Movies   \n",
       "5837   1 Season                       Stand-Up Comedy & Talk Shows   \n",
       "5838     81 min              Dramas, Independent Movies, Thrillers   \n",
       "\n",
       "                                            description     type  \n",
       "0     Brought together by meaningful meals in the pa...  TV Show  \n",
       "1     From Sierra de las Minas to Esquipulas, explor...    Movie  \n",
       "2     A goofy copywriter unwittingly convinces the I...    Movie  \n",
       "3     Arranged to marry a rich man, young Ada is cru...    Movie  \n",
       "4     Lovable pug Chip starts kindergarten, makes ne...  TV Show  \n",
       "...                                                 ...      ...  \n",
       "5834  This collection cherry-picks trailers, forgott...    Movie  \n",
       "5835  After committing suicide, a washed-up rocker r...    Movie  \n",
       "5836  When he causes a car accident that leaves a yo...    Movie  \n",
       "5837  In each episode, four celebrities join host Jo...  TV Show  \n",
       "5838  While covering a story in New York City, a Sea...    Movie  \n",
       "\n",
       "[5839 rows x 12 columns]>"
      ]
     },
     "execution_count": 13,
     "metadata": {},
     "output_type": "execute_result"
    }
   ],
   "source": [
    "df.describe"
   ]
  },
  {
   "cell_type": "code",
   "execution_count": 47,
   "metadata": {
    "colab": {
     "base_uri": "https://localhost:8080/",
     "height": 580
    },
    "id": "_q1cBo3Yvx7L",
    "outputId": "8959d6f5-b7d2-4eed-9b43-6bba884f7efe"
   },
   "outputs": [
    {
     "data": {
      "text/html": [
       "<div>\n",
       "<style scoped>\n",
       "    .dataframe tbody tr th:only-of-type {\n",
       "        vertical-align: middle;\n",
       "    }\n",
       "\n",
       "    .dataframe tbody tr th {\n",
       "        vertical-align: top;\n",
       "    }\n",
       "\n",
       "    .dataframe thead th {\n",
       "        text-align: right;\n",
       "    }\n",
       "</style>\n",
       "<table border=\"1\" class=\"dataframe\">\n",
       "  <thead>\n",
       "    <tr style=\"text-align: right;\">\n",
       "      <th></th>\n",
       "      <th>show_id</th>\n",
       "      <th>title</th>\n",
       "      <th>director</th>\n",
       "      <th>cast</th>\n",
       "      <th>country</th>\n",
       "      <th>date_added</th>\n",
       "      <th>release_year</th>\n",
       "      <th>rating</th>\n",
       "      <th>duration</th>\n",
       "      <th>listed_in</th>\n",
       "      <th>description</th>\n",
       "      <th>type</th>\n",
       "      <th>year_added</th>\n",
       "      <th>month_added</th>\n",
       "      <th>season_count</th>\n",
       "    </tr>\n",
       "  </thead>\n",
       "  <tbody>\n",
       "    <tr>\n",
       "      <th>2</th>\n",
       "      <td>81213894</td>\n",
       "      <td>The Zoya Factor</td>\n",
       "      <td>Abhishek Sharma</td>\n",
       "      <td>Sonam Kapoor, Dulquer Salmaan, Sanjay Kapoor, ...</td>\n",
       "      <td>India</td>\n",
       "      <td>2019-11-30</td>\n",
       "      <td>2019.0</td>\n",
       "      <td>TV-14</td>\n",
       "      <td>135</td>\n",
       "      <td>Comedies, Dramas, International Movies</td>\n",
       "      <td>A goofy copywriter unwittingly convinces the I...</td>\n",
       "      <td>Movie</td>\n",
       "      <td>2019.0</td>\n",
       "      <td>11.0</td>\n",
       "      <td></td>\n",
       "    </tr>\n",
       "    <tr>\n",
       "      <th>3</th>\n",
       "      <td>81082007</td>\n",
       "      <td>Atlantics</td>\n",
       "      <td>Mati Diop</td>\n",
       "      <td>Mama Sane, Amadou Mbow, Ibrahima Traore, Nicol...</td>\n",
       "      <td>France, Senegal, Belgium</td>\n",
       "      <td>2019-11-29</td>\n",
       "      <td>2019.0</td>\n",
       "      <td>TV-14</td>\n",
       "      <td>106</td>\n",
       "      <td>Dramas, Independent Movies, International Movies</td>\n",
       "      <td>Arranged to marry a rich man, young Ada is cru...</td>\n",
       "      <td>Movie</td>\n",
       "      <td>2019.0</td>\n",
       "      <td>11.0</td>\n",
       "      <td></td>\n",
       "    </tr>\n",
       "    <tr>\n",
       "      <th>5</th>\n",
       "      <td>81172754</td>\n",
       "      <td>Crazy people</td>\n",
       "      <td>Moses Inwang</td>\n",
       "      <td>Ramsey Nouah, Chigul, Sola Sobowale, Ireti Doy...</td>\n",
       "      <td>Nigeria</td>\n",
       "      <td>2019-11-29</td>\n",
       "      <td>2018.0</td>\n",
       "      <td>TV-14</td>\n",
       "      <td>107</td>\n",
       "      <td>Comedies, International Movies, Thrillers</td>\n",
       "      <td>Nollywood star Ramsey Nouah learns that someon...</td>\n",
       "      <td>Movie</td>\n",
       "      <td>2019.0</td>\n",
       "      <td>11.0</td>\n",
       "      <td></td>\n",
       "    </tr>\n",
       "    <tr>\n",
       "      <th>6</th>\n",
       "      <td>81120982</td>\n",
       "      <td>I Lost My Body</td>\n",
       "      <td>JÃ©rÃ©my Clapin</td>\n",
       "      <td>Hakim Faris, Victoire Du Bois, Patrick d'Assum...</td>\n",
       "      <td>France</td>\n",
       "      <td>2019-11-29</td>\n",
       "      <td>2019.0</td>\n",
       "      <td>TV-MA</td>\n",
       "      <td>81</td>\n",
       "      <td>Dramas, Independent Movies, International Movies</td>\n",
       "      <td>Romance, mystery and adventure intertwine as a...</td>\n",
       "      <td>Movie</td>\n",
       "      <td>2019.0</td>\n",
       "      <td>11.0</td>\n",
       "      <td></td>\n",
       "    </tr>\n",
       "    <tr>\n",
       "      <th>7</th>\n",
       "      <td>81227195</td>\n",
       "      <td>Kalushi: The Story of Solomon Mahlangu</td>\n",
       "      <td>Mandla Dube</td>\n",
       "      <td>Thabo Rametsi, Thabo Malema, Welile Nzuza, Jaf...</td>\n",
       "      <td>South Africa</td>\n",
       "      <td>2019-11-29</td>\n",
       "      <td>2016.0</td>\n",
       "      <td>TV-MA</td>\n",
       "      <td>107</td>\n",
       "      <td>Dramas, International Movies</td>\n",
       "      <td>The life and times of iconic South African lib...</td>\n",
       "      <td>Movie</td>\n",
       "      <td>2019.0</td>\n",
       "      <td>11.0</td>\n",
       "      <td></td>\n",
       "    </tr>\n",
       "    <tr>\n",
       "      <th>...</th>\n",
       "      <td>...</td>\n",
       "      <td>...</td>\n",
       "      <td>...</td>\n",
       "      <td>...</td>\n",
       "      <td>...</td>\n",
       "      <td>...</td>\n",
       "      <td>...</td>\n",
       "      <td>...</td>\n",
       "      <td>...</td>\n",
       "      <td>...</td>\n",
       "      <td>...</td>\n",
       "      <td>...</td>\n",
       "      <td>...</td>\n",
       "      <td>...</td>\n",
       "      <td>...</td>\n",
       "    </tr>\n",
       "    <tr>\n",
       "      <th>5833</th>\n",
       "      <td>70154110</td>\n",
       "      <td>Even the Rain</td>\n",
       "      <td>IcÃ­ar BollaÃ­n</td>\n",
       "      <td>Luis Tosar, Gael GarcÃ­a Bernal, Juan Carlos A...</td>\n",
       "      <td>Spain, Mexico, France</td>\n",
       "      <td>2011-05-17</td>\n",
       "      <td>2010.0</td>\n",
       "      <td>NR</td>\n",
       "      <td>103</td>\n",
       "      <td>Dramas, International Movies</td>\n",
       "      <td>While making a film about the incursion of Chr...</td>\n",
       "      <td>Movie</td>\n",
       "      <td>2011.0</td>\n",
       "      <td>5.0</td>\n",
       "      <td></td>\n",
       "    </tr>\n",
       "    <tr>\n",
       "      <th>5834</th>\n",
       "      <td>70141644</td>\n",
       "      <td>Mad Ron's Prevues from Hell</td>\n",
       "      <td>Jim Monaco</td>\n",
       "      <td>Nick Pawlow, Jordu Schell, Jay Kushwara, Micha...</td>\n",
       "      <td>United States</td>\n",
       "      <td>2010-11-01</td>\n",
       "      <td>1987.0</td>\n",
       "      <td>NR</td>\n",
       "      <td>84</td>\n",
       "      <td>Cult Movies, Horror Movies</td>\n",
       "      <td>This collection cherry-picks trailers, forgott...</td>\n",
       "      <td>Movie</td>\n",
       "      <td>2010.0</td>\n",
       "      <td>11.0</td>\n",
       "      <td></td>\n",
       "    </tr>\n",
       "    <tr>\n",
       "      <th>5835</th>\n",
       "      <td>70127998</td>\n",
       "      <td>Splatter</td>\n",
       "      <td>Joe Dante</td>\n",
       "      <td>Corey Feldman, Tony Todd, Tara Leigh, Erin Way...</td>\n",
       "      <td>United States</td>\n",
       "      <td>2009-11-18</td>\n",
       "      <td>2009.0</td>\n",
       "      <td>TV-14</td>\n",
       "      <td>29</td>\n",
       "      <td>Horror Movies</td>\n",
       "      <td>After committing suicide, a washed-up rocker r...</td>\n",
       "      <td>Movie</td>\n",
       "      <td>2009.0</td>\n",
       "      <td>11.0</td>\n",
       "      <td></td>\n",
       "    </tr>\n",
       "    <tr>\n",
       "      <th>5836</th>\n",
       "      <td>70084180</td>\n",
       "      <td>Just Another Love Story</td>\n",
       "      <td>Ole Bornedal</td>\n",
       "      <td>Anders W. Berthelsen, Rebecka Hemse, Nikolaj L...</td>\n",
       "      <td>Denmark</td>\n",
       "      <td>2009-05-05</td>\n",
       "      <td>2007.0</td>\n",
       "      <td>NR</td>\n",
       "      <td>104</td>\n",
       "      <td>Dramas, International Movies</td>\n",
       "      <td>When he causes a car accident that leaves a yo...</td>\n",
       "      <td>Movie</td>\n",
       "      <td>2009.0</td>\n",
       "      <td>5.0</td>\n",
       "      <td></td>\n",
       "    </tr>\n",
       "    <tr>\n",
       "      <th>5838</th>\n",
       "      <td>70053412</td>\n",
       "      <td>To and From New York</td>\n",
       "      <td>Sorin Dan Mihalcescu</td>\n",
       "      <td>Barbara King, Shaana Diya, John Krisiukenas, Y...</td>\n",
       "      <td>United States</td>\n",
       "      <td>2008-01-01</td>\n",
       "      <td>2006.0</td>\n",
       "      <td>NR</td>\n",
       "      <td>81</td>\n",
       "      <td>Dramas, Independent Movies, Thrillers</td>\n",
       "      <td>While covering a story in New York City, a Sea...</td>\n",
       "      <td>Movie</td>\n",
       "      <td>2008.0</td>\n",
       "      <td>1.0</td>\n",
       "      <td></td>\n",
       "    </tr>\n",
       "  </tbody>\n",
       "</table>\n",
       "<p>3443 rows × 15 columns</p>\n",
       "</div>"
      ],
      "text/plain": [
       "       show_id                                   title              director  \\\n",
       "2     81213894                         The Zoya Factor       Abhishek Sharma   \n",
       "3     81082007                               Atlantics             Mati Diop   \n",
       "5     81172754                            Crazy people          Moses Inwang   \n",
       "6     81120982                          I Lost My Body       JÃ©rÃ©my Clapin   \n",
       "7     81227195  Kalushi: The Story of Solomon Mahlangu           Mandla Dube   \n",
       "...        ...                                     ...                   ...   \n",
       "5833  70154110                           Even the Rain       IcÃ­ar BollaÃ­n   \n",
       "5834  70141644             Mad Ron's Prevues from Hell            Jim Monaco   \n",
       "5835  70127998                                Splatter             Joe Dante   \n",
       "5836  70084180                 Just Another Love Story          Ole Bornedal   \n",
       "5838  70053412                    To and From New York  Sorin Dan Mihalcescu   \n",
       "\n",
       "                                                   cast  \\\n",
       "2     Sonam Kapoor, Dulquer Salmaan, Sanjay Kapoor, ...   \n",
       "3     Mama Sane, Amadou Mbow, Ibrahima Traore, Nicol...   \n",
       "5     Ramsey Nouah, Chigul, Sola Sobowale, Ireti Doy...   \n",
       "6     Hakim Faris, Victoire Du Bois, Patrick d'Assum...   \n",
       "7     Thabo Rametsi, Thabo Malema, Welile Nzuza, Jaf...   \n",
       "...                                                 ...   \n",
       "5833  Luis Tosar, Gael GarcÃ­a Bernal, Juan Carlos A...   \n",
       "5834  Nick Pawlow, Jordu Schell, Jay Kushwara, Micha...   \n",
       "5835  Corey Feldman, Tony Todd, Tara Leigh, Erin Way...   \n",
       "5836  Anders W. Berthelsen, Rebecka Hemse, Nikolaj L...   \n",
       "5838  Barbara King, Shaana Diya, John Krisiukenas, Y...   \n",
       "\n",
       "                       country date_added  release_year rating duration  \\\n",
       "2                        India 2019-11-30        2019.0  TV-14      135   \n",
       "3     France, Senegal, Belgium 2019-11-29        2019.0  TV-14      106   \n",
       "5                      Nigeria 2019-11-29        2018.0  TV-14      107   \n",
       "6                       France 2019-11-29        2019.0  TV-MA       81   \n",
       "7                 South Africa 2019-11-29        2016.0  TV-MA      107   \n",
       "...                        ...        ...           ...    ...      ...   \n",
       "5833     Spain, Mexico, France 2011-05-17        2010.0     NR      103   \n",
       "5834             United States 2010-11-01        1987.0     NR       84   \n",
       "5835             United States 2009-11-18        2009.0  TV-14       29   \n",
       "5836                   Denmark 2009-05-05        2007.0     NR      104   \n",
       "5838             United States 2008-01-01        2006.0     NR       81   \n",
       "\n",
       "                                             listed_in  \\\n",
       "2               Comedies, Dramas, International Movies   \n",
       "3     Dramas, Independent Movies, International Movies   \n",
       "5            Comedies, International Movies, Thrillers   \n",
       "6     Dramas, Independent Movies, International Movies   \n",
       "7                         Dramas, International Movies   \n",
       "...                                                ...   \n",
       "5833                      Dramas, International Movies   \n",
       "5834                        Cult Movies, Horror Movies   \n",
       "5835                                     Horror Movies   \n",
       "5836                      Dramas, International Movies   \n",
       "5838             Dramas, Independent Movies, Thrillers   \n",
       "\n",
       "                                            description   type  year_added  \\\n",
       "2     A goofy copywriter unwittingly convinces the I...  Movie      2019.0   \n",
       "3     Arranged to marry a rich man, young Ada is cru...  Movie      2019.0   \n",
       "5     Nollywood star Ramsey Nouah learns that someon...  Movie      2019.0   \n",
       "6     Romance, mystery and adventure intertwine as a...  Movie      2019.0   \n",
       "7     The life and times of iconic South African lib...  Movie      2019.0   \n",
       "...                                                 ...    ...         ...   \n",
       "5833  While making a film about the incursion of Chr...  Movie      2011.0   \n",
       "5834  This collection cherry-picks trailers, forgott...  Movie      2010.0   \n",
       "5835  After committing suicide, a washed-up rocker r...  Movie      2009.0   \n",
       "5836  When he causes a car accident that leaves a yo...  Movie      2009.0   \n",
       "5838  While covering a story in New York City, a Sea...  Movie      2008.0   \n",
       "\n",
       "      month_added season_count  \n",
       "2            11.0               \n",
       "3            11.0               \n",
       "5            11.0               \n",
       "6            11.0               \n",
       "7            11.0               \n",
       "...           ...          ...  \n",
       "5833          5.0               \n",
       "5834         11.0               \n",
       "5835         11.0               \n",
       "5836          5.0               \n",
       "5838          1.0               \n",
       "\n",
       "[3443 rows x 15 columns]"
      ]
     },
     "execution_count": 47,
     "metadata": {},
     "output_type": "execute_result"
    }
   ],
   "source": [
    "#permet de supprimer les lignes qui contiennent des valeurs manquantes (NaN - Not a Number) dans votre DataFrame\n",
    "df.dropna()"
   ]
  },
  {
   "cell_type": "code",
   "execution_count": 48,
   "metadata": {},
   "outputs": [
    {
     "name": "stdout",
     "output_type": "stream",
     "text": [
      "Index(['show_id', 'title', 'director', 'cast', 'country', 'date_added',\n",
      "       'release_year', 'rating', 'duration', 'listed_in', 'description',\n",
      "       'type', 'year_added', 'month_added', 'season_count'],\n",
      "      dtype='object')\n"
     ]
    }
   ],
   "source": [
    "\n",
    "print(df.columns)"
   ]
  },
  {
   "cell_type": "code",
   "execution_count": 22,
   "metadata": {},
   "outputs": [],
   "source": [
    "import pandas as pd\n",
    "\n"
   ]
  },
  {
   "cell_type": "code",
   "execution_count": 49,
   "metadata": {
    "colab": {
     "base_uri": "https://localhost:8080/",
     "height": 597
    },
    "id": "LPIl07FDgr3F",
    "outputId": "5cff5634-c9a9-43f3-91cf-2526fce69df7"
   },
   "outputs": [
    {
     "data": {
      "text/html": [
       "<div>\n",
       "<style scoped>\n",
       "    .dataframe tbody tr th:only-of-type {\n",
       "        vertical-align: middle;\n",
       "    }\n",
       "\n",
       "    .dataframe tbody tr th {\n",
       "        vertical-align: top;\n",
       "    }\n",
       "\n",
       "    .dataframe thead th {\n",
       "        text-align: right;\n",
       "    }\n",
       "</style>\n",
       "<table border=\"1\" class=\"dataframe\">\n",
       "  <thead>\n",
       "    <tr style=\"text-align: right;\">\n",
       "      <th></th>\n",
       "      <th>show_id</th>\n",
       "      <th>title</th>\n",
       "      <th>director</th>\n",
       "      <th>cast</th>\n",
       "      <th>country</th>\n",
       "      <th>date_added</th>\n",
       "      <th>release_year</th>\n",
       "      <th>rating</th>\n",
       "      <th>duration</th>\n",
       "      <th>listed_in</th>\n",
       "      <th>description</th>\n",
       "      <th>type</th>\n",
       "      <th>year_added</th>\n",
       "      <th>month_added</th>\n",
       "      <th>season_count</th>\n",
       "    </tr>\n",
       "  </thead>\n",
       "  <tbody>\n",
       "    <tr>\n",
       "      <th>2154</th>\n",
       "      <td>81030762</td>\n",
       "      <td>Pioneers: First Women Filmmakers*</td>\n",
       "      <td>NaN</td>\n",
       "      <td>NaN</td>\n",
       "      <td>NaN</td>\n",
       "      <td>2018-12-30 00:00:00.000000000</td>\n",
       "      <td>1925.0</td>\n",
       "      <td>TV-PG</td>\n",
       "      <td></td>\n",
       "      <td>TV Shows</td>\n",
       "      <td>This collection restores films from women who ...</td>\n",
       "      <td>TV Show</td>\n",
       "      <td>2018.0</td>\n",
       "      <td>12.0</td>\n",
       "      <td>1</td>\n",
       "    </tr>\n",
       "    <tr>\n",
       "      <th>4930</th>\n",
       "      <td>60027945</td>\n",
       "      <td>Prelude to War</td>\n",
       "      <td>Frank Capra</td>\n",
       "      <td>NaN</td>\n",
       "      <td>United States</td>\n",
       "      <td>2017-03-31 00:00:00.000000000</td>\n",
       "      <td>1942.0</td>\n",
       "      <td>TV-PG</td>\n",
       "      <td>52</td>\n",
       "      <td>Classic Movies, Documentaries</td>\n",
       "      <td>Frank Capra's documentary chronicles the rise ...</td>\n",
       "      <td>Movie</td>\n",
       "      <td>2017.0</td>\n",
       "      <td>3.0</td>\n",
       "      <td></td>\n",
       "    </tr>\n",
       "    <tr>\n",
       "      <th>4932</th>\n",
       "      <td>60027942</td>\n",
       "      <td>The Battle of Midway</td>\n",
       "      <td>John Ford</td>\n",
       "      <td>Henry Fonda, Jane Darwell</td>\n",
       "      <td>United States</td>\n",
       "      <td>2017-03-31 00:00:00.000000000</td>\n",
       "      <td>1942.0</td>\n",
       "      <td>TV-G</td>\n",
       "      <td>18</td>\n",
       "      <td>Classic Movies, Documentaries</td>\n",
       "      <td>Director John Ford captures combat footage of ...</td>\n",
       "      <td>Movie</td>\n",
       "      <td>2017.0</td>\n",
       "      <td>3.0</td>\n",
       "      <td></td>\n",
       "    </tr>\n",
       "    <tr>\n",
       "      <th>4945</th>\n",
       "      <td>70013050</td>\n",
       "      <td>Why We Fight: The Battle of Russia</td>\n",
       "      <td>Frank Capra, Anatole Litvak</td>\n",
       "      <td>NaN</td>\n",
       "      <td>United States</td>\n",
       "      <td>2017-03-31 00:00:00.000000000</td>\n",
       "      <td>1943.0</td>\n",
       "      <td>TV-14</td>\n",
       "      <td>82</td>\n",
       "      <td>Documentaries</td>\n",
       "      <td>This installment of Frank Capra's acclaimed do...</td>\n",
       "      <td>Movie</td>\n",
       "      <td>2017.0</td>\n",
       "      <td>3.0</td>\n",
       "      <td></td>\n",
       "    </tr>\n",
       "    <tr>\n",
       "      <th>4948</th>\n",
       "      <td>70022548</td>\n",
       "      <td>WWII: Report from the Aleutians</td>\n",
       "      <td>John Huston</td>\n",
       "      <td>NaN</td>\n",
       "      <td>United States</td>\n",
       "      <td>2017-03-31 00:00:00.000000000</td>\n",
       "      <td>1943.0</td>\n",
       "      <td>NR</td>\n",
       "      <td>45</td>\n",
       "      <td>Documentaries</td>\n",
       "      <td>Filmmaker John Huston narrates this Oscar-nomi...</td>\n",
       "      <td>Movie</td>\n",
       "      <td>2017.0</td>\n",
       "      <td>3.0</td>\n",
       "      <td></td>\n",
       "    </tr>\n",
       "    <tr>\n",
       "      <th>...</th>\n",
       "      <td>...</td>\n",
       "      <td>...</td>\n",
       "      <td>...</td>\n",
       "      <td>...</td>\n",
       "      <td>...</td>\n",
       "      <td>...</td>\n",
       "      <td>...</td>\n",
       "      <td>...</td>\n",
       "      <td>...</td>\n",
       "      <td>...</td>\n",
       "      <td>...</td>\n",
       "      <td>...</td>\n",
       "      <td>...</td>\n",
       "      <td>...</td>\n",
       "      <td>...</td>\n",
       "    </tr>\n",
       "    <tr>\n",
       "      <th>0</th>\n",
       "      <td>81193313</td>\n",
       "      <td>Chocolate</td>\n",
       "      <td>NaN</td>\n",
       "      <td>Ha Ji-won, Yoon Kye-sang, Jang Seung-jo, Kang ...</td>\n",
       "      <td>South Korea</td>\n",
       "      <td>2019-11-30 00:00:00.000000000</td>\n",
       "      <td>2019.0</td>\n",
       "      <td>TV-14</td>\n",
       "      <td></td>\n",
       "      <td>International TV Shows, Korean TV Shows, Roman...</td>\n",
       "      <td>Brought together by meaningful meals in the pa...</td>\n",
       "      <td>TV Show</td>\n",
       "      <td>2019.0</td>\n",
       "      <td>11.0</td>\n",
       "      <td>1</td>\n",
       "    </tr>\n",
       "    <tr>\n",
       "      <th>133</th>\n",
       "      <td>81034946</td>\n",
       "      <td>Maradona in Mexico</td>\n",
       "      <td>NaN</td>\n",
       "      <td>Diego Armando Maradona</td>\n",
       "      <td>Argentina, United States, Mexico</td>\n",
       "      <td>2019-11-13 00:00:00.000000000</td>\n",
       "      <td>2020.0</td>\n",
       "      <td>TV-MA</td>\n",
       "      <td></td>\n",
       "      <td>Docuseries, Spanish-Language TV Shows</td>\n",
       "      <td>In this docuseries, soccer great Diego Maradon...</td>\n",
       "      <td>TV Show</td>\n",
       "      <td>2019.0</td>\n",
       "      <td>11.0</td>\n",
       "      <td>1</td>\n",
       "    </tr>\n",
       "    <tr>\n",
       "      <th>2246</th>\n",
       "      <td>and probably will.\"</td>\n",
       "      <td>Movie</td>\n",
       "      <td>NaN</td>\n",
       "      <td>NaN</td>\n",
       "      <td>NaN</td>\n",
       "      <td>NaT</td>\n",
       "      <td>NaN</td>\n",
       "      <td>NaN</td>\n",
       "      <td></td>\n",
       "      <td>NaN</td>\n",
       "      <td>NaN</td>\n",
       "      <td>NaN</td>\n",
       "      <td>NaN</td>\n",
       "      <td>NaN</td>\n",
       "      <td></td>\n",
       "    </tr>\n",
       "    <tr>\n",
       "      <th>4937</th>\n",
       "      <td>80119194</td>\n",
       "      <td>The Memphis Belle: A Story of a</td>\n",
       "      <td>NaN</td>\n",
       "      <td>NaN</td>\n",
       "      <td>NaN</td>\n",
       "      <td>NaT</td>\n",
       "      <td>NaN</td>\n",
       "      <td>NaN</td>\n",
       "      <td></td>\n",
       "      <td>NaN</td>\n",
       "      <td>NaN</td>\n",
       "      <td>NaN</td>\n",
       "      <td>NaN</td>\n",
       "      <td>NaN</td>\n",
       "      <td></td>\n",
       "    </tr>\n",
       "    <tr>\n",
       "      <th>4938</th>\n",
       "      <td>Flying Fortress\"</td>\n",
       "      <td>William Wyler</td>\n",
       "      <td>NaN</td>\n",
       "      <td>United States</td>\n",
       "      <td>March 31, 2017</td>\n",
       "      <td>1970-01-01 00:00:00.000001944</td>\n",
       "      <td>NaN</td>\n",
       "      <td>40 min</td>\n",
       "      <td>Classic</td>\n",
       "      <td>This documentary centers on the crew of the B-...</td>\n",
       "      <td>Movie</td>\n",
       "      <td>NaN</td>\n",
       "      <td>1970.0</td>\n",
       "      <td>1.0</td>\n",
       "      <td></td>\n",
       "    </tr>\n",
       "  </tbody>\n",
       "</table>\n",
       "<p>5839 rows × 15 columns</p>\n",
       "</div>"
      ],
      "text/plain": [
       "                   show_id                               title  \\\n",
       "2154              81030762   Pioneers: First Women Filmmakers*   \n",
       "4930              60027945                      Prelude to War   \n",
       "4932              60027942                The Battle of Midway   \n",
       "4945              70013050  Why We Fight: The Battle of Russia   \n",
       "4948              70022548     WWII: Report from the Aleutians   \n",
       "...                    ...                                 ...   \n",
       "0                 81193313                           Chocolate   \n",
       "133               81034946                  Maradona in Mexico   \n",
       "2246   and probably will.\"                               Movie   \n",
       "4937              80119194     The Memphis Belle: A Story of a   \n",
       "4938      Flying Fortress\"                       William Wyler   \n",
       "\n",
       "                         director  \\\n",
       "2154                          NaN   \n",
       "4930                  Frank Capra   \n",
       "4932                    John Ford   \n",
       "4945  Frank Capra, Anatole Litvak   \n",
       "4948                  John Huston   \n",
       "...                           ...   \n",
       "0                             NaN   \n",
       "133                           NaN   \n",
       "2246                          NaN   \n",
       "4937                          NaN   \n",
       "4938                          NaN   \n",
       "\n",
       "                                                   cast  \\\n",
       "2154                                                NaN   \n",
       "4930                                                NaN   \n",
       "4932                          Henry Fonda, Jane Darwell   \n",
       "4945                                                NaN   \n",
       "4948                                                NaN   \n",
       "...                                                 ...   \n",
       "0     Ha Ji-won, Yoon Kye-sang, Jang Seung-jo, Kang ...   \n",
       "133                              Diego Armando Maradona   \n",
       "2246                                                NaN   \n",
       "4937                                                NaN   \n",
       "4938                                      United States   \n",
       "\n",
       "                               country                    date_added  \\\n",
       "2154                               NaN 2018-12-30 00:00:00.000000000   \n",
       "4930                     United States 2017-03-31 00:00:00.000000000   \n",
       "4932                     United States 2017-03-31 00:00:00.000000000   \n",
       "4945                     United States 2017-03-31 00:00:00.000000000   \n",
       "4948                     United States 2017-03-31 00:00:00.000000000   \n",
       "...                                ...                           ...   \n",
       "0                          South Korea 2019-11-30 00:00:00.000000000   \n",
       "133   Argentina, United States, Mexico 2019-11-13 00:00:00.000000000   \n",
       "2246                               NaN                           NaT   \n",
       "4937                               NaN                           NaT   \n",
       "4938                    March 31, 2017 1970-01-01 00:00:00.000001944   \n",
       "\n",
       "      release_year  rating duration  \\\n",
       "2154        1925.0   TV-PG            \n",
       "4930        1942.0   TV-PG       52   \n",
       "4932        1942.0    TV-G       18   \n",
       "4945        1943.0   TV-14       82   \n",
       "4948        1943.0      NR       45   \n",
       "...            ...     ...      ...   \n",
       "0           2019.0   TV-14            \n",
       "133         2020.0   TV-MA            \n",
       "2246           NaN     NaN            \n",
       "4937           NaN     NaN            \n",
       "4938           NaN  40 min  Classic   \n",
       "\n",
       "                                              listed_in  \\\n",
       "2154                                           TV Shows   \n",
       "4930                      Classic Movies, Documentaries   \n",
       "4932                      Classic Movies, Documentaries   \n",
       "4945                                      Documentaries   \n",
       "4948                                      Documentaries   \n",
       "...                                                 ...   \n",
       "0     International TV Shows, Korean TV Shows, Roman...   \n",
       "133               Docuseries, Spanish-Language TV Shows   \n",
       "2246                                                NaN   \n",
       "4937                                                NaN   \n",
       "4938  This documentary centers on the crew of the B-...   \n",
       "\n",
       "                                            description     type  year_added  \\\n",
       "2154  This collection restores films from women who ...  TV Show      2018.0   \n",
       "4930  Frank Capra's documentary chronicles the rise ...    Movie      2017.0   \n",
       "4932  Director John Ford captures combat footage of ...    Movie      2017.0   \n",
       "4945  This installment of Frank Capra's acclaimed do...    Movie      2017.0   \n",
       "4948  Filmmaker John Huston narrates this Oscar-nomi...    Movie      2017.0   \n",
       "...                                                 ...      ...         ...   \n",
       "0     Brought together by meaningful meals in the pa...  TV Show      2019.0   \n",
       "133   In this docuseries, soccer great Diego Maradon...  TV Show      2019.0   \n",
       "2246                                                NaN      NaN         NaN   \n",
       "4937                                                NaN      NaN         NaN   \n",
       "4938                                              Movie      NaN      1970.0   \n",
       "\n",
       "      month_added season_count  \n",
       "2154         12.0            1  \n",
       "4930          3.0               \n",
       "4932          3.0               \n",
       "4945          3.0               \n",
       "4948          3.0               \n",
       "...           ...          ...  \n",
       "0            11.0            1  \n",
       "133          11.0            1  \n",
       "2246          NaN               \n",
       "4937          NaN               \n",
       "4938          1.0               \n",
       "\n",
       "[5839 rows x 15 columns]"
      ]
     },
     "execution_count": 49,
     "metadata": {},
     "output_type": "execute_result"
    }
   ],
   "source": [
    "#cela signifie que vous souhaitez trier le DataFrame par la colonne 'release_year'\n",
    "df.sort_values(by='release_year')\n"
   ]
  },
  {
   "cell_type": "code",
   "execution_count": 24,
   "metadata": {
    "colab": {
     "base_uri": "https://localhost:8080/",
     "height": 206
    },
    "id": "xJkZXzKGe8pw",
    "outputId": "4422eedc-26e6-42af-b2d7-ba06d216447e"
   },
   "outputs": [
    {
     "data": {
      "text/html": [
       "<div>\n",
       "<style scoped>\n",
       "    .dataframe tbody tr th:only-of-type {\n",
       "        vertical-align: middle;\n",
       "    }\n",
       "\n",
       "    .dataframe tbody tr th {\n",
       "        vertical-align: top;\n",
       "    }\n",
       "\n",
       "    .dataframe thead th {\n",
       "        text-align: right;\n",
       "    }\n",
       "</style>\n",
       "<table border=\"1\" class=\"dataframe\">\n",
       "  <thead>\n",
       "    <tr style=\"text-align: right;\">\n",
       "      <th></th>\n",
       "      <th>show_id</th>\n",
       "      <th>title</th>\n",
       "      <th>director</th>\n",
       "      <th>cast</th>\n",
       "      <th>country</th>\n",
       "      <th>date_added</th>\n",
       "      <th>release_year</th>\n",
       "      <th>rating</th>\n",
       "      <th>duration</th>\n",
       "      <th>listed_in</th>\n",
       "      <th>description</th>\n",
       "      <th>type</th>\n",
       "    </tr>\n",
       "  </thead>\n",
       "  <tbody>\n",
       "    <tr>\n",
       "      <th>11</th>\n",
       "      <td>81094391</td>\n",
       "      <td>Sugar Rush Christmas</td>\n",
       "      <td>NaN</td>\n",
       "      <td>Hunter March, Candace Nelson, Adriano Zumbo</td>\n",
       "      <td>United States</td>\n",
       "      <td>November 29, 2019</td>\n",
       "      <td>2019.0</td>\n",
       "      <td>TV-PG</td>\n",
       "      <td>1 Season</td>\n",
       "      <td>Reality TV</td>\n",
       "      <td>It's everything you love about \"Sugar Rush\" â€...</td>\n",
       "      <td>TV Show</td>\n",
       "    </tr>\n",
       "    <tr>\n",
       "      <th>15</th>\n",
       "      <td>80990849</td>\n",
       "      <td>The Movies That Made Us</td>\n",
       "      <td>NaN</td>\n",
       "      <td>NaN</td>\n",
       "      <td>United States</td>\n",
       "      <td>November 29, 2019</td>\n",
       "      <td>2019.0</td>\n",
       "      <td>TV-MA</td>\n",
       "      <td>1 Season</td>\n",
       "      <td>Docuseries</td>\n",
       "      <td>These blockbusters brought us together and gav...</td>\n",
       "      <td>TV Show</td>\n",
       "    </tr>\n",
       "    <tr>\n",
       "      <th>16</th>\n",
       "      <td>81033086</td>\n",
       "      <td>Holiday Rush</td>\n",
       "      <td>Leslie Small</td>\n",
       "      <td>Romany Malco, Sonequa Martin-Green, Darlene Lo...</td>\n",
       "      <td>United States</td>\n",
       "      <td>November 28, 2019</td>\n",
       "      <td>2019.0</td>\n",
       "      <td>TV-PG</td>\n",
       "      <td>94 min</td>\n",
       "      <td>Children &amp; Family Movies, Dramas</td>\n",
       "      <td>A widowed radio DJ and his four spoiled kids n...</td>\n",
       "      <td>Movie</td>\n",
       "    </tr>\n",
       "    <tr>\n",
       "      <th>19</th>\n",
       "      <td>80997965</td>\n",
       "      <td>Merry Happy Whatever</td>\n",
       "      <td>NaN</td>\n",
       "      <td>Dennis Quaid, Bridgit Mendler, Brent Morin, As...</td>\n",
       "      <td>United States</td>\n",
       "      <td>November 28, 2019</td>\n",
       "      <td>2019.0</td>\n",
       "      <td>TV-PG</td>\n",
       "      <td>1 Season</td>\n",
       "      <td>TV Comedies</td>\n",
       "      <td>A struggling LA musician tries to win over his...</td>\n",
       "      <td>TV Show</td>\n",
       "    </tr>\n",
       "    <tr>\n",
       "      <th>22</th>\n",
       "      <td>81002391</td>\n",
       "      <td>Broken</td>\n",
       "      <td>NaN</td>\n",
       "      <td>NaN</td>\n",
       "      <td>United States</td>\n",
       "      <td>November 27, 2019</td>\n",
       "      <td>2019.0</td>\n",
       "      <td>TV-14</td>\n",
       "      <td>1 Season</td>\n",
       "      <td>Docuseries</td>\n",
       "      <td>This investigative docuseries shows how neglig...</td>\n",
       "      <td>TV Show</td>\n",
       "    </tr>\n",
       "  </tbody>\n",
       "</table>\n",
       "</div>"
      ],
      "text/plain": [
       "     show_id                    title      director  \\\n",
       "11  81094391     Sugar Rush Christmas           NaN   \n",
       "15  80990849  The Movies That Made Us           NaN   \n",
       "16  81033086             Holiday Rush  Leslie Small   \n",
       "19  80997965     Merry Happy Whatever           NaN   \n",
       "22  81002391                   Broken           NaN   \n",
       "\n",
       "                                                 cast        country  \\\n",
       "11        Hunter March, Candace Nelson, Adriano Zumbo  United States   \n",
       "15                                                NaN  United States   \n",
       "16  Romany Malco, Sonequa Martin-Green, Darlene Lo...  United States   \n",
       "19  Dennis Quaid, Bridgit Mendler, Brent Morin, As...  United States   \n",
       "22                                                NaN  United States   \n",
       "\n",
       "           date_added  release_year rating  duration  \\\n",
       "11  November 29, 2019        2019.0  TV-PG  1 Season   \n",
       "15  November 29, 2019        2019.0  TV-MA  1 Season   \n",
       "16  November 28, 2019        2019.0  TV-PG    94 min   \n",
       "19  November 28, 2019        2019.0  TV-PG  1 Season   \n",
       "22  November 27, 2019        2019.0  TV-14  1 Season   \n",
       "\n",
       "                           listed_in  \\\n",
       "11                        Reality TV   \n",
       "15                        Docuseries   \n",
       "16  Children & Family Movies, Dramas   \n",
       "19                       TV Comedies   \n",
       "22                        Docuseries   \n",
       "\n",
       "                                          description     type  \n",
       "11  It's everything you love about \"Sugar Rush\" â€...  TV Show  \n",
       "15  These blockbusters brought us together and gav...  TV Show  \n",
       "16  A widowed radio DJ and his four spoiled kids n...    Movie  \n",
       "19  A struggling LA musician tries to win over his...  TV Show  \n",
       "22  This investigative docuseries shows how neglig...  TV Show  "
      ]
     },
     "execution_count": 24,
     "metadata": {},
     "output_type": "execute_result"
    }
   ],
   "source": [
    "data1 = df[df['country'] == 'United States']\n",
    "data1.head()"
   ]
  },
  {
   "cell_type": "code",
   "execution_count": 25,
   "metadata": {
    "colab": {
     "base_uri": "https://localhost:8080/"
    },
    "id": "cDOeG1G2fPnu",
    "outputId": "26fd952d-f1e6-4f0e-d838-08feb4e8c657"
   },
   "outputs": [
    {
     "name": "stdout",
     "output_type": "stream",
     "text": [
      "                                                    show_id  title  director  \\\n",
      "country                                                                        \n",
      "Argentina                                                38     38        26   \n",
      "Argentina, Brazil, France, Poland, Germany, Den...        1      1         1   \n",
      "Argentina, Chile                                          1      1         1   \n",
      "Argentina, Chile, Peru                                    1      1         1   \n",
      "Argentina, France                                         1      1         1   \n",
      "...                                                     ...    ...       ...   \n",
      "Uruguay, Spain, Mexico                                    1      1         1   \n",
      "Venezuela                                                 1      1         1   \n",
      "Venezuela, Colombia                                       1      1         1   \n",
      "Vietnam                                                   4      4         4   \n",
      "West Germany                                              1      1         1   \n",
      "\n",
      "                                                    cast  date_added  \\\n",
      "country                                                                \n",
      "Argentina                                             37          33   \n",
      "Argentina, Brazil, France, Poland, Germany, Den...     1           1   \n",
      "Argentina, Chile                                       1           1   \n",
      "Argentina, Chile, Peru                                 1           1   \n",
      "Argentina, France                                      1           1   \n",
      "...                                                  ...         ...   \n",
      "Uruguay, Spain, Mexico                                 1           1   \n",
      "Venezuela                                              1           1   \n",
      "Venezuela, Colombia                                    0           1   \n",
      "Vietnam                                                4           4   \n",
      "West Germany                                           0           1   \n",
      "\n",
      "                                                    release_year  rating  \\\n",
      "country                                                                    \n",
      "Argentina                                                     38      38   \n",
      "Argentina, Brazil, France, Poland, Germany, Den...             1       1   \n",
      "Argentina, Chile                                               1       1   \n",
      "Argentina, Chile, Peru                                         1       1   \n",
      "Argentina, France                                              1       1   \n",
      "...                                                          ...     ...   \n",
      "Uruguay, Spain, Mexico                                         1       1   \n",
      "Venezuela                                                      1       1   \n",
      "Venezuela, Colombia                                            1       1   \n",
      "Vietnam                                                        4       4   \n",
      "West Germany                                                   1       1   \n",
      "\n",
      "                                                    duration  listed_in  \\\n",
      "country                                                                   \n",
      "Argentina                                                 38         38   \n",
      "Argentina, Brazil, France, Poland, Germany, Den...         1          1   \n",
      "Argentina, Chile                                           1          1   \n",
      "Argentina, Chile, Peru                                     1          1   \n",
      "Argentina, France                                          1          1   \n",
      "...                                                      ...        ...   \n",
      "Uruguay, Spain, Mexico                                     1          1   \n",
      "Venezuela                                                  1          1   \n",
      "Venezuela, Colombia                                        1          1   \n",
      "Vietnam                                                    4          4   \n",
      "West Germany                                               1          1   \n",
      "\n",
      "                                                    description  type  \n",
      "country                                                                \n",
      "Argentina                                                    38    38  \n",
      "Argentina, Brazil, France, Poland, Germany, Den...            1     1  \n",
      "Argentina, Chile                                              1     1  \n",
      "Argentina, Chile, Peru                                        1     1  \n",
      "Argentina, France                                             1     1  \n",
      "...                                                         ...   ...  \n",
      "Uruguay, Spain, Mexico                                        1     1  \n",
      "Venezuela                                                     1     1  \n",
      "Venezuela, Colombia                                           1     1  \n",
      "Vietnam                                                       4     4  \n",
      "West Germany                                                  1     1  \n",
      "\n",
      "[528 rows x 11 columns]\n"
     ]
    }
   ],
   "source": [
    "import numpy as np\n",
    "dd3 = df.groupby('country')\n",
    "dd4 = dd3.count()\n",
    "print(dd4)"
   ]
  },
  {
   "cell_type": "code",
   "execution_count": 27,
   "metadata": {},
   "outputs": [
    {
     "data": {
      "text/html": [
       "<div>\n",
       "<style scoped>\n",
       "    .dataframe tbody tr th:only-of-type {\n",
       "        vertical-align: middle;\n",
       "    }\n",
       "\n",
       "    .dataframe tbody tr th {\n",
       "        vertical-align: top;\n",
       "    }\n",
       "\n",
       "    .dataframe thead th {\n",
       "        text-align: right;\n",
       "    }\n",
       "</style>\n",
       "<table border=\"1\" class=\"dataframe\">\n",
       "  <thead>\n",
       "    <tr style=\"text-align: right;\">\n",
       "      <th></th>\n",
       "      <th>show_id</th>\n",
       "      <th>title</th>\n",
       "      <th>director</th>\n",
       "      <th>cast</th>\n",
       "      <th>country</th>\n",
       "      <th>date_added</th>\n",
       "      <th>release_year</th>\n",
       "      <th>rating</th>\n",
       "      <th>duration</th>\n",
       "      <th>listed_in</th>\n",
       "      <th>description</th>\n",
       "      <th>type</th>\n",
       "      <th>year_added</th>\n",
       "      <th>month_added</th>\n",
       "      <th>season_count</th>\n",
       "    </tr>\n",
       "  </thead>\n",
       "  <tbody>\n",
       "    <tr>\n",
       "      <th>0</th>\n",
       "      <td>81193313</td>\n",
       "      <td>Chocolate</td>\n",
       "      <td>NaN</td>\n",
       "      <td>Ha Ji-won, Yoon Kye-sang, Jang Seung-jo, Kang ...</td>\n",
       "      <td>South Korea</td>\n",
       "      <td>2019-11-30</td>\n",
       "      <td>2019.0</td>\n",
       "      <td>TV-14</td>\n",
       "      <td></td>\n",
       "      <td>International TV Shows, Korean TV Shows, Roman...</td>\n",
       "      <td>Brought together by meaningful meals in the pa...</td>\n",
       "      <td>TV Show</td>\n",
       "      <td>2019.0</td>\n",
       "      <td>11.0</td>\n",
       "      <td>1</td>\n",
       "    </tr>\n",
       "    <tr>\n",
       "      <th>1</th>\n",
       "      <td>81197050</td>\n",
       "      <td>Guatemala: Heart of the Mayan World</td>\n",
       "      <td>Luis Ara, Ignacio Jaunsolo</td>\n",
       "      <td>Christian Morales</td>\n",
       "      <td>NaN</td>\n",
       "      <td>2019-11-30</td>\n",
       "      <td>2019.0</td>\n",
       "      <td>TV-G</td>\n",
       "      <td>67</td>\n",
       "      <td>Documentaries, International Movies</td>\n",
       "      <td>From Sierra de las Minas to Esquipulas, explor...</td>\n",
       "      <td>Movie</td>\n",
       "      <td>2019.0</td>\n",
       "      <td>11.0</td>\n",
       "      <td></td>\n",
       "    </tr>\n",
       "    <tr>\n",
       "      <th>2</th>\n",
       "      <td>81213894</td>\n",
       "      <td>The Zoya Factor</td>\n",
       "      <td>Abhishek Sharma</td>\n",
       "      <td>Sonam Kapoor, Dulquer Salmaan, Sanjay Kapoor, ...</td>\n",
       "      <td>India</td>\n",
       "      <td>2019-11-30</td>\n",
       "      <td>2019.0</td>\n",
       "      <td>TV-14</td>\n",
       "      <td>135</td>\n",
       "      <td>Comedies, Dramas, International Movies</td>\n",
       "      <td>A goofy copywriter unwittingly convinces the I...</td>\n",
       "      <td>Movie</td>\n",
       "      <td>2019.0</td>\n",
       "      <td>11.0</td>\n",
       "      <td></td>\n",
       "    </tr>\n",
       "    <tr>\n",
       "      <th>3</th>\n",
       "      <td>81082007</td>\n",
       "      <td>Atlantics</td>\n",
       "      <td>Mati Diop</td>\n",
       "      <td>Mama Sane, Amadou Mbow, Ibrahima Traore, Nicol...</td>\n",
       "      <td>France, Senegal, Belgium</td>\n",
       "      <td>2019-11-29</td>\n",
       "      <td>2019.0</td>\n",
       "      <td>TV-14</td>\n",
       "      <td>106</td>\n",
       "      <td>Dramas, Independent Movies, International Movies</td>\n",
       "      <td>Arranged to marry a rich man, young Ada is cru...</td>\n",
       "      <td>Movie</td>\n",
       "      <td>2019.0</td>\n",
       "      <td>11.0</td>\n",
       "      <td></td>\n",
       "    </tr>\n",
       "    <tr>\n",
       "      <th>4</th>\n",
       "      <td>80213643</td>\n",
       "      <td>Chip and Potato</td>\n",
       "      <td>NaN</td>\n",
       "      <td>Abigail Oliver, Andrea Libman, Briana Buckmast...</td>\n",
       "      <td>Canada, United Kingdom</td>\n",
       "      <td>NaT</td>\n",
       "      <td>2019.0</td>\n",
       "      <td>TV-Y</td>\n",
       "      <td></td>\n",
       "      <td>Kids' TV</td>\n",
       "      <td>Lovable pug Chip starts kindergarten, makes ne...</td>\n",
       "      <td>TV Show</td>\n",
       "      <td>NaN</td>\n",
       "      <td>NaN</td>\n",
       "      <td>2</td>\n",
       "    </tr>\n",
       "  </tbody>\n",
       "</table>\n",
       "</div>"
      ],
      "text/plain": [
       "    show_id                                title                    director  \\\n",
       "0  81193313                            Chocolate                         NaN   \n",
       "1  81197050  Guatemala: Heart of the Mayan World  Luis Ara, Ignacio Jaunsolo   \n",
       "2  81213894                      The Zoya Factor             Abhishek Sharma   \n",
       "3  81082007                            Atlantics                   Mati Diop   \n",
       "4  80213643                      Chip and Potato                         NaN   \n",
       "\n",
       "                                                cast  \\\n",
       "0  Ha Ji-won, Yoon Kye-sang, Jang Seung-jo, Kang ...   \n",
       "1                                  Christian Morales   \n",
       "2  Sonam Kapoor, Dulquer Salmaan, Sanjay Kapoor, ...   \n",
       "3  Mama Sane, Amadou Mbow, Ibrahima Traore, Nicol...   \n",
       "4  Abigail Oliver, Andrea Libman, Briana Buckmast...   \n",
       "\n",
       "                    country date_added  release_year rating duration  \\\n",
       "0               South Korea 2019-11-30        2019.0  TV-14            \n",
       "1                       NaN 2019-11-30        2019.0   TV-G       67   \n",
       "2                     India 2019-11-30        2019.0  TV-14      135   \n",
       "3  France, Senegal, Belgium 2019-11-29        2019.0  TV-14      106   \n",
       "4    Canada, United Kingdom        NaT        2019.0   TV-Y            \n",
       "\n",
       "                                           listed_in  \\\n",
       "0  International TV Shows, Korean TV Shows, Roman...   \n",
       "1                Documentaries, International Movies   \n",
       "2             Comedies, Dramas, International Movies   \n",
       "3   Dramas, Independent Movies, International Movies   \n",
       "4                                           Kids' TV   \n",
       "\n",
       "                                         description     type  year_added  \\\n",
       "0  Brought together by meaningful meals in the pa...  TV Show      2019.0   \n",
       "1  From Sierra de las Minas to Esquipulas, explor...    Movie      2019.0   \n",
       "2  A goofy copywriter unwittingly convinces the I...    Movie      2019.0   \n",
       "3  Arranged to marry a rich man, young Ada is cru...    Movie      2019.0   \n",
       "4  Lovable pug Chip starts kindergarten, makes ne...  TV Show         NaN   \n",
       "\n",
       "   month_added season_count  \n",
       "0         11.0            1  \n",
       "1         11.0               \n",
       "2         11.0               \n",
       "3         11.0               \n",
       "4          NaN            2  "
      ]
     },
     "execution_count": 27,
     "metadata": {},
     "output_type": "execute_result"
    }
   ],
   "source": [
    "import pandas as pd\n",
    "\n",
    "# Supposez que votre DataFrame est stocké dans la variable df\n",
    "\n",
    "# Ajoutez une colonne 'month_added' à partir de 'date_added'\n",
    "df['month_added'] = df['date_added'].dt.month\n",
    "\n",
    "# Ajoutez une colonne 'season_count' en traitant les valeurs de 'duration'\n",
    "df['season_count'] = df.apply(lambda x: x['duration'].split(\" \")[0] if isinstance(x['duration'], str) and \"Season\" in x['duration'] else \"\", axis=1)\n",
    "\n",
    "# Traitez les valeurs de 'duration' en fonction des saisons\n",
    "df['duration'] = df.apply(lambda x: x['duration'].split(\" \")[0] if isinstance(x['duration'], str) and \"Season\" not in x['duration'] else \"\", axis=1)\n",
    "\n",
    "# Affichez les premières lignes du DataFrame\n",
    "df.head()\n"
   ]
  },
  {
   "cell_type": "code",
   "execution_count": null,
   "metadata": {
    "colab": {
     "base_uri": "https://localhost:8080/",
     "height": 293
    },
    "id": "3RpkpfWFod64",
    "outputId": "96d5bd6b-10ec-4394-e203-adebd9820e70"
   },
   "outputs": [],
   "source": []
  },
  {
   "cell_type": "markdown",
   "metadata": {
    "id": "FYPEr_Zjo6gM"
   },
   "source": [
    "**Content Type on Netflix**"
   ]
  },
  {
   "cell_type": "code",
   "execution_count": 39,
   "metadata": {
    "colab": {
     "base_uri": "https://localhost:8080/",
     "height": 417
    },
    "id": "xVSTxRr8fqYl",
    "outputId": "63fc5ce3-a662-484f-a612-020b11f1dd56"
   },
   "outputs": [
    {
     "data": {
      "application/vnd.plotly.v1+json": {
       "config": {
        "linkText": "Export to plot.ly",
        "plotlyServerURL": "https://plot.ly",
        "showLink": false
       },
       "data": [
        {
         "labels": [
          "Movie",
          "TV Show"
         ],
         "marker": {
          "colors": [
           "#6ad49b",
           "#a678de"
          ]
         },
         "pull": [
          0.05,
          0
         ],
         "type": "pie",
         "values": [
          3934,
          1895
         ]
        }
       ],
       "layout": {
        "height": 400,
        "legend": {
         "x": 0.1,
         "y": 1.1
        },
        "template": {
         "data": {
          "bar": [
           {
            "error_x": {
             "color": "#2a3f5f"
            },
            "error_y": {
             "color": "#2a3f5f"
            },
            "marker": {
             "line": {
              "color": "#E5ECF6",
              "width": 0.5
             },
             "pattern": {
              "fillmode": "overlay",
              "size": 10,
              "solidity": 0.2
             }
            },
            "type": "bar"
           }
          ],
          "barpolar": [
           {
            "marker": {
             "line": {
              "color": "#E5ECF6",
              "width": 0.5
             },
             "pattern": {
              "fillmode": "overlay",
              "size": 10,
              "solidity": 0.2
             }
            },
            "type": "barpolar"
           }
          ],
          "carpet": [
           {
            "aaxis": {
             "endlinecolor": "#2a3f5f",
             "gridcolor": "white",
             "linecolor": "white",
             "minorgridcolor": "white",
             "startlinecolor": "#2a3f5f"
            },
            "baxis": {
             "endlinecolor": "#2a3f5f",
             "gridcolor": "white",
             "linecolor": "white",
             "minorgridcolor": "white",
             "startlinecolor": "#2a3f5f"
            },
            "type": "carpet"
           }
          ],
          "choropleth": [
           {
            "colorbar": {
             "outlinewidth": 0,
             "ticks": ""
            },
            "type": "choropleth"
           }
          ],
          "contour": [
           {
            "colorbar": {
             "outlinewidth": 0,
             "ticks": ""
            },
            "colorscale": [
             [
              0,
              "#0d0887"
             ],
             [
              0.1111111111111111,
              "#46039f"
             ],
             [
              0.2222222222222222,
              "#7201a8"
             ],
             [
              0.3333333333333333,
              "#9c179e"
             ],
             [
              0.4444444444444444,
              "#bd3786"
             ],
             [
              0.5555555555555556,
              "#d8576b"
             ],
             [
              0.6666666666666666,
              "#ed7953"
             ],
             [
              0.7777777777777778,
              "#fb9f3a"
             ],
             [
              0.8888888888888888,
              "#fdca26"
             ],
             [
              1,
              "#f0f921"
             ]
            ],
            "type": "contour"
           }
          ],
          "contourcarpet": [
           {
            "colorbar": {
             "outlinewidth": 0,
             "ticks": ""
            },
            "type": "contourcarpet"
           }
          ],
          "heatmap": [
           {
            "colorbar": {
             "outlinewidth": 0,
             "ticks": ""
            },
            "colorscale": [
             [
              0,
              "#0d0887"
             ],
             [
              0.1111111111111111,
              "#46039f"
             ],
             [
              0.2222222222222222,
              "#7201a8"
             ],
             [
              0.3333333333333333,
              "#9c179e"
             ],
             [
              0.4444444444444444,
              "#bd3786"
             ],
             [
              0.5555555555555556,
              "#d8576b"
             ],
             [
              0.6666666666666666,
              "#ed7953"
             ],
             [
              0.7777777777777778,
              "#fb9f3a"
             ],
             [
              0.8888888888888888,
              "#fdca26"
             ],
             [
              1,
              "#f0f921"
             ]
            ],
            "type": "heatmap"
           }
          ],
          "heatmapgl": [
           {
            "colorbar": {
             "outlinewidth": 0,
             "ticks": ""
            },
            "colorscale": [
             [
              0,
              "#0d0887"
             ],
             [
              0.1111111111111111,
              "#46039f"
             ],
             [
              0.2222222222222222,
              "#7201a8"
             ],
             [
              0.3333333333333333,
              "#9c179e"
             ],
             [
              0.4444444444444444,
              "#bd3786"
             ],
             [
              0.5555555555555556,
              "#d8576b"
             ],
             [
              0.6666666666666666,
              "#ed7953"
             ],
             [
              0.7777777777777778,
              "#fb9f3a"
             ],
             [
              0.8888888888888888,
              "#fdca26"
             ],
             [
              1,
              "#f0f921"
             ]
            ],
            "type": "heatmapgl"
           }
          ],
          "histogram": [
           {
            "marker": {
             "pattern": {
              "fillmode": "overlay",
              "size": 10,
              "solidity": 0.2
             }
            },
            "type": "histogram"
           }
          ],
          "histogram2d": [
           {
            "colorbar": {
             "outlinewidth": 0,
             "ticks": ""
            },
            "colorscale": [
             [
              0,
              "#0d0887"
             ],
             [
              0.1111111111111111,
              "#46039f"
             ],
             [
              0.2222222222222222,
              "#7201a8"
             ],
             [
              0.3333333333333333,
              "#9c179e"
             ],
             [
              0.4444444444444444,
              "#bd3786"
             ],
             [
              0.5555555555555556,
              "#d8576b"
             ],
             [
              0.6666666666666666,
              "#ed7953"
             ],
             [
              0.7777777777777778,
              "#fb9f3a"
             ],
             [
              0.8888888888888888,
              "#fdca26"
             ],
             [
              1,
              "#f0f921"
             ]
            ],
            "type": "histogram2d"
           }
          ],
          "histogram2dcontour": [
           {
            "colorbar": {
             "outlinewidth": 0,
             "ticks": ""
            },
            "colorscale": [
             [
              0,
              "#0d0887"
             ],
             [
              0.1111111111111111,
              "#46039f"
             ],
             [
              0.2222222222222222,
              "#7201a8"
             ],
             [
              0.3333333333333333,
              "#9c179e"
             ],
             [
              0.4444444444444444,
              "#bd3786"
             ],
             [
              0.5555555555555556,
              "#d8576b"
             ],
             [
              0.6666666666666666,
              "#ed7953"
             ],
             [
              0.7777777777777778,
              "#fb9f3a"
             ],
             [
              0.8888888888888888,
              "#fdca26"
             ],
             [
              1,
              "#f0f921"
             ]
            ],
            "type": "histogram2dcontour"
           }
          ],
          "mesh3d": [
           {
            "colorbar": {
             "outlinewidth": 0,
             "ticks": ""
            },
            "type": "mesh3d"
           }
          ],
          "parcoords": [
           {
            "line": {
             "colorbar": {
              "outlinewidth": 0,
              "ticks": ""
             }
            },
            "type": "parcoords"
           }
          ],
          "pie": [
           {
            "automargin": true,
            "type": "pie"
           }
          ],
          "scatter": [
           {
            "fillpattern": {
             "fillmode": "overlay",
             "size": 10,
             "solidity": 0.2
            },
            "type": "scatter"
           }
          ],
          "scatter3d": [
           {
            "line": {
             "colorbar": {
              "outlinewidth": 0,
              "ticks": ""
             }
            },
            "marker": {
             "colorbar": {
              "outlinewidth": 0,
              "ticks": ""
             }
            },
            "type": "scatter3d"
           }
          ],
          "scattercarpet": [
           {
            "marker": {
             "colorbar": {
              "outlinewidth": 0,
              "ticks": ""
             }
            },
            "type": "scattercarpet"
           }
          ],
          "scattergeo": [
           {
            "marker": {
             "colorbar": {
              "outlinewidth": 0,
              "ticks": ""
             }
            },
            "type": "scattergeo"
           }
          ],
          "scattergl": [
           {
            "marker": {
             "colorbar": {
              "outlinewidth": 0,
              "ticks": ""
             }
            },
            "type": "scattergl"
           }
          ],
          "scattermapbox": [
           {
            "marker": {
             "colorbar": {
              "outlinewidth": 0,
              "ticks": ""
             }
            },
            "type": "scattermapbox"
           }
          ],
          "scatterpolar": [
           {
            "marker": {
             "colorbar": {
              "outlinewidth": 0,
              "ticks": ""
             }
            },
            "type": "scatterpolar"
           }
          ],
          "scatterpolargl": [
           {
            "marker": {
             "colorbar": {
              "outlinewidth": 0,
              "ticks": ""
             }
            },
            "type": "scatterpolargl"
           }
          ],
          "scatterternary": [
           {
            "marker": {
             "colorbar": {
              "outlinewidth": 0,
              "ticks": ""
             }
            },
            "type": "scatterternary"
           }
          ],
          "surface": [
           {
            "colorbar": {
             "outlinewidth": 0,
             "ticks": ""
            },
            "colorscale": [
             [
              0,
              "#0d0887"
             ],
             [
              0.1111111111111111,
              "#46039f"
             ],
             [
              0.2222222222222222,
              "#7201a8"
             ],
             [
              0.3333333333333333,
              "#9c179e"
             ],
             [
              0.4444444444444444,
              "#bd3786"
             ],
             [
              0.5555555555555556,
              "#d8576b"
             ],
             [
              0.6666666666666666,
              "#ed7953"
             ],
             [
              0.7777777777777778,
              "#fb9f3a"
             ],
             [
              0.8888888888888888,
              "#fdca26"
             ],
             [
              1,
              "#f0f921"
             ]
            ],
            "type": "surface"
           }
          ],
          "table": [
           {
            "cells": {
             "fill": {
              "color": "#EBF0F8"
             },
             "line": {
              "color": "white"
             }
            },
            "header": {
             "fill": {
              "color": "#C8D4E3"
             },
             "line": {
              "color": "white"
             }
            },
            "type": "table"
           }
          ]
         },
         "layout": {
          "annotationdefaults": {
           "arrowcolor": "#2a3f5f",
           "arrowhead": 0,
           "arrowwidth": 1
          },
          "autotypenumbers": "strict",
          "coloraxis": {
           "colorbar": {
            "outlinewidth": 0,
            "ticks": ""
           }
          },
          "colorscale": {
           "diverging": [
            [
             0,
             "#8e0152"
            ],
            [
             0.1,
             "#c51b7d"
            ],
            [
             0.2,
             "#de77ae"
            ],
            [
             0.3,
             "#f1b6da"
            ],
            [
             0.4,
             "#fde0ef"
            ],
            [
             0.5,
             "#f7f7f7"
            ],
            [
             0.6,
             "#e6f5d0"
            ],
            [
             0.7,
             "#b8e186"
            ],
            [
             0.8,
             "#7fbc41"
            ],
            [
             0.9,
             "#4d9221"
            ],
            [
             1,
             "#276419"
            ]
           ],
           "sequential": [
            [
             0,
             "#0d0887"
            ],
            [
             0.1111111111111111,
             "#46039f"
            ],
            [
             0.2222222222222222,
             "#7201a8"
            ],
            [
             0.3333333333333333,
             "#9c179e"
            ],
            [
             0.4444444444444444,
             "#bd3786"
            ],
            [
             0.5555555555555556,
             "#d8576b"
            ],
            [
             0.6666666666666666,
             "#ed7953"
            ],
            [
             0.7777777777777778,
             "#fb9f3a"
            ],
            [
             0.8888888888888888,
             "#fdca26"
            ],
            [
             1,
             "#f0f921"
            ]
           ],
           "sequentialminus": [
            [
             0,
             "#0d0887"
            ],
            [
             0.1111111111111111,
             "#46039f"
            ],
            [
             0.2222222222222222,
             "#7201a8"
            ],
            [
             0.3333333333333333,
             "#9c179e"
            ],
            [
             0.4444444444444444,
             "#bd3786"
            ],
            [
             0.5555555555555556,
             "#d8576b"
            ],
            [
             0.6666666666666666,
             "#ed7953"
            ],
            [
             0.7777777777777778,
             "#fb9f3a"
            ],
            [
             0.8888888888888888,
             "#fdca26"
            ],
            [
             1,
             "#f0f921"
            ]
           ]
          },
          "colorway": [
           "#636efa",
           "#EF553B",
           "#00cc96",
           "#ab63fa",
           "#FFA15A",
           "#19d3f3",
           "#FF6692",
           "#B6E880",
           "#FF97FF",
           "#FECB52"
          ],
          "font": {
           "color": "#2a3f5f"
          },
          "geo": {
           "bgcolor": "white",
           "lakecolor": "white",
           "landcolor": "#E5ECF6",
           "showlakes": true,
           "showland": true,
           "subunitcolor": "white"
          },
          "hoverlabel": {
           "align": "left"
          },
          "hovermode": "closest",
          "mapbox": {
           "style": "light"
          },
          "paper_bgcolor": "white",
          "plot_bgcolor": "#E5ECF6",
          "polar": {
           "angularaxis": {
            "gridcolor": "white",
            "linecolor": "white",
            "ticks": ""
           },
           "bgcolor": "#E5ECF6",
           "radialaxis": {
            "gridcolor": "white",
            "linecolor": "white",
            "ticks": ""
           }
          },
          "scene": {
           "xaxis": {
            "backgroundcolor": "#E5ECF6",
            "gridcolor": "white",
            "gridwidth": 2,
            "linecolor": "white",
            "showbackground": true,
            "ticks": "",
            "zerolinecolor": "white"
           },
           "yaxis": {
            "backgroundcolor": "#E5ECF6",
            "gridcolor": "white",
            "gridwidth": 2,
            "linecolor": "white",
            "showbackground": true,
            "ticks": "",
            "zerolinecolor": "white"
           },
           "zaxis": {
            "backgroundcolor": "#E5ECF6",
            "gridcolor": "white",
            "gridwidth": 2,
            "linecolor": "white",
            "showbackground": true,
            "ticks": "",
            "zerolinecolor": "white"
           }
          },
          "shapedefaults": {
           "line": {
            "color": "#2a3f5f"
           }
          },
          "ternary": {
           "aaxis": {
            "gridcolor": "white",
            "linecolor": "white",
            "ticks": ""
           },
           "baxis": {
            "gridcolor": "white",
            "linecolor": "white",
            "ticks": ""
           },
           "bgcolor": "#E5ECF6",
           "caxis": {
            "gridcolor": "white",
            "linecolor": "white",
            "ticks": ""
           }
          },
          "title": {
           "x": 0.05
          },
          "xaxis": {
           "automargin": true,
           "gridcolor": "white",
           "linecolor": "white",
           "ticks": "",
           "title": {
            "standoff": 15
           },
           "zerolinecolor": "white",
           "zerolinewidth": 2
          },
          "yaxis": {
           "automargin": true,
           "gridcolor": "white",
           "linecolor": "white",
           "ticks": "",
           "title": {
            "standoff": 15
           },
           "zerolinecolor": "white",
           "zerolinewidth": 2
          }
         }
        },
        "title": {
         "text": ""
        }
       }
      },
      "text/html": [
       "<div>                            <div id=\"4d73592f-18ca-4cd8-89ac-cc03a753699f\" class=\"plotly-graph-div\" style=\"height:400px; width:100%;\"></div>            <script type=\"text/javascript\">                require([\"plotly\"], function(Plotly) {                    window.PLOTLYENV=window.PLOTLYENV || {};                                    if (document.getElementById(\"4d73592f-18ca-4cd8-89ac-cc03a753699f\")) {                    Plotly.newPlot(                        \"4d73592f-18ca-4cd8-89ac-cc03a753699f\",                        [{\"labels\":[\"Movie\",\"TV Show\"],\"marker\":{\"colors\":[\"#6ad49b\",\"#a678de\"]},\"pull\":[0.05,0],\"values\":[3934,1895],\"type\":\"pie\"}],                        {\"height\":400,\"legend\":{\"x\":0.1,\"y\":1.1},\"template\":{\"data\":{\"barpolar\":[{\"marker\":{\"line\":{\"color\":\"#E5ECF6\",\"width\":0.5},\"pattern\":{\"fillmode\":\"overlay\",\"size\":10,\"solidity\":0.2}},\"type\":\"barpolar\"}],\"bar\":[{\"error_x\":{\"color\":\"#2a3f5f\"},\"error_y\":{\"color\":\"#2a3f5f\"},\"marker\":{\"line\":{\"color\":\"#E5ECF6\",\"width\":0.5},\"pattern\":{\"fillmode\":\"overlay\",\"size\":10,\"solidity\":0.2}},\"type\":\"bar\"}],\"carpet\":[{\"aaxis\":{\"endlinecolor\":\"#2a3f5f\",\"gridcolor\":\"white\",\"linecolor\":\"white\",\"minorgridcolor\":\"white\",\"startlinecolor\":\"#2a3f5f\"},\"baxis\":{\"endlinecolor\":\"#2a3f5f\",\"gridcolor\":\"white\",\"linecolor\":\"white\",\"minorgridcolor\":\"white\",\"startlinecolor\":\"#2a3f5f\"},\"type\":\"carpet\"}],\"choropleth\":[{\"colorbar\":{\"outlinewidth\":0,\"ticks\":\"\"},\"type\":\"choropleth\"}],\"contourcarpet\":[{\"colorbar\":{\"outlinewidth\":0,\"ticks\":\"\"},\"type\":\"contourcarpet\"}],\"contour\":[{\"colorbar\":{\"outlinewidth\":0,\"ticks\":\"\"},\"colorscale\":[[0.0,\"#0d0887\"],[0.1111111111111111,\"#46039f\"],[0.2222222222222222,\"#7201a8\"],[0.3333333333333333,\"#9c179e\"],[0.4444444444444444,\"#bd3786\"],[0.5555555555555556,\"#d8576b\"],[0.6666666666666666,\"#ed7953\"],[0.7777777777777778,\"#fb9f3a\"],[0.8888888888888888,\"#fdca26\"],[1.0,\"#f0f921\"]],\"type\":\"contour\"}],\"heatmapgl\":[{\"colorbar\":{\"outlinewidth\":0,\"ticks\":\"\"},\"colorscale\":[[0.0,\"#0d0887\"],[0.1111111111111111,\"#46039f\"],[0.2222222222222222,\"#7201a8\"],[0.3333333333333333,\"#9c179e\"],[0.4444444444444444,\"#bd3786\"],[0.5555555555555556,\"#d8576b\"],[0.6666666666666666,\"#ed7953\"],[0.7777777777777778,\"#fb9f3a\"],[0.8888888888888888,\"#fdca26\"],[1.0,\"#f0f921\"]],\"type\":\"heatmapgl\"}],\"heatmap\":[{\"colorbar\":{\"outlinewidth\":0,\"ticks\":\"\"},\"colorscale\":[[0.0,\"#0d0887\"],[0.1111111111111111,\"#46039f\"],[0.2222222222222222,\"#7201a8\"],[0.3333333333333333,\"#9c179e\"],[0.4444444444444444,\"#bd3786\"],[0.5555555555555556,\"#d8576b\"],[0.6666666666666666,\"#ed7953\"],[0.7777777777777778,\"#fb9f3a\"],[0.8888888888888888,\"#fdca26\"],[1.0,\"#f0f921\"]],\"type\":\"heatmap\"}],\"histogram2dcontour\":[{\"colorbar\":{\"outlinewidth\":0,\"ticks\":\"\"},\"colorscale\":[[0.0,\"#0d0887\"],[0.1111111111111111,\"#46039f\"],[0.2222222222222222,\"#7201a8\"],[0.3333333333333333,\"#9c179e\"],[0.4444444444444444,\"#bd3786\"],[0.5555555555555556,\"#d8576b\"],[0.6666666666666666,\"#ed7953\"],[0.7777777777777778,\"#fb9f3a\"],[0.8888888888888888,\"#fdca26\"],[1.0,\"#f0f921\"]],\"type\":\"histogram2dcontour\"}],\"histogram2d\":[{\"colorbar\":{\"outlinewidth\":0,\"ticks\":\"\"},\"colorscale\":[[0.0,\"#0d0887\"],[0.1111111111111111,\"#46039f\"],[0.2222222222222222,\"#7201a8\"],[0.3333333333333333,\"#9c179e\"],[0.4444444444444444,\"#bd3786\"],[0.5555555555555556,\"#d8576b\"],[0.6666666666666666,\"#ed7953\"],[0.7777777777777778,\"#fb9f3a\"],[0.8888888888888888,\"#fdca26\"],[1.0,\"#f0f921\"]],\"type\":\"histogram2d\"}],\"histogram\":[{\"marker\":{\"pattern\":{\"fillmode\":\"overlay\",\"size\":10,\"solidity\":0.2}},\"type\":\"histogram\"}],\"mesh3d\":[{\"colorbar\":{\"outlinewidth\":0,\"ticks\":\"\"},\"type\":\"mesh3d\"}],\"parcoords\":[{\"line\":{\"colorbar\":{\"outlinewidth\":0,\"ticks\":\"\"}},\"type\":\"parcoords\"}],\"pie\":[{\"automargin\":true,\"type\":\"pie\"}],\"scatter3d\":[{\"line\":{\"colorbar\":{\"outlinewidth\":0,\"ticks\":\"\"}},\"marker\":{\"colorbar\":{\"outlinewidth\":0,\"ticks\":\"\"}},\"type\":\"scatter3d\"}],\"scattercarpet\":[{\"marker\":{\"colorbar\":{\"outlinewidth\":0,\"ticks\":\"\"}},\"type\":\"scattercarpet\"}],\"scattergeo\":[{\"marker\":{\"colorbar\":{\"outlinewidth\":0,\"ticks\":\"\"}},\"type\":\"scattergeo\"}],\"scattergl\":[{\"marker\":{\"colorbar\":{\"outlinewidth\":0,\"ticks\":\"\"}},\"type\":\"scattergl\"}],\"scattermapbox\":[{\"marker\":{\"colorbar\":{\"outlinewidth\":0,\"ticks\":\"\"}},\"type\":\"scattermapbox\"}],\"scatterpolargl\":[{\"marker\":{\"colorbar\":{\"outlinewidth\":0,\"ticks\":\"\"}},\"type\":\"scatterpolargl\"}],\"scatterpolar\":[{\"marker\":{\"colorbar\":{\"outlinewidth\":0,\"ticks\":\"\"}},\"type\":\"scatterpolar\"}],\"scatter\":[{\"fillpattern\":{\"fillmode\":\"overlay\",\"size\":10,\"solidity\":0.2},\"type\":\"scatter\"}],\"scatterternary\":[{\"marker\":{\"colorbar\":{\"outlinewidth\":0,\"ticks\":\"\"}},\"type\":\"scatterternary\"}],\"surface\":[{\"colorbar\":{\"outlinewidth\":0,\"ticks\":\"\"},\"colorscale\":[[0.0,\"#0d0887\"],[0.1111111111111111,\"#46039f\"],[0.2222222222222222,\"#7201a8\"],[0.3333333333333333,\"#9c179e\"],[0.4444444444444444,\"#bd3786\"],[0.5555555555555556,\"#d8576b\"],[0.6666666666666666,\"#ed7953\"],[0.7777777777777778,\"#fb9f3a\"],[0.8888888888888888,\"#fdca26\"],[1.0,\"#f0f921\"]],\"type\":\"surface\"}],\"table\":[{\"cells\":{\"fill\":{\"color\":\"#EBF0F8\"},\"line\":{\"color\":\"white\"}},\"header\":{\"fill\":{\"color\":\"#C8D4E3\"},\"line\":{\"color\":\"white\"}},\"type\":\"table\"}]},\"layout\":{\"annotationdefaults\":{\"arrowcolor\":\"#2a3f5f\",\"arrowhead\":0,\"arrowwidth\":1},\"autotypenumbers\":\"strict\",\"coloraxis\":{\"colorbar\":{\"outlinewidth\":0,\"ticks\":\"\"}},\"colorscale\":{\"diverging\":[[0,\"#8e0152\"],[0.1,\"#c51b7d\"],[0.2,\"#de77ae\"],[0.3,\"#f1b6da\"],[0.4,\"#fde0ef\"],[0.5,\"#f7f7f7\"],[0.6,\"#e6f5d0\"],[0.7,\"#b8e186\"],[0.8,\"#7fbc41\"],[0.9,\"#4d9221\"],[1,\"#276419\"]],\"sequential\":[[0.0,\"#0d0887\"],[0.1111111111111111,\"#46039f\"],[0.2222222222222222,\"#7201a8\"],[0.3333333333333333,\"#9c179e\"],[0.4444444444444444,\"#bd3786\"],[0.5555555555555556,\"#d8576b\"],[0.6666666666666666,\"#ed7953\"],[0.7777777777777778,\"#fb9f3a\"],[0.8888888888888888,\"#fdca26\"],[1.0,\"#f0f921\"]],\"sequentialminus\":[[0.0,\"#0d0887\"],[0.1111111111111111,\"#46039f\"],[0.2222222222222222,\"#7201a8\"],[0.3333333333333333,\"#9c179e\"],[0.4444444444444444,\"#bd3786\"],[0.5555555555555556,\"#d8576b\"],[0.6666666666666666,\"#ed7953\"],[0.7777777777777778,\"#fb9f3a\"],[0.8888888888888888,\"#fdca26\"],[1.0,\"#f0f921\"]]},\"colorway\":[\"#636efa\",\"#EF553B\",\"#00cc96\",\"#ab63fa\",\"#FFA15A\",\"#19d3f3\",\"#FF6692\",\"#B6E880\",\"#FF97FF\",\"#FECB52\"],\"font\":{\"color\":\"#2a3f5f\"},\"geo\":{\"bgcolor\":\"white\",\"lakecolor\":\"white\",\"landcolor\":\"#E5ECF6\",\"showlakes\":true,\"showland\":true,\"subunitcolor\":\"white\"},\"hoverlabel\":{\"align\":\"left\"},\"hovermode\":\"closest\",\"mapbox\":{\"style\":\"light\"},\"paper_bgcolor\":\"white\",\"plot_bgcolor\":\"#E5ECF6\",\"polar\":{\"angularaxis\":{\"gridcolor\":\"white\",\"linecolor\":\"white\",\"ticks\":\"\"},\"bgcolor\":\"#E5ECF6\",\"radialaxis\":{\"gridcolor\":\"white\",\"linecolor\":\"white\",\"ticks\":\"\"}},\"scene\":{\"xaxis\":{\"backgroundcolor\":\"#E5ECF6\",\"gridcolor\":\"white\",\"gridwidth\":2,\"linecolor\":\"white\",\"showbackground\":true,\"ticks\":\"\",\"zerolinecolor\":\"white\"},\"yaxis\":{\"backgroundcolor\":\"#E5ECF6\",\"gridcolor\":\"white\",\"gridwidth\":2,\"linecolor\":\"white\",\"showbackground\":true,\"ticks\":\"\",\"zerolinecolor\":\"white\"},\"zaxis\":{\"backgroundcolor\":\"#E5ECF6\",\"gridcolor\":\"white\",\"gridwidth\":2,\"linecolor\":\"white\",\"showbackground\":true,\"ticks\":\"\",\"zerolinecolor\":\"white\"}},\"shapedefaults\":{\"line\":{\"color\":\"#2a3f5f\"}},\"ternary\":{\"aaxis\":{\"gridcolor\":\"white\",\"linecolor\":\"white\",\"ticks\":\"\"},\"baxis\":{\"gridcolor\":\"white\",\"linecolor\":\"white\",\"ticks\":\"\"},\"bgcolor\":\"#E5ECF6\",\"caxis\":{\"gridcolor\":\"white\",\"linecolor\":\"white\",\"ticks\":\"\"}},\"title\":{\"x\":0.05},\"xaxis\":{\"automargin\":true,\"gridcolor\":\"white\",\"linecolor\":\"white\",\"ticks\":\"\",\"title\":{\"standoff\":15},\"zerolinecolor\":\"white\",\"zerolinewidth\":2},\"yaxis\":{\"automargin\":true,\"gridcolor\":\"white\",\"linecolor\":\"white\",\"ticks\":\"\",\"title\":{\"standoff\":15},\"zerolinecolor\":\"white\",\"zerolinewidth\":2}}},\"title\":{\"text\":\"\"}},                        {\"responsive\": true}                    ).then(function(){\n",
       "                            \n",
       "var gd = document.getElementById('4d73592f-18ca-4cd8-89ac-cc03a753699f');\n",
       "var x = new MutationObserver(function (mutations, observer) {{\n",
       "        var display = window.getComputedStyle(gd).display;\n",
       "        if (!display || display === 'none') {{\n",
       "            console.log([gd, 'removed!']);\n",
       "            Plotly.purge(gd);\n",
       "            observer.disconnect();\n",
       "        }}\n",
       "}});\n",
       "\n",
       "// Listen for the removal of the full notebook cells\n",
       "var notebookContainer = gd.closest('#notebook-container');\n",
       "if (notebookContainer) {{\n",
       "    x.observe(notebookContainer, {childList: true});\n",
       "}}\n",
       "\n",
       "// Listen for the clearing of the current output cell\n",
       "var outputEl = gd.closest('.output');\n",
       "if (outputEl) {{\n",
       "    x.observe(outputEl, {childList: true});\n",
       "}}\n",
       "\n",
       "                        })                };                });            </script>        </div>"
      ]
     },
     "metadata": {},
     "output_type": "display_data"
    }
   ],
   "source": [
    "import plotly.graph_objects as go\n",
    "from plotly.offline import iplot, plot\n",
    "\n",
    "col = \"type\"\n",
    "grouped = df[col].value_counts().reset_index()\n",
    "grouped = grouped.rename(columns={col: \"count\", \"index\": col})\n",
    "\n",
    "## plot\n",
    "trace = go.Pie(labels=grouped[col], values=grouped['count'], pull=[0.05, 0], marker=dict(colors=[\"#6ad49b\", \"#a678de\"]))\n",
    "layout = go.Layout(title=\"\", height=400, legend=dict(x=0.1, y=1.1))\n",
    "fig = go.Figure(data=[trace], layout=layout)\n",
    "\n",
    "# Use iplot if you are in a Jupyter notebook\n",
    "iplot(fig)\n",
    "\n",
    "# Use plot if you are not in a Jupyter notebook\n",
    "# plot(fig)\n"
   ]
  },
  {
   "cell_type": "markdown",
   "metadata": {
    "id": "JILVnP2aoqlf"
   },
   "source": [
    "** **texte en gras**Content added over the year**\n"
   ]
  },
  {
   "cell_type": "code",
   "execution_count": 40,
   "metadata": {
    "colab": {
     "base_uri": "https://localhost:8080/",
     "height": 542
    },
    "id": "XxLFzmwmol4x",
    "outputId": "8c7314f0-87ca-47b4-f37d-5f6e4a896ae0"
   },
   "outputs": [
    {
     "data": {
      "application/vnd.plotly.v1+json": {
       "config": {
        "plotlyServerURL": "https://plot.ly"
       },
       "data": [
        {
         "marker": {
          "color": "#a678de"
         },
         "name": "TV Shows",
         "type": "scatter",
         "x": [
          2008,
          2012,
          2013,
          2015,
          2016,
          2017,
          2018,
          2019
         ],
         "y": [
          1,
          2,
          3,
          16,
          148,
          271,
          338,
          476
         ]
        },
        {
         "marker": {
          "color": "#6ad49b"
         },
         "name": "Movies",
         "type": "scatter",
         "x": [
          2008,
          2009,
          2010,
          2011,
          2012,
          2013,
          2014,
          2015,
          2016,
          2017,
          2018,
          2019
         ],
         "y": [
          1,
          2,
          1,
          13,
          4,
          6,
          19,
          58,
          264,
          912,
          1287,
          1366
         ]
        }
       ],
       "layout": {
        "legend": {
         "orientation": "h",
         "x": 0.1,
         "y": 1.1
        },
        "template": {
         "data": {
          "bar": [
           {
            "error_x": {
             "color": "#2a3f5f"
            },
            "error_y": {
             "color": "#2a3f5f"
            },
            "marker": {
             "line": {
              "color": "#E5ECF6",
              "width": 0.5
             },
             "pattern": {
              "fillmode": "overlay",
              "size": 10,
              "solidity": 0.2
             }
            },
            "type": "bar"
           }
          ],
          "barpolar": [
           {
            "marker": {
             "line": {
              "color": "#E5ECF6",
              "width": 0.5
             },
             "pattern": {
              "fillmode": "overlay",
              "size": 10,
              "solidity": 0.2
             }
            },
            "type": "barpolar"
           }
          ],
          "carpet": [
           {
            "aaxis": {
             "endlinecolor": "#2a3f5f",
             "gridcolor": "white",
             "linecolor": "white",
             "minorgridcolor": "white",
             "startlinecolor": "#2a3f5f"
            },
            "baxis": {
             "endlinecolor": "#2a3f5f",
             "gridcolor": "white",
             "linecolor": "white",
             "minorgridcolor": "white",
             "startlinecolor": "#2a3f5f"
            },
            "type": "carpet"
           }
          ],
          "choropleth": [
           {
            "colorbar": {
             "outlinewidth": 0,
             "ticks": ""
            },
            "type": "choropleth"
           }
          ],
          "contour": [
           {
            "colorbar": {
             "outlinewidth": 0,
             "ticks": ""
            },
            "colorscale": [
             [
              0,
              "#0d0887"
             ],
             [
              0.1111111111111111,
              "#46039f"
             ],
             [
              0.2222222222222222,
              "#7201a8"
             ],
             [
              0.3333333333333333,
              "#9c179e"
             ],
             [
              0.4444444444444444,
              "#bd3786"
             ],
             [
              0.5555555555555556,
              "#d8576b"
             ],
             [
              0.6666666666666666,
              "#ed7953"
             ],
             [
              0.7777777777777778,
              "#fb9f3a"
             ],
             [
              0.8888888888888888,
              "#fdca26"
             ],
             [
              1,
              "#f0f921"
             ]
            ],
            "type": "contour"
           }
          ],
          "contourcarpet": [
           {
            "colorbar": {
             "outlinewidth": 0,
             "ticks": ""
            },
            "type": "contourcarpet"
           }
          ],
          "heatmap": [
           {
            "colorbar": {
             "outlinewidth": 0,
             "ticks": ""
            },
            "colorscale": [
             [
              0,
              "#0d0887"
             ],
             [
              0.1111111111111111,
              "#46039f"
             ],
             [
              0.2222222222222222,
              "#7201a8"
             ],
             [
              0.3333333333333333,
              "#9c179e"
             ],
             [
              0.4444444444444444,
              "#bd3786"
             ],
             [
              0.5555555555555556,
              "#d8576b"
             ],
             [
              0.6666666666666666,
              "#ed7953"
             ],
             [
              0.7777777777777778,
              "#fb9f3a"
             ],
             [
              0.8888888888888888,
              "#fdca26"
             ],
             [
              1,
              "#f0f921"
             ]
            ],
            "type": "heatmap"
           }
          ],
          "heatmapgl": [
           {
            "colorbar": {
             "outlinewidth": 0,
             "ticks": ""
            },
            "colorscale": [
             [
              0,
              "#0d0887"
             ],
             [
              0.1111111111111111,
              "#46039f"
             ],
             [
              0.2222222222222222,
              "#7201a8"
             ],
             [
              0.3333333333333333,
              "#9c179e"
             ],
             [
              0.4444444444444444,
              "#bd3786"
             ],
             [
              0.5555555555555556,
              "#d8576b"
             ],
             [
              0.6666666666666666,
              "#ed7953"
             ],
             [
              0.7777777777777778,
              "#fb9f3a"
             ],
             [
              0.8888888888888888,
              "#fdca26"
             ],
             [
              1,
              "#f0f921"
             ]
            ],
            "type": "heatmapgl"
           }
          ],
          "histogram": [
           {
            "marker": {
             "pattern": {
              "fillmode": "overlay",
              "size": 10,
              "solidity": 0.2
             }
            },
            "type": "histogram"
           }
          ],
          "histogram2d": [
           {
            "colorbar": {
             "outlinewidth": 0,
             "ticks": ""
            },
            "colorscale": [
             [
              0,
              "#0d0887"
             ],
             [
              0.1111111111111111,
              "#46039f"
             ],
             [
              0.2222222222222222,
              "#7201a8"
             ],
             [
              0.3333333333333333,
              "#9c179e"
             ],
             [
              0.4444444444444444,
              "#bd3786"
             ],
             [
              0.5555555555555556,
              "#d8576b"
             ],
             [
              0.6666666666666666,
              "#ed7953"
             ],
             [
              0.7777777777777778,
              "#fb9f3a"
             ],
             [
              0.8888888888888888,
              "#fdca26"
             ],
             [
              1,
              "#f0f921"
             ]
            ],
            "type": "histogram2d"
           }
          ],
          "histogram2dcontour": [
           {
            "colorbar": {
             "outlinewidth": 0,
             "ticks": ""
            },
            "colorscale": [
             [
              0,
              "#0d0887"
             ],
             [
              0.1111111111111111,
              "#46039f"
             ],
             [
              0.2222222222222222,
              "#7201a8"
             ],
             [
              0.3333333333333333,
              "#9c179e"
             ],
             [
              0.4444444444444444,
              "#bd3786"
             ],
             [
              0.5555555555555556,
              "#d8576b"
             ],
             [
              0.6666666666666666,
              "#ed7953"
             ],
             [
              0.7777777777777778,
              "#fb9f3a"
             ],
             [
              0.8888888888888888,
              "#fdca26"
             ],
             [
              1,
              "#f0f921"
             ]
            ],
            "type": "histogram2dcontour"
           }
          ],
          "mesh3d": [
           {
            "colorbar": {
             "outlinewidth": 0,
             "ticks": ""
            },
            "type": "mesh3d"
           }
          ],
          "parcoords": [
           {
            "line": {
             "colorbar": {
              "outlinewidth": 0,
              "ticks": ""
             }
            },
            "type": "parcoords"
           }
          ],
          "pie": [
           {
            "automargin": true,
            "type": "pie"
           }
          ],
          "scatter": [
           {
            "fillpattern": {
             "fillmode": "overlay",
             "size": 10,
             "solidity": 0.2
            },
            "type": "scatter"
           }
          ],
          "scatter3d": [
           {
            "line": {
             "colorbar": {
              "outlinewidth": 0,
              "ticks": ""
             }
            },
            "marker": {
             "colorbar": {
              "outlinewidth": 0,
              "ticks": ""
             }
            },
            "type": "scatter3d"
           }
          ],
          "scattercarpet": [
           {
            "marker": {
             "colorbar": {
              "outlinewidth": 0,
              "ticks": ""
             }
            },
            "type": "scattercarpet"
           }
          ],
          "scattergeo": [
           {
            "marker": {
             "colorbar": {
              "outlinewidth": 0,
              "ticks": ""
             }
            },
            "type": "scattergeo"
           }
          ],
          "scattergl": [
           {
            "marker": {
             "colorbar": {
              "outlinewidth": 0,
              "ticks": ""
             }
            },
            "type": "scattergl"
           }
          ],
          "scattermapbox": [
           {
            "marker": {
             "colorbar": {
              "outlinewidth": 0,
              "ticks": ""
             }
            },
            "type": "scattermapbox"
           }
          ],
          "scatterpolar": [
           {
            "marker": {
             "colorbar": {
              "outlinewidth": 0,
              "ticks": ""
             }
            },
            "type": "scatterpolar"
           }
          ],
          "scatterpolargl": [
           {
            "marker": {
             "colorbar": {
              "outlinewidth": 0,
              "ticks": ""
             }
            },
            "type": "scatterpolargl"
           }
          ],
          "scatterternary": [
           {
            "marker": {
             "colorbar": {
              "outlinewidth": 0,
              "ticks": ""
             }
            },
            "type": "scatterternary"
           }
          ],
          "surface": [
           {
            "colorbar": {
             "outlinewidth": 0,
             "ticks": ""
            },
            "colorscale": [
             [
              0,
              "#0d0887"
             ],
             [
              0.1111111111111111,
              "#46039f"
             ],
             [
              0.2222222222222222,
              "#7201a8"
             ],
             [
              0.3333333333333333,
              "#9c179e"
             ],
             [
              0.4444444444444444,
              "#bd3786"
             ],
             [
              0.5555555555555556,
              "#d8576b"
             ],
             [
              0.6666666666666666,
              "#ed7953"
             ],
             [
              0.7777777777777778,
              "#fb9f3a"
             ],
             [
              0.8888888888888888,
              "#fdca26"
             ],
             [
              1,
              "#f0f921"
             ]
            ],
            "type": "surface"
           }
          ],
          "table": [
           {
            "cells": {
             "fill": {
              "color": "#EBF0F8"
             },
             "line": {
              "color": "white"
             }
            },
            "header": {
             "fill": {
              "color": "#C8D4E3"
             },
             "line": {
              "color": "white"
             }
            },
            "type": "table"
           }
          ]
         },
         "layout": {
          "annotationdefaults": {
           "arrowcolor": "#2a3f5f",
           "arrowhead": 0,
           "arrowwidth": 1
          },
          "autotypenumbers": "strict",
          "coloraxis": {
           "colorbar": {
            "outlinewidth": 0,
            "ticks": ""
           }
          },
          "colorscale": {
           "diverging": [
            [
             0,
             "#8e0152"
            ],
            [
             0.1,
             "#c51b7d"
            ],
            [
             0.2,
             "#de77ae"
            ],
            [
             0.3,
             "#f1b6da"
            ],
            [
             0.4,
             "#fde0ef"
            ],
            [
             0.5,
             "#f7f7f7"
            ],
            [
             0.6,
             "#e6f5d0"
            ],
            [
             0.7,
             "#b8e186"
            ],
            [
             0.8,
             "#7fbc41"
            ],
            [
             0.9,
             "#4d9221"
            ],
            [
             1,
             "#276419"
            ]
           ],
           "sequential": [
            [
             0,
             "#0d0887"
            ],
            [
             0.1111111111111111,
             "#46039f"
            ],
            [
             0.2222222222222222,
             "#7201a8"
            ],
            [
             0.3333333333333333,
             "#9c179e"
            ],
            [
             0.4444444444444444,
             "#bd3786"
            ],
            [
             0.5555555555555556,
             "#d8576b"
            ],
            [
             0.6666666666666666,
             "#ed7953"
            ],
            [
             0.7777777777777778,
             "#fb9f3a"
            ],
            [
             0.8888888888888888,
             "#fdca26"
            ],
            [
             1,
             "#f0f921"
            ]
           ],
           "sequentialminus": [
            [
             0,
             "#0d0887"
            ],
            [
             0.1111111111111111,
             "#46039f"
            ],
            [
             0.2222222222222222,
             "#7201a8"
            ],
            [
             0.3333333333333333,
             "#9c179e"
            ],
            [
             0.4444444444444444,
             "#bd3786"
            ],
            [
             0.5555555555555556,
             "#d8576b"
            ],
            [
             0.6666666666666666,
             "#ed7953"
            ],
            [
             0.7777777777777778,
             "#fb9f3a"
            ],
            [
             0.8888888888888888,
             "#fdca26"
            ],
            [
             1,
             "#f0f921"
            ]
           ]
          },
          "colorway": [
           "#636efa",
           "#EF553B",
           "#00cc96",
           "#ab63fa",
           "#FFA15A",
           "#19d3f3",
           "#FF6692",
           "#B6E880",
           "#FF97FF",
           "#FECB52"
          ],
          "font": {
           "color": "#2a3f5f"
          },
          "geo": {
           "bgcolor": "white",
           "lakecolor": "white",
           "landcolor": "#E5ECF6",
           "showlakes": true,
           "showland": true,
           "subunitcolor": "white"
          },
          "hoverlabel": {
           "align": "left"
          },
          "hovermode": "closest",
          "mapbox": {
           "style": "light"
          },
          "paper_bgcolor": "white",
          "plot_bgcolor": "#E5ECF6",
          "polar": {
           "angularaxis": {
            "gridcolor": "white",
            "linecolor": "white",
            "ticks": ""
           },
           "bgcolor": "#E5ECF6",
           "radialaxis": {
            "gridcolor": "white",
            "linecolor": "white",
            "ticks": ""
           }
          },
          "scene": {
           "xaxis": {
            "backgroundcolor": "#E5ECF6",
            "gridcolor": "white",
            "gridwidth": 2,
            "linecolor": "white",
            "showbackground": true,
            "ticks": "",
            "zerolinecolor": "white"
           },
           "yaxis": {
            "backgroundcolor": "#E5ECF6",
            "gridcolor": "white",
            "gridwidth": 2,
            "linecolor": "white",
            "showbackground": true,
            "ticks": "",
            "zerolinecolor": "white"
           },
           "zaxis": {
            "backgroundcolor": "#E5ECF6",
            "gridcolor": "white",
            "gridwidth": 2,
            "linecolor": "white",
            "showbackground": true,
            "ticks": "",
            "zerolinecolor": "white"
           }
          },
          "shapedefaults": {
           "line": {
            "color": "#2a3f5f"
           }
          },
          "ternary": {
           "aaxis": {
            "gridcolor": "white",
            "linecolor": "white",
            "ticks": ""
           },
           "baxis": {
            "gridcolor": "white",
            "linecolor": "white",
            "ticks": ""
           },
           "bgcolor": "#E5ECF6",
           "caxis": {
            "gridcolor": "white",
            "linecolor": "white",
            "ticks": ""
           }
          },
          "title": {
           "x": 0.05
          },
          "xaxis": {
           "automargin": true,
           "gridcolor": "white",
           "linecolor": "white",
           "ticks": "",
           "title": {
            "standoff": 15
           },
           "zerolinecolor": "white",
           "zerolinewidth": 2
          },
          "yaxis": {
           "automargin": true,
           "gridcolor": "white",
           "linecolor": "white",
           "ticks": "",
           "title": {
            "standoff": 15
           },
           "zerolinecolor": "white",
           "zerolinewidth": 2
          }
         }
        },
        "title": {
         "text": "Content added over the years"
        }
       }
      },
      "text/html": [
       "<div>                            <div id=\"f7ec50be-82c3-42c2-a634-0dcf1896f9ef\" class=\"plotly-graph-div\" style=\"height:525px; width:100%;\"></div>            <script type=\"text/javascript\">                require([\"plotly\"], function(Plotly) {                    window.PLOTLYENV=window.PLOTLYENV || {};                                    if (document.getElementById(\"f7ec50be-82c3-42c2-a634-0dcf1896f9ef\")) {                    Plotly.newPlot(                        \"f7ec50be-82c3-42c2-a634-0dcf1896f9ef\",                        [{\"marker\":{\"color\":\"#a678de\"},\"name\":\"TV Shows\",\"x\":[2008.0,2012.0,2013.0,2015.0,2016.0,2017.0,2018.0,2019.0],\"y\":[1,2,3,16,148,271,338,476],\"type\":\"scatter\"},{\"marker\":{\"color\":\"#6ad49b\"},\"name\":\"Movies\",\"x\":[2008.0,2009.0,2010.0,2011.0,2012.0,2013.0,2014.0,2015.0,2016.0,2017.0,2018.0,2019.0],\"y\":[1,2,1,13,4,6,19,58,264,912,1287,1366],\"type\":\"scatter\"}],                        {\"legend\":{\"orientation\":\"h\",\"x\":0.1,\"y\":1.1},\"title\":{\"text\":\"Content added over the years\"},\"template\":{\"data\":{\"histogram2dcontour\":[{\"type\":\"histogram2dcontour\",\"colorbar\":{\"outlinewidth\":0,\"ticks\":\"\"},\"colorscale\":[[0.0,\"#0d0887\"],[0.1111111111111111,\"#46039f\"],[0.2222222222222222,\"#7201a8\"],[0.3333333333333333,\"#9c179e\"],[0.4444444444444444,\"#bd3786\"],[0.5555555555555556,\"#d8576b\"],[0.6666666666666666,\"#ed7953\"],[0.7777777777777778,\"#fb9f3a\"],[0.8888888888888888,\"#fdca26\"],[1.0,\"#f0f921\"]]}],\"choropleth\":[{\"type\":\"choropleth\",\"colorbar\":{\"outlinewidth\":0,\"ticks\":\"\"}}],\"histogram2d\":[{\"type\":\"histogram2d\",\"colorbar\":{\"outlinewidth\":0,\"ticks\":\"\"},\"colorscale\":[[0.0,\"#0d0887\"],[0.1111111111111111,\"#46039f\"],[0.2222222222222222,\"#7201a8\"],[0.3333333333333333,\"#9c179e\"],[0.4444444444444444,\"#bd3786\"],[0.5555555555555556,\"#d8576b\"],[0.6666666666666666,\"#ed7953\"],[0.7777777777777778,\"#fb9f3a\"],[0.8888888888888888,\"#fdca26\"],[1.0,\"#f0f921\"]]}],\"heatmap\":[{\"type\":\"heatmap\",\"colorbar\":{\"outlinewidth\":0,\"ticks\":\"\"},\"colorscale\":[[0.0,\"#0d0887\"],[0.1111111111111111,\"#46039f\"],[0.2222222222222222,\"#7201a8\"],[0.3333333333333333,\"#9c179e\"],[0.4444444444444444,\"#bd3786\"],[0.5555555555555556,\"#d8576b\"],[0.6666666666666666,\"#ed7953\"],[0.7777777777777778,\"#fb9f3a\"],[0.8888888888888888,\"#fdca26\"],[1.0,\"#f0f921\"]]}],\"heatmapgl\":[{\"type\":\"heatmapgl\",\"colorbar\":{\"outlinewidth\":0,\"ticks\":\"\"},\"colorscale\":[[0.0,\"#0d0887\"],[0.1111111111111111,\"#46039f\"],[0.2222222222222222,\"#7201a8\"],[0.3333333333333333,\"#9c179e\"],[0.4444444444444444,\"#bd3786\"],[0.5555555555555556,\"#d8576b\"],[0.6666666666666666,\"#ed7953\"],[0.7777777777777778,\"#fb9f3a\"],[0.8888888888888888,\"#fdca26\"],[1.0,\"#f0f921\"]]}],\"contourcarpet\":[{\"type\":\"contourcarpet\",\"colorbar\":{\"outlinewidth\":0,\"ticks\":\"\"}}],\"contour\":[{\"type\":\"contour\",\"colorbar\":{\"outlinewidth\":0,\"ticks\":\"\"},\"colorscale\":[[0.0,\"#0d0887\"],[0.1111111111111111,\"#46039f\"],[0.2222222222222222,\"#7201a8\"],[0.3333333333333333,\"#9c179e\"],[0.4444444444444444,\"#bd3786\"],[0.5555555555555556,\"#d8576b\"],[0.6666666666666666,\"#ed7953\"],[0.7777777777777778,\"#fb9f3a\"],[0.8888888888888888,\"#fdca26\"],[1.0,\"#f0f921\"]]}],\"surface\":[{\"type\":\"surface\",\"colorbar\":{\"outlinewidth\":0,\"ticks\":\"\"},\"colorscale\":[[0.0,\"#0d0887\"],[0.1111111111111111,\"#46039f\"],[0.2222222222222222,\"#7201a8\"],[0.3333333333333333,\"#9c179e\"],[0.4444444444444444,\"#bd3786\"],[0.5555555555555556,\"#d8576b\"],[0.6666666666666666,\"#ed7953\"],[0.7777777777777778,\"#fb9f3a\"],[0.8888888888888888,\"#fdca26\"],[1.0,\"#f0f921\"]]}],\"mesh3d\":[{\"type\":\"mesh3d\",\"colorbar\":{\"outlinewidth\":0,\"ticks\":\"\"}}],\"scatter\":[{\"fillpattern\":{\"fillmode\":\"overlay\",\"size\":10,\"solidity\":0.2},\"type\":\"scatter\"}],\"parcoords\":[{\"type\":\"parcoords\",\"line\":{\"colorbar\":{\"outlinewidth\":0,\"ticks\":\"\"}}}],\"scatterpolargl\":[{\"type\":\"scatterpolargl\",\"marker\":{\"colorbar\":{\"outlinewidth\":0,\"ticks\":\"\"}}}],\"bar\":[{\"error_x\":{\"color\":\"#2a3f5f\"},\"error_y\":{\"color\":\"#2a3f5f\"},\"marker\":{\"line\":{\"color\":\"#E5ECF6\",\"width\":0.5},\"pattern\":{\"fillmode\":\"overlay\",\"size\":10,\"solidity\":0.2}},\"type\":\"bar\"}],\"scattergeo\":[{\"type\":\"scattergeo\",\"marker\":{\"colorbar\":{\"outlinewidth\":0,\"ticks\":\"\"}}}],\"scatterpolar\":[{\"type\":\"scatterpolar\",\"marker\":{\"colorbar\":{\"outlinewidth\":0,\"ticks\":\"\"}}}],\"histogram\":[{\"marker\":{\"pattern\":{\"fillmode\":\"overlay\",\"size\":10,\"solidity\":0.2}},\"type\":\"histogram\"}],\"scattergl\":[{\"type\":\"scattergl\",\"marker\":{\"colorbar\":{\"outlinewidth\":0,\"ticks\":\"\"}}}],\"scatter3d\":[{\"type\":\"scatter3d\",\"line\":{\"colorbar\":{\"outlinewidth\":0,\"ticks\":\"\"}},\"marker\":{\"colorbar\":{\"outlinewidth\":0,\"ticks\":\"\"}}}],\"scattermapbox\":[{\"type\":\"scattermapbox\",\"marker\":{\"colorbar\":{\"outlinewidth\":0,\"ticks\":\"\"}}}],\"scatterternary\":[{\"type\":\"scatterternary\",\"marker\":{\"colorbar\":{\"outlinewidth\":0,\"ticks\":\"\"}}}],\"scattercarpet\":[{\"type\":\"scattercarpet\",\"marker\":{\"colorbar\":{\"outlinewidth\":0,\"ticks\":\"\"}}}],\"carpet\":[{\"aaxis\":{\"endlinecolor\":\"#2a3f5f\",\"gridcolor\":\"white\",\"linecolor\":\"white\",\"minorgridcolor\":\"white\",\"startlinecolor\":\"#2a3f5f\"},\"baxis\":{\"endlinecolor\":\"#2a3f5f\",\"gridcolor\":\"white\",\"linecolor\":\"white\",\"minorgridcolor\":\"white\",\"startlinecolor\":\"#2a3f5f\"},\"type\":\"carpet\"}],\"table\":[{\"cells\":{\"fill\":{\"color\":\"#EBF0F8\"},\"line\":{\"color\":\"white\"}},\"header\":{\"fill\":{\"color\":\"#C8D4E3\"},\"line\":{\"color\":\"white\"}},\"type\":\"table\"}],\"barpolar\":[{\"marker\":{\"line\":{\"color\":\"#E5ECF6\",\"width\":0.5},\"pattern\":{\"fillmode\":\"overlay\",\"size\":10,\"solidity\":0.2}},\"type\":\"barpolar\"}],\"pie\":[{\"automargin\":true,\"type\":\"pie\"}]},\"layout\":{\"autotypenumbers\":\"strict\",\"colorway\":[\"#636efa\",\"#EF553B\",\"#00cc96\",\"#ab63fa\",\"#FFA15A\",\"#19d3f3\",\"#FF6692\",\"#B6E880\",\"#FF97FF\",\"#FECB52\"],\"font\":{\"color\":\"#2a3f5f\"},\"hovermode\":\"closest\",\"hoverlabel\":{\"align\":\"left\"},\"paper_bgcolor\":\"white\",\"plot_bgcolor\":\"#E5ECF6\",\"polar\":{\"bgcolor\":\"#E5ECF6\",\"angularaxis\":{\"gridcolor\":\"white\",\"linecolor\":\"white\",\"ticks\":\"\"},\"radialaxis\":{\"gridcolor\":\"white\",\"linecolor\":\"white\",\"ticks\":\"\"}},\"ternary\":{\"bgcolor\":\"#E5ECF6\",\"aaxis\":{\"gridcolor\":\"white\",\"linecolor\":\"white\",\"ticks\":\"\"},\"baxis\":{\"gridcolor\":\"white\",\"linecolor\":\"white\",\"ticks\":\"\"},\"caxis\":{\"gridcolor\":\"white\",\"linecolor\":\"white\",\"ticks\":\"\"}},\"coloraxis\":{\"colorbar\":{\"outlinewidth\":0,\"ticks\":\"\"}},\"colorscale\":{\"sequential\":[[0.0,\"#0d0887\"],[0.1111111111111111,\"#46039f\"],[0.2222222222222222,\"#7201a8\"],[0.3333333333333333,\"#9c179e\"],[0.4444444444444444,\"#bd3786\"],[0.5555555555555556,\"#d8576b\"],[0.6666666666666666,\"#ed7953\"],[0.7777777777777778,\"#fb9f3a\"],[0.8888888888888888,\"#fdca26\"],[1.0,\"#f0f921\"]],\"sequentialminus\":[[0.0,\"#0d0887\"],[0.1111111111111111,\"#46039f\"],[0.2222222222222222,\"#7201a8\"],[0.3333333333333333,\"#9c179e\"],[0.4444444444444444,\"#bd3786\"],[0.5555555555555556,\"#d8576b\"],[0.6666666666666666,\"#ed7953\"],[0.7777777777777778,\"#fb9f3a\"],[0.8888888888888888,\"#fdca26\"],[1.0,\"#f0f921\"]],\"diverging\":[[0,\"#8e0152\"],[0.1,\"#c51b7d\"],[0.2,\"#de77ae\"],[0.3,\"#f1b6da\"],[0.4,\"#fde0ef\"],[0.5,\"#f7f7f7\"],[0.6,\"#e6f5d0\"],[0.7,\"#b8e186\"],[0.8,\"#7fbc41\"],[0.9,\"#4d9221\"],[1,\"#276419\"]]},\"xaxis\":{\"gridcolor\":\"white\",\"linecolor\":\"white\",\"ticks\":\"\",\"title\":{\"standoff\":15},\"zerolinecolor\":\"white\",\"automargin\":true,\"zerolinewidth\":2},\"yaxis\":{\"gridcolor\":\"white\",\"linecolor\":\"white\",\"ticks\":\"\",\"title\":{\"standoff\":15},\"zerolinecolor\":\"white\",\"automargin\":true,\"zerolinewidth\":2},\"scene\":{\"xaxis\":{\"backgroundcolor\":\"#E5ECF6\",\"gridcolor\":\"white\",\"linecolor\":\"white\",\"showbackground\":true,\"ticks\":\"\",\"zerolinecolor\":\"white\",\"gridwidth\":2},\"yaxis\":{\"backgroundcolor\":\"#E5ECF6\",\"gridcolor\":\"white\",\"linecolor\":\"white\",\"showbackground\":true,\"ticks\":\"\",\"zerolinecolor\":\"white\",\"gridwidth\":2},\"zaxis\":{\"backgroundcolor\":\"#E5ECF6\",\"gridcolor\":\"white\",\"linecolor\":\"white\",\"showbackground\":true,\"ticks\":\"\",\"zerolinecolor\":\"white\",\"gridwidth\":2}},\"shapedefaults\":{\"line\":{\"color\":\"#2a3f5f\"}},\"annotationdefaults\":{\"arrowcolor\":\"#2a3f5f\",\"arrowhead\":0,\"arrowwidth\":1},\"geo\":{\"bgcolor\":\"white\",\"landcolor\":\"#E5ECF6\",\"subunitcolor\":\"white\",\"showland\":true,\"showlakes\":true,\"lakecolor\":\"white\"},\"title\":{\"x\":0.05},\"mapbox\":{\"style\":\"light\"}}}},                        {\"responsive\": true}                    ).then(function(){\n",
       "                            \n",
       "var gd = document.getElementById('f7ec50be-82c3-42c2-a634-0dcf1896f9ef');\n",
       "var x = new MutationObserver(function (mutations, observer) {{\n",
       "        var display = window.getComputedStyle(gd).display;\n",
       "        if (!display || display === 'none') {{\n",
       "            console.log([gd, 'removed!']);\n",
       "            Plotly.purge(gd);\n",
       "            observer.disconnect();\n",
       "        }}\n",
       "}});\n",
       "\n",
       "// Listen for the removal of the full notebook cells\n",
       "var notebookContainer = gd.closest('#notebook-container');\n",
       "if (notebookContainer) {{\n",
       "    x.observe(notebookContainer, {childList: true});\n",
       "}}\n",
       "\n",
       "// Listen for the clearing of the current output cell\n",
       "var outputEl = gd.closest('.output');\n",
       "if (outputEl) {{\n",
       "    x.observe(outputEl, {childList: true});\n",
       "}}\n",
       "\n",
       "                        })                };                });            </script>        </div>"
      ]
     },
     "metadata": {},
     "output_type": "display_data"
    }
   ],
   "source": [
    "d1 = df[df[\"type\"] == \"TV Show\"]\n",
    "d2 = df[df[\"type\"] == \"Movie\"]\n",
    "\n",
    "col = \"year_added\"\n",
    "\n",
    "vc1 = d1[col].value_counts().reset_index()\n",
    "vc1 = vc1.rename(columns = {col : \"count\", \"index\" : col})\n",
    "vc1['percent'] = vc1['count'].apply(lambda x : 100*x/sum(vc1['count']))\n",
    "vc1 = vc1.sort_values(col)\n",
    "\n",
    "vc2 = d2[col].value_counts().reset_index()\n",
    "vc2 = vc2.rename(columns = {col : \"count\", \"index\" : col})\n",
    "vc2['percent'] = vc2['count'].apply(lambda x : 100*x/sum(vc2['count']))\n",
    "vc2 = vc2.sort_values(col)\n",
    "\n",
    "trace1 = go.Scatter(x=vc1[col], y=vc1[\"count\"], name=\"TV Shows\", marker=dict(color=\"#a678de\"))\n",
    "trace2 = go.Scatter(x=vc2[col], y=vc2[\"count\"], name=\"Movies\", marker=dict(color=\"#6ad49b\"))\n",
    "data = [trace1, trace2]\n",
    "layout = go.Layout(title=\"Content added over the years\", legend=dict(x=0.1, y=1.1, orientation=\"h\"))\n",
    "fig = go.Figure(data, layout=layout)\n",
    "fig.show()\n"
   ]
  },
  {
   "cell_type": "code",
   "execution_count": 41,
   "metadata": {
    "colab": {
     "base_uri": "https://localhost:8080/",
     "height": 542
    },
    "id": "0O5xqc4pgcQW",
    "outputId": "5ccbd375-91e8-49c6-c915-76c822b320fd"
   },
   "outputs": [
    {
     "data": {
      "application/vnd.plotly.v1+json": {
       "config": {
        "plotlyServerURL": "https://plot.ly"
       },
       "data": [
        {
         "marker": {
          "color": "#a678de"
         },
         "name": "TV Shows",
         "type": "bar",
         "x": [
          1925,
          1946,
          1963,
          1967,
          1968,
          1972,
          1974,
          1977,
          1979,
          1981,
          1985,
          1986,
          1988,
          1989,
          1990,
          1991,
          1992,
          1993,
          1994,
          1995,
          1996,
          1997,
          1998,
          1999,
          2000,
          2001,
          2002,
          2003,
          2004,
          2005,
          2006,
          2007,
          2008,
          2009,
          2010,
          2011,
          2012,
          2013,
          2014,
          2015,
          2016,
          2017,
          2018,
          2019,
          2020
         ],
         "y": [
          1,
          1,
          1,
          1,
          1,
          1,
          1,
          1,
          1,
          1,
          1,
          2,
          2,
          1,
          3,
          1,
          2,
          3,
          1,
          2,
          3,
          4,
          3,
          4,
          3,
          4,
          3,
          8,
          8,
          11,
          9,
          11,
          20,
          33,
          37,
          34,
          55,
          60,
          75,
          151,
          234,
          273,
          409,
          414,
          1
         ]
        },
        {
         "marker": {
          "color": "#6ad49b"
         },
         "name": "Movies",
         "type": "bar",
         "x": [
          1942,
          1943,
          1944,
          1945,
          1946,
          1947,
          1954,
          1955,
          1956,
          1958,
          1959,
          1960,
          1962,
          1965,
          1966,
          1967,
          1968,
          1969,
          1970,
          1971,
          1972,
          1973,
          1974,
          1975,
          1976,
          1977,
          1978,
          1979,
          1980,
          1981,
          1982,
          1983,
          1984,
          1985,
          1986,
          1987,
          1988,
          1989,
          1990,
          1991,
          1992,
          1993,
          1994,
          1995,
          1996,
          1997,
          1998,
          1999,
          2000,
          2001,
          2002,
          2003,
          2004,
          2005,
          2006,
          2007,
          2008,
          2009,
          2010,
          2011,
          2012,
          2013,
          2014,
          2015,
          2016,
          2017,
          2018,
          2019
         ],
         "y": [
          2,
          3,
          2,
          3,
          2,
          1,
          1,
          1,
          1,
          2,
          1,
          3,
          3,
          2,
          1,
          2,
          2,
          1,
          1,
          2,
          1,
          8,
          6,
          4,
          6,
          2,
          6,
          4,
          6,
          4,
          6,
          6,
          6,
          5,
          7,
          4,
          9,
          10,
          8,
          11,
          11,
          14,
          12,
          13,
          10,
          17,
          19,
          9,
          19,
          24,
          23,
          29,
          33,
          40,
          48,
          50,
          82,
          73,
          100,
          92,
          118,
          172,
          206,
          350,
          584,
          654,
          630,
          347
         ]
        }
       ],
       "layout": {
        "legend": {
         "orientation": "h",
         "x": 0.1,
         "y": 1.1
        },
        "template": {
         "data": {
          "bar": [
           {
            "error_x": {
             "color": "#2a3f5f"
            },
            "error_y": {
             "color": "#2a3f5f"
            },
            "marker": {
             "line": {
              "color": "#E5ECF6",
              "width": 0.5
             },
             "pattern": {
              "fillmode": "overlay",
              "size": 10,
              "solidity": 0.2
             }
            },
            "type": "bar"
           }
          ],
          "barpolar": [
           {
            "marker": {
             "line": {
              "color": "#E5ECF6",
              "width": 0.5
             },
             "pattern": {
              "fillmode": "overlay",
              "size": 10,
              "solidity": 0.2
             }
            },
            "type": "barpolar"
           }
          ],
          "carpet": [
           {
            "aaxis": {
             "endlinecolor": "#2a3f5f",
             "gridcolor": "white",
             "linecolor": "white",
             "minorgridcolor": "white",
             "startlinecolor": "#2a3f5f"
            },
            "baxis": {
             "endlinecolor": "#2a3f5f",
             "gridcolor": "white",
             "linecolor": "white",
             "minorgridcolor": "white",
             "startlinecolor": "#2a3f5f"
            },
            "type": "carpet"
           }
          ],
          "choropleth": [
           {
            "colorbar": {
             "outlinewidth": 0,
             "ticks": ""
            },
            "type": "choropleth"
           }
          ],
          "contour": [
           {
            "colorbar": {
             "outlinewidth": 0,
             "ticks": ""
            },
            "colorscale": [
             [
              0,
              "#0d0887"
             ],
             [
              0.1111111111111111,
              "#46039f"
             ],
             [
              0.2222222222222222,
              "#7201a8"
             ],
             [
              0.3333333333333333,
              "#9c179e"
             ],
             [
              0.4444444444444444,
              "#bd3786"
             ],
             [
              0.5555555555555556,
              "#d8576b"
             ],
             [
              0.6666666666666666,
              "#ed7953"
             ],
             [
              0.7777777777777778,
              "#fb9f3a"
             ],
             [
              0.8888888888888888,
              "#fdca26"
             ],
             [
              1,
              "#f0f921"
             ]
            ],
            "type": "contour"
           }
          ],
          "contourcarpet": [
           {
            "colorbar": {
             "outlinewidth": 0,
             "ticks": ""
            },
            "type": "contourcarpet"
           }
          ],
          "heatmap": [
           {
            "colorbar": {
             "outlinewidth": 0,
             "ticks": ""
            },
            "colorscale": [
             [
              0,
              "#0d0887"
             ],
             [
              0.1111111111111111,
              "#46039f"
             ],
             [
              0.2222222222222222,
              "#7201a8"
             ],
             [
              0.3333333333333333,
              "#9c179e"
             ],
             [
              0.4444444444444444,
              "#bd3786"
             ],
             [
              0.5555555555555556,
              "#d8576b"
             ],
             [
              0.6666666666666666,
              "#ed7953"
             ],
             [
              0.7777777777777778,
              "#fb9f3a"
             ],
             [
              0.8888888888888888,
              "#fdca26"
             ],
             [
              1,
              "#f0f921"
             ]
            ],
            "type": "heatmap"
           }
          ],
          "heatmapgl": [
           {
            "colorbar": {
             "outlinewidth": 0,
             "ticks": ""
            },
            "colorscale": [
             [
              0,
              "#0d0887"
             ],
             [
              0.1111111111111111,
              "#46039f"
             ],
             [
              0.2222222222222222,
              "#7201a8"
             ],
             [
              0.3333333333333333,
              "#9c179e"
             ],
             [
              0.4444444444444444,
              "#bd3786"
             ],
             [
              0.5555555555555556,
              "#d8576b"
             ],
             [
              0.6666666666666666,
              "#ed7953"
             ],
             [
              0.7777777777777778,
              "#fb9f3a"
             ],
             [
              0.8888888888888888,
              "#fdca26"
             ],
             [
              1,
              "#f0f921"
             ]
            ],
            "type": "heatmapgl"
           }
          ],
          "histogram": [
           {
            "marker": {
             "pattern": {
              "fillmode": "overlay",
              "size": 10,
              "solidity": 0.2
             }
            },
            "type": "histogram"
           }
          ],
          "histogram2d": [
           {
            "colorbar": {
             "outlinewidth": 0,
             "ticks": ""
            },
            "colorscale": [
             [
              0,
              "#0d0887"
             ],
             [
              0.1111111111111111,
              "#46039f"
             ],
             [
              0.2222222222222222,
              "#7201a8"
             ],
             [
              0.3333333333333333,
              "#9c179e"
             ],
             [
              0.4444444444444444,
              "#bd3786"
             ],
             [
              0.5555555555555556,
              "#d8576b"
             ],
             [
              0.6666666666666666,
              "#ed7953"
             ],
             [
              0.7777777777777778,
              "#fb9f3a"
             ],
             [
              0.8888888888888888,
              "#fdca26"
             ],
             [
              1,
              "#f0f921"
             ]
            ],
            "type": "histogram2d"
           }
          ],
          "histogram2dcontour": [
           {
            "colorbar": {
             "outlinewidth": 0,
             "ticks": ""
            },
            "colorscale": [
             [
              0,
              "#0d0887"
             ],
             [
              0.1111111111111111,
              "#46039f"
             ],
             [
              0.2222222222222222,
              "#7201a8"
             ],
             [
              0.3333333333333333,
              "#9c179e"
             ],
             [
              0.4444444444444444,
              "#bd3786"
             ],
             [
              0.5555555555555556,
              "#d8576b"
             ],
             [
              0.6666666666666666,
              "#ed7953"
             ],
             [
              0.7777777777777778,
              "#fb9f3a"
             ],
             [
              0.8888888888888888,
              "#fdca26"
             ],
             [
              1,
              "#f0f921"
             ]
            ],
            "type": "histogram2dcontour"
           }
          ],
          "mesh3d": [
           {
            "colorbar": {
             "outlinewidth": 0,
             "ticks": ""
            },
            "type": "mesh3d"
           }
          ],
          "parcoords": [
           {
            "line": {
             "colorbar": {
              "outlinewidth": 0,
              "ticks": ""
             }
            },
            "type": "parcoords"
           }
          ],
          "pie": [
           {
            "automargin": true,
            "type": "pie"
           }
          ],
          "scatter": [
           {
            "fillpattern": {
             "fillmode": "overlay",
             "size": 10,
             "solidity": 0.2
            },
            "type": "scatter"
           }
          ],
          "scatter3d": [
           {
            "line": {
             "colorbar": {
              "outlinewidth": 0,
              "ticks": ""
             }
            },
            "marker": {
             "colorbar": {
              "outlinewidth": 0,
              "ticks": ""
             }
            },
            "type": "scatter3d"
           }
          ],
          "scattercarpet": [
           {
            "marker": {
             "colorbar": {
              "outlinewidth": 0,
              "ticks": ""
             }
            },
            "type": "scattercarpet"
           }
          ],
          "scattergeo": [
           {
            "marker": {
             "colorbar": {
              "outlinewidth": 0,
              "ticks": ""
             }
            },
            "type": "scattergeo"
           }
          ],
          "scattergl": [
           {
            "marker": {
             "colorbar": {
              "outlinewidth": 0,
              "ticks": ""
             }
            },
            "type": "scattergl"
           }
          ],
          "scattermapbox": [
           {
            "marker": {
             "colorbar": {
              "outlinewidth": 0,
              "ticks": ""
             }
            },
            "type": "scattermapbox"
           }
          ],
          "scatterpolar": [
           {
            "marker": {
             "colorbar": {
              "outlinewidth": 0,
              "ticks": ""
             }
            },
            "type": "scatterpolar"
           }
          ],
          "scatterpolargl": [
           {
            "marker": {
             "colorbar": {
              "outlinewidth": 0,
              "ticks": ""
             }
            },
            "type": "scatterpolargl"
           }
          ],
          "scatterternary": [
           {
            "marker": {
             "colorbar": {
              "outlinewidth": 0,
              "ticks": ""
             }
            },
            "type": "scatterternary"
           }
          ],
          "surface": [
           {
            "colorbar": {
             "outlinewidth": 0,
             "ticks": ""
            },
            "colorscale": [
             [
              0,
              "#0d0887"
             ],
             [
              0.1111111111111111,
              "#46039f"
             ],
             [
              0.2222222222222222,
              "#7201a8"
             ],
             [
              0.3333333333333333,
              "#9c179e"
             ],
             [
              0.4444444444444444,
              "#bd3786"
             ],
             [
              0.5555555555555556,
              "#d8576b"
             ],
             [
              0.6666666666666666,
              "#ed7953"
             ],
             [
              0.7777777777777778,
              "#fb9f3a"
             ],
             [
              0.8888888888888888,
              "#fdca26"
             ],
             [
              1,
              "#f0f921"
             ]
            ],
            "type": "surface"
           }
          ],
          "table": [
           {
            "cells": {
             "fill": {
              "color": "#EBF0F8"
             },
             "line": {
              "color": "white"
             }
            },
            "header": {
             "fill": {
              "color": "#C8D4E3"
             },
             "line": {
              "color": "white"
             }
            },
            "type": "table"
           }
          ]
         },
         "layout": {
          "annotationdefaults": {
           "arrowcolor": "#2a3f5f",
           "arrowhead": 0,
           "arrowwidth": 1
          },
          "autotypenumbers": "strict",
          "coloraxis": {
           "colorbar": {
            "outlinewidth": 0,
            "ticks": ""
           }
          },
          "colorscale": {
           "diverging": [
            [
             0,
             "#8e0152"
            ],
            [
             0.1,
             "#c51b7d"
            ],
            [
             0.2,
             "#de77ae"
            ],
            [
             0.3,
             "#f1b6da"
            ],
            [
             0.4,
             "#fde0ef"
            ],
            [
             0.5,
             "#f7f7f7"
            ],
            [
             0.6,
             "#e6f5d0"
            ],
            [
             0.7,
             "#b8e186"
            ],
            [
             0.8,
             "#7fbc41"
            ],
            [
             0.9,
             "#4d9221"
            ],
            [
             1,
             "#276419"
            ]
           ],
           "sequential": [
            [
             0,
             "#0d0887"
            ],
            [
             0.1111111111111111,
             "#46039f"
            ],
            [
             0.2222222222222222,
             "#7201a8"
            ],
            [
             0.3333333333333333,
             "#9c179e"
            ],
            [
             0.4444444444444444,
             "#bd3786"
            ],
            [
             0.5555555555555556,
             "#d8576b"
            ],
            [
             0.6666666666666666,
             "#ed7953"
            ],
            [
             0.7777777777777778,
             "#fb9f3a"
            ],
            [
             0.8888888888888888,
             "#fdca26"
            ],
            [
             1,
             "#f0f921"
            ]
           ],
           "sequentialminus": [
            [
             0,
             "#0d0887"
            ],
            [
             0.1111111111111111,
             "#46039f"
            ],
            [
             0.2222222222222222,
             "#7201a8"
            ],
            [
             0.3333333333333333,
             "#9c179e"
            ],
            [
             0.4444444444444444,
             "#bd3786"
            ],
            [
             0.5555555555555556,
             "#d8576b"
            ],
            [
             0.6666666666666666,
             "#ed7953"
            ],
            [
             0.7777777777777778,
             "#fb9f3a"
            ],
            [
             0.8888888888888888,
             "#fdca26"
            ],
            [
             1,
             "#f0f921"
            ]
           ]
          },
          "colorway": [
           "#636efa",
           "#EF553B",
           "#00cc96",
           "#ab63fa",
           "#FFA15A",
           "#19d3f3",
           "#FF6692",
           "#B6E880",
           "#FF97FF",
           "#FECB52"
          ],
          "font": {
           "color": "#2a3f5f"
          },
          "geo": {
           "bgcolor": "white",
           "lakecolor": "white",
           "landcolor": "#E5ECF6",
           "showlakes": true,
           "showland": true,
           "subunitcolor": "white"
          },
          "hoverlabel": {
           "align": "left"
          },
          "hovermode": "closest",
          "mapbox": {
           "style": "light"
          },
          "paper_bgcolor": "white",
          "plot_bgcolor": "#E5ECF6",
          "polar": {
           "angularaxis": {
            "gridcolor": "white",
            "linecolor": "white",
            "ticks": ""
           },
           "bgcolor": "#E5ECF6",
           "radialaxis": {
            "gridcolor": "white",
            "linecolor": "white",
            "ticks": ""
           }
          },
          "scene": {
           "xaxis": {
            "backgroundcolor": "#E5ECF6",
            "gridcolor": "white",
            "gridwidth": 2,
            "linecolor": "white",
            "showbackground": true,
            "ticks": "",
            "zerolinecolor": "white"
           },
           "yaxis": {
            "backgroundcolor": "#E5ECF6",
            "gridcolor": "white",
            "gridwidth": 2,
            "linecolor": "white",
            "showbackground": true,
            "ticks": "",
            "zerolinecolor": "white"
           },
           "zaxis": {
            "backgroundcolor": "#E5ECF6",
            "gridcolor": "white",
            "gridwidth": 2,
            "linecolor": "white",
            "showbackground": true,
            "ticks": "",
            "zerolinecolor": "white"
           }
          },
          "shapedefaults": {
           "line": {
            "color": "#2a3f5f"
           }
          },
          "ternary": {
           "aaxis": {
            "gridcolor": "white",
            "linecolor": "white",
            "ticks": ""
           },
           "baxis": {
            "gridcolor": "white",
            "linecolor": "white",
            "ticks": ""
           },
           "bgcolor": "#E5ECF6",
           "caxis": {
            "gridcolor": "white",
            "linecolor": "white",
            "ticks": ""
           }
          },
          "title": {
           "x": 0.05
          },
          "xaxis": {
           "automargin": true,
           "gridcolor": "white",
           "linecolor": "white",
           "ticks": "",
           "title": {
            "standoff": 15
           },
           "zerolinecolor": "white",
           "zerolinewidth": 2
          },
          "yaxis": {
           "automargin": true,
           "gridcolor": "white",
           "linecolor": "white",
           "ticks": "",
           "title": {
            "standoff": 15
           },
           "zerolinecolor": "white",
           "zerolinewidth": 2
          }
         }
        },
        "title": {
         "text": "Content added over the years"
        }
       }
      },
      "text/html": [
       "<div>                            <div id=\"af6e2169-7479-41cc-a0e3-ae4626f70240\" class=\"plotly-graph-div\" style=\"height:525px; width:100%;\"></div>            <script type=\"text/javascript\">                require([\"plotly\"], function(Plotly) {                    window.PLOTLYENV=window.PLOTLYENV || {};                                    if (document.getElementById(\"af6e2169-7479-41cc-a0e3-ae4626f70240\")) {                    Plotly.newPlot(                        \"af6e2169-7479-41cc-a0e3-ae4626f70240\",                        [{\"marker\":{\"color\":\"#a678de\"},\"name\":\"TV Shows\",\"x\":[1925.0,1946.0,1963.0,1967.0,1968.0,1972.0,1974.0,1977.0,1979.0,1981.0,1985.0,1986.0,1988.0,1989.0,1990.0,1991.0,1992.0,1993.0,1994.0,1995.0,1996.0,1997.0,1998.0,1999.0,2000.0,2001.0,2002.0,2003.0,2004.0,2005.0,2006.0,2007.0,2008.0,2009.0,2010.0,2011.0,2012.0,2013.0,2014.0,2015.0,2016.0,2017.0,2018.0,2019.0,2020.0],\"y\":[1,1,1,1,1,1,1,1,1,1,1,2,2,1,3,1,2,3,1,2,3,4,3,4,3,4,3,8,8,11,9,11,20,33,37,34,55,60,75,151,234,273,409,414,1],\"type\":\"bar\"},{\"marker\":{\"color\":\"#6ad49b\"},\"name\":\"Movies\",\"x\":[1942.0,1943.0,1944.0,1945.0,1946.0,1947.0,1954.0,1955.0,1956.0,1958.0,1959.0,1960.0,1962.0,1965.0,1966.0,1967.0,1968.0,1969.0,1970.0,1971.0,1972.0,1973.0,1974.0,1975.0,1976.0,1977.0,1978.0,1979.0,1980.0,1981.0,1982.0,1983.0,1984.0,1985.0,1986.0,1987.0,1988.0,1989.0,1990.0,1991.0,1992.0,1993.0,1994.0,1995.0,1996.0,1997.0,1998.0,1999.0,2000.0,2001.0,2002.0,2003.0,2004.0,2005.0,2006.0,2007.0,2008.0,2009.0,2010.0,2011.0,2012.0,2013.0,2014.0,2015.0,2016.0,2017.0,2018.0,2019.0],\"y\":[2,3,2,3,2,1,1,1,1,2,1,3,3,2,1,2,2,1,1,2,1,8,6,4,6,2,6,4,6,4,6,6,6,5,7,4,9,10,8,11,11,14,12,13,10,17,19,9,19,24,23,29,33,40,48,50,82,73,100,92,118,172,206,350,584,654,630,347],\"type\":\"bar\"}],                        {\"legend\":{\"orientation\":\"h\",\"x\":0.1,\"y\":1.1},\"title\":{\"text\":\"Content added over the years\"},\"template\":{\"data\":{\"histogram2dcontour\":[{\"type\":\"histogram2dcontour\",\"colorbar\":{\"outlinewidth\":0,\"ticks\":\"\"},\"colorscale\":[[0.0,\"#0d0887\"],[0.1111111111111111,\"#46039f\"],[0.2222222222222222,\"#7201a8\"],[0.3333333333333333,\"#9c179e\"],[0.4444444444444444,\"#bd3786\"],[0.5555555555555556,\"#d8576b\"],[0.6666666666666666,\"#ed7953\"],[0.7777777777777778,\"#fb9f3a\"],[0.8888888888888888,\"#fdca26\"],[1.0,\"#f0f921\"]]}],\"choropleth\":[{\"type\":\"choropleth\",\"colorbar\":{\"outlinewidth\":0,\"ticks\":\"\"}}],\"histogram2d\":[{\"type\":\"histogram2d\",\"colorbar\":{\"outlinewidth\":0,\"ticks\":\"\"},\"colorscale\":[[0.0,\"#0d0887\"],[0.1111111111111111,\"#46039f\"],[0.2222222222222222,\"#7201a8\"],[0.3333333333333333,\"#9c179e\"],[0.4444444444444444,\"#bd3786\"],[0.5555555555555556,\"#d8576b\"],[0.6666666666666666,\"#ed7953\"],[0.7777777777777778,\"#fb9f3a\"],[0.8888888888888888,\"#fdca26\"],[1.0,\"#f0f921\"]]}],\"heatmap\":[{\"type\":\"heatmap\",\"colorbar\":{\"outlinewidth\":0,\"ticks\":\"\"},\"colorscale\":[[0.0,\"#0d0887\"],[0.1111111111111111,\"#46039f\"],[0.2222222222222222,\"#7201a8\"],[0.3333333333333333,\"#9c179e\"],[0.4444444444444444,\"#bd3786\"],[0.5555555555555556,\"#d8576b\"],[0.6666666666666666,\"#ed7953\"],[0.7777777777777778,\"#fb9f3a\"],[0.8888888888888888,\"#fdca26\"],[1.0,\"#f0f921\"]]}],\"heatmapgl\":[{\"type\":\"heatmapgl\",\"colorbar\":{\"outlinewidth\":0,\"ticks\":\"\"},\"colorscale\":[[0.0,\"#0d0887\"],[0.1111111111111111,\"#46039f\"],[0.2222222222222222,\"#7201a8\"],[0.3333333333333333,\"#9c179e\"],[0.4444444444444444,\"#bd3786\"],[0.5555555555555556,\"#d8576b\"],[0.6666666666666666,\"#ed7953\"],[0.7777777777777778,\"#fb9f3a\"],[0.8888888888888888,\"#fdca26\"],[1.0,\"#f0f921\"]]}],\"contourcarpet\":[{\"type\":\"contourcarpet\",\"colorbar\":{\"outlinewidth\":0,\"ticks\":\"\"}}],\"contour\":[{\"type\":\"contour\",\"colorbar\":{\"outlinewidth\":0,\"ticks\":\"\"},\"colorscale\":[[0.0,\"#0d0887\"],[0.1111111111111111,\"#46039f\"],[0.2222222222222222,\"#7201a8\"],[0.3333333333333333,\"#9c179e\"],[0.4444444444444444,\"#bd3786\"],[0.5555555555555556,\"#d8576b\"],[0.6666666666666666,\"#ed7953\"],[0.7777777777777778,\"#fb9f3a\"],[0.8888888888888888,\"#fdca26\"],[1.0,\"#f0f921\"]]}],\"surface\":[{\"type\":\"surface\",\"colorbar\":{\"outlinewidth\":0,\"ticks\":\"\"},\"colorscale\":[[0.0,\"#0d0887\"],[0.1111111111111111,\"#46039f\"],[0.2222222222222222,\"#7201a8\"],[0.3333333333333333,\"#9c179e\"],[0.4444444444444444,\"#bd3786\"],[0.5555555555555556,\"#d8576b\"],[0.6666666666666666,\"#ed7953\"],[0.7777777777777778,\"#fb9f3a\"],[0.8888888888888888,\"#fdca26\"],[1.0,\"#f0f921\"]]}],\"mesh3d\":[{\"type\":\"mesh3d\",\"colorbar\":{\"outlinewidth\":0,\"ticks\":\"\"}}],\"scatter\":[{\"fillpattern\":{\"fillmode\":\"overlay\",\"size\":10,\"solidity\":0.2},\"type\":\"scatter\"}],\"parcoords\":[{\"type\":\"parcoords\",\"line\":{\"colorbar\":{\"outlinewidth\":0,\"ticks\":\"\"}}}],\"scatterpolargl\":[{\"type\":\"scatterpolargl\",\"marker\":{\"colorbar\":{\"outlinewidth\":0,\"ticks\":\"\"}}}],\"bar\":[{\"error_x\":{\"color\":\"#2a3f5f\"},\"error_y\":{\"color\":\"#2a3f5f\"},\"marker\":{\"line\":{\"color\":\"#E5ECF6\",\"width\":0.5},\"pattern\":{\"fillmode\":\"overlay\",\"size\":10,\"solidity\":0.2}},\"type\":\"bar\"}],\"scattergeo\":[{\"type\":\"scattergeo\",\"marker\":{\"colorbar\":{\"outlinewidth\":0,\"ticks\":\"\"}}}],\"scatterpolar\":[{\"type\":\"scatterpolar\",\"marker\":{\"colorbar\":{\"outlinewidth\":0,\"ticks\":\"\"}}}],\"histogram\":[{\"marker\":{\"pattern\":{\"fillmode\":\"overlay\",\"size\":10,\"solidity\":0.2}},\"type\":\"histogram\"}],\"scattergl\":[{\"type\":\"scattergl\",\"marker\":{\"colorbar\":{\"outlinewidth\":0,\"ticks\":\"\"}}}],\"scatter3d\":[{\"type\":\"scatter3d\",\"line\":{\"colorbar\":{\"outlinewidth\":0,\"ticks\":\"\"}},\"marker\":{\"colorbar\":{\"outlinewidth\":0,\"ticks\":\"\"}}}],\"scattermapbox\":[{\"type\":\"scattermapbox\",\"marker\":{\"colorbar\":{\"outlinewidth\":0,\"ticks\":\"\"}}}],\"scatterternary\":[{\"type\":\"scatterternary\",\"marker\":{\"colorbar\":{\"outlinewidth\":0,\"ticks\":\"\"}}}],\"scattercarpet\":[{\"type\":\"scattercarpet\",\"marker\":{\"colorbar\":{\"outlinewidth\":0,\"ticks\":\"\"}}}],\"carpet\":[{\"aaxis\":{\"endlinecolor\":\"#2a3f5f\",\"gridcolor\":\"white\",\"linecolor\":\"white\",\"minorgridcolor\":\"white\",\"startlinecolor\":\"#2a3f5f\"},\"baxis\":{\"endlinecolor\":\"#2a3f5f\",\"gridcolor\":\"white\",\"linecolor\":\"white\",\"minorgridcolor\":\"white\",\"startlinecolor\":\"#2a3f5f\"},\"type\":\"carpet\"}],\"table\":[{\"cells\":{\"fill\":{\"color\":\"#EBF0F8\"},\"line\":{\"color\":\"white\"}},\"header\":{\"fill\":{\"color\":\"#C8D4E3\"},\"line\":{\"color\":\"white\"}},\"type\":\"table\"}],\"barpolar\":[{\"marker\":{\"line\":{\"color\":\"#E5ECF6\",\"width\":0.5},\"pattern\":{\"fillmode\":\"overlay\",\"size\":10,\"solidity\":0.2}},\"type\":\"barpolar\"}],\"pie\":[{\"automargin\":true,\"type\":\"pie\"}]},\"layout\":{\"autotypenumbers\":\"strict\",\"colorway\":[\"#636efa\",\"#EF553B\",\"#00cc96\",\"#ab63fa\",\"#FFA15A\",\"#19d3f3\",\"#FF6692\",\"#B6E880\",\"#FF97FF\",\"#FECB52\"],\"font\":{\"color\":\"#2a3f5f\"},\"hovermode\":\"closest\",\"hoverlabel\":{\"align\":\"left\"},\"paper_bgcolor\":\"white\",\"plot_bgcolor\":\"#E5ECF6\",\"polar\":{\"bgcolor\":\"#E5ECF6\",\"angularaxis\":{\"gridcolor\":\"white\",\"linecolor\":\"white\",\"ticks\":\"\"},\"radialaxis\":{\"gridcolor\":\"white\",\"linecolor\":\"white\",\"ticks\":\"\"}},\"ternary\":{\"bgcolor\":\"#E5ECF6\",\"aaxis\":{\"gridcolor\":\"white\",\"linecolor\":\"white\",\"ticks\":\"\"},\"baxis\":{\"gridcolor\":\"white\",\"linecolor\":\"white\",\"ticks\":\"\"},\"caxis\":{\"gridcolor\":\"white\",\"linecolor\":\"white\",\"ticks\":\"\"}},\"coloraxis\":{\"colorbar\":{\"outlinewidth\":0,\"ticks\":\"\"}},\"colorscale\":{\"sequential\":[[0.0,\"#0d0887\"],[0.1111111111111111,\"#46039f\"],[0.2222222222222222,\"#7201a8\"],[0.3333333333333333,\"#9c179e\"],[0.4444444444444444,\"#bd3786\"],[0.5555555555555556,\"#d8576b\"],[0.6666666666666666,\"#ed7953\"],[0.7777777777777778,\"#fb9f3a\"],[0.8888888888888888,\"#fdca26\"],[1.0,\"#f0f921\"]],\"sequentialminus\":[[0.0,\"#0d0887\"],[0.1111111111111111,\"#46039f\"],[0.2222222222222222,\"#7201a8\"],[0.3333333333333333,\"#9c179e\"],[0.4444444444444444,\"#bd3786\"],[0.5555555555555556,\"#d8576b\"],[0.6666666666666666,\"#ed7953\"],[0.7777777777777778,\"#fb9f3a\"],[0.8888888888888888,\"#fdca26\"],[1.0,\"#f0f921\"]],\"diverging\":[[0,\"#8e0152\"],[0.1,\"#c51b7d\"],[0.2,\"#de77ae\"],[0.3,\"#f1b6da\"],[0.4,\"#fde0ef\"],[0.5,\"#f7f7f7\"],[0.6,\"#e6f5d0\"],[0.7,\"#b8e186\"],[0.8,\"#7fbc41\"],[0.9,\"#4d9221\"],[1,\"#276419\"]]},\"xaxis\":{\"gridcolor\":\"white\",\"linecolor\":\"white\",\"ticks\":\"\",\"title\":{\"standoff\":15},\"zerolinecolor\":\"white\",\"automargin\":true,\"zerolinewidth\":2},\"yaxis\":{\"gridcolor\":\"white\",\"linecolor\":\"white\",\"ticks\":\"\",\"title\":{\"standoff\":15},\"zerolinecolor\":\"white\",\"automargin\":true,\"zerolinewidth\":2},\"scene\":{\"xaxis\":{\"backgroundcolor\":\"#E5ECF6\",\"gridcolor\":\"white\",\"linecolor\":\"white\",\"showbackground\":true,\"ticks\":\"\",\"zerolinecolor\":\"white\",\"gridwidth\":2},\"yaxis\":{\"backgroundcolor\":\"#E5ECF6\",\"gridcolor\":\"white\",\"linecolor\":\"white\",\"showbackground\":true,\"ticks\":\"\",\"zerolinecolor\":\"white\",\"gridwidth\":2},\"zaxis\":{\"backgroundcolor\":\"#E5ECF6\",\"gridcolor\":\"white\",\"linecolor\":\"white\",\"showbackground\":true,\"ticks\":\"\",\"zerolinecolor\":\"white\",\"gridwidth\":2}},\"shapedefaults\":{\"line\":{\"color\":\"#2a3f5f\"}},\"annotationdefaults\":{\"arrowcolor\":\"#2a3f5f\",\"arrowhead\":0,\"arrowwidth\":1},\"geo\":{\"bgcolor\":\"white\",\"landcolor\":\"#E5ECF6\",\"subunitcolor\":\"white\",\"showland\":true,\"showlakes\":true,\"lakecolor\":\"white\"},\"title\":{\"x\":0.05},\"mapbox\":{\"style\":\"light\"}}}},                        {\"responsive\": true}                    ).then(function(){\n",
       "                            \n",
       "var gd = document.getElementById('af6e2169-7479-41cc-a0e3-ae4626f70240');\n",
       "var x = new MutationObserver(function (mutations, observer) {{\n",
       "        var display = window.getComputedStyle(gd).display;\n",
       "        if (!display || display === 'none') {{\n",
       "            console.log([gd, 'removed!']);\n",
       "            Plotly.purge(gd);\n",
       "            observer.disconnect();\n",
       "        }}\n",
       "}});\n",
       "\n",
       "// Listen for the removal of the full notebook cells\n",
       "var notebookContainer = gd.closest('#notebook-container');\n",
       "if (notebookContainer) {{\n",
       "    x.observe(notebookContainer, {childList: true});\n",
       "}}\n",
       "\n",
       "// Listen for the clearing of the current output cell\n",
       "var outputEl = gd.closest('.output');\n",
       "if (outputEl) {{\n",
       "    x.observe(outputEl, {childList: true});\n",
       "}}\n",
       "\n",
       "                        })                };                });            </script>        </div>"
      ]
     },
     "metadata": {},
     "output_type": "display_data"
    }
   ],
   "source": [
    "col = \"release_year\"\n",
    "\n",
    "vc1 = d1[col].value_counts().reset_index()\n",
    "vc1 = vc1.rename(columns = {col : \"count\", \"index\" : col})\n",
    "vc1['percent'] = vc1['count'].apply(lambda x : 100*x/sum(vc1['count']))\n",
    "vc1 = vc1.sort_values(col)\n",
    "\n",
    "vc2 = d2[col].value_counts().reset_index()\n",
    "vc2 = vc2.rename(columns = {col : \"count\", \"index\" : col})\n",
    "vc2['percent'] = vc2['count'].apply(lambda x : 100*x/sum(vc2['count']))\n",
    "vc2 = vc2.sort_values(col)\n",
    "\n",
    "trace1 = go.Bar(x=vc1[col], y=vc1[\"count\"], name=\"TV Shows\", marker=dict(color=\"#a678de\"))\n",
    "trace2 = go.Bar(x=vc2[col], y=vc2[\"count\"], name=\"Movies\", marker=dict(color=\"#6ad49b\"))\n",
    "data = [trace1, trace2]\n",
    "layout = go.Layout(title=\"Content added over the years\", legend=dict(x=0.1, y=1.1, orientation=\"h\"))\n",
    "fig = go.Figure(data, layout=layout)\n",
    "fig.show()"
   ]
  },
  {
   "cell_type": "markdown",
   "metadata": {
    "id": "DKj26xyGpNzA"
   },
   "source": [
    "**In which month,films and movies are added the most**"
   ]
  },
  {
   "cell_type": "code",
   "execution_count": 42,
   "metadata": {
    "colab": {
     "base_uri": "https://localhost:8080/",
     "height": 542
    },
    "id": "dgaUFNESniif",
    "outputId": "8a7fdb26-c1a4-4d82-ea1f-fba0686166ec"
   },
   "outputs": [
    {
     "data": {
      "application/vnd.plotly.v1+json": {
       "config": {
        "plotlyServerURL": "https://plot.ly"
       },
       "data": [
        {
         "marker": {
          "color": "#a678de"
         },
         "name": "TV Shows",
         "type": "bar",
         "x": [
          1,
          2,
          3,
          4,
          5,
          6,
          7,
          8,
          9,
          10,
          11,
          12
         ],
         "y": [
          78,
          79,
          113,
          98,
          84,
          79,
          100,
          120,
          113,
          138,
          123,
          130
         ]
        }
       ],
       "layout": {
        "legend": {
         "orientation": "h",
         "x": 0.1,
         "y": 1.1
        },
        "template": {
         "data": {
          "bar": [
           {
            "error_x": {
             "color": "#2a3f5f"
            },
            "error_y": {
             "color": "#2a3f5f"
            },
            "marker": {
             "line": {
              "color": "#E5ECF6",
              "width": 0.5
             },
             "pattern": {
              "fillmode": "overlay",
              "size": 10,
              "solidity": 0.2
             }
            },
            "type": "bar"
           }
          ],
          "barpolar": [
           {
            "marker": {
             "line": {
              "color": "#E5ECF6",
              "width": 0.5
             },
             "pattern": {
              "fillmode": "overlay",
              "size": 10,
              "solidity": 0.2
             }
            },
            "type": "barpolar"
           }
          ],
          "carpet": [
           {
            "aaxis": {
             "endlinecolor": "#2a3f5f",
             "gridcolor": "white",
             "linecolor": "white",
             "minorgridcolor": "white",
             "startlinecolor": "#2a3f5f"
            },
            "baxis": {
             "endlinecolor": "#2a3f5f",
             "gridcolor": "white",
             "linecolor": "white",
             "minorgridcolor": "white",
             "startlinecolor": "#2a3f5f"
            },
            "type": "carpet"
           }
          ],
          "choropleth": [
           {
            "colorbar": {
             "outlinewidth": 0,
             "ticks": ""
            },
            "type": "choropleth"
           }
          ],
          "contour": [
           {
            "colorbar": {
             "outlinewidth": 0,
             "ticks": ""
            },
            "colorscale": [
             [
              0,
              "#0d0887"
             ],
             [
              0.1111111111111111,
              "#46039f"
             ],
             [
              0.2222222222222222,
              "#7201a8"
             ],
             [
              0.3333333333333333,
              "#9c179e"
             ],
             [
              0.4444444444444444,
              "#bd3786"
             ],
             [
              0.5555555555555556,
              "#d8576b"
             ],
             [
              0.6666666666666666,
              "#ed7953"
             ],
             [
              0.7777777777777778,
              "#fb9f3a"
             ],
             [
              0.8888888888888888,
              "#fdca26"
             ],
             [
              1,
              "#f0f921"
             ]
            ],
            "type": "contour"
           }
          ],
          "contourcarpet": [
           {
            "colorbar": {
             "outlinewidth": 0,
             "ticks": ""
            },
            "type": "contourcarpet"
           }
          ],
          "heatmap": [
           {
            "colorbar": {
             "outlinewidth": 0,
             "ticks": ""
            },
            "colorscale": [
             [
              0,
              "#0d0887"
             ],
             [
              0.1111111111111111,
              "#46039f"
             ],
             [
              0.2222222222222222,
              "#7201a8"
             ],
             [
              0.3333333333333333,
              "#9c179e"
             ],
             [
              0.4444444444444444,
              "#bd3786"
             ],
             [
              0.5555555555555556,
              "#d8576b"
             ],
             [
              0.6666666666666666,
              "#ed7953"
             ],
             [
              0.7777777777777778,
              "#fb9f3a"
             ],
             [
              0.8888888888888888,
              "#fdca26"
             ],
             [
              1,
              "#f0f921"
             ]
            ],
            "type": "heatmap"
           }
          ],
          "heatmapgl": [
           {
            "colorbar": {
             "outlinewidth": 0,
             "ticks": ""
            },
            "colorscale": [
             [
              0,
              "#0d0887"
             ],
             [
              0.1111111111111111,
              "#46039f"
             ],
             [
              0.2222222222222222,
              "#7201a8"
             ],
             [
              0.3333333333333333,
              "#9c179e"
             ],
             [
              0.4444444444444444,
              "#bd3786"
             ],
             [
              0.5555555555555556,
              "#d8576b"
             ],
             [
              0.6666666666666666,
              "#ed7953"
             ],
             [
              0.7777777777777778,
              "#fb9f3a"
             ],
             [
              0.8888888888888888,
              "#fdca26"
             ],
             [
              1,
              "#f0f921"
             ]
            ],
            "type": "heatmapgl"
           }
          ],
          "histogram": [
           {
            "marker": {
             "pattern": {
              "fillmode": "overlay",
              "size": 10,
              "solidity": 0.2
             }
            },
            "type": "histogram"
           }
          ],
          "histogram2d": [
           {
            "colorbar": {
             "outlinewidth": 0,
             "ticks": ""
            },
            "colorscale": [
             [
              0,
              "#0d0887"
             ],
             [
              0.1111111111111111,
              "#46039f"
             ],
             [
              0.2222222222222222,
              "#7201a8"
             ],
             [
              0.3333333333333333,
              "#9c179e"
             ],
             [
              0.4444444444444444,
              "#bd3786"
             ],
             [
              0.5555555555555556,
              "#d8576b"
             ],
             [
              0.6666666666666666,
              "#ed7953"
             ],
             [
              0.7777777777777778,
              "#fb9f3a"
             ],
             [
              0.8888888888888888,
              "#fdca26"
             ],
             [
              1,
              "#f0f921"
             ]
            ],
            "type": "histogram2d"
           }
          ],
          "histogram2dcontour": [
           {
            "colorbar": {
             "outlinewidth": 0,
             "ticks": ""
            },
            "colorscale": [
             [
              0,
              "#0d0887"
             ],
             [
              0.1111111111111111,
              "#46039f"
             ],
             [
              0.2222222222222222,
              "#7201a8"
             ],
             [
              0.3333333333333333,
              "#9c179e"
             ],
             [
              0.4444444444444444,
              "#bd3786"
             ],
             [
              0.5555555555555556,
              "#d8576b"
             ],
             [
              0.6666666666666666,
              "#ed7953"
             ],
             [
              0.7777777777777778,
              "#fb9f3a"
             ],
             [
              0.8888888888888888,
              "#fdca26"
             ],
             [
              1,
              "#f0f921"
             ]
            ],
            "type": "histogram2dcontour"
           }
          ],
          "mesh3d": [
           {
            "colorbar": {
             "outlinewidth": 0,
             "ticks": ""
            },
            "type": "mesh3d"
           }
          ],
          "parcoords": [
           {
            "line": {
             "colorbar": {
              "outlinewidth": 0,
              "ticks": ""
             }
            },
            "type": "parcoords"
           }
          ],
          "pie": [
           {
            "automargin": true,
            "type": "pie"
           }
          ],
          "scatter": [
           {
            "fillpattern": {
             "fillmode": "overlay",
             "size": 10,
             "solidity": 0.2
            },
            "type": "scatter"
           }
          ],
          "scatter3d": [
           {
            "line": {
             "colorbar": {
              "outlinewidth": 0,
              "ticks": ""
             }
            },
            "marker": {
             "colorbar": {
              "outlinewidth": 0,
              "ticks": ""
             }
            },
            "type": "scatter3d"
           }
          ],
          "scattercarpet": [
           {
            "marker": {
             "colorbar": {
              "outlinewidth": 0,
              "ticks": ""
             }
            },
            "type": "scattercarpet"
           }
          ],
          "scattergeo": [
           {
            "marker": {
             "colorbar": {
              "outlinewidth": 0,
              "ticks": ""
             }
            },
            "type": "scattergeo"
           }
          ],
          "scattergl": [
           {
            "marker": {
             "colorbar": {
              "outlinewidth": 0,
              "ticks": ""
             }
            },
            "type": "scattergl"
           }
          ],
          "scattermapbox": [
           {
            "marker": {
             "colorbar": {
              "outlinewidth": 0,
              "ticks": ""
             }
            },
            "type": "scattermapbox"
           }
          ],
          "scatterpolar": [
           {
            "marker": {
             "colorbar": {
              "outlinewidth": 0,
              "ticks": ""
             }
            },
            "type": "scatterpolar"
           }
          ],
          "scatterpolargl": [
           {
            "marker": {
             "colorbar": {
              "outlinewidth": 0,
              "ticks": ""
             }
            },
            "type": "scatterpolargl"
           }
          ],
          "scatterternary": [
           {
            "marker": {
             "colorbar": {
              "outlinewidth": 0,
              "ticks": ""
             }
            },
            "type": "scatterternary"
           }
          ],
          "surface": [
           {
            "colorbar": {
             "outlinewidth": 0,
             "ticks": ""
            },
            "colorscale": [
             [
              0,
              "#0d0887"
             ],
             [
              0.1111111111111111,
              "#46039f"
             ],
             [
              0.2222222222222222,
              "#7201a8"
             ],
             [
              0.3333333333333333,
              "#9c179e"
             ],
             [
              0.4444444444444444,
              "#bd3786"
             ],
             [
              0.5555555555555556,
              "#d8576b"
             ],
             [
              0.6666666666666666,
              "#ed7953"
             ],
             [
              0.7777777777777778,
              "#fb9f3a"
             ],
             [
              0.8888888888888888,
              "#fdca26"
             ],
             [
              1,
              "#f0f921"
             ]
            ],
            "type": "surface"
           }
          ],
          "table": [
           {
            "cells": {
             "fill": {
              "color": "#EBF0F8"
             },
             "line": {
              "color": "white"
             }
            },
            "header": {
             "fill": {
              "color": "#C8D4E3"
             },
             "line": {
              "color": "white"
             }
            },
            "type": "table"
           }
          ]
         },
         "layout": {
          "annotationdefaults": {
           "arrowcolor": "#2a3f5f",
           "arrowhead": 0,
           "arrowwidth": 1
          },
          "autotypenumbers": "strict",
          "coloraxis": {
           "colorbar": {
            "outlinewidth": 0,
            "ticks": ""
           }
          },
          "colorscale": {
           "diverging": [
            [
             0,
             "#8e0152"
            ],
            [
             0.1,
             "#c51b7d"
            ],
            [
             0.2,
             "#de77ae"
            ],
            [
             0.3,
             "#f1b6da"
            ],
            [
             0.4,
             "#fde0ef"
            ],
            [
             0.5,
             "#f7f7f7"
            ],
            [
             0.6,
             "#e6f5d0"
            ],
            [
             0.7,
             "#b8e186"
            ],
            [
             0.8,
             "#7fbc41"
            ],
            [
             0.9,
             "#4d9221"
            ],
            [
             1,
             "#276419"
            ]
           ],
           "sequential": [
            [
             0,
             "#0d0887"
            ],
            [
             0.1111111111111111,
             "#46039f"
            ],
            [
             0.2222222222222222,
             "#7201a8"
            ],
            [
             0.3333333333333333,
             "#9c179e"
            ],
            [
             0.4444444444444444,
             "#bd3786"
            ],
            [
             0.5555555555555556,
             "#d8576b"
            ],
            [
             0.6666666666666666,
             "#ed7953"
            ],
            [
             0.7777777777777778,
             "#fb9f3a"
            ],
            [
             0.8888888888888888,
             "#fdca26"
            ],
            [
             1,
             "#f0f921"
            ]
           ],
           "sequentialminus": [
            [
             0,
             "#0d0887"
            ],
            [
             0.1111111111111111,
             "#46039f"
            ],
            [
             0.2222222222222222,
             "#7201a8"
            ],
            [
             0.3333333333333333,
             "#9c179e"
            ],
            [
             0.4444444444444444,
             "#bd3786"
            ],
            [
             0.5555555555555556,
             "#d8576b"
            ],
            [
             0.6666666666666666,
             "#ed7953"
            ],
            [
             0.7777777777777778,
             "#fb9f3a"
            ],
            [
             0.8888888888888888,
             "#fdca26"
            ],
            [
             1,
             "#f0f921"
            ]
           ]
          },
          "colorway": [
           "#636efa",
           "#EF553B",
           "#00cc96",
           "#ab63fa",
           "#FFA15A",
           "#19d3f3",
           "#FF6692",
           "#B6E880",
           "#FF97FF",
           "#FECB52"
          ],
          "font": {
           "color": "#2a3f5f"
          },
          "geo": {
           "bgcolor": "white",
           "lakecolor": "white",
           "landcolor": "#E5ECF6",
           "showlakes": true,
           "showland": true,
           "subunitcolor": "white"
          },
          "hoverlabel": {
           "align": "left"
          },
          "hovermode": "closest",
          "mapbox": {
           "style": "light"
          },
          "paper_bgcolor": "white",
          "plot_bgcolor": "#E5ECF6",
          "polar": {
           "angularaxis": {
            "gridcolor": "white",
            "linecolor": "white",
            "ticks": ""
           },
           "bgcolor": "#E5ECF6",
           "radialaxis": {
            "gridcolor": "white",
            "linecolor": "white",
            "ticks": ""
           }
          },
          "scene": {
           "xaxis": {
            "backgroundcolor": "#E5ECF6",
            "gridcolor": "white",
            "gridwidth": 2,
            "linecolor": "white",
            "showbackground": true,
            "ticks": "",
            "zerolinecolor": "white"
           },
           "yaxis": {
            "backgroundcolor": "#E5ECF6",
            "gridcolor": "white",
            "gridwidth": 2,
            "linecolor": "white",
            "showbackground": true,
            "ticks": "",
            "zerolinecolor": "white"
           },
           "zaxis": {
            "backgroundcolor": "#E5ECF6",
            "gridcolor": "white",
            "gridwidth": 2,
            "linecolor": "white",
            "showbackground": true,
            "ticks": "",
            "zerolinecolor": "white"
           }
          },
          "shapedefaults": {
           "line": {
            "color": "#2a3f5f"
           }
          },
          "ternary": {
           "aaxis": {
            "gridcolor": "white",
            "linecolor": "white",
            "ticks": ""
           },
           "baxis": {
            "gridcolor": "white",
            "linecolor": "white",
            "ticks": ""
           },
           "bgcolor": "#E5ECF6",
           "caxis": {
            "gridcolor": "white",
            "linecolor": "white",
            "ticks": ""
           }
          },
          "title": {
           "x": 0.05
          },
          "xaxis": {
           "automargin": true,
           "gridcolor": "white",
           "linecolor": "white",
           "ticks": "",
           "title": {
            "standoff": 15
           },
           "zerolinecolor": "white",
           "zerolinewidth": 2
          },
          "yaxis": {
           "automargin": true,
           "gridcolor": "white",
           "linecolor": "white",
           "ticks": "",
           "title": {
            "standoff": 15
           },
           "zerolinecolor": "white",
           "zerolinewidth": 2
          }
         }
        },
        "title": {
         "text": "In which month, the conent is added the most?"
        }
       }
      },
      "text/html": [
       "<div>                            <div id=\"def9df68-95e9-4678-b14f-9fcd2f4a11af\" class=\"plotly-graph-div\" style=\"height:525px; width:100%;\"></div>            <script type=\"text/javascript\">                require([\"plotly\"], function(Plotly) {                    window.PLOTLYENV=window.PLOTLYENV || {};                                    if (document.getElementById(\"def9df68-95e9-4678-b14f-9fcd2f4a11af\")) {                    Plotly.newPlot(                        \"def9df68-95e9-4678-b14f-9fcd2f4a11af\",                        [{\"marker\":{\"color\":\"#a678de\"},\"name\":\"TV Shows\",\"x\":[1.0,2.0,3.0,4.0,5.0,6.0,7.0,8.0,9.0,10.0,11.0,12.0],\"y\":[78,79,113,98,84,79,100,120,113,138,123,130],\"type\":\"bar\"}],                        {\"legend\":{\"orientation\":\"h\",\"x\":0.1,\"y\":1.1},\"title\":{\"text\":\"In which month, the conent is added the most?\"},\"template\":{\"data\":{\"histogram2dcontour\":[{\"type\":\"histogram2dcontour\",\"colorbar\":{\"outlinewidth\":0,\"ticks\":\"\"},\"colorscale\":[[0.0,\"#0d0887\"],[0.1111111111111111,\"#46039f\"],[0.2222222222222222,\"#7201a8\"],[0.3333333333333333,\"#9c179e\"],[0.4444444444444444,\"#bd3786\"],[0.5555555555555556,\"#d8576b\"],[0.6666666666666666,\"#ed7953\"],[0.7777777777777778,\"#fb9f3a\"],[0.8888888888888888,\"#fdca26\"],[1.0,\"#f0f921\"]]}],\"choropleth\":[{\"type\":\"choropleth\",\"colorbar\":{\"outlinewidth\":0,\"ticks\":\"\"}}],\"histogram2d\":[{\"type\":\"histogram2d\",\"colorbar\":{\"outlinewidth\":0,\"ticks\":\"\"},\"colorscale\":[[0.0,\"#0d0887\"],[0.1111111111111111,\"#46039f\"],[0.2222222222222222,\"#7201a8\"],[0.3333333333333333,\"#9c179e\"],[0.4444444444444444,\"#bd3786\"],[0.5555555555555556,\"#d8576b\"],[0.6666666666666666,\"#ed7953\"],[0.7777777777777778,\"#fb9f3a\"],[0.8888888888888888,\"#fdca26\"],[1.0,\"#f0f921\"]]}],\"heatmap\":[{\"type\":\"heatmap\",\"colorbar\":{\"outlinewidth\":0,\"ticks\":\"\"},\"colorscale\":[[0.0,\"#0d0887\"],[0.1111111111111111,\"#46039f\"],[0.2222222222222222,\"#7201a8\"],[0.3333333333333333,\"#9c179e\"],[0.4444444444444444,\"#bd3786\"],[0.5555555555555556,\"#d8576b\"],[0.6666666666666666,\"#ed7953\"],[0.7777777777777778,\"#fb9f3a\"],[0.8888888888888888,\"#fdca26\"],[1.0,\"#f0f921\"]]}],\"heatmapgl\":[{\"type\":\"heatmapgl\",\"colorbar\":{\"outlinewidth\":0,\"ticks\":\"\"},\"colorscale\":[[0.0,\"#0d0887\"],[0.1111111111111111,\"#46039f\"],[0.2222222222222222,\"#7201a8\"],[0.3333333333333333,\"#9c179e\"],[0.4444444444444444,\"#bd3786\"],[0.5555555555555556,\"#d8576b\"],[0.6666666666666666,\"#ed7953\"],[0.7777777777777778,\"#fb9f3a\"],[0.8888888888888888,\"#fdca26\"],[1.0,\"#f0f921\"]]}],\"contourcarpet\":[{\"type\":\"contourcarpet\",\"colorbar\":{\"outlinewidth\":0,\"ticks\":\"\"}}],\"contour\":[{\"type\":\"contour\",\"colorbar\":{\"outlinewidth\":0,\"ticks\":\"\"},\"colorscale\":[[0.0,\"#0d0887\"],[0.1111111111111111,\"#46039f\"],[0.2222222222222222,\"#7201a8\"],[0.3333333333333333,\"#9c179e\"],[0.4444444444444444,\"#bd3786\"],[0.5555555555555556,\"#d8576b\"],[0.6666666666666666,\"#ed7953\"],[0.7777777777777778,\"#fb9f3a\"],[0.8888888888888888,\"#fdca26\"],[1.0,\"#f0f921\"]]}],\"surface\":[{\"type\":\"surface\",\"colorbar\":{\"outlinewidth\":0,\"ticks\":\"\"},\"colorscale\":[[0.0,\"#0d0887\"],[0.1111111111111111,\"#46039f\"],[0.2222222222222222,\"#7201a8\"],[0.3333333333333333,\"#9c179e\"],[0.4444444444444444,\"#bd3786\"],[0.5555555555555556,\"#d8576b\"],[0.6666666666666666,\"#ed7953\"],[0.7777777777777778,\"#fb9f3a\"],[0.8888888888888888,\"#fdca26\"],[1.0,\"#f0f921\"]]}],\"mesh3d\":[{\"type\":\"mesh3d\",\"colorbar\":{\"outlinewidth\":0,\"ticks\":\"\"}}],\"scatter\":[{\"fillpattern\":{\"fillmode\":\"overlay\",\"size\":10,\"solidity\":0.2},\"type\":\"scatter\"}],\"parcoords\":[{\"type\":\"parcoords\",\"line\":{\"colorbar\":{\"outlinewidth\":0,\"ticks\":\"\"}}}],\"scatterpolargl\":[{\"type\":\"scatterpolargl\",\"marker\":{\"colorbar\":{\"outlinewidth\":0,\"ticks\":\"\"}}}],\"bar\":[{\"error_x\":{\"color\":\"#2a3f5f\"},\"error_y\":{\"color\":\"#2a3f5f\"},\"marker\":{\"line\":{\"color\":\"#E5ECF6\",\"width\":0.5},\"pattern\":{\"fillmode\":\"overlay\",\"size\":10,\"solidity\":0.2}},\"type\":\"bar\"}],\"scattergeo\":[{\"type\":\"scattergeo\",\"marker\":{\"colorbar\":{\"outlinewidth\":0,\"ticks\":\"\"}}}],\"scatterpolar\":[{\"type\":\"scatterpolar\",\"marker\":{\"colorbar\":{\"outlinewidth\":0,\"ticks\":\"\"}}}],\"histogram\":[{\"marker\":{\"pattern\":{\"fillmode\":\"overlay\",\"size\":10,\"solidity\":0.2}},\"type\":\"histogram\"}],\"scattergl\":[{\"type\":\"scattergl\",\"marker\":{\"colorbar\":{\"outlinewidth\":0,\"ticks\":\"\"}}}],\"scatter3d\":[{\"type\":\"scatter3d\",\"line\":{\"colorbar\":{\"outlinewidth\":0,\"ticks\":\"\"}},\"marker\":{\"colorbar\":{\"outlinewidth\":0,\"ticks\":\"\"}}}],\"scattermapbox\":[{\"type\":\"scattermapbox\",\"marker\":{\"colorbar\":{\"outlinewidth\":0,\"ticks\":\"\"}}}],\"scatterternary\":[{\"type\":\"scatterternary\",\"marker\":{\"colorbar\":{\"outlinewidth\":0,\"ticks\":\"\"}}}],\"scattercarpet\":[{\"type\":\"scattercarpet\",\"marker\":{\"colorbar\":{\"outlinewidth\":0,\"ticks\":\"\"}}}],\"carpet\":[{\"aaxis\":{\"endlinecolor\":\"#2a3f5f\",\"gridcolor\":\"white\",\"linecolor\":\"white\",\"minorgridcolor\":\"white\",\"startlinecolor\":\"#2a3f5f\"},\"baxis\":{\"endlinecolor\":\"#2a3f5f\",\"gridcolor\":\"white\",\"linecolor\":\"white\",\"minorgridcolor\":\"white\",\"startlinecolor\":\"#2a3f5f\"},\"type\":\"carpet\"}],\"table\":[{\"cells\":{\"fill\":{\"color\":\"#EBF0F8\"},\"line\":{\"color\":\"white\"}},\"header\":{\"fill\":{\"color\":\"#C8D4E3\"},\"line\":{\"color\":\"white\"}},\"type\":\"table\"}],\"barpolar\":[{\"marker\":{\"line\":{\"color\":\"#E5ECF6\",\"width\":0.5},\"pattern\":{\"fillmode\":\"overlay\",\"size\":10,\"solidity\":0.2}},\"type\":\"barpolar\"}],\"pie\":[{\"automargin\":true,\"type\":\"pie\"}]},\"layout\":{\"autotypenumbers\":\"strict\",\"colorway\":[\"#636efa\",\"#EF553B\",\"#00cc96\",\"#ab63fa\",\"#FFA15A\",\"#19d3f3\",\"#FF6692\",\"#B6E880\",\"#FF97FF\",\"#FECB52\"],\"font\":{\"color\":\"#2a3f5f\"},\"hovermode\":\"closest\",\"hoverlabel\":{\"align\":\"left\"},\"paper_bgcolor\":\"white\",\"plot_bgcolor\":\"#E5ECF6\",\"polar\":{\"bgcolor\":\"#E5ECF6\",\"angularaxis\":{\"gridcolor\":\"white\",\"linecolor\":\"white\",\"ticks\":\"\"},\"radialaxis\":{\"gridcolor\":\"white\",\"linecolor\":\"white\",\"ticks\":\"\"}},\"ternary\":{\"bgcolor\":\"#E5ECF6\",\"aaxis\":{\"gridcolor\":\"white\",\"linecolor\":\"white\",\"ticks\":\"\"},\"baxis\":{\"gridcolor\":\"white\",\"linecolor\":\"white\",\"ticks\":\"\"},\"caxis\":{\"gridcolor\":\"white\",\"linecolor\":\"white\",\"ticks\":\"\"}},\"coloraxis\":{\"colorbar\":{\"outlinewidth\":0,\"ticks\":\"\"}},\"colorscale\":{\"sequential\":[[0.0,\"#0d0887\"],[0.1111111111111111,\"#46039f\"],[0.2222222222222222,\"#7201a8\"],[0.3333333333333333,\"#9c179e\"],[0.4444444444444444,\"#bd3786\"],[0.5555555555555556,\"#d8576b\"],[0.6666666666666666,\"#ed7953\"],[0.7777777777777778,\"#fb9f3a\"],[0.8888888888888888,\"#fdca26\"],[1.0,\"#f0f921\"]],\"sequentialminus\":[[0.0,\"#0d0887\"],[0.1111111111111111,\"#46039f\"],[0.2222222222222222,\"#7201a8\"],[0.3333333333333333,\"#9c179e\"],[0.4444444444444444,\"#bd3786\"],[0.5555555555555556,\"#d8576b\"],[0.6666666666666666,\"#ed7953\"],[0.7777777777777778,\"#fb9f3a\"],[0.8888888888888888,\"#fdca26\"],[1.0,\"#f0f921\"]],\"diverging\":[[0,\"#8e0152\"],[0.1,\"#c51b7d\"],[0.2,\"#de77ae\"],[0.3,\"#f1b6da\"],[0.4,\"#fde0ef\"],[0.5,\"#f7f7f7\"],[0.6,\"#e6f5d0\"],[0.7,\"#b8e186\"],[0.8,\"#7fbc41\"],[0.9,\"#4d9221\"],[1,\"#276419\"]]},\"xaxis\":{\"gridcolor\":\"white\",\"linecolor\":\"white\",\"ticks\":\"\",\"title\":{\"standoff\":15},\"zerolinecolor\":\"white\",\"automargin\":true,\"zerolinewidth\":2},\"yaxis\":{\"gridcolor\":\"white\",\"linecolor\":\"white\",\"ticks\":\"\",\"title\":{\"standoff\":15},\"zerolinecolor\":\"white\",\"automargin\":true,\"zerolinewidth\":2},\"scene\":{\"xaxis\":{\"backgroundcolor\":\"#E5ECF6\",\"gridcolor\":\"white\",\"linecolor\":\"white\",\"showbackground\":true,\"ticks\":\"\",\"zerolinecolor\":\"white\",\"gridwidth\":2},\"yaxis\":{\"backgroundcolor\":\"#E5ECF6\",\"gridcolor\":\"white\",\"linecolor\":\"white\",\"showbackground\":true,\"ticks\":\"\",\"zerolinecolor\":\"white\",\"gridwidth\":2},\"zaxis\":{\"backgroundcolor\":\"#E5ECF6\",\"gridcolor\":\"white\",\"linecolor\":\"white\",\"showbackground\":true,\"ticks\":\"\",\"zerolinecolor\":\"white\",\"gridwidth\":2}},\"shapedefaults\":{\"line\":{\"color\":\"#2a3f5f\"}},\"annotationdefaults\":{\"arrowcolor\":\"#2a3f5f\",\"arrowhead\":0,\"arrowwidth\":1},\"geo\":{\"bgcolor\":\"white\",\"landcolor\":\"#E5ECF6\",\"subunitcolor\":\"white\",\"showland\":true,\"showlakes\":true,\"lakecolor\":\"white\"},\"title\":{\"x\":0.05},\"mapbox\":{\"style\":\"light\"}}}},                        {\"responsive\": true}                    ).then(function(){\n",
       "                            \n",
       "var gd = document.getElementById('def9df68-95e9-4678-b14f-9fcd2f4a11af');\n",
       "var x = new MutationObserver(function (mutations, observer) {{\n",
       "        var display = window.getComputedStyle(gd).display;\n",
       "        if (!display || display === 'none') {{\n",
       "            console.log([gd, 'removed!']);\n",
       "            Plotly.purge(gd);\n",
       "            observer.disconnect();\n",
       "        }}\n",
       "}});\n",
       "\n",
       "// Listen for the removal of the full notebook cells\n",
       "var notebookContainer = gd.closest('#notebook-container');\n",
       "if (notebookContainer) {{\n",
       "    x.observe(notebookContainer, {childList: true});\n",
       "}}\n",
       "\n",
       "// Listen for the clearing of the current output cell\n",
       "var outputEl = gd.closest('.output');\n",
       "if (outputEl) {{\n",
       "    x.observe(outputEl, {childList: true});\n",
       "}}\n",
       "\n",
       "                        })                };                });            </script>        </div>"
      ]
     },
     "metadata": {},
     "output_type": "display_data"
    }
   ],
   "source": [
    "col = 'month_added'\n",
    "vc1 = d1[col].value_counts().reset_index()\n",
    "vc1 = vc1.rename(columns = {col : \"count\", \"index\" : col})\n",
    "vc1['percent'] = vc1['count'].apply(lambda x : 100*x/sum(vc1['count']))\n",
    "vc1 = vc1.sort_values(col)\n",
    "\n",
    "trace1 = go.Bar(x=vc1[col], y=vc1[\"count\"], name=\"TV Shows\", marker=dict(color=\"#a678de\"))\n",
    "data = [trace1]\n",
    "layout = go.Layout(title=\"In which month, the conent is added the most?\", legend=dict(x=0.1, y=1.1, orientation=\"h\"))\n",
    "fig = go.Figure(data, layout=layout)\n",
    "fig.show()"
   ]
  },
  {
   "cell_type": "markdown",
   "metadata": {
    "id": "mby0KvISpihv"
   },
   "source": [
    "**Distribution of Movie Duration**"
   ]
  },
  {
   "cell_type": "code",
   "execution_count": 43,
   "metadata": {
    "colab": {
     "base_uri": "https://localhost:8080/",
     "height": 542
    },
    "id": "4mdrFOO6cOAo",
    "outputId": "782a01bf-2a11-4ff0-f435-dd5fd8a9957e"
   },
   "outputs": [
    {
     "data": {
      "application/vnd.plotly.v1+json": {
       "config": {
        "plotlyServerURL": "https://plot.ly"
       },
       "data": [
        {
         "autobinx": false,
         "histnorm": "probability density",
         "legendgroup": "a",
         "marker": {
          "color": "#6ad49b"
         },
         "name": "a",
         "opacity": 0.7,
         "type": "histogram",
         "x": [
          67,
          135,
          106,
          107,
          81,
          107,
          118,
          110,
          104,
          93,
          94,
          124,
          137,
          134,
          69,
          106,
          209,
          86,
          24,
          46,
          117,
          87,
          92,
          114,
          121,
          94,
          109,
          110,
          96,
          97,
          121,
          56,
          119,
          138,
          93,
          111,
          88,
          81,
          73,
          86,
          116,
          85,
          134,
          109,
          102,
          101,
          88,
          101,
          28,
          103,
          131,
          166,
          105,
          82,
          107,
          84,
          103,
          112,
          89,
          121,
          87,
          136,
          118,
          129,
          94,
          88,
          158,
          78,
          100,
          93,
          84,
          107,
          101,
          107,
          74,
          60,
          143,
          105,
          110,
          98,
          100,
          74,
          100,
          46,
          88,
          54,
          59,
          100,
          95,
          88,
          100,
          93,
          94,
          121,
          78,
          116,
          87,
          61,
          98,
          123,
          85,
          92,
          87,
          92,
          112,
          97,
          78,
          103,
          107,
          44,
          68,
          68,
          99,
          69,
          81,
          69,
          68,
          68,
          91,
          86,
          40,
          102,
          119,
          94,
          119,
          90,
          105,
          89,
          108,
          108,
          87,
          112,
          101,
          89,
          91,
          200,
          119,
          90,
          103,
          110,
          133,
          124,
          118,
          40,
          98,
          85,
          115,
          137,
          98,
          110,
          55,
          86,
          92,
          116,
          94,
          134,
          102,
          98,
          100,
          105,
          116,
          118,
          153,
          109,
          99,
          96,
          91,
          185,
          92,
          82,
          127,
          98,
          111,
          120,
          137,
          121,
          89,
          91,
          135,
          98,
          139,
          95,
          98,
          91,
          122,
          100,
          103,
          129,
          133,
          36,
          141,
          105,
          107,
          136,
          138,
          129,
          97,
          141,
          99,
          89,
          24,
          90,
          98,
          89,
          88,
          65,
          126,
          63,
          14,
          28,
          20,
          88,
          98,
          94,
          106,
          118,
          127,
          61,
          86,
          94,
          82,
          92,
          95,
          52,
          108,
          91,
          96,
          67,
          83,
          94,
          97,
          91,
          66,
          98,
          92,
          118,
          87,
          121,
          98,
          99,
          95,
          107,
          100,
          101,
          86,
          96,
          99,
          112,
          127,
          140,
          22,
          78,
          63,
          97,
          86,
          93,
          73,
          62,
          96,
          104,
          123,
          100,
          99,
          151,
          102,
          154,
          106,
          87,
          70,
          46,
          111,
          101,
          109,
          100,
          110,
          102,
          102,
          24,
          96,
          98,
          76,
          93,
          77,
          103,
          45,
          119,
          147,
          123,
          99,
          98,
          106,
          112,
          85,
          91,
          88,
          101,
          90,
          96,
          99,
          101,
          111,
          96,
          86,
          97,
          121,
          59,
          58,
          90,
          88,
          64,
          104,
          122,
          125,
          92,
          129,
          79,
          121,
          106,
          124,
          87,
          125,
          154,
          86,
          111,
          97,
          66,
          121,
          91,
          91,
          82,
          117,
          81,
          84,
          81,
          107,
          94,
          163,
          90,
          96,
          91,
          93,
          64,
          45,
          89,
          90,
          102,
          116,
          42,
          133,
          108,
          38,
          97,
          89,
          146,
          146,
          130,
          106,
          58,
          152,
          87,
          121,
          182,
          106,
          102,
          98,
          83,
          82,
          111,
          24,
          171,
          84,
          112,
          80,
          88,
          124,
          104,
          76,
          91,
          64,
          94,
          86,
          157,
          83,
          95,
          106,
          87,
          90,
          65,
          105,
          107,
          103,
          88,
          96,
          67,
          140,
          96,
          93,
          90,
          125,
          142,
          133,
          100,
          10,
          128,
          88,
          108,
          93,
          96,
          102,
          108,
          81,
          102,
          93,
          87,
          94,
          100,
          88,
          109,
          138,
          149,
          82,
          86,
          112,
          98,
          113,
          47,
          106,
          113,
          119,
          109,
          98,
          88,
          116,
          106,
          95,
          95,
          113,
          84,
          91,
          102,
          100,
          81,
          98,
          110,
          106,
          85,
          66,
          92,
          92,
          91,
          133,
          135,
          120,
          118,
          123,
          110,
          98,
          98,
          98,
          104,
          167,
          63,
          52,
          95,
          72,
          117,
          100,
          24,
          86,
          112,
          69,
          119,
          123,
          93,
          109,
          97,
          66,
          107,
          46,
          96,
          91,
          80,
          103,
          117,
          76,
          67,
          114,
          67,
          77,
          84,
          105,
          63,
          94,
          99,
          59,
          102,
          81,
          145,
          84,
          102,
          101,
          116,
          164,
          87,
          90,
          106,
          116,
          134,
          133,
          118,
          120,
          154,
          128,
          115,
          177,
          105,
          112,
          120,
          119,
          100,
          92,
          104,
          97,
          88,
          128,
          130,
          108,
          98,
          89,
          90,
          130,
          83,
          99,
          59,
          107,
          99,
          94,
          111,
          100,
          77,
          57,
          107,
          93,
          114,
          103,
          153,
          94,
          149,
          111,
          58,
          56,
          110,
          98,
          106,
          102,
          93,
          81,
          77,
          98,
          97,
          136,
          161,
          32,
          86,
          107,
          98,
          83,
          77,
          133,
          105,
          79,
          106,
          90,
          87,
          95,
          91,
          67,
          106,
          65,
          131,
          105,
          119,
          105,
          40,
          107,
          112,
          97,
          106,
          66,
          106,
          110,
          102,
          105,
          112,
          96,
          97,
          53,
          113,
          53,
          54,
          53,
          54,
          113,
          53,
          53,
          53,
          54,
          54,
          52,
          54,
          54,
          53,
          53,
          53,
          113,
          53,
          91,
          126,
          99,
          134,
          26,
          117,
          89,
          94,
          101,
          94,
          99,
          114,
          48,
          78,
          118,
          119,
          104,
          98,
          93,
          61,
          90,
          122,
          113,
          141,
          81,
          176,
          119,
          73,
          87,
          88,
          15,
          55,
          141,
          122,
          117,
          95,
          109,
          63,
          73,
          107,
          87,
          99,
          96,
          113,
          69,
          99,
          87,
          85,
          112,
          116,
          99,
          101,
          110,
          116,
          96,
          83,
          110,
          86,
          110,
          122,
          99,
          59,
          65,
          126,
          97,
          68,
          65,
          63,
          89,
          88,
          91,
          53,
          40,
          113,
          117,
          90,
          95,
          98,
          97,
          102,
          61,
          93,
          117,
          108,
          126,
          93,
          60,
          142,
          113,
          90,
          120,
          107,
          74,
          119,
          114,
          125,
          71,
          110,
          127,
          118,
          90,
          94,
          90,
          98,
          98,
          99,
          133,
          94,
          116,
          93,
          103,
          84,
          90,
          107,
          89,
          90,
          96,
          130,
          90,
          86,
          79,
          93,
          12,
          62,
          3,
          94,
          93,
          114,
          110,
          125,
          119,
          109,
          100,
          98,
          98,
          128,
          83,
          105,
          109,
          83,
          101,
          78,
          110,
          116,
          141,
          120,
          97,
          109,
          105,
          102,
          127,
          101,
          135,
          124,
          103,
          105,
          98,
          93,
          113,
          106,
          99,
          123,
          91,
          84,
          99,
          93,
          122,
          38,
          101,
          99,
          91,
          30,
          30,
          137,
          111,
          66,
          159,
          125,
          95,
          95,
          70,
          87,
          88,
          96,
          90,
          84,
          53,
          87,
          90,
          96,
          150,
          105,
          112,
          119,
          142,
          94,
          97,
          137,
          100,
          125,
          128,
          108,
          136,
          165,
          124,
          133,
          116,
          102,
          87,
          61,
          94,
          70,
          92,
          88,
          100,
          111,
          128,
          63,
          63,
          62,
          62,
          98,
          104,
          110,
          87,
          126,
          103,
          111,
          100,
          112,
          96,
          71,
          86,
          99,
          125,
          147,
          88,
          40,
          79,
          110,
          101,
          128,
          110,
          79,
          87,
          116,
          119,
          53,
          82,
          99,
          87,
          90,
          124,
          53,
          88,
          54,
          104,
          92,
          126,
          140,
          87,
          93,
          80,
          92,
          64,
          72,
          148,
          110,
          119,
          163,
          125,
          87,
          96,
          91,
          122,
          125,
          49,
          95,
          99,
          98,
          98,
          90,
          97,
          97,
          86,
          114,
          96,
          99,
          88,
          66,
          70,
          168,
          98,
          89,
          100,
          90,
          77,
          100,
          102,
          98,
          92,
          116,
          111,
          91,
          99,
          99,
          99,
          98,
          73,
          113,
          153,
          81,
          54,
          138,
          93,
          123,
          96,
          101,
          59,
          53,
          102,
          141,
          95,
          111,
          131,
          116,
          119,
          146,
          101,
          82,
          90,
          87,
          95,
          94,
          129,
          94,
          103,
          133,
          135,
          61,
          85,
          91,
          105,
          59,
          91,
          94,
          89,
          131,
          136,
          170,
          91,
          128,
          88,
          97,
          110,
          170,
          92,
          94,
          92,
          113,
          59,
          126,
          86,
          120,
          76,
          60,
          118,
          88,
          55,
          110,
          113,
          110,
          94,
          54,
          53,
          103,
          126,
          89,
          124,
          128,
          88,
          83,
          96,
          118,
          91,
          91,
          53,
          103,
          108,
          88,
          81,
          124,
          102,
          98,
          132,
          87,
          89,
          109,
          75,
          126,
          61,
          126,
          108,
          89,
          100,
          129,
          71,
          108,
          101,
          60,
          105,
          115,
          118,
          130,
          101,
          115,
          99,
          69,
          97,
          61,
          87,
          97,
          101,
          92,
          123,
          108,
          104,
          98,
          65,
          88,
          106,
          69,
          97,
          80,
          85,
          99,
          98,
          115,
          138,
          90,
          86,
          90,
          117,
          132,
          127,
          125,
          128,
          126,
          58,
          87,
          98,
          116,
          90,
          111,
          100,
          123,
          106,
          100,
          104,
          99,
          105,
          128,
          91,
          127,
          100,
          131,
          104,
          94,
          124,
          106,
          108,
          104,
          103,
          100,
          79,
          92,
          116,
          83,
          118,
          162,
          162,
          126,
          109,
          109,
          89,
          111,
          89,
          97,
          108,
          103,
          88,
          120,
          90,
          99,
          83,
          107,
          109,
          105,
          87,
          93,
          90,
          89,
          131,
          114,
          92,
          75,
          107,
          97,
          90,
          98,
          100,
          103,
          66,
          106,
          125,
          77,
          130,
          119,
          110,
          120,
          102,
          125,
          103,
          127,
          121,
          101,
          113,
          118,
          132,
          106,
          116,
          117,
          90,
          61,
          90,
          107,
          80,
          58,
          58,
          56,
          110,
          70,
          117,
          89,
          84,
          131,
          91,
          103,
          100,
          139,
          103,
          42,
          79,
          90,
          88,
          96,
          114,
          99,
          89,
          103,
          127,
          113,
          111,
          112,
          96,
          103,
          104,
          102,
          86,
          97,
          111,
          132,
          89,
          102,
          120,
          137,
          82,
          85,
          115,
          107,
          130,
          57,
          62,
          112,
          26,
          102,
          93,
          111,
          93,
          91,
          118,
          63,
          74,
          136,
          90,
          132,
          101,
          59,
          84,
          91,
          93,
          91,
          84,
          101,
          110,
          82,
          100,
          52,
          51,
          127,
          86,
          107,
          22,
          22,
          22,
          44,
          91,
          99,
          105,
          105,
          88,
          128,
          24,
          113,
          52,
          50,
          49,
          92,
          110,
          106,
          120,
          83,
          123,
          56,
          141,
          97,
          118,
          95,
          127,
          118,
          74,
          91,
          137,
          86,
          106,
          125,
          114,
          143,
          121,
          119,
          108,
          150,
          88,
          105,
          119,
          97,
          96,
          91,
          49,
          95,
          98,
          96,
          83,
          96,
          90,
          97,
          99,
          94,
          90,
          88,
          105,
          118,
          86,
          127,
          88,
          125,
          116,
          102,
          65,
          88,
          106,
          117,
          91,
          93,
          136,
          116,
          121,
          89,
          104,
          65,
          91,
          99,
          91,
          117,
          135,
          135,
          91,
          95,
          75,
          95,
          82,
          124,
          106,
          86,
          115,
          99,
          101,
          142,
          102,
          122,
          95,
          120,
          96,
          92,
          110,
          133,
          143,
          111,
          144,
          121,
          99,
          93,
          100,
          102,
          123,
          127,
          116,
          119,
          105,
          134,
          90,
          93,
          93,
          108,
          115,
          119,
          61,
          109,
          97,
          154,
          120,
          148,
          121,
          95,
          102,
          87,
          114,
          48,
          124,
          101,
          28,
          34,
          61,
          56,
          81,
          68,
          58,
          100,
          50,
          49,
          71,
          29,
          108,
          125,
          72,
          100,
          30,
          30,
          146,
          127,
          46,
          57,
          87,
          90,
          86,
          122,
          97,
          312,
          109,
          122,
          116,
          73,
          96,
          91,
          110,
          115,
          150,
          90,
          89,
          93,
          105,
          105,
          124,
          105,
          44,
          91,
          95,
          78,
          22,
          95,
          82,
          89,
          90,
          94,
          85,
          29,
          96,
          101,
          137,
          27,
          112,
          112,
          107,
          153,
          123,
          90,
          84,
          78,
          79,
          73,
          83,
          83,
          145,
          135,
          109,
          35,
          86,
          68,
          107,
          110,
          86,
          85,
          75,
          90,
          105,
          124,
          110,
          96,
          110,
          58,
          105,
          59,
          28,
          98,
          111,
          116,
          106,
          63,
          109,
          88,
          155,
          119,
          122,
          87,
          73,
          98,
          130,
          99,
          105,
          110,
          81,
          115,
          113,
          146,
          118,
          122,
          109,
          68,
          117,
          23,
          95,
          124,
          90,
          96,
          96,
          123,
          85,
          93,
          30,
          82,
          95,
          127,
          120,
          114,
          119,
          101,
          96,
          120,
          139,
          95,
          44,
          104,
          110,
          91,
          91,
          114,
          91,
          64,
          89,
          95,
          86,
          94,
          133,
          102,
          122,
          86,
          111,
          132,
          111,
          136,
          121,
          76,
          92,
          119,
          45,
          75,
          71,
          81,
          115,
          128,
          92,
          95,
          114,
          99,
          132,
          106,
          122,
          79,
          78,
          111,
          112,
          107,
          102,
          81,
          129,
          90,
          86,
          116,
          59,
          95,
          122,
          98,
          103,
          117,
          95,
          146,
          136,
          91,
          123,
          144,
          103,
          11,
          22,
          126,
          121,
          91,
          158,
          157,
          124,
          106,
          92,
          80,
          94,
          126,
          129,
          133,
          109,
          143,
          140,
          150,
          128,
          120,
          154,
          45,
          132,
          126,
          95,
          91,
          135,
          139,
          131,
          118,
          129,
          131,
          146,
          123,
          141,
          93,
          91,
          58,
          91,
          112,
          119,
          106,
          131,
          95,
          104,
          126,
          118,
          116,
          122,
          105,
          90,
          87,
          102,
          89,
          94,
          100,
          126,
          89,
          90,
          87,
          97,
          115,
          93,
          138,
          74,
          102,
          103,
          119,
          104,
          161,
          51,
          50,
          86,
          140,
          122,
          23,
          95,
          205,
          123,
          190,
          121,
          131,
          80,
          63,
          150,
          159,
          131,
          130,
          99,
          86,
          106,
          57,
          97,
          118,
          98,
          144,
          110,
          96,
          57,
          98,
          119,
          92,
          94,
          151,
          74,
          89,
          124,
          25,
          84,
          121,
          85,
          25,
          121,
          88,
          111,
          81,
          64,
          55,
          137,
          56,
          58,
          80,
          94,
          94,
          72,
          60,
          140,
          91,
          97,
          146,
          118,
          133,
          106,
          128,
          137,
          145,
          141,
          106,
          61,
          135,
          137,
          129,
          99,
          155,
          142,
          214,
          137,
          128,
          89,
          67,
          151,
          121,
          101,
          145,
          147,
          90,
          129,
          129,
          136,
          117,
          74,
          150,
          134,
          100,
          44,
          44,
          111,
          147,
          115,
          121,
          103,
          73,
          129,
          102,
          122,
          155,
          139,
          131,
          127,
          156,
          91,
          132,
          130,
          137,
          132,
          156,
          132,
          119,
          140,
          101,
          126,
          107,
          112,
          111,
          126,
          130,
          126,
          24,
          127,
          108,
          163,
          117,
          95,
          103,
          110,
          111,
          91,
          101,
          124,
          63,
          102,
          103,
          112,
          103,
          92,
          93,
          112,
          113,
          92,
          153,
          111,
          141,
          128,
          52,
          117,
          100,
          112,
          110,
          98,
          107,
          109,
          100,
          114,
          98,
          100,
          100,
          123,
          86,
          77,
          112,
          106,
          106,
          102,
          86,
          146,
          122,
          126,
          116,
          135,
          125,
          96,
          130,
          135,
          88,
          96,
          100,
          122,
          110,
          104,
          96,
          109,
          95,
          110,
          110,
          79,
          101,
          112,
          94,
          94,
          86,
          84,
          95,
          93,
          113,
          111,
          68,
          135,
          95,
          93,
          101,
          98,
          90,
          112,
          141,
          120,
          140,
          87,
          99,
          86,
          104,
          100,
          50,
          124,
          57,
          31,
          90,
          96,
          196,
          93,
          110,
          162,
          139,
          130,
          145,
          88,
          91,
          91,
          102,
          95,
          33,
          119,
          114,
          100,
          54,
          150,
          108,
          90,
          101,
          104,
          88,
          93,
          79,
          92,
          90,
          86,
          90,
          103,
          86,
          108,
          97,
          92,
          101,
          83,
          85,
          85,
          106,
          86,
          131,
          105,
          134,
          85,
          203,
          120,
          91,
          124,
          95,
          12,
          104,
          92,
          143,
          127,
          100,
          74,
          104,
          148,
          127,
          96,
          82,
          158,
          124,
          163,
          74,
          121,
          154,
          127,
          128,
          98,
          124,
          109,
          168,
          89,
          162,
          159,
          137,
          133,
          125,
          127,
          131,
          90,
          89,
          88,
          125,
          88,
          94,
          83,
          89,
          118,
          87,
          105,
          79,
          133,
          147,
          92,
          103,
          119,
          80,
          110,
          128,
          88,
          86,
          70,
          66,
          72,
          122,
          117,
          98,
          126,
          115,
          86,
          108,
          94,
          151,
          88,
          97,
          92,
          102,
          93,
          126,
          82,
          86,
          105,
          101,
          100,
          57,
          95,
          101,
          128,
          99,
          113,
          108,
          105,
          109,
          93,
          82,
          95,
          84,
          106,
          122,
          108,
          94,
          103,
          106,
          124,
          92,
          88,
          68,
          72,
          93,
          102,
          69,
          125,
          99,
          89,
          95,
          92,
          95,
          133,
          112,
          85,
          85,
          84,
          118,
          99,
          109,
          103,
          94,
          105,
          101,
          103,
          86,
          91,
          95,
          99,
          90,
          88,
          85,
          98,
          94,
          71,
          95,
          124,
          108,
          87,
          95,
          108,
          110,
          113,
          71,
          75,
          75,
          97,
          83,
          93,
          66,
          83,
          110,
          88,
          112,
          77,
          91,
          58,
          69,
          61,
          100,
          88,
          128,
          122,
          60,
          126,
          166,
          113,
          88,
          151,
          107,
          42,
          94,
          130,
          87,
          116,
          77,
          117,
          84,
          92,
          130,
          103,
          89,
          109,
          104,
          114,
          133,
          101,
          137,
          88,
          88,
          115,
          120,
          104,
          114,
          128,
          125,
          38,
          102,
          96,
          94,
          69,
          92,
          90,
          101,
          77,
          89,
          90,
          98,
          88,
          49,
          152,
          66,
          103,
          95,
          79,
          89,
          75,
          78,
          89,
          74,
          119,
          70,
          104,
          48,
          121,
          106,
          74,
          106,
          113,
          119,
          82,
          76,
          95,
          100,
          110,
          66,
          99,
          131,
          86,
          118,
          126,
          130,
          99,
          89,
          136,
          131,
          165,
          110,
          85,
          92,
          89,
          117,
          114,
          63,
          94,
          74,
          103,
          58,
          94,
          92,
          104,
          117,
          89,
          87,
          129,
          160,
          66,
          150,
          158,
          118,
          100,
          90,
          64,
          92,
          63,
          105,
          76,
          67,
          99,
          69,
          91,
          92,
          87,
          100,
          113,
          40,
          105,
          94,
          109,
          116,
          99,
          89,
          92,
          82,
          70,
          131,
          105,
          130,
          69,
          98,
          90,
          105,
          106,
          126,
          84,
          65,
          121,
          163,
          92,
          124,
          107,
          19,
          25,
          22,
          40,
          22,
          24,
          103,
          45,
          101,
          60,
          90,
          96,
          98,
          94,
          74,
          112,
          115,
          92,
          93,
          95,
          105,
          117,
          66,
          110,
          97,
          78,
          102,
          62,
          90,
          97,
          105,
          79,
          90,
          129,
          92,
          109,
          77,
          107,
          69,
          87,
          91,
          99,
          105,
          99,
          108,
          66,
          94,
          93,
          75,
          96,
          95,
          32,
          70,
          94,
          117,
          78,
          100,
          91,
          115,
          122,
          107,
          109,
          104,
          95,
          110,
          100,
          93,
          104,
          134,
          75,
          100,
          105,
          104,
          101,
          96,
          80,
          75,
          75,
          79,
          78,
          75,
          78,
          166,
          90,
          132,
          91,
          117,
          103,
          100,
          176,
          91,
          49,
          97,
          116,
          90,
          60,
          149,
          86,
          171,
          103,
          116,
          169,
          134,
          159,
          130,
          103,
          173,
          195,
          111,
          99,
          110,
          32,
          94,
          87,
          103,
          78,
          108,
          62,
          97,
          102,
          95,
          106,
          115,
          76,
          80,
          102,
          99,
          82,
          74,
          100,
          150,
          90,
          75,
          103,
          87,
          88,
          63,
          127,
          129,
          120,
          138,
          129,
          137,
          91,
          103,
          145,
          23,
          25,
          92,
          83,
          81,
          115,
          150,
          106,
          115,
          140,
          79,
          104,
          52,
          90,
          83,
          97,
          85,
          69,
          94,
          121,
          40,
          89,
          94,
          90,
          86,
          100,
          84,
          58,
          95,
          78,
          51,
          69,
          104,
          101,
          59,
          91,
          153,
          61,
          149,
          94,
          79,
          137,
          53,
          166,
          162,
          92,
          93,
          155,
          158,
          138,
          151,
          96,
          106,
          141,
          127,
          130,
          140,
          145,
          132,
          41,
          110,
          170,
          157,
          165,
          114,
          143,
          106,
          73,
          71,
          161,
          187,
          127,
          165,
          117,
          134,
          116,
          94,
          168,
          109,
          148,
          135,
          127,
          115,
          150,
          87,
          127,
          185,
          75,
          177,
          81,
          137,
          118,
          124,
          123,
          90,
          91,
          87,
          89,
          81,
          47,
          46,
          173,
          108,
          125,
          124,
          137,
          171,
          160,
          87,
          110,
          69,
          67,
          92,
          96,
          92,
          85,
          105,
          127,
          109,
          150,
          100,
          73,
          93,
          91,
          87,
          134,
          118,
          85,
          60,
          96,
          133,
          118,
          150,
          132,
          121,
          127,
          152,
          126,
          104,
          162,
          120,
          65,
          133,
          110,
          96,
          95,
          24,
          97,
          94,
          65,
          84,
          91,
          97,
          102,
          93,
          105,
          53,
          116,
          102,
          81,
          93,
          97,
          94,
          90,
          110,
          88,
          80,
          86,
          143,
          84,
          42,
          117,
          96,
          78,
          96,
          69,
          74,
          108,
          91,
          68,
          92,
          102,
          61,
          57,
          85,
          49,
          87,
          85,
          59,
          97,
          104,
          77,
          63,
          69,
          86,
          62,
          108,
          95,
          99,
          62,
          106,
          117,
          60,
          94,
          147,
          94,
          89,
          89,
          89,
          111,
          118,
          153,
          87,
          122,
          97,
          121,
          124,
          68,
          94,
          100,
          71,
          76,
          60,
          89,
          92,
          63,
          135,
          112,
          88,
          97,
          83,
          89,
          86,
          52,
          126,
          133,
          90,
          91,
          104,
          105,
          123,
          89,
          87,
          91,
          102,
          106,
          102,
          91,
          87,
          103,
          193,
          176,
          124,
          135,
          106,
          133,
          107,
          78,
          192,
          55,
          132,
          148,
          46,
          46,
          46,
          74,
          46,
          50,
          114,
          117,
          108,
          97,
          122,
          115,
          104,
          140,
          101,
          99,
          102,
          94,
          92,
          125,
          82,
          151,
          85,
          86,
          93,
          49,
          82,
          100,
          55,
          53,
          87,
          102,
          112,
          105,
          106,
          89,
          91,
          61,
          94,
          93,
          80,
          118,
          141,
          94,
          84,
          103,
          85,
          69,
          100,
          85,
          97,
          129,
          143,
          90,
          92,
          81,
          105,
          91,
          111,
          103,
          118,
          148,
          88,
          75,
          89,
          128,
          86,
          83,
          109,
          111,
          40,
          70,
          108,
          106,
          106,
          81,
          94,
          102,
          102,
          89,
          162,
          147,
          224,
          137,
          109,
          163,
          162,
          104,
          91,
          27,
          67,
          142,
          78,
          26,
          123,
          113,
          92,
          46,
          124,
          81,
          97,
          81,
          119,
          149,
          106,
          140,
          121,
          87,
          99,
          96,
          128,
          76,
          94,
          114,
          101,
          93,
          109,
          51,
          61,
          73,
          113,
          125,
          92,
          94,
          65,
          135,
          86,
          80,
          142,
          131,
          66,
          88,
          99,
          96,
          126,
          65,
          54,
          76,
          100,
          81,
          123,
          144,
          153,
          105,
          103,
          141,
          115,
          120,
          104,
          22,
          97,
          54,
          120,
          132,
          135,
          87,
          82,
          158,
          107,
          122,
          62,
          95,
          98,
          113,
          94,
          120,
          92,
          132,
          84,
          76,
          75,
          93,
          98,
          91,
          48,
          168,
          68,
          97,
          115,
          148,
          149,
          113,
          137,
          140,
          144,
          103,
          90,
          95,
          82,
          94,
          79,
          66,
          135,
          96,
          144,
          108,
          127,
          127,
          90,
          126,
          121,
          119,
          109,
          132,
          118,
          84,
          93,
          96,
          145,
          158,
          132,
          111,
          133,
          143,
          117,
          84,
          107,
          83,
          102,
          52,
          110,
          85,
          113,
          88,
          89,
          59,
          80,
          107,
          106,
          90,
          66,
          92,
          101,
          135,
          107,
          74,
          74,
          74,
          83,
          79,
          72,
          80,
          75,
          75,
          72,
          80,
          93,
          79,
          86,
          107,
          47,
          107,
          119,
          108,
          85,
          90,
          72,
          23,
          68,
          85,
          84,
          118,
          116,
          89,
          81,
          73,
          140,
          130,
          103,
          40,
          103,
          85,
          106,
          104,
          82,
          94,
          81,
          91,
          112,
          102,
          101,
          119,
          62,
          64,
          137,
          108,
          132,
          87,
          92,
          108,
          78,
          40,
          71,
          89,
          99,
          110,
          60,
          90,
          78,
          95,
          58,
          62,
          65,
          61,
          65,
          58,
          60,
          135,
          98,
          96,
          79,
          113,
          90,
          114,
          79,
          98,
          70,
          116,
          139,
          101,
          148,
          54,
          92,
          107,
          90,
          135,
          52,
          151,
          90,
          88,
          99,
          99,
          132,
          95,
          155,
          162,
          163,
          102,
          96,
          85,
          97,
          95,
          83,
          89,
          28,
          103,
          84,
          160,
          113,
          99,
          86,
          83,
          113,
          86,
          78,
          96,
          95,
          57,
          92,
          81,
          98,
          95,
          105,
          116,
          100,
          95,
          70,
          51,
          94,
          83,
          92,
          88,
          104,
          104,
          104,
          124,
          113,
          124,
          96,
          101,
          63,
          56,
          92,
          91,
          94,
          94,
          82,
          100,
          90,
          71,
          97,
          89,
          83,
          98,
          92,
          88,
          62,
          165,
          166,
          166,
          159,
          160,
          159,
          93,
          95,
          22,
          22,
          105,
          101,
          124,
          100,
          54,
          121,
          103,
          129,
          89,
          92,
          111,
          92,
          91,
          172,
          45,
          95,
          80,
          67,
          84,
          97,
          86,
          59,
          58,
          47,
          114,
          103,
          93,
          84,
          67,
          91,
          110,
          110,
          84,
          63,
          94,
          116,
          104,
          143,
          116,
          14,
          89,
          108,
          59,
          99,
          74,
          103,
          105,
          84,
          109,
          96,
          78,
          83,
          89,
          97,
          95,
          106,
          116,
          91,
          90,
          86,
          97,
          170,
          153,
          104,
          162,
          163,
          106,
          108,
          130,
          133,
          148,
          105,
          90,
          79,
          121,
          66,
          102,
          108,
          139,
          91,
          90,
          81,
          96,
          72,
          89,
          92,
          81,
          161,
          92,
          24,
          66,
          100,
          122,
          91,
          81,
          92,
          77,
          104,
          73,
          102,
          82,
          47,
          98,
          102,
          112,
          85,
          108,
          87,
          84,
          107,
          117,
          89,
          119,
          88,
          126,
          130,
          102,
          154,
          44,
          104,
          76,
          96,
          63,
          108,
          105,
          47,
          44,
          109,
          89,
          92,
          122,
          19,
          154,
          152,
          161,
          123,
          44,
          106,
          80,
          71,
          87,
          153,
          98,
          79,
          143,
          123,
          97,
          80,
          73,
          90,
          106,
          101,
          119,
          140,
          59,
          164,
          92,
          151,
          84,
          51,
          142,
          66,
          110,
          99,
          86,
          101,
          88,
          86,
          151,
          116,
          128,
          128,
          86,
          88,
          80,
          61,
          92,
          82,
          81,
          72,
          98,
          64,
          95,
          96,
          111,
          127,
          117,
          123,
          139,
          95,
          148,
          121,
          79,
          127,
          92,
          162,
          163,
          83,
          112,
          117,
          90,
          95,
          99,
          125,
          44,
          93,
          89,
          92,
          120,
          114,
          109,
          83,
          107,
          129,
          135,
          149,
          136,
          138,
          177,
          61,
          126,
          137,
          114,
          104,
          96,
          147,
          107,
          91,
          81,
          53,
          95,
          95,
          149,
          106,
          108,
          66,
          54,
          55,
          55,
          55,
          55,
          113,
          83,
          53,
          102,
          95,
          50,
          97,
          92,
          97,
          105,
          107,
          99,
          101,
          81,
          92,
          131,
          111,
          104,
          99,
          101,
          71,
          96,
          85,
          106,
          119,
          84,
          85,
          110,
          89,
          76,
          74,
          103,
          101,
          98,
          74,
          156,
          88,
          70,
          88,
          93,
          143,
          83,
          90,
          107,
          93,
          99,
          134,
          77,
          78,
          101,
          53,
          81,
          106,
          84,
          51,
          90,
          77,
          95,
          63,
          58,
          59,
          52,
          32,
          18,
          102,
          40,
          42,
          76,
          61,
          82,
          45,
          92,
          118,
          91,
          63,
          110,
          91,
          93,
          93,
          108,
          72,
          114,
          91,
          97,
          118,
          92,
          91,
          137,
          97,
          101,
          143,
          97,
          107,
          168,
          117,
          103,
          80,
          87,
          160,
          88,
          85,
          104,
          62,
          109,
          103,
          99,
          102,
          97,
          99,
          101,
          102,
          102,
          107,
          99,
          106,
          103,
          123,
          98,
          118,
          100,
          101,
          103,
          101,
          104,
          104,
          100,
          136,
          102,
          105,
          24,
          110,
          105,
          105,
          102,
          98,
          118,
          106,
          106,
          92,
          92,
          91,
          83,
          123,
          90,
          57,
          103,
          92,
          52,
          52,
          87,
          56,
          115,
          53,
          94,
          118,
          92,
          98,
          125,
          113,
          110,
          71,
          108,
          123,
          97,
          99,
          97,
          100,
          98,
          75,
          54,
          54,
          55,
          54,
          55,
          67,
          129,
          105,
          78,
          99,
          96,
          95,
          87,
          134,
          119,
          128,
          128,
          91,
          109,
          79,
          88,
          107,
          92,
          88,
          71,
          64,
          83,
          124,
          123,
          97,
          96,
          150,
          91,
          79,
          93,
          54,
          73,
          88,
          109,
          93,
          78,
          86,
          94,
          116,
          154,
          90,
          179,
          93,
          97,
          80,
          88,
          99,
          104,
          94,
          77,
          111,
          108,
          92,
          78,
          87,
          99,
          91,
          37,
          102,
          67,
          57,
          78,
          130,
          80,
          90,
          93,
          66,
          93,
          119,
          90,
          105,
          83,
          96,
          84,
          98,
          91,
          89,
          90,
          89,
          123,
          117,
          100,
          91,
          87,
          146,
          82,
          104,
          85,
          109,
          74,
          94,
          84,
          98,
          82,
          22,
          141,
          95,
          117,
          100,
          75,
          69,
          80,
          97,
          92,
          92,
          85,
          83,
          118,
          84,
          52,
          84,
          146,
          93,
          97,
          90,
          75,
          93,
          62,
          98,
          92,
          22,
          115,
          88,
          87,
          86,
          94,
          105,
          88,
          88,
          86,
          93,
          98,
          29,
          88,
          93,
          81,
          83,
          31,
          83,
          73,
          38,
          108,
          90,
          97,
          81,
          70,
          62,
          104,
          97,
          99,
          96,
          84,
          112,
          90,
          88,
          56,
          89,
          24,
          100,
          116,
          101,
          92,
          79,
          67,
          72,
          96,
          103,
          92,
          61,
          88,
          88,
          113,
          67,
          65,
          62,
          107,
          85,
          69,
          60,
          77,
          98,
          71,
          101,
          64,
          112,
          125,
          125,
          59,
          91,
          44,
          107,
          101,
          93,
          82,
          86,
          81,
          92,
          89,
          107,
          94,
          110,
          81,
          77,
          64,
          111,
          97,
          77,
          94,
          94,
          91,
          93,
          95,
          80,
          95,
          90,
          101,
          73,
          108,
          25,
          86,
          105,
          100,
          96,
          97,
          73,
          44,
          132,
          96,
          92,
          99,
          92,
          99,
          78,
          87,
          65,
          65,
          69,
          64,
          63,
          63,
          89,
          60,
          84,
          93,
          41,
          91,
          83,
          25,
          94,
          102,
          111,
          88,
          93,
          29,
          88,
          103,
          107,
          52,
          91,
          180,
          75,
          92,
          90,
          114,
          80,
          99,
          79,
          66,
          46,
          90,
          72,
          71,
          77,
          70,
          73,
          107,
          81,
          86,
          63,
          44,
          128,
          51,
          45,
          46,
          112,
          87,
          87,
          106,
          100,
          101,
          117,
          114,
          94,
          100,
          96,
          58,
          87,
          81,
          96,
          52,
          114,
          105,
          157,
          84,
          91,
          80,
          97,
          105,
          96,
          60,
          79,
          93,
          95,
          99,
          109,
          96,
          102,
          107,
          60,
          86,
          29,
          163,
          98,
          101,
          91,
          99,
          74,
          66,
          76,
          95,
          127,
          86,
          116,
          82,
          70,
          102,
          88,
          109,
          75,
          23,
          83,
          97,
          62,
          84,
          90,
          82,
          96,
          65,
          92,
          90,
          93,
          91,
          100,
          101,
          103,
          74,
          44,
          43,
          95,
          94,
          68,
          72,
          47,
          52,
          92,
          107,
          108,
          74,
          110,
          24,
          46,
          24,
          55,
          24,
          23,
          24,
          24,
          101,
          29,
          60,
          60,
          78,
          73,
          72,
          60,
          47,
          70,
          77,
          120,
          74,
          57,
          72,
          78,
          91,
          62,
          85,
          85,
          90,
          105,
          59,
          137,
          86,
          135,
          99,
          64,
          72,
          83,
          82,
          90,
          80,
          130,
          62,
          90,
          92,
          155,
          78,
          92,
          60,
          69,
          103,
          92,
          143,
          83,
          78,
          84,
          78,
          93,
          84,
          77,
          58,
          82,
          83,
          100,
          29,
          72,
          26,
          48,
          73,
          103,
          81,
          75,
          100,
          90,
          68,
          71,
          71,
          100,
          94,
          80,
          78,
          35,
          72,
          93,
          105,
          130,
          100,
          44,
          80,
          72,
          75,
          26,
          84,
          120,
          76,
          95,
          96,
          94,
          94,
          93,
          96,
          94,
          94,
          93,
          95,
          93,
          75,
          103,
          84,
          29,
          104,
          81
         ],
         "xaxis": "x",
         "xbins": {
          "end": 312,
          "size": 0.7,
          "start": 3
         },
         "yaxis": "y"
        },
        {
         "legendgroup": "a",
         "marker": {
          "color": "#6ad49b"
         },
         "mode": "lines",
         "name": "a",
         "showlegend": false,
         "type": "scatter",
         "x": [
          3,
          3.618,
          4.236,
          4.854,
          5.4719999999999995,
          6.09,
          6.708,
          7.326,
          7.944,
          8.562000000000001,
          9.18,
          9.798,
          10.416,
          11.034,
          11.652,
          12.27,
          12.888,
          13.506,
          14.124,
          14.742,
          15.36,
          15.978,
          16.596,
          17.214,
          17.832,
          18.45,
          19.068,
          19.686,
          20.304,
          20.922,
          21.54,
          22.158,
          22.776,
          23.394,
          24.012,
          24.63,
          25.248,
          25.866,
          26.484,
          27.102,
          27.72,
          28.338,
          28.956,
          29.574,
          30.192,
          30.81,
          31.428,
          32.046,
          32.664,
          33.282,
          33.9,
          34.518,
          35.136,
          35.754,
          36.372,
          36.99,
          37.608,
          38.226,
          38.844,
          39.462,
          40.08,
          40.698,
          41.316,
          41.934,
          42.552,
          43.17,
          43.788,
          44.406,
          45.024,
          45.642,
          46.26,
          46.878,
          47.496,
          48.114,
          48.732,
          49.35,
          49.968,
          50.586,
          51.204,
          51.822,
          52.44,
          53.058,
          53.676,
          54.294,
          54.912,
          55.53,
          56.148,
          56.766,
          57.384,
          58.002,
          58.62,
          59.238,
          59.856,
          60.474,
          61.092,
          61.71,
          62.328,
          62.946,
          63.564,
          64.182,
          64.8,
          65.418,
          66.036,
          66.654,
          67.272,
          67.89,
          68.508,
          69.126,
          69.744,
          70.362,
          70.98,
          71.598,
          72.216,
          72.834,
          73.452,
          74.07,
          74.688,
          75.306,
          75.924,
          76.542,
          77.16,
          77.778,
          78.396,
          79.014,
          79.632,
          80.25,
          80.868,
          81.486,
          82.104,
          82.722,
          83.34,
          83.958,
          84.576,
          85.194,
          85.812,
          86.43,
          87.048,
          87.666,
          88.284,
          88.902,
          89.52,
          90.138,
          90.756,
          91.374,
          91.992,
          92.61,
          93.228,
          93.846,
          94.464,
          95.082,
          95.7,
          96.318,
          96.936,
          97.554,
          98.172,
          98.79,
          99.408,
          100.026,
          100.644,
          101.262,
          101.88,
          102.498,
          103.116,
          103.734,
          104.352,
          104.97,
          105.588,
          106.206,
          106.824,
          107.442,
          108.06,
          108.678,
          109.296,
          109.914,
          110.532,
          111.15,
          111.768,
          112.386,
          113.004,
          113.622,
          114.24,
          114.858,
          115.476,
          116.094,
          116.712,
          117.33,
          117.948,
          118.566,
          119.184,
          119.802,
          120.42,
          121.038,
          121.656,
          122.274,
          122.892,
          123.51,
          124.128,
          124.746,
          125.364,
          125.982,
          126.6,
          127.218,
          127.836,
          128.454,
          129.072,
          129.69,
          130.308,
          130.926,
          131.544,
          132.162,
          132.78,
          133.398,
          134.016,
          134.634,
          135.252,
          135.87,
          136.488,
          137.106,
          137.724,
          138.342,
          138.96,
          139.578,
          140.196,
          140.814,
          141.432,
          142.05,
          142.668,
          143.286,
          143.904,
          144.522,
          145.14,
          145.758,
          146.376,
          146.994,
          147.612,
          148.23,
          148.848,
          149.466,
          150.084,
          150.702,
          151.32,
          151.938,
          152.556,
          153.174,
          153.792,
          154.41,
          155.028,
          155.646,
          156.264,
          156.882,
          157.5,
          158.118,
          158.736,
          159.354,
          159.972,
          160.59,
          161.208,
          161.826,
          162.444,
          163.062,
          163.68,
          164.298,
          164.916,
          165.534,
          166.152,
          166.77,
          167.388,
          168.006,
          168.624,
          169.242,
          169.86,
          170.478,
          171.096,
          171.714,
          172.332,
          172.95,
          173.568,
          174.186,
          174.804,
          175.422,
          176.04,
          176.658,
          177.276,
          177.894,
          178.512,
          179.13,
          179.748,
          180.366,
          180.984,
          181.602,
          182.22,
          182.838,
          183.456,
          184.074,
          184.692,
          185.31,
          185.928,
          186.546,
          187.164,
          187.782,
          188.4,
          189.018,
          189.636,
          190.254,
          190.872,
          191.49,
          192.108,
          192.726,
          193.344,
          193.962,
          194.58,
          195.198,
          195.816,
          196.434,
          197.052,
          197.67,
          198.288,
          198.906,
          199.524,
          200.142,
          200.76,
          201.378,
          201.996,
          202.614,
          203.232,
          203.85,
          204.468,
          205.086,
          205.704,
          206.322,
          206.94,
          207.558,
          208.176,
          208.794,
          209.412,
          210.03,
          210.648,
          211.266,
          211.884,
          212.502,
          213.12,
          213.738,
          214.356,
          214.974,
          215.592,
          216.21,
          216.828,
          217.446,
          218.064,
          218.682,
          219.3,
          219.918,
          220.536,
          221.154,
          221.772,
          222.39,
          223.008,
          223.626,
          224.244,
          224.862,
          225.48,
          226.098,
          226.716,
          227.334,
          227.952,
          228.57,
          229.188,
          229.806,
          230.424,
          231.042,
          231.66,
          232.278,
          232.896,
          233.514,
          234.132,
          234.75,
          235.368,
          235.986,
          236.604,
          237.222,
          237.84,
          238.458,
          239.076,
          239.694,
          240.312,
          240.93,
          241.548,
          242.166,
          242.784,
          243.402,
          244.02,
          244.638,
          245.256,
          245.874,
          246.492,
          247.11,
          247.728,
          248.346,
          248.964,
          249.582,
          250.2,
          250.818,
          251.436,
          252.054,
          252.672,
          253.29,
          253.908,
          254.526,
          255.144,
          255.762,
          256.38,
          256.998,
          257.616,
          258.23400000000004,
          258.852,
          259.47,
          260.088,
          260.706,
          261.324,
          261.942,
          262.56,
          263.178,
          263.796,
          264.414,
          265.032,
          265.65,
          266.268,
          266.886,
          267.504,
          268.122,
          268.74,
          269.358,
          269.976,
          270.594,
          271.212,
          271.83,
          272.448,
          273.066,
          273.684,
          274.302,
          274.92,
          275.538,
          276.156,
          276.774,
          277.392,
          278.01,
          278.628,
          279.246,
          279.864,
          280.482,
          281.1,
          281.718,
          282.336,
          282.954,
          283.572,
          284.19,
          284.808,
          285.426,
          286.044,
          286.662,
          287.28,
          287.898,
          288.516,
          289.134,
          289.752,
          290.37,
          290.988,
          291.606,
          292.224,
          292.842,
          293.46,
          294.078,
          294.696,
          295.314,
          295.932,
          296.55,
          297.168,
          297.786,
          298.404,
          299.022,
          299.64,
          300.258,
          300.876,
          301.494,
          302.112,
          302.73,
          303.348,
          303.966,
          304.584,
          305.202,
          305.82,
          306.438,
          307.056,
          307.674,
          308.292,
          308.91,
          309.528,
          310.146,
          310.764,
          311.382
         ],
         "xaxis": "x",
         "y": [
          4.0194895106035e-05,
          4.337906059201206e-05,
          4.679219112259686e-05,
          5.044877416926587e-05,
          5.4364055860099413e-05,
          5.855406876491028e-05,
          6.303565981372065e-05,
          6.782651827247414e-05,
          7.294520369377718e-05,
          7.841117375424249e-05,
          8.424481188367807e-05,
          9.046745458493527e-05,
          9.710141833674479e-05,
          0.00010417002596533589,
          0.00011169763236408362,
          0.00011970964943389958,
          0.00012823257011058945,
          0.00013729399133899546,
          0.00014692263584744513,
          0.00015714837256988428,
          0.00016800223555712114,
          0.000179516441212889,
          0.0001917244036849885,
          0.00020466074823664344,
          0.0002183613224184495,
          0.00023286320485693633,
          0.00024820471147188924,
          0.00026442539893118235,
          0.0002815660651490706,
          0.000299668746631669,
          0.0003187767124718079,
          0.00033893445479460084,
          0.00036018767545500436,
          0.00038258326878936173,
          0.0004061693002245307,
          0.0004309949805506831,
          0.0004571106356673239,
          0.0004845676716165065,
          0.0005134185347227229,
          0.000543716666665481,
          0.0005755164543182599,
          0.0006088731741963412,
          0.0006438429313659686,
          0.0006804825926784963,
          0.00071884971420551,
          0.0007590024627645544,
          0.000800999531439905,
          0.0008449000490189175,
          0.0008907634832817465,
          0.0009386495381007986,
          0.00098861804432596,
          0.0010407288444525607,
          0.0010950416710910917,
          0.0011516160192808248,
          0.001210511012713723,
          0.0012717852639602247,
          0.0013354967288146619,
          0.001401702554905113,
          0.001470458924740295,
          0.0015418208933946267,
          0.0016158422210617762,
          0.0016925752007365877,
          0.0017720704813153614,
          0.0018543768864347626,
          0.0019395412294001186,
          0.0020276081245843157,
          0.0021186197957088907,
          0.0022126158814490446,
          0.00230963323883392,
          0.0024097057449426708,
          0.002512864097425212,
          0.002619135614404036,
          0.0027285440343399227,
          0.002841109316469631,
          0.00295684744244743,
          0.0030757702198446583,
          0.003197885088182023,
          0.003323194928188021,
          0.003451697874993474,
          0.003583387135986533,
          0.003718250814064617,
          0.0038562717370291665,
          0.003997427293876027,
          0.004141689278738329,
          0.00428902374323989,
          0.0044393908580152895,
          0.004592744784147799,
          0.004749033555268098,
          0.0049081989710452485,
          0.005070176502786435,
          0.005234895211843789,
          0.005402277681504826,
          0.005572239963017807,
          0.005744691536374752,
          0.005919535286442654,
          0.006096667494997946,
          0.0062759778491804025,
          0.006457349466840514,
          0.006640658939208972,
          0.006825776391268428,
          0.007012565560156433,
          0.007200883891874047,
          0.007390582656517869,
          0.007581507082193944,
          0.007773496507710275,
          0.007966384554081154,
          0.008159999314811142,
          0.00835416356485929,
          0.008548694988116196,
          0.008743406423156961,
          0.00893810612696318,
          0.009132598056236516,
          0.009326682165855991,
          0.00952015472396049,
          0.00971280864306825,
          0.009904433826576062,
          0.010094817529912904,
          0.010283744735556478,
          0.010470998541056653,
          0.01065636055914723,
          0.010839611328967816,
          0.011020530737360376,
          0.011198898449151094,
          0.011374494345277758,
          0.011547098967575827,
          0.011716493968993692,
          0.011882462567968924,
          0.012044790005663105,
          0.012203264004723508,
          0.012357675228215256,
          0.012507817737348152,
          0.012653489446608138,
          0.012794492574894565,
          0.01293063409126098,
          0.013061726153859417,
          0.013187586540696086,
          0.01330803907081961,
          0.01342291401458239,
          0.01353204849164023,
          0.013635286855385778,
          0.013732481062547196,
          0.013823491026724602,
          0.013908184954683298,
          0.013986439664274363,
          0.014058140882909425,
          0.014123183525577634,
          0.014181471951458158,
          0.014232920198251193,
          0.014277452193423898,
          0.014315001941644626,
          0.014345513687759057,
          0.014368942054744838,
          0.014385252156166994,
          0.014394419682743945,
          0.01439643096272351,
          0.014391282995858953,
          0.014378983460866909,
          0.014359550696341246,
          0.014333013655189231,
          0.014299411832748516,
          0.01425879516883471,
          0.01421122392405961,
          0.014156768530848867,
          0.014095509419674608,
          0.014027536821103154,
          0.013952950544339733,
          0.013871859733030942,
          0.013784382599161194,
          0.01369064613595119,
          0.013590785810734174,
          0.0134849452388494,
          0.013373275839651196,
          0.013255936475786205,
          0.013133093076940883,
          0.013004918249305273,
          0.012871590872038144,
          0.012733295682051842,
          0.012590222848463228,
          0.012442567538079324,
          0.012290529473303018,
          0.012134312483855074,
          0.011974124053714189,
          0.011810174864676523,
          0.011642678337930338,
          0.011471850175030213,
          0.0112979078996388,
          0.011121070401382223,
          0.010941557483138678,
          0.010759589413048207,
          0.01057538648249535,
          0.010389168571276124,
          0.010201154721115841,
          0.010011562718656072,
          0.009820608688976815,
          0.009628506700664542,
          0.009435468383378666,
          0.00924170255880776,
          0.009047414885843546,
          0.008852807520735443,
          0.008658078792921213,
          0.008463422897160887,
          0.008269029602531787,
          0.00807508397877215,
          0.00788176614039042,
          0.007689251008886734,
          0.007497708093362641,
          0.007307301289725548,
          0.00711818869862528,
          0.006930522462192537,
          0.0067444486195825945,
          0.006560106981262909,
          0.006377631021920635,
          0.006197147791805333,
          0.006018777846263889,
          0.005842635193169009,
          0.005668827257889608,
          0.005497454865401203,
          0.005328612239087526,
          0.005162387015740364,
          0.00499886027622403,
          0.004838106591233481,
          0.004680194081540886,
          0.004525184492095155,
          0.004373133279311469,
          0.004224089710864414,
          0.004078096977277958,
          0.003935192314588835,
          0.0037954071373463363,
          0.003658767181201704,
          0.0035252926543332553,
          0.003394998396949932,
          0.0032678940481153953,
          0.003143984219137243,
          0.0030232686727711473,
          0.002905742507497963,
          0.0027913963461422653,
          0.002680216528113984,
          0.0025721853045702053,
          0.0024672810358115976,
          0.002365478390247636,
          0.002266748544285948,
          0.0021710593825241607,
          0.0020783756976470906,
          0.0019886593894578993,
          0.0019018696624987005,
          0.0018179632217441442,
          0.001736894465880091,
          0.0016586156777089714,
          0.001583077211253271,
          0.001510227675158842,
          0.001440014112030121,
          0.0013723821733599277,
          0.0013072762897468238,
          0.0012446398361233022,
          0.0011844152917479184,
          0.0011265443947438994,
          0.0010709682909957087,
          0.001017627677243201,
          0.0009664629382405421,
          0.0009174142778737009,
          0.0008704218441561133,
          0.0008254258480468291,
          0.0007823666760593207,
          0.0007411849966517039,
          0.0007018218604107269,
          0.0006642187940622556,
          0.0006283178883601868,
          0.0005940618799236874,
          0.0005613942271094574,
          0.0005302591800212021,
          0.0005006018447728177,
          0.000472368242134856,
          0.0004455053607056556,
          0.00041996120475921604,
          0.00039568483693130116,
          0.0003726264159135894,
          0.0003507372293328566,
          0.00032996972199825843,
          0.0003102775197047837,
          0.0002916154487849916,
          0.0002739395516041335,
          0.00025720709819587484,
          0.0002413765942370438,
          0.0002264077855601997,
          0.00021226165940239252,
          0.00019890044258734902,
          0.0001862875968364525,
          0.00017438781140141516,
          0.000163166993208472,
          0.00015259225470030702,
          0.00014263189955783986,
          0.0001332554064794577,
          0.0001244334111903508,
          0.00011613768684934365,
          0.00010834112301504086,
          0.00010101770332727247,
          9.414248205379946e-05,
          8.769155964600853e-05,
          8.164205744098582e-05,
          7.597209164090931e-05,
          7.066074669418762e-05,
          6.568804819622675e-05,
          6.103493542116855e-05,
          5.6683233589420504e-05,
          5.261562596933507e-05,
          4.8815625905013744e-05,
          4.5267548855917e-05,
          4.195648452780337e-05,
          3.886826916848432e-05,
          3.598945809600981e-05,
          3.330729852119084e-05,
          3.080970272083942e-05,
          2.8485221612766437e-05,
          2.6323018778447207e-05,
          2.431284497432929e-05,
          2.2445013168043763e-05,
          2.0710374131280393e-05,
          1.9100292616808293e-05,
          1.7606624143063777e-05,
          1.622169240589429e-05,
          1.4938267333430317e-05,
          1.3749543796664044e-05,
          1.2649120985136403e-05,
          1.1630982454170838e-05,
          1.0689476847338343e-05,
          9.81929929529097e-06,
          9.01547348975134e-06,
          8.273334429290434e-06,
          7.588511831558867e-06,
          6.956914204848085e-06,
          6.374713570245244e-06,
          5.838330824196462e-06,
          5.34442173000451e-06,
          4.889863525648304e-06,
          4.4717421343168035e-06,
          4.087339963189754e-06,
          3.734124275266696e-06,
          3.4097361184330245e-06,
          3.111979795453202e-06,
          2.8388128581862436e-06,
          2.5883366090224675e-06,
          2.3587870923330165e-06,
          2.148526558601958e-06,
          1.9560353838630344e-06,
          1.7799044270879252e-06,
          1.6188278082596615e-06,
          1.4715960900104194e-06,
          1.3370898459000367e-06,
          1.2142735986553254e-06,
          1.1021901119749972e-06,
          9.999550198264439e-07,
          9.067517775131866e-07,
          8.218269191718198e-07,
          7.444856067605065e-07,
          6.740874560230482e-07,
          6.100426253507803e-07,
          5.518081539145087e-07,
          4.988845358983912e-07,
          4.508125181332991e-07,
          4.0717010889716113e-07,
          3.675697861206646e-07,
          3.316558937073719e-07,
          2.9910221514499914e-07,
          2.696097140481601e-07,
          2.429044317304329e-07,
          2.1873553235387271e-07,
          1.9687348664595546e-07,
          1.7710838560617957e-07,
          1.592483760464861e-07,
          1.4311821022028798e-07,
          1.2855790219386688e-07,
          1.154214840004271e-07,
          1.0357585499096186e-07,
          9.289971815695547e-08,
          8.328259754751941e-08,
          7.462393123785473e-08,
          6.683223462675524e-08,
          5.982432914835733e-08,
          5.3524631777480375e-08,
          4.786450098891085e-08,
          4.278163509895015e-08,
          3.821951917280279e-08,
          3.41269169240819e-08,
          3.045740426322052e-08,
          2.7168941370192756e-08,
          2.4223480373993808e-08,
          2.1586605917194456e-08,
          1.922720606891127e-08,
          1.7117171224134485e-08,
          1.523111879189303e-08,
          1.35461416296333e-08,
          1.2041578326820704e-08,
          1.0698803577555044e-08,
          9.501037010310251e-09,
          8.433168963159966e-09,
          7.481601805418689e-09,
          6.634105511897798e-09,
          5.879686294309468e-09,
          5.208467186122911e-09,
          4.611579562727594e-09,
          4.081064658439786e-09,
          3.609784216022674e-09,
          3.191339473304532e-09,
          2.819997755472329e-09,
          2.4906260009933786e-09,
          2.198630604149595e-09,
          1.9399030081337675e-09,
          1.7107705298106676e-09,
          1.5079519408328655e-09,
          1.3285173700576722e-09,
          1.1698521293573605e-09,
          1.0296240991620632e-09,
          9.057543416208117e-10,
          7.963906383006795e-10,
          6.998836760431184e-10,
          6.147656291280709e-10,
          5.397309084180832e-10,
          4.73618868812031e-10,
          4.1539828527311776e-10,
          3.641534250346709e-10,
          3.190715594543752e-10,
          2.794317734945195e-10,
          2.4459494405963475e-10,
          2.139947705216916e-10,
          1.871297517991801e-10,
          1.6355601441512004e-10,
          1.4288090512008264e-10,
          1.2475727000308508e-10,
          1.0887834959440842e-10,
          9.497322635290367e-11,
          8.280276718513339e-11,
          7.215600931839941e-11,
          6.284694299462746e-11,
          5.4711649112981504e-11,
          4.7605754168527893e-11,
          4.140216865117131e-11,
          3.598907851941732e-11,
          3.1268162480126154e-11,
          2.715301061863963e-11,
          2.35677224611254e-11,
          2.044566483812245e-11,
          1.7728371978314556e-11,
          1.5364572115698588e-11,
          1.3309326561010046e-11,
          1.1523268687160427e-11,
          9.971931624712424e-12,
          8.62515467173584e-12,
          7.456559506158827e-12,
          6.443088260097531e-12,
          5.564596385691019e-12,
          4.8034940207034765e-12,
          4.144430258702759e-12,
          3.5740153512252794e-12,
          3.080576425463894e-12,
          2.6539427974354694e-12,
          2.2852574034018655e-12,
          1.966811267061653e-12,
          1.6918982716778024e-12,
          1.4546878193590787e-12,
          1.250113238217215e-12,
          1.0737740457293845e-12,
          9.21850396625352e-13,
          7.910282389453684e-13,
          6.784338752267157e-13,
          5.815767794569062e-13,
          4.982996566120046e-13,
          4.26734852195919e-13,
          3.6526632592262235e-13,
          3.1249649807372156e-13,
          2.6721736048963707e-13,
          2.2838531784055296e-13,
          1.9509928986770645e-13,
          1.6658166266389145e-13,
          1.4216172764510422e-13,
          1.2126129142959578e-13,
          1.0338217907732357e-13,
          8.809538766672286e-14,
          7.503167754398522e-14,
          6.387341525805837e-14,
          5.4347505624024025e-14,
          4.621927092076799e-14,
          3.9287153265413883e-14,
          3.337813201727535e-14,
          2.8343761914308315e-14,
          2.405674977058829e-14,
          2.0407998172379297e-14,
          1.730405388681769e-14,
          1.4664906803399496e-14,
          1.2422092307677613e-14,
          1.0517056165051765e-14,
          8.89974638160939e-15,
          7.527401206583517e-15,
          6.363506533362752e-15,
          5.376899518898546e-15,
          4.540998341419921e-15,
          3.833140712055445e-15,
          3.234016098604678e-15,
          2.727178654283912e-15,
          2.298629610245213e-15,
          1.9364594225499665e-15
         ],
         "yaxis": "y"
        },
        {
         "legendgroup": "a",
         "marker": {
          "color": "#6ad49b",
          "symbol": "line-ns-open"
         },
         "mode": "markers",
         "name": "a",
         "showlegend": false,
         "type": "scatter",
         "x": [
          67,
          135,
          106,
          107,
          81,
          107,
          118,
          110,
          104,
          93,
          94,
          124,
          137,
          134,
          69,
          106,
          209,
          86,
          24,
          46,
          117,
          87,
          92,
          114,
          121,
          94,
          109,
          110,
          96,
          97,
          121,
          56,
          119,
          138,
          93,
          111,
          88,
          81,
          73,
          86,
          116,
          85,
          134,
          109,
          102,
          101,
          88,
          101,
          28,
          103,
          131,
          166,
          105,
          82,
          107,
          84,
          103,
          112,
          89,
          121,
          87,
          136,
          118,
          129,
          94,
          88,
          158,
          78,
          100,
          93,
          84,
          107,
          101,
          107,
          74,
          60,
          143,
          105,
          110,
          98,
          100,
          74,
          100,
          46,
          88,
          54,
          59,
          100,
          95,
          88,
          100,
          93,
          94,
          121,
          78,
          116,
          87,
          61,
          98,
          123,
          85,
          92,
          87,
          92,
          112,
          97,
          78,
          103,
          107,
          44,
          68,
          68,
          99,
          69,
          81,
          69,
          68,
          68,
          91,
          86,
          40,
          102,
          119,
          94,
          119,
          90,
          105,
          89,
          108,
          108,
          87,
          112,
          101,
          89,
          91,
          200,
          119,
          90,
          103,
          110,
          133,
          124,
          118,
          40,
          98,
          85,
          115,
          137,
          98,
          110,
          55,
          86,
          92,
          116,
          94,
          134,
          102,
          98,
          100,
          105,
          116,
          118,
          153,
          109,
          99,
          96,
          91,
          185,
          92,
          82,
          127,
          98,
          111,
          120,
          137,
          121,
          89,
          91,
          135,
          98,
          139,
          95,
          98,
          91,
          122,
          100,
          103,
          129,
          133,
          36,
          141,
          105,
          107,
          136,
          138,
          129,
          97,
          141,
          99,
          89,
          24,
          90,
          98,
          89,
          88,
          65,
          126,
          63,
          14,
          28,
          20,
          88,
          98,
          94,
          106,
          118,
          127,
          61,
          86,
          94,
          82,
          92,
          95,
          52,
          108,
          91,
          96,
          67,
          83,
          94,
          97,
          91,
          66,
          98,
          92,
          118,
          87,
          121,
          98,
          99,
          95,
          107,
          100,
          101,
          86,
          96,
          99,
          112,
          127,
          140,
          22,
          78,
          63,
          97,
          86,
          93,
          73,
          62,
          96,
          104,
          123,
          100,
          99,
          151,
          102,
          154,
          106,
          87,
          70,
          46,
          111,
          101,
          109,
          100,
          110,
          102,
          102,
          24,
          96,
          98,
          76,
          93,
          77,
          103,
          45,
          119,
          147,
          123,
          99,
          98,
          106,
          112,
          85,
          91,
          88,
          101,
          90,
          96,
          99,
          101,
          111,
          96,
          86,
          97,
          121,
          59,
          58,
          90,
          88,
          64,
          104,
          122,
          125,
          92,
          129,
          79,
          121,
          106,
          124,
          87,
          125,
          154,
          86,
          111,
          97,
          66,
          121,
          91,
          91,
          82,
          117,
          81,
          84,
          81,
          107,
          94,
          163,
          90,
          96,
          91,
          93,
          64,
          45,
          89,
          90,
          102,
          116,
          42,
          133,
          108,
          38,
          97,
          89,
          146,
          146,
          130,
          106,
          58,
          152,
          87,
          121,
          182,
          106,
          102,
          98,
          83,
          82,
          111,
          24,
          171,
          84,
          112,
          80,
          88,
          124,
          104,
          76,
          91,
          64,
          94,
          86,
          157,
          83,
          95,
          106,
          87,
          90,
          65,
          105,
          107,
          103,
          88,
          96,
          67,
          140,
          96,
          93,
          90,
          125,
          142,
          133,
          100,
          10,
          128,
          88,
          108,
          93,
          96,
          102,
          108,
          81,
          102,
          93,
          87,
          94,
          100,
          88,
          109,
          138,
          149,
          82,
          86,
          112,
          98,
          113,
          47,
          106,
          113,
          119,
          109,
          98,
          88,
          116,
          106,
          95,
          95,
          113,
          84,
          91,
          102,
          100,
          81,
          98,
          110,
          106,
          85,
          66,
          92,
          92,
          91,
          133,
          135,
          120,
          118,
          123,
          110,
          98,
          98,
          98,
          104,
          167,
          63,
          52,
          95,
          72,
          117,
          100,
          24,
          86,
          112,
          69,
          119,
          123,
          93,
          109,
          97,
          66,
          107,
          46,
          96,
          91,
          80,
          103,
          117,
          76,
          67,
          114,
          67,
          77,
          84,
          105,
          63,
          94,
          99,
          59,
          102,
          81,
          145,
          84,
          102,
          101,
          116,
          164,
          87,
          90,
          106,
          116,
          134,
          133,
          118,
          120,
          154,
          128,
          115,
          177,
          105,
          112,
          120,
          119,
          100,
          92,
          104,
          97,
          88,
          128,
          130,
          108,
          98,
          89,
          90,
          130,
          83,
          99,
          59,
          107,
          99,
          94,
          111,
          100,
          77,
          57,
          107,
          93,
          114,
          103,
          153,
          94,
          149,
          111,
          58,
          56,
          110,
          98,
          106,
          102,
          93,
          81,
          77,
          98,
          97,
          136,
          161,
          32,
          86,
          107,
          98,
          83,
          77,
          133,
          105,
          79,
          106,
          90,
          87,
          95,
          91,
          67,
          106,
          65,
          131,
          105,
          119,
          105,
          40,
          107,
          112,
          97,
          106,
          66,
          106,
          110,
          102,
          105,
          112,
          96,
          97,
          53,
          113,
          53,
          54,
          53,
          54,
          113,
          53,
          53,
          53,
          54,
          54,
          52,
          54,
          54,
          53,
          53,
          53,
          113,
          53,
          91,
          126,
          99,
          134,
          26,
          117,
          89,
          94,
          101,
          94,
          99,
          114,
          48,
          78,
          118,
          119,
          104,
          98,
          93,
          61,
          90,
          122,
          113,
          141,
          81,
          176,
          119,
          73,
          87,
          88,
          15,
          55,
          141,
          122,
          117,
          95,
          109,
          63,
          73,
          107,
          87,
          99,
          96,
          113,
          69,
          99,
          87,
          85,
          112,
          116,
          99,
          101,
          110,
          116,
          96,
          83,
          110,
          86,
          110,
          122,
          99,
          59,
          65,
          126,
          97,
          68,
          65,
          63,
          89,
          88,
          91,
          53,
          40,
          113,
          117,
          90,
          95,
          98,
          97,
          102,
          61,
          93,
          117,
          108,
          126,
          93,
          60,
          142,
          113,
          90,
          120,
          107,
          74,
          119,
          114,
          125,
          71,
          110,
          127,
          118,
          90,
          94,
          90,
          98,
          98,
          99,
          133,
          94,
          116,
          93,
          103,
          84,
          90,
          107,
          89,
          90,
          96,
          130,
          90,
          86,
          79,
          93,
          12,
          62,
          3,
          94,
          93,
          114,
          110,
          125,
          119,
          109,
          100,
          98,
          98,
          128,
          83,
          105,
          109,
          83,
          101,
          78,
          110,
          116,
          141,
          120,
          97,
          109,
          105,
          102,
          127,
          101,
          135,
          124,
          103,
          105,
          98,
          93,
          113,
          106,
          99,
          123,
          91,
          84,
          99,
          93,
          122,
          38,
          101,
          99,
          91,
          30,
          30,
          137,
          111,
          66,
          159,
          125,
          95,
          95,
          70,
          87,
          88,
          96,
          90,
          84,
          53,
          87,
          90,
          96,
          150,
          105,
          112,
          119,
          142,
          94,
          97,
          137,
          100,
          125,
          128,
          108,
          136,
          165,
          124,
          133,
          116,
          102,
          87,
          61,
          94,
          70,
          92,
          88,
          100,
          111,
          128,
          63,
          63,
          62,
          62,
          98,
          104,
          110,
          87,
          126,
          103,
          111,
          100,
          112,
          96,
          71,
          86,
          99,
          125,
          147,
          88,
          40,
          79,
          110,
          101,
          128,
          110,
          79,
          87,
          116,
          119,
          53,
          82,
          99,
          87,
          90,
          124,
          53,
          88,
          54,
          104,
          92,
          126,
          140,
          87,
          93,
          80,
          92,
          64,
          72,
          148,
          110,
          119,
          163,
          125,
          87,
          96,
          91,
          122,
          125,
          49,
          95,
          99,
          98,
          98,
          90,
          97,
          97,
          86,
          114,
          96,
          99,
          88,
          66,
          70,
          168,
          98,
          89,
          100,
          90,
          77,
          100,
          102,
          98,
          92,
          116,
          111,
          91,
          99,
          99,
          99,
          98,
          73,
          113,
          153,
          81,
          54,
          138,
          93,
          123,
          96,
          101,
          59,
          53,
          102,
          141,
          95,
          111,
          131,
          116,
          119,
          146,
          101,
          82,
          90,
          87,
          95,
          94,
          129,
          94,
          103,
          133,
          135,
          61,
          85,
          91,
          105,
          59,
          91,
          94,
          89,
          131,
          136,
          170,
          91,
          128,
          88,
          97,
          110,
          170,
          92,
          94,
          92,
          113,
          59,
          126,
          86,
          120,
          76,
          60,
          118,
          88,
          55,
          110,
          113,
          110,
          94,
          54,
          53,
          103,
          126,
          89,
          124,
          128,
          88,
          83,
          96,
          118,
          91,
          91,
          53,
          103,
          108,
          88,
          81,
          124,
          102,
          98,
          132,
          87,
          89,
          109,
          75,
          126,
          61,
          126,
          108,
          89,
          100,
          129,
          71,
          108,
          101,
          60,
          105,
          115,
          118,
          130,
          101,
          115,
          99,
          69,
          97,
          61,
          87,
          97,
          101,
          92,
          123,
          108,
          104,
          98,
          65,
          88,
          106,
          69,
          97,
          80,
          85,
          99,
          98,
          115,
          138,
          90,
          86,
          90,
          117,
          132,
          127,
          125,
          128,
          126,
          58,
          87,
          98,
          116,
          90,
          111,
          100,
          123,
          106,
          100,
          104,
          99,
          105,
          128,
          91,
          127,
          100,
          131,
          104,
          94,
          124,
          106,
          108,
          104,
          103,
          100,
          79,
          92,
          116,
          83,
          118,
          162,
          162,
          126,
          109,
          109,
          89,
          111,
          89,
          97,
          108,
          103,
          88,
          120,
          90,
          99,
          83,
          107,
          109,
          105,
          87,
          93,
          90,
          89,
          131,
          114,
          92,
          75,
          107,
          97,
          90,
          98,
          100,
          103,
          66,
          106,
          125,
          77,
          130,
          119,
          110,
          120,
          102,
          125,
          103,
          127,
          121,
          101,
          113,
          118,
          132,
          106,
          116,
          117,
          90,
          61,
          90,
          107,
          80,
          58,
          58,
          56,
          110,
          70,
          117,
          89,
          84,
          131,
          91,
          103,
          100,
          139,
          103,
          42,
          79,
          90,
          88,
          96,
          114,
          99,
          89,
          103,
          127,
          113,
          111,
          112,
          96,
          103,
          104,
          102,
          86,
          97,
          111,
          132,
          89,
          102,
          120,
          137,
          82,
          85,
          115,
          107,
          130,
          57,
          62,
          112,
          26,
          102,
          93,
          111,
          93,
          91,
          118,
          63,
          74,
          136,
          90,
          132,
          101,
          59,
          84,
          91,
          93,
          91,
          84,
          101,
          110,
          82,
          100,
          52,
          51,
          127,
          86,
          107,
          22,
          22,
          22,
          44,
          91,
          99,
          105,
          105,
          88,
          128,
          24,
          113,
          52,
          50,
          49,
          92,
          110,
          106,
          120,
          83,
          123,
          56,
          141,
          97,
          118,
          95,
          127,
          118,
          74,
          91,
          137,
          86,
          106,
          125,
          114,
          143,
          121,
          119,
          108,
          150,
          88,
          105,
          119,
          97,
          96,
          91,
          49,
          95,
          98,
          96,
          83,
          96,
          90,
          97,
          99,
          94,
          90,
          88,
          105,
          118,
          86,
          127,
          88,
          125,
          116,
          102,
          65,
          88,
          106,
          117,
          91,
          93,
          136,
          116,
          121,
          89,
          104,
          65,
          91,
          99,
          91,
          117,
          135,
          135,
          91,
          95,
          75,
          95,
          82,
          124,
          106,
          86,
          115,
          99,
          101,
          142,
          102,
          122,
          95,
          120,
          96,
          92,
          110,
          133,
          143,
          111,
          144,
          121,
          99,
          93,
          100,
          102,
          123,
          127,
          116,
          119,
          105,
          134,
          90,
          93,
          93,
          108,
          115,
          119,
          61,
          109,
          97,
          154,
          120,
          148,
          121,
          95,
          102,
          87,
          114,
          48,
          124,
          101,
          28,
          34,
          61,
          56,
          81,
          68,
          58,
          100,
          50,
          49,
          71,
          29,
          108,
          125,
          72,
          100,
          30,
          30,
          146,
          127,
          46,
          57,
          87,
          90,
          86,
          122,
          97,
          312,
          109,
          122,
          116,
          73,
          96,
          91,
          110,
          115,
          150,
          90,
          89,
          93,
          105,
          105,
          124,
          105,
          44,
          91,
          95,
          78,
          22,
          95,
          82,
          89,
          90,
          94,
          85,
          29,
          96,
          101,
          137,
          27,
          112,
          112,
          107,
          153,
          123,
          90,
          84,
          78,
          79,
          73,
          83,
          83,
          145,
          135,
          109,
          35,
          86,
          68,
          107,
          110,
          86,
          85,
          75,
          90,
          105,
          124,
          110,
          96,
          110,
          58,
          105,
          59,
          28,
          98,
          111,
          116,
          106,
          63,
          109,
          88,
          155,
          119,
          122,
          87,
          73,
          98,
          130,
          99,
          105,
          110,
          81,
          115,
          113,
          146,
          118,
          122,
          109,
          68,
          117,
          23,
          95,
          124,
          90,
          96,
          96,
          123,
          85,
          93,
          30,
          82,
          95,
          127,
          120,
          114,
          119,
          101,
          96,
          120,
          139,
          95,
          44,
          104,
          110,
          91,
          91,
          114,
          91,
          64,
          89,
          95,
          86,
          94,
          133,
          102,
          122,
          86,
          111,
          132,
          111,
          136,
          121,
          76,
          92,
          119,
          45,
          75,
          71,
          81,
          115,
          128,
          92,
          95,
          114,
          99,
          132,
          106,
          122,
          79,
          78,
          111,
          112,
          107,
          102,
          81,
          129,
          90,
          86,
          116,
          59,
          95,
          122,
          98,
          103,
          117,
          95,
          146,
          136,
          91,
          123,
          144,
          103,
          11,
          22,
          126,
          121,
          91,
          158,
          157,
          124,
          106,
          92,
          80,
          94,
          126,
          129,
          133,
          109,
          143,
          140,
          150,
          128,
          120,
          154,
          45,
          132,
          126,
          95,
          91,
          135,
          139,
          131,
          118,
          129,
          131,
          146,
          123,
          141,
          93,
          91,
          58,
          91,
          112,
          119,
          106,
          131,
          95,
          104,
          126,
          118,
          116,
          122,
          105,
          90,
          87,
          102,
          89,
          94,
          100,
          126,
          89,
          90,
          87,
          97,
          115,
          93,
          138,
          74,
          102,
          103,
          119,
          104,
          161,
          51,
          50,
          86,
          140,
          122,
          23,
          95,
          205,
          123,
          190,
          121,
          131,
          80,
          63,
          150,
          159,
          131,
          130,
          99,
          86,
          106,
          57,
          97,
          118,
          98,
          144,
          110,
          96,
          57,
          98,
          119,
          92,
          94,
          151,
          74,
          89,
          124,
          25,
          84,
          121,
          85,
          25,
          121,
          88,
          111,
          81,
          64,
          55,
          137,
          56,
          58,
          80,
          94,
          94,
          72,
          60,
          140,
          91,
          97,
          146,
          118,
          133,
          106,
          128,
          137,
          145,
          141,
          106,
          61,
          135,
          137,
          129,
          99,
          155,
          142,
          214,
          137,
          128,
          89,
          67,
          151,
          121,
          101,
          145,
          147,
          90,
          129,
          129,
          136,
          117,
          74,
          150,
          134,
          100,
          44,
          44,
          111,
          147,
          115,
          121,
          103,
          73,
          129,
          102,
          122,
          155,
          139,
          131,
          127,
          156,
          91,
          132,
          130,
          137,
          132,
          156,
          132,
          119,
          140,
          101,
          126,
          107,
          112,
          111,
          126,
          130,
          126,
          24,
          127,
          108,
          163,
          117,
          95,
          103,
          110,
          111,
          91,
          101,
          124,
          63,
          102,
          103,
          112,
          103,
          92,
          93,
          112,
          113,
          92,
          153,
          111,
          141,
          128,
          52,
          117,
          100,
          112,
          110,
          98,
          107,
          109,
          100,
          114,
          98,
          100,
          100,
          123,
          86,
          77,
          112,
          106,
          106,
          102,
          86,
          146,
          122,
          126,
          116,
          135,
          125,
          96,
          130,
          135,
          88,
          96,
          100,
          122,
          110,
          104,
          96,
          109,
          95,
          110,
          110,
          79,
          101,
          112,
          94,
          94,
          86,
          84,
          95,
          93,
          113,
          111,
          68,
          135,
          95,
          93,
          101,
          98,
          90,
          112,
          141,
          120,
          140,
          87,
          99,
          86,
          104,
          100,
          50,
          124,
          57,
          31,
          90,
          96,
          196,
          93,
          110,
          162,
          139,
          130,
          145,
          88,
          91,
          91,
          102,
          95,
          33,
          119,
          114,
          100,
          54,
          150,
          108,
          90,
          101,
          104,
          88,
          93,
          79,
          92,
          90,
          86,
          90,
          103,
          86,
          108,
          97,
          92,
          101,
          83,
          85,
          85,
          106,
          86,
          131,
          105,
          134,
          85,
          203,
          120,
          91,
          124,
          95,
          12,
          104,
          92,
          143,
          127,
          100,
          74,
          104,
          148,
          127,
          96,
          82,
          158,
          124,
          163,
          74,
          121,
          154,
          127,
          128,
          98,
          124,
          109,
          168,
          89,
          162,
          159,
          137,
          133,
          125,
          127,
          131,
          90,
          89,
          88,
          125,
          88,
          94,
          83,
          89,
          118,
          87,
          105,
          79,
          133,
          147,
          92,
          103,
          119,
          80,
          110,
          128,
          88,
          86,
          70,
          66,
          72,
          122,
          117,
          98,
          126,
          115,
          86,
          108,
          94,
          151,
          88,
          97,
          92,
          102,
          93,
          126,
          82,
          86,
          105,
          101,
          100,
          57,
          95,
          101,
          128,
          99,
          113,
          108,
          105,
          109,
          93,
          82,
          95,
          84,
          106,
          122,
          108,
          94,
          103,
          106,
          124,
          92,
          88,
          68,
          72,
          93,
          102,
          69,
          125,
          99,
          89,
          95,
          92,
          95,
          133,
          112,
          85,
          85,
          84,
          118,
          99,
          109,
          103,
          94,
          105,
          101,
          103,
          86,
          91,
          95,
          99,
          90,
          88,
          85,
          98,
          94,
          71,
          95,
          124,
          108,
          87,
          95,
          108,
          110,
          113,
          71,
          75,
          75,
          97,
          83,
          93,
          66,
          83,
          110,
          88,
          112,
          77,
          91,
          58,
          69,
          61,
          100,
          88,
          128,
          122,
          60,
          126,
          166,
          113,
          88,
          151,
          107,
          42,
          94,
          130,
          87,
          116,
          77,
          117,
          84,
          92,
          130,
          103,
          89,
          109,
          104,
          114,
          133,
          101,
          137,
          88,
          88,
          115,
          120,
          104,
          114,
          128,
          125,
          38,
          102,
          96,
          94,
          69,
          92,
          90,
          101,
          77,
          89,
          90,
          98,
          88,
          49,
          152,
          66,
          103,
          95,
          79,
          89,
          75,
          78,
          89,
          74,
          119,
          70,
          104,
          48,
          121,
          106,
          74,
          106,
          113,
          119,
          82,
          76,
          95,
          100,
          110,
          66,
          99,
          131,
          86,
          118,
          126,
          130,
          99,
          89,
          136,
          131,
          165,
          110,
          85,
          92,
          89,
          117,
          114,
          63,
          94,
          74,
          103,
          58,
          94,
          92,
          104,
          117,
          89,
          87,
          129,
          160,
          66,
          150,
          158,
          118,
          100,
          90,
          64,
          92,
          63,
          105,
          76,
          67,
          99,
          69,
          91,
          92,
          87,
          100,
          113,
          40,
          105,
          94,
          109,
          116,
          99,
          89,
          92,
          82,
          70,
          131,
          105,
          130,
          69,
          98,
          90,
          105,
          106,
          126,
          84,
          65,
          121,
          163,
          92,
          124,
          107,
          19,
          25,
          22,
          40,
          22,
          24,
          103,
          45,
          101,
          60,
          90,
          96,
          98,
          94,
          74,
          112,
          115,
          92,
          93,
          95,
          105,
          117,
          66,
          110,
          97,
          78,
          102,
          62,
          90,
          97,
          105,
          79,
          90,
          129,
          92,
          109,
          77,
          107,
          69,
          87,
          91,
          99,
          105,
          99,
          108,
          66,
          94,
          93,
          75,
          96,
          95,
          32,
          70,
          94,
          117,
          78,
          100,
          91,
          115,
          122,
          107,
          109,
          104,
          95,
          110,
          100,
          93,
          104,
          134,
          75,
          100,
          105,
          104,
          101,
          96,
          80,
          75,
          75,
          79,
          78,
          75,
          78,
          166,
          90,
          132,
          91,
          117,
          103,
          100,
          176,
          91,
          49,
          97,
          116,
          90,
          60,
          149,
          86,
          171,
          103,
          116,
          169,
          134,
          159,
          130,
          103,
          173,
          195,
          111,
          99,
          110,
          32,
          94,
          87,
          103,
          78,
          108,
          62,
          97,
          102,
          95,
          106,
          115,
          76,
          80,
          102,
          99,
          82,
          74,
          100,
          150,
          90,
          75,
          103,
          87,
          88,
          63,
          127,
          129,
          120,
          138,
          129,
          137,
          91,
          103,
          145,
          23,
          25,
          92,
          83,
          81,
          115,
          150,
          106,
          115,
          140,
          79,
          104,
          52,
          90,
          83,
          97,
          85,
          69,
          94,
          121,
          40,
          89,
          94,
          90,
          86,
          100,
          84,
          58,
          95,
          78,
          51,
          69,
          104,
          101,
          59,
          91,
          153,
          61,
          149,
          94,
          79,
          137,
          53,
          166,
          162,
          92,
          93,
          155,
          158,
          138,
          151,
          96,
          106,
          141,
          127,
          130,
          140,
          145,
          132,
          41,
          110,
          170,
          157,
          165,
          114,
          143,
          106,
          73,
          71,
          161,
          187,
          127,
          165,
          117,
          134,
          116,
          94,
          168,
          109,
          148,
          135,
          127,
          115,
          150,
          87,
          127,
          185,
          75,
          177,
          81,
          137,
          118,
          124,
          123,
          90,
          91,
          87,
          89,
          81,
          47,
          46,
          173,
          108,
          125,
          124,
          137,
          171,
          160,
          87,
          110,
          69,
          67,
          92,
          96,
          92,
          85,
          105,
          127,
          109,
          150,
          100,
          73,
          93,
          91,
          87,
          134,
          118,
          85,
          60,
          96,
          133,
          118,
          150,
          132,
          121,
          127,
          152,
          126,
          104,
          162,
          120,
          65,
          133,
          110,
          96,
          95,
          24,
          97,
          94,
          65,
          84,
          91,
          97,
          102,
          93,
          105,
          53,
          116,
          102,
          81,
          93,
          97,
          94,
          90,
          110,
          88,
          80,
          86,
          143,
          84,
          42,
          117,
          96,
          78,
          96,
          69,
          74,
          108,
          91,
          68,
          92,
          102,
          61,
          57,
          85,
          49,
          87,
          85,
          59,
          97,
          104,
          77,
          63,
          69,
          86,
          62,
          108,
          95,
          99,
          62,
          106,
          117,
          60,
          94,
          147,
          94,
          89,
          89,
          89,
          111,
          118,
          153,
          87,
          122,
          97,
          121,
          124,
          68,
          94,
          100,
          71,
          76,
          60,
          89,
          92,
          63,
          135,
          112,
          88,
          97,
          83,
          89,
          86,
          52,
          126,
          133,
          90,
          91,
          104,
          105,
          123,
          89,
          87,
          91,
          102,
          106,
          102,
          91,
          87,
          103,
          193,
          176,
          124,
          135,
          106,
          133,
          107,
          78,
          192,
          55,
          132,
          148,
          46,
          46,
          46,
          74,
          46,
          50,
          114,
          117,
          108,
          97,
          122,
          115,
          104,
          140,
          101,
          99,
          102,
          94,
          92,
          125,
          82,
          151,
          85,
          86,
          93,
          49,
          82,
          100,
          55,
          53,
          87,
          102,
          112,
          105,
          106,
          89,
          91,
          61,
          94,
          93,
          80,
          118,
          141,
          94,
          84,
          103,
          85,
          69,
          100,
          85,
          97,
          129,
          143,
          90,
          92,
          81,
          105,
          91,
          111,
          103,
          118,
          148,
          88,
          75,
          89,
          128,
          86,
          83,
          109,
          111,
          40,
          70,
          108,
          106,
          106,
          81,
          94,
          102,
          102,
          89,
          162,
          147,
          224,
          137,
          109,
          163,
          162,
          104,
          91,
          27,
          67,
          142,
          78,
          26,
          123,
          113,
          92,
          46,
          124,
          81,
          97,
          81,
          119,
          149,
          106,
          140,
          121,
          87,
          99,
          96,
          128,
          76,
          94,
          114,
          101,
          93,
          109,
          51,
          61,
          73,
          113,
          125,
          92,
          94,
          65,
          135,
          86,
          80,
          142,
          131,
          66,
          88,
          99,
          96,
          126,
          65,
          54,
          76,
          100,
          81,
          123,
          144,
          153,
          105,
          103,
          141,
          115,
          120,
          104,
          22,
          97,
          54,
          120,
          132,
          135,
          87,
          82,
          158,
          107,
          122,
          62,
          95,
          98,
          113,
          94,
          120,
          92,
          132,
          84,
          76,
          75,
          93,
          98,
          91,
          48,
          168,
          68,
          97,
          115,
          148,
          149,
          113,
          137,
          140,
          144,
          103,
          90,
          95,
          82,
          94,
          79,
          66,
          135,
          96,
          144,
          108,
          127,
          127,
          90,
          126,
          121,
          119,
          109,
          132,
          118,
          84,
          93,
          96,
          145,
          158,
          132,
          111,
          133,
          143,
          117,
          84,
          107,
          83,
          102,
          52,
          110,
          85,
          113,
          88,
          89,
          59,
          80,
          107,
          106,
          90,
          66,
          92,
          101,
          135,
          107,
          74,
          74,
          74,
          83,
          79,
          72,
          80,
          75,
          75,
          72,
          80,
          93,
          79,
          86,
          107,
          47,
          107,
          119,
          108,
          85,
          90,
          72,
          23,
          68,
          85,
          84,
          118,
          116,
          89,
          81,
          73,
          140,
          130,
          103,
          40,
          103,
          85,
          106,
          104,
          82,
          94,
          81,
          91,
          112,
          102,
          101,
          119,
          62,
          64,
          137,
          108,
          132,
          87,
          92,
          108,
          78,
          40,
          71,
          89,
          99,
          110,
          60,
          90,
          78,
          95,
          58,
          62,
          65,
          61,
          65,
          58,
          60,
          135,
          98,
          96,
          79,
          113,
          90,
          114,
          79,
          98,
          70,
          116,
          139,
          101,
          148,
          54,
          92,
          107,
          90,
          135,
          52,
          151,
          90,
          88,
          99,
          99,
          132,
          95,
          155,
          162,
          163,
          102,
          96,
          85,
          97,
          95,
          83,
          89,
          28,
          103,
          84,
          160,
          113,
          99,
          86,
          83,
          113,
          86,
          78,
          96,
          95,
          57,
          92,
          81,
          98,
          95,
          105,
          116,
          100,
          95,
          70,
          51,
          94,
          83,
          92,
          88,
          104,
          104,
          104,
          124,
          113,
          124,
          96,
          101,
          63,
          56,
          92,
          91,
          94,
          94,
          82,
          100,
          90,
          71,
          97,
          89,
          83,
          98,
          92,
          88,
          62,
          165,
          166,
          166,
          159,
          160,
          159,
          93,
          95,
          22,
          22,
          105,
          101,
          124,
          100,
          54,
          121,
          103,
          129,
          89,
          92,
          111,
          92,
          91,
          172,
          45,
          95,
          80,
          67,
          84,
          97,
          86,
          59,
          58,
          47,
          114,
          103,
          93,
          84,
          67,
          91,
          110,
          110,
          84,
          63,
          94,
          116,
          104,
          143,
          116,
          14,
          89,
          108,
          59,
          99,
          74,
          103,
          105,
          84,
          109,
          96,
          78,
          83,
          89,
          97,
          95,
          106,
          116,
          91,
          90,
          86,
          97,
          170,
          153,
          104,
          162,
          163,
          106,
          108,
          130,
          133,
          148,
          105,
          90,
          79,
          121,
          66,
          102,
          108,
          139,
          91,
          90,
          81,
          96,
          72,
          89,
          92,
          81,
          161,
          92,
          24,
          66,
          100,
          122,
          91,
          81,
          92,
          77,
          104,
          73,
          102,
          82,
          47,
          98,
          102,
          112,
          85,
          108,
          87,
          84,
          107,
          117,
          89,
          119,
          88,
          126,
          130,
          102,
          154,
          44,
          104,
          76,
          96,
          63,
          108,
          105,
          47,
          44,
          109,
          89,
          92,
          122,
          19,
          154,
          152,
          161,
          123,
          44,
          106,
          80,
          71,
          87,
          153,
          98,
          79,
          143,
          123,
          97,
          80,
          73,
          90,
          106,
          101,
          119,
          140,
          59,
          164,
          92,
          151,
          84,
          51,
          142,
          66,
          110,
          99,
          86,
          101,
          88,
          86,
          151,
          116,
          128,
          128,
          86,
          88,
          80,
          61,
          92,
          82,
          81,
          72,
          98,
          64,
          95,
          96,
          111,
          127,
          117,
          123,
          139,
          95,
          148,
          121,
          79,
          127,
          92,
          162,
          163,
          83,
          112,
          117,
          90,
          95,
          99,
          125,
          44,
          93,
          89,
          92,
          120,
          114,
          109,
          83,
          107,
          129,
          135,
          149,
          136,
          138,
          177,
          61,
          126,
          137,
          114,
          104,
          96,
          147,
          107,
          91,
          81,
          53,
          95,
          95,
          149,
          106,
          108,
          66,
          54,
          55,
          55,
          55,
          55,
          113,
          83,
          53,
          102,
          95,
          50,
          97,
          92,
          97,
          105,
          107,
          99,
          101,
          81,
          92,
          131,
          111,
          104,
          99,
          101,
          71,
          96,
          85,
          106,
          119,
          84,
          85,
          110,
          89,
          76,
          74,
          103,
          101,
          98,
          74,
          156,
          88,
          70,
          88,
          93,
          143,
          83,
          90,
          107,
          93,
          99,
          134,
          77,
          78,
          101,
          53,
          81,
          106,
          84,
          51,
          90,
          77,
          95,
          63,
          58,
          59,
          52,
          32,
          18,
          102,
          40,
          42,
          76,
          61,
          82,
          45,
          92,
          118,
          91,
          63,
          110,
          91,
          93,
          93,
          108,
          72,
          114,
          91,
          97,
          118,
          92,
          91,
          137,
          97,
          101,
          143,
          97,
          107,
          168,
          117,
          103,
          80,
          87,
          160,
          88,
          85,
          104,
          62,
          109,
          103,
          99,
          102,
          97,
          99,
          101,
          102,
          102,
          107,
          99,
          106,
          103,
          123,
          98,
          118,
          100,
          101,
          103,
          101,
          104,
          104,
          100,
          136,
          102,
          105,
          24,
          110,
          105,
          105,
          102,
          98,
          118,
          106,
          106,
          92,
          92,
          91,
          83,
          123,
          90,
          57,
          103,
          92,
          52,
          52,
          87,
          56,
          115,
          53,
          94,
          118,
          92,
          98,
          125,
          113,
          110,
          71,
          108,
          123,
          97,
          99,
          97,
          100,
          98,
          75,
          54,
          54,
          55,
          54,
          55,
          67,
          129,
          105,
          78,
          99,
          96,
          95,
          87,
          134,
          119,
          128,
          128,
          91,
          109,
          79,
          88,
          107,
          92,
          88,
          71,
          64,
          83,
          124,
          123,
          97,
          96,
          150,
          91,
          79,
          93,
          54,
          73,
          88,
          109,
          93,
          78,
          86,
          94,
          116,
          154,
          90,
          179,
          93,
          97,
          80,
          88,
          99,
          104,
          94,
          77,
          111,
          108,
          92,
          78,
          87,
          99,
          91,
          37,
          102,
          67,
          57,
          78,
          130,
          80,
          90,
          93,
          66,
          93,
          119,
          90,
          105,
          83,
          96,
          84,
          98,
          91,
          89,
          90,
          89,
          123,
          117,
          100,
          91,
          87,
          146,
          82,
          104,
          85,
          109,
          74,
          94,
          84,
          98,
          82,
          22,
          141,
          95,
          117,
          100,
          75,
          69,
          80,
          97,
          92,
          92,
          85,
          83,
          118,
          84,
          52,
          84,
          146,
          93,
          97,
          90,
          75,
          93,
          62,
          98,
          92,
          22,
          115,
          88,
          87,
          86,
          94,
          105,
          88,
          88,
          86,
          93,
          98,
          29,
          88,
          93,
          81,
          83,
          31,
          83,
          73,
          38,
          108,
          90,
          97,
          81,
          70,
          62,
          104,
          97,
          99,
          96,
          84,
          112,
          90,
          88,
          56,
          89,
          24,
          100,
          116,
          101,
          92,
          79,
          67,
          72,
          96,
          103,
          92,
          61,
          88,
          88,
          113,
          67,
          65,
          62,
          107,
          85,
          69,
          60,
          77,
          98,
          71,
          101,
          64,
          112,
          125,
          125,
          59,
          91,
          44,
          107,
          101,
          93,
          82,
          86,
          81,
          92,
          89,
          107,
          94,
          110,
          81,
          77,
          64,
          111,
          97,
          77,
          94,
          94,
          91,
          93,
          95,
          80,
          95,
          90,
          101,
          73,
          108,
          25,
          86,
          105,
          100,
          96,
          97,
          73,
          44,
          132,
          96,
          92,
          99,
          92,
          99,
          78,
          87,
          65,
          65,
          69,
          64,
          63,
          63,
          89,
          60,
          84,
          93,
          41,
          91,
          83,
          25,
          94,
          102,
          111,
          88,
          93,
          29,
          88,
          103,
          107,
          52,
          91,
          180,
          75,
          92,
          90,
          114,
          80,
          99,
          79,
          66,
          46,
          90,
          72,
          71,
          77,
          70,
          73,
          107,
          81,
          86,
          63,
          44,
          128,
          51,
          45,
          46,
          112,
          87,
          87,
          106,
          100,
          101,
          117,
          114,
          94,
          100,
          96,
          58,
          87,
          81,
          96,
          52,
          114,
          105,
          157,
          84,
          91,
          80,
          97,
          105,
          96,
          60,
          79,
          93,
          95,
          99,
          109,
          96,
          102,
          107,
          60,
          86,
          29,
          163,
          98,
          101,
          91,
          99,
          74,
          66,
          76,
          95,
          127,
          86,
          116,
          82,
          70,
          102,
          88,
          109,
          75,
          23,
          83,
          97,
          62,
          84,
          90,
          82,
          96,
          65,
          92,
          90,
          93,
          91,
          100,
          101,
          103,
          74,
          44,
          43,
          95,
          94,
          68,
          72,
          47,
          52,
          92,
          107,
          108,
          74,
          110,
          24,
          46,
          24,
          55,
          24,
          23,
          24,
          24,
          101,
          29,
          60,
          60,
          78,
          73,
          72,
          60,
          47,
          70,
          77,
          120,
          74,
          57,
          72,
          78,
          91,
          62,
          85,
          85,
          90,
          105,
          59,
          137,
          86,
          135,
          99,
          64,
          72,
          83,
          82,
          90,
          80,
          130,
          62,
          90,
          92,
          155,
          78,
          92,
          60,
          69,
          103,
          92,
          143,
          83,
          78,
          84,
          78,
          93,
          84,
          77,
          58,
          82,
          83,
          100,
          29,
          72,
          26,
          48,
          73,
          103,
          81,
          75,
          100,
          90,
          68,
          71,
          71,
          100,
          94,
          80,
          78,
          35,
          72,
          93,
          105,
          130,
          100,
          44,
          80,
          72,
          75,
          26,
          84,
          120,
          76,
          95,
          96,
          94,
          94,
          93,
          96,
          94,
          94,
          93,
          95,
          93,
          75,
          103,
          84,
          29,
          104,
          81
         ],
         "xaxis": "x",
         "y": [
          "a",
          "a",
          "a",
          "a",
          "a",
          "a",
          "a",
          "a",
          "a",
          "a",
          "a",
          "a",
          "a",
          "a",
          "a",
          "a",
          "a",
          "a",
          "a",
          "a",
          "a",
          "a",
          "a",
          "a",
          "a",
          "a",
          "a",
          "a",
          "a",
          "a",
          "a",
          "a",
          "a",
          "a",
          "a",
          "a",
          "a",
          "a",
          "a",
          "a",
          "a",
          "a",
          "a",
          "a",
          "a",
          "a",
          "a",
          "a",
          "a",
          "a",
          "a",
          "a",
          "a",
          "a",
          "a",
          "a",
          "a",
          "a",
          "a",
          "a",
          "a",
          "a",
          "a",
          "a",
          "a",
          "a",
          "a",
          "a",
          "a",
          "a",
          "a",
          "a",
          "a",
          "a",
          "a",
          "a",
          "a",
          "a",
          "a",
          "a",
          "a",
          "a",
          "a",
          "a",
          "a",
          "a",
          "a",
          "a",
          "a",
          "a",
          "a",
          "a",
          "a",
          "a",
          "a",
          "a",
          "a",
          "a",
          "a",
          "a",
          "a",
          "a",
          "a",
          "a",
          "a",
          "a",
          "a",
          "a",
          "a",
          "a",
          "a",
          "a",
          "a",
          "a",
          "a",
          "a",
          "a",
          "a",
          "a",
          "a",
          "a",
          "a",
          "a",
          "a",
          "a",
          "a",
          "a",
          "a",
          "a",
          "a",
          "a",
          "a",
          "a",
          "a",
          "a",
          "a",
          "a",
          "a",
          "a",
          "a",
          "a",
          "a",
          "a",
          "a",
          "a",
          "a",
          "a",
          "a",
          "a",
          "a",
          "a",
          "a",
          "a",
          "a",
          "a",
          "a",
          "a",
          "a",
          "a",
          "a",
          "a",
          "a",
          "a",
          "a",
          "a",
          "a",
          "a",
          "a",
          "a",
          "a",
          "a",
          "a",
          "a",
          "a",
          "a",
          "a",
          "a",
          "a",
          "a",
          "a",
          "a",
          "a",
          "a",
          "a",
          "a",
          "a",
          "a",
          "a",
          "a",
          "a",
          "a",
          "a",
          "a",
          "a",
          "a",
          "a",
          "a",
          "a",
          "a",
          "a",
          "a",
          "a",
          "a",
          "a",
          "a",
          "a",
          "a",
          "a",
          "a",
          "a",
          "a",
          "a",
          "a",
          "a",
          "a",
          "a",
          "a",
          "a",
          "a",
          "a",
          "a",
          "a",
          "a",
          "a",
          "a",
          "a",
          "a",
          "a",
          "a",
          "a",
          "a",
          "a",
          "a",
          "a",
          "a",
          "a",
          "a",
          "a",
          "a",
          "a",
          "a",
          "a",
          "a",
          "a",
          "a",
          "a",
          "a",
          "a",
          "a",
          "a",
          "a",
          "a",
          "a",
          "a",
          "a",
          "a",
          "a",
          "a",
          "a",
          "a",
          "a",
          "a",
          "a",
          "a",
          "a",
          "a",
          "a",
          "a",
          "a",
          "a",
          "a",
          "a",
          "a",
          "a",
          "a",
          "a",
          "a",
          "a",
          "a",
          "a",
          "a",
          "a",
          "a",
          "a",
          "a",
          "a",
          "a",
          "a",
          "a",
          "a",
          "a",
          "a",
          "a",
          "a",
          "a",
          "a",
          "a",
          "a",
          "a",
          "a",
          "a",
          "a",
          "a",
          "a",
          "a",
          "a",
          "a",
          "a",
          "a",
          "a",
          "a",
          "a",
          "a",
          "a",
          "a",
          "a",
          "a",
          "a",
          "a",
          "a",
          "a",
          "a",
          "a",
          "a",
          "a",
          "a",
          "a",
          "a",
          "a",
          "a",
          "a",
          "a",
          "a",
          "a",
          "a",
          "a",
          "a",
          "a",
          "a",
          "a",
          "a",
          "a",
          "a",
          "a",
          "a",
          "a",
          "a",
          "a",
          "a",
          "a",
          "a",
          "a",
          "a",
          "a",
          "a",
          "a",
          "a",
          "a",
          "a",
          "a",
          "a",
          "a",
          "a",
          "a",
          "a",
          "a",
          "a",
          "a",
          "a",
          "a",
          "a",
          "a",
          "a",
          "a",
          "a",
          "a",
          "a",
          "a",
          "a",
          "a",
          "a",
          "a",
          "a",
          "a",
          "a",
          "a",
          "a",
          "a",
          "a",
          "a",
          "a",
          "a",
          "a",
          "a",
          "a",
          "a",
          "a",
          "a",
          "a",
          "a",
          "a",
          "a",
          "a",
          "a",
          "a",
          "a",
          "a",
          "a",
          "a",
          "a",
          "a",
          "a",
          "a",
          "a",
          "a",
          "a",
          "a",
          "a",
          "a",
          "a",
          "a",
          "a",
          "a",
          "a",
          "a",
          "a",
          "a",
          "a",
          "a",
          "a",
          "a",
          "a",
          "a",
          "a",
          "a",
          "a",
          "a",
          "a",
          "a",
          "a",
          "a",
          "a",
          "a",
          "a",
          "a",
          "a",
          "a",
          "a",
          "a",
          "a",
          "a",
          "a",
          "a",
          "a",
          "a",
          "a",
          "a",
          "a",
          "a",
          "a",
          "a",
          "a",
          "a",
          "a",
          "a",
          "a",
          "a",
          "a",
          "a",
          "a",
          "a",
          "a",
          "a",
          "a",
          "a",
          "a",
          "a",
          "a",
          "a",
          "a",
          "a",
          "a",
          "a",
          "a",
          "a",
          "a",
          "a",
          "a",
          "a",
          "a",
          "a",
          "a",
          "a",
          "a",
          "a",
          "a",
          "a",
          "a",
          "a",
          "a",
          "a",
          "a",
          "a",
          "a",
          "a",
          "a",
          "a",
          "a",
          "a",
          "a",
          "a",
          "a",
          "a",
          "a",
          "a",
          "a",
          "a",
          "a",
          "a",
          "a",
          "a",
          "a",
          "a",
          "a",
          "a",
          "a",
          "a",
          "a",
          "a",
          "a",
          "a",
          "a",
          "a",
          "a",
          "a",
          "a",
          "a",
          "a",
          "a",
          "a",
          "a",
          "a",
          "a",
          "a",
          "a",
          "a",
          "a",
          "a",
          "a",
          "a",
          "a",
          "a",
          "a",
          "a",
          "a",
          "a",
          "a",
          "a",
          "a",
          "a",
          "a",
          "a",
          "a",
          "a",
          "a",
          "a",
          "a",
          "a",
          "a",
          "a",
          "a",
          "a",
          "a",
          "a",
          "a",
          "a",
          "a",
          "a",
          "a",
          "a",
          "a",
          "a",
          "a",
          "a",
          "a",
          "a",
          "a",
          "a",
          "a",
          "a",
          "a",
          "a",
          "a",
          "a",
          "a",
          "a",
          "a",
          "a",
          "a",
          "a",
          "a",
          "a",
          "a",
          "a",
          "a",
          "a",
          "a",
          "a",
          "a",
          "a",
          "a",
          "a",
          "a",
          "a",
          "a",
          "a",
          "a",
          "a",
          "a",
          "a",
          "a",
          "a",
          "a",
          "a",
          "a",
          "a",
          "a",
          "a",
          "a",
          "a",
          "a",
          "a",
          "a",
          "a",
          "a",
          "a",
          "a",
          "a",
          "a",
          "a",
          "a",
          "a",
          "a",
          "a",
          "a",
          "a",
          "a",
          "a",
          "a",
          "a",
          "a",
          "a",
          "a",
          "a",
          "a",
          "a",
          "a",
          "a",
          "a",
          "a",
          "a",
          "a",
          "a",
          "a",
          "a",
          "a",
          "a",
          "a",
          "a",
          "a",
          "a",
          "a",
          "a",
          "a",
          "a",
          "a",
          "a",
          "a",
          "a",
          "a",
          "a",
          "a",
          "a",
          "a",
          "a",
          "a",
          "a",
          "a",
          "a",
          "a",
          "a",
          "a",
          "a",
          "a",
          "a",
          "a",
          "a",
          "a",
          "a",
          "a",
          "a",
          "a",
          "a",
          "a",
          "a",
          "a",
          "a",
          "a",
          "a",
          "a",
          "a",
          "a",
          "a",
          "a",
          "a",
          "a",
          "a",
          "a",
          "a",
          "a",
          "a",
          "a",
          "a",
          "a",
          "a",
          "a",
          "a",
          "a",
          "a",
          "a",
          "a",
          "a",
          "a",
          "a",
          "a",
          "a",
          "a",
          "a",
          "a",
          "a",
          "a",
          "a",
          "a",
          "a",
          "a",
          "a",
          "a",
          "a",
          "a",
          "a",
          "a",
          "a",
          "a",
          "a",
          "a",
          "a",
          "a",
          "a",
          "a",
          "a",
          "a",
          "a",
          "a",
          "a",
          "a",
          "a",
          "a",
          "a",
          "a",
          "a",
          "a",
          "a",
          "a",
          "a",
          "a",
          "a",
          "a",
          "a",
          "a",
          "a",
          "a",
          "a",
          "a",
          "a",
          "a",
          "a",
          "a",
          "a",
          "a",
          "a",
          "a",
          "a",
          "a",
          "a",
          "a",
          "a",
          "a",
          "a",
          "a",
          "a",
          "a",
          "a",
          "a",
          "a",
          "a",
          "a",
          "a",
          "a",
          "a",
          "a",
          "a",
          "a",
          "a",
          "a",
          "a",
          "a",
          "a",
          "a",
          "a",
          "a",
          "a",
          "a",
          "a",
          "a",
          "a",
          "a",
          "a",
          "a",
          "a",
          "a",
          "a",
          "a",
          "a",
          "a",
          "a",
          "a",
          "a",
          "a",
          "a",
          "a",
          "a",
          "a",
          "a",
          "a",
          "a",
          "a",
          "a",
          "a",
          "a",
          "a",
          "a",
          "a",
          "a",
          "a",
          "a",
          "a",
          "a",
          "a",
          "a",
          "a",
          "a",
          "a",
          "a",
          "a",
          "a",
          "a",
          "a",
          "a",
          "a",
          "a",
          "a",
          "a",
          "a",
          "a",
          "a",
          "a",
          "a",
          "a",
          "a",
          "a",
          "a",
          "a",
          "a",
          "a",
          "a",
          "a",
          "a",
          "a",
          "a",
          "a",
          "a",
          "a",
          "a",
          "a",
          "a",
          "a",
          "a",
          "a",
          "a",
          "a",
          "a",
          "a",
          "a",
          "a",
          "a",
          "a",
          "a",
          "a",
          "a",
          "a",
          "a",
          "a",
          "a",
          "a",
          "a",
          "a",
          "a",
          "a",
          "a",
          "a",
          "a",
          "a",
          "a",
          "a",
          "a",
          "a",
          "a",
          "a",
          "a",
          "a",
          "a",
          "a",
          "a",
          "a",
          "a",
          "a",
          "a",
          "a",
          "a",
          "a",
          "a",
          "a",
          "a",
          "a",
          "a",
          "a",
          "a",
          "a",
          "a",
          "a",
          "a",
          "a",
          "a",
          "a",
          "a",
          "a",
          "a",
          "a",
          "a",
          "a",
          "a",
          "a",
          "a",
          "a",
          "a",
          "a",
          "a",
          "a",
          "a",
          "a",
          "a",
          "a",
          "a",
          "a",
          "a",
          "a",
          "a",
          "a",
          "a",
          "a",
          "a",
          "a",
          "a",
          "a",
          "a",
          "a",
          "a",
          "a",
          "a",
          "a",
          "a",
          "a",
          "a",
          "a",
          "a",
          "a",
          "a",
          "a",
          "a",
          "a",
          "a",
          "a",
          "a",
          "a",
          "a",
          "a",
          "a",
          "a",
          "a",
          "a",
          "a",
          "a",
          "a",
          "a",
          "a",
          "a",
          "a",
          "a",
          "a",
          "a",
          "a",
          "a",
          "a",
          "a",
          "a",
          "a",
          "a",
          "a",
          "a",
          "a",
          "a",
          "a",
          "a",
          "a",
          "a",
          "a",
          "a",
          "a",
          "a",
          "a",
          "a",
          "a",
          "a",
          "a",
          "a",
          "a",
          "a",
          "a",
          "a",
          "a",
          "a",
          "a",
          "a",
          "a",
          "a",
          "a",
          "a",
          "a",
          "a",
          "a",
          "a",
          "a",
          "a",
          "a",
          "a",
          "a",
          "a",
          "a",
          "a",
          "a",
          "a",
          "a",
          "a",
          "a",
          "a",
          "a",
          "a",
          "a",
          "a",
          "a",
          "a",
          "a",
          "a",
          "a",
          "a",
          "a",
          "a",
          "a",
          "a",
          "a",
          "a",
          "a",
          "a",
          "a",
          "a",
          "a",
          "a",
          "a",
          "a",
          "a",
          "a",
          "a",
          "a",
          "a",
          "a",
          "a",
          "a",
          "a",
          "a",
          "a",
          "a",
          "a",
          "a",
          "a",
          "a",
          "a",
          "a",
          "a",
          "a",
          "a",
          "a",
          "a",
          "a",
          "a",
          "a",
          "a",
          "a",
          "a",
          "a",
          "a",
          "a",
          "a",
          "a",
          "a",
          "a",
          "a",
          "a",
          "a",
          "a",
          "a",
          "a",
          "a",
          "a",
          "a",
          "a",
          "a",
          "a",
          "a",
          "a",
          "a",
          "a",
          "a",
          "a",
          "a",
          "a",
          "a",
          "a",
          "a",
          "a",
          "a",
          "a",
          "a",
          "a",
          "a",
          "a",
          "a",
          "a",
          "a",
          "a",
          "a",
          "a",
          "a",
          "a",
          "a",
          "a",
          "a",
          "a",
          "a",
          "a",
          "a",
          "a",
          "a",
          "a",
          "a",
          "a",
          "a",
          "a",
          "a",
          "a",
          "a",
          "a",
          "a",
          "a",
          "a",
          "a",
          "a",
          "a",
          "a",
          "a",
          "a",
          "a",
          "a",
          "a",
          "a",
          "a",
          "a",
          "a",
          "a",
          "a",
          "a",
          "a",
          "a",
          "a",
          "a",
          "a",
          "a",
          "a",
          "a",
          "a",
          "a",
          "a",
          "a",
          "a",
          "a",
          "a",
          "a",
          "a",
          "a",
          "a",
          "a",
          "a",
          "a",
          "a",
          "a",
          "a",
          "a",
          "a",
          "a",
          "a",
          "a",
          "a",
          "a",
          "a",
          "a",
          "a",
          "a",
          "a",
          "a",
          "a",
          "a",
          "a",
          "a",
          "a",
          "a",
          "a",
          "a",
          "a",
          "a",
          "a",
          "a",
          "a",
          "a",
          "a",
          "a",
          "a",
          "a",
          "a",
          "a",
          "a",
          "a",
          "a",
          "a",
          "a",
          "a",
          "a",
          "a",
          "a",
          "a",
          "a",
          "a",
          "a",
          "a",
          "a",
          "a",
          "a",
          "a",
          "a",
          "a",
          "a",
          "a",
          "a",
          "a",
          "a",
          "a",
          "a",
          "a",
          "a",
          "a",
          "a",
          "a",
          "a",
          "a",
          "a",
          "a",
          "a",
          "a",
          "a",
          "a",
          "a",
          "a",
          "a",
          "a",
          "a",
          "a",
          "a",
          "a",
          "a",
          "a",
          "a",
          "a",
          "a",
          "a",
          "a",
          "a",
          "a",
          "a",
          "a",
          "a",
          "a",
          "a",
          "a",
          "a",
          "a",
          "a",
          "a",
          "a",
          "a",
          "a",
          "a",
          "a",
          "a",
          "a",
          "a",
          "a",
          "a",
          "a",
          "a",
          "a",
          "a",
          "a",
          "a",
          "a",
          "a",
          "a",
          "a",
          "a",
          "a",
          "a",
          "a",
          "a",
          "a",
          "a",
          "a",
          "a",
          "a",
          "a",
          "a",
          "a",
          "a",
          "a",
          "a",
          "a",
          "a",
          "a",
          "a",
          "a",
          "a",
          "a",
          "a",
          "a",
          "a",
          "a",
          "a",
          "a",
          "a",
          "a",
          "a",
          "a",
          "a",
          "a",
          "a",
          "a",
          "a",
          "a",
          "a",
          "a",
          "a",
          "a",
          "a",
          "a",
          "a",
          "a",
          "a",
          "a",
          "a",
          "a",
          "a",
          "a",
          "a",
          "a",
          "a",
          "a",
          "a",
          "a",
          "a",
          "a",
          "a",
          "a",
          "a",
          "a",
          "a",
          "a",
          "a",
          "a",
          "a",
          "a",
          "a",
          "a",
          "a",
          "a",
          "a",
          "a",
          "a",
          "a",
          "a",
          "a",
          "a",
          "a",
          "a",
          "a",
          "a",
          "a",
          "a",
          "a",
          "a",
          "a",
          "a",
          "a",
          "a",
          "a",
          "a",
          "a",
          "a",
          "a",
          "a",
          "a",
          "a",
          "a",
          "a",
          "a",
          "a",
          "a",
          "a",
          "a",
          "a",
          "a",
          "a",
          "a",
          "a",
          "a",
          "a",
          "a",
          "a",
          "a",
          "a",
          "a",
          "a",
          "a",
          "a",
          "a",
          "a",
          "a",
          "a",
          "a",
          "a",
          "a",
          "a",
          "a",
          "a",
          "a",
          "a",
          "a",
          "a",
          "a",
          "a",
          "a",
          "a",
          "a",
          "a",
          "a",
          "a",
          "a",
          "a",
          "a",
          "a",
          "a",
          "a",
          "a",
          "a",
          "a",
          "a",
          "a",
          "a",
          "a",
          "a",
          "a",
          "a",
          "a",
          "a",
          "a",
          "a",
          "a",
          "a",
          "a",
          "a",
          "a",
          "a",
          "a",
          "a",
          "a",
          "a",
          "a",
          "a",
          "a",
          "a",
          "a",
          "a",
          "a",
          "a",
          "a",
          "a",
          "a",
          "a",
          "a",
          "a",
          "a",
          "a",
          "a",
          "a",
          "a",
          "a",
          "a",
          "a",
          "a",
          "a",
          "a",
          "a",
          "a",
          "a",
          "a",
          "a",
          "a",
          "a",
          "a",
          "a",
          "a",
          "a",
          "a",
          "a",
          "a",
          "a",
          "a",
          "a",
          "a",
          "a",
          "a",
          "a",
          "a",
          "a",
          "a",
          "a",
          "a",
          "a",
          "a",
          "a",
          "a",
          "a",
          "a",
          "a",
          "a",
          "a",
          "a",
          "a",
          "a",
          "a",
          "a",
          "a",
          "a",
          "a",
          "a",
          "a",
          "a",
          "a",
          "a",
          "a",
          "a",
          "a",
          "a",
          "a",
          "a",
          "a",
          "a",
          "a",
          "a",
          "a",
          "a",
          "a",
          "a",
          "a",
          "a",
          "a",
          "a",
          "a",
          "a",
          "a",
          "a",
          "a",
          "a",
          "a",
          "a",
          "a",
          "a",
          "a",
          "a",
          "a",
          "a",
          "a",
          "a",
          "a",
          "a",
          "a",
          "a",
          "a",
          "a",
          "a",
          "a",
          "a",
          "a",
          "a",
          "a",
          "a",
          "a",
          "a",
          "a",
          "a",
          "a",
          "a",
          "a",
          "a",
          "a",
          "a",
          "a",
          "a",
          "a",
          "a",
          "a",
          "a",
          "a",
          "a",
          "a",
          "a",
          "a",
          "a",
          "a",
          "a",
          "a",
          "a",
          "a",
          "a",
          "a",
          "a",
          "a",
          "a",
          "a",
          "a",
          "a",
          "a",
          "a",
          "a",
          "a",
          "a",
          "a",
          "a",
          "a",
          "a",
          "a",
          "a",
          "a",
          "a",
          "a",
          "a",
          "a",
          "a",
          "a",
          "a",
          "a",
          "a",
          "a",
          "a",
          "a",
          "a",
          "a",
          "a",
          "a",
          "a",
          "a",
          "a",
          "a",
          "a",
          "a",
          "a",
          "a",
          "a",
          "a",
          "a",
          "a",
          "a",
          "a",
          "a",
          "a",
          "a",
          "a",
          "a",
          "a",
          "a",
          "a",
          "a",
          "a",
          "a",
          "a",
          "a",
          "a",
          "a",
          "a",
          "a",
          "a",
          "a",
          "a",
          "a",
          "a",
          "a",
          "a",
          "a",
          "a",
          "a",
          "a",
          "a",
          "a",
          "a",
          "a",
          "a",
          "a",
          "a",
          "a",
          "a",
          "a",
          "a",
          "a",
          "a",
          "a",
          "a",
          "a",
          "a",
          "a",
          "a",
          "a",
          "a",
          "a",
          "a",
          "a",
          "a",
          "a",
          "a",
          "a",
          "a",
          "a",
          "a",
          "a",
          "a",
          "a",
          "a",
          "a",
          "a",
          "a",
          "a",
          "a",
          "a",
          "a",
          "a",
          "a",
          "a",
          "a",
          "a",
          "a",
          "a",
          "a",
          "a",
          "a",
          "a",
          "a",
          "a",
          "a",
          "a",
          "a",
          "a",
          "a",
          "a",
          "a",
          "a",
          "a",
          "a",
          "a",
          "a",
          "a",
          "a",
          "a",
          "a",
          "a",
          "a",
          "a",
          "a",
          "a",
          "a",
          "a",
          "a",
          "a",
          "a",
          "a",
          "a",
          "a",
          "a",
          "a",
          "a",
          "a",
          "a",
          "a",
          "a",
          "a",
          "a",
          "a",
          "a",
          "a",
          "a",
          "a",
          "a",
          "a",
          "a",
          "a",
          "a",
          "a",
          "a",
          "a",
          "a",
          "a",
          "a",
          "a",
          "a",
          "a",
          "a",
          "a",
          "a",
          "a",
          "a",
          "a",
          "a",
          "a",
          "a",
          "a",
          "a",
          "a",
          "a",
          "a",
          "a",
          "a",
          "a",
          "a",
          "a",
          "a",
          "a",
          "a",
          "a",
          "a",
          "a",
          "a",
          "a",
          "a",
          "a",
          "a",
          "a",
          "a",
          "a",
          "a",
          "a",
          "a",
          "a",
          "a",
          "a",
          "a",
          "a",
          "a",
          "a",
          "a",
          "a",
          "a",
          "a",
          "a",
          "a",
          "a",
          "a",
          "a",
          "a",
          "a",
          "a",
          "a",
          "a",
          "a",
          "a",
          "a",
          "a",
          "a",
          "a",
          "a",
          "a",
          "a",
          "a",
          "a",
          "a",
          "a",
          "a",
          "a",
          "a",
          "a",
          "a",
          "a",
          "a",
          "a",
          "a",
          "a",
          "a",
          "a",
          "a",
          "a",
          "a",
          "a",
          "a",
          "a",
          "a",
          "a",
          "a",
          "a",
          "a",
          "a",
          "a",
          "a",
          "a",
          "a",
          "a",
          "a",
          "a",
          "a",
          "a",
          "a",
          "a",
          "a",
          "a",
          "a",
          "a",
          "a",
          "a",
          "a",
          "a",
          "a",
          "a",
          "a",
          "a",
          "a",
          "a",
          "a",
          "a",
          "a",
          "a",
          "a",
          "a",
          "a",
          "a",
          "a",
          "a",
          "a",
          "a",
          "a",
          "a",
          "a",
          "a",
          "a",
          "a",
          "a",
          "a",
          "a",
          "a",
          "a",
          "a",
          "a",
          "a",
          "a",
          "a",
          "a",
          "a",
          "a",
          "a",
          "a",
          "a",
          "a",
          "a",
          "a",
          "a",
          "a",
          "a",
          "a",
          "a",
          "a",
          "a",
          "a",
          "a",
          "a",
          "a",
          "a",
          "a",
          "a",
          "a",
          "a",
          "a",
          "a",
          "a",
          "a",
          "a",
          "a",
          "a",
          "a",
          "a",
          "a",
          "a",
          "a",
          "a",
          "a",
          "a",
          "a",
          "a",
          "a",
          "a",
          "a",
          "a",
          "a",
          "a",
          "a",
          "a",
          "a",
          "a",
          "a",
          "a",
          "a",
          "a",
          "a",
          "a",
          "a",
          "a",
          "a",
          "a",
          "a",
          "a",
          "a",
          "a",
          "a",
          "a",
          "a",
          "a",
          "a",
          "a",
          "a",
          "a",
          "a",
          "a",
          "a",
          "a",
          "a",
          "a",
          "a",
          "a",
          "a",
          "a",
          "a",
          "a",
          "a",
          "a",
          "a",
          "a",
          "a",
          "a",
          "a",
          "a",
          "a",
          "a",
          "a",
          "a",
          "a",
          "a",
          "a",
          "a",
          "a",
          "a",
          "a",
          "a",
          "a",
          "a",
          "a",
          "a",
          "a",
          "a",
          "a",
          "a",
          "a",
          "a",
          "a",
          "a",
          "a",
          "a",
          "a",
          "a",
          "a",
          "a",
          "a",
          "a",
          "a",
          "a",
          "a",
          "a",
          "a",
          "a",
          "a",
          "a",
          "a",
          "a",
          "a",
          "a",
          "a",
          "a",
          "a",
          "a",
          "a",
          "a",
          "a",
          "a",
          "a",
          "a",
          "a",
          "a",
          "a",
          "a",
          "a",
          "a",
          "a",
          "a",
          "a",
          "a",
          "a",
          "a",
          "a",
          "a",
          "a",
          "a",
          "a",
          "a",
          "a",
          "a",
          "a",
          "a",
          "a",
          "a",
          "a",
          "a",
          "a",
          "a",
          "a",
          "a",
          "a",
          "a",
          "a",
          "a",
          "a",
          "a",
          "a",
          "a",
          "a",
          "a",
          "a",
          "a",
          "a",
          "a",
          "a",
          "a",
          "a",
          "a",
          "a",
          "a",
          "a",
          "a",
          "a",
          "a",
          "a",
          "a",
          "a",
          "a",
          "a",
          "a",
          "a",
          "a",
          "a",
          "a",
          "a",
          "a",
          "a",
          "a",
          "a",
          "a",
          "a",
          "a",
          "a",
          "a",
          "a",
          "a",
          "a",
          "a",
          "a",
          "a",
          "a",
          "a",
          "a",
          "a",
          "a",
          "a",
          "a",
          "a",
          "a",
          "a",
          "a",
          "a",
          "a",
          "a",
          "a",
          "a",
          "a",
          "a",
          "a",
          "a",
          "a",
          "a",
          "a",
          "a",
          "a",
          "a",
          "a",
          "a",
          "a",
          "a",
          "a",
          "a",
          "a",
          "a",
          "a",
          "a",
          "a",
          "a",
          "a",
          "a",
          "a",
          "a",
          "a",
          "a",
          "a",
          "a",
          "a",
          "a",
          "a",
          "a",
          "a",
          "a",
          "a",
          "a",
          "a",
          "a",
          "a",
          "a",
          "a",
          "a",
          "a",
          "a",
          "a",
          "a",
          "a",
          "a",
          "a",
          "a",
          "a",
          "a",
          "a",
          "a",
          "a",
          "a",
          "a",
          "a",
          "a",
          "a",
          "a",
          "a",
          "a",
          "a",
          "a",
          "a",
          "a",
          "a",
          "a",
          "a",
          "a",
          "a",
          "a",
          "a",
          "a",
          "a",
          "a",
          "a",
          "a",
          "a",
          "a",
          "a",
          "a",
          "a",
          "a",
          "a",
          "a",
          "a",
          "a",
          "a",
          "a",
          "a",
          "a",
          "a",
          "a",
          "a",
          "a",
          "a",
          "a",
          "a",
          "a",
          "a",
          "a",
          "a",
          "a",
          "a",
          "a",
          "a",
          "a",
          "a",
          "a",
          "a",
          "a",
          "a",
          "a",
          "a",
          "a",
          "a",
          "a",
          "a",
          "a",
          "a",
          "a",
          "a",
          "a",
          "a",
          "a",
          "a",
          "a",
          "a",
          "a",
          "a",
          "a",
          "a",
          "a",
          "a",
          "a",
          "a",
          "a",
          "a",
          "a",
          "a",
          "a",
          "a",
          "a",
          "a",
          "a",
          "a",
          "a",
          "a",
          "a",
          "a",
          "a",
          "a",
          "a",
          "a",
          "a",
          "a",
          "a",
          "a",
          "a",
          "a",
          "a",
          "a",
          "a",
          "a",
          "a",
          "a",
          "a",
          "a",
          "a",
          "a",
          "a",
          "a",
          "a",
          "a",
          "a",
          "a",
          "a",
          "a",
          "a",
          "a",
          "a",
          "a",
          "a",
          "a",
          "a",
          "a",
          "a",
          "a",
          "a",
          "a",
          "a",
          "a",
          "a",
          "a",
          "a",
          "a",
          "a",
          "a",
          "a",
          "a",
          "a",
          "a",
          "a",
          "a",
          "a",
          "a",
          "a",
          "a",
          "a",
          "a",
          "a",
          "a",
          "a",
          "a",
          "a",
          "a",
          "a",
          "a",
          "a",
          "a",
          "a",
          "a",
          "a",
          "a",
          "a",
          "a",
          "a",
          "a",
          "a",
          "a",
          "a",
          "a",
          "a",
          "a",
          "a",
          "a",
          "a",
          "a",
          "a",
          "a",
          "a",
          "a",
          "a",
          "a",
          "a",
          "a",
          "a",
          "a",
          "a",
          "a",
          "a",
          "a",
          "a",
          "a",
          "a",
          "a",
          "a",
          "a",
          "a",
          "a",
          "a",
          "a",
          "a",
          "a",
          "a",
          "a",
          "a",
          "a",
          "a",
          "a",
          "a",
          "a",
          "a",
          "a",
          "a",
          "a",
          "a",
          "a",
          "a",
          "a",
          "a",
          "a",
          "a",
          "a",
          "a",
          "a",
          "a",
          "a",
          "a",
          "a",
          "a",
          "a",
          "a",
          "a",
          "a",
          "a",
          "a",
          "a",
          "a",
          "a",
          "a",
          "a",
          "a",
          "a",
          "a",
          "a",
          "a",
          "a",
          "a",
          "a",
          "a",
          "a",
          "a",
          "a",
          "a",
          "a",
          "a",
          "a",
          "a",
          "a",
          "a",
          "a",
          "a",
          "a",
          "a",
          "a",
          "a",
          "a",
          "a",
          "a",
          "a",
          "a",
          "a",
          "a",
          "a",
          "a",
          "a",
          "a",
          "a",
          "a",
          "a",
          "a",
          "a",
          "a",
          "a",
          "a",
          "a",
          "a",
          "a",
          "a",
          "a",
          "a",
          "a",
          "a",
          "a",
          "a",
          "a",
          "a",
          "a",
          "a",
          "a",
          "a",
          "a",
          "a",
          "a",
          "a",
          "a",
          "a",
          "a",
          "a",
          "a",
          "a",
          "a",
          "a",
          "a",
          "a",
          "a",
          "a",
          "a",
          "a",
          "a",
          "a",
          "a",
          "a",
          "a",
          "a",
          "a",
          "a",
          "a",
          "a",
          "a",
          "a",
          "a",
          "a",
          "a",
          "a",
          "a",
          "a",
          "a",
          "a",
          "a",
          "a",
          "a",
          "a",
          "a",
          "a",
          "a",
          "a",
          "a",
          "a",
          "a",
          "a",
          "a",
          "a",
          "a",
          "a",
          "a",
          "a",
          "a",
          "a",
          "a",
          "a",
          "a",
          "a",
          "a",
          "a",
          "a",
          "a",
          "a",
          "a",
          "a",
          "a",
          "a",
          "a",
          "a",
          "a",
          "a",
          "a",
          "a",
          "a",
          "a",
          "a",
          "a",
          "a",
          "a",
          "a",
          "a",
          "a",
          "a",
          "a",
          "a",
          "a",
          "a",
          "a",
          "a",
          "a",
          "a",
          "a",
          "a",
          "a",
          "a",
          "a",
          "a",
          "a",
          "a",
          "a",
          "a",
          "a",
          "a",
          "a",
          "a",
          "a",
          "a",
          "a",
          "a",
          "a",
          "a",
          "a",
          "a",
          "a",
          "a",
          "a",
          "a",
          "a",
          "a",
          "a",
          "a",
          "a",
          "a",
          "a",
          "a",
          "a",
          "a",
          "a",
          "a",
          "a",
          "a",
          "a",
          "a",
          "a",
          "a",
          "a",
          "a",
          "a",
          "a",
          "a",
          "a",
          "a",
          "a",
          "a",
          "a",
          "a",
          "a",
          "a",
          "a",
          "a",
          "a",
          "a",
          "a",
          "a",
          "a",
          "a",
          "a",
          "a",
          "a",
          "a",
          "a",
          "a",
          "a",
          "a",
          "a",
          "a",
          "a",
          "a",
          "a",
          "a",
          "a",
          "a",
          "a",
          "a",
          "a",
          "a",
          "a",
          "a",
          "a",
          "a",
          "a",
          "a",
          "a",
          "a",
          "a",
          "a",
          "a",
          "a",
          "a",
          "a",
          "a",
          "a",
          "a",
          "a",
          "a",
          "a",
          "a",
          "a",
          "a",
          "a",
          "a",
          "a",
          "a",
          "a",
          "a",
          "a",
          "a",
          "a",
          "a",
          "a",
          "a",
          "a",
          "a",
          "a",
          "a",
          "a",
          "a",
          "a",
          "a",
          "a",
          "a",
          "a",
          "a",
          "a",
          "a",
          "a",
          "a",
          "a",
          "a",
          "a",
          "a",
          "a",
          "a",
          "a",
          "a",
          "a",
          "a",
          "a",
          "a",
          "a",
          "a",
          "a",
          "a",
          "a",
          "a",
          "a",
          "a",
          "a",
          "a",
          "a",
          "a",
          "a",
          "a",
          "a",
          "a",
          "a",
          "a",
          "a",
          "a",
          "a",
          "a",
          "a",
          "a",
          "a",
          "a",
          "a",
          "a",
          "a",
          "a",
          "a",
          "a",
          "a",
          "a",
          "a",
          "a",
          "a",
          "a",
          "a",
          "a",
          "a",
          "a",
          "a",
          "a",
          "a",
          "a",
          "a",
          "a",
          "a",
          "a",
          "a",
          "a",
          "a",
          "a",
          "a",
          "a",
          "a",
          "a",
          "a",
          "a",
          "a",
          "a",
          "a",
          "a",
          "a",
          "a",
          "a",
          "a",
          "a",
          "a",
          "a",
          "a",
          "a",
          "a",
          "a",
          "a",
          "a",
          "a",
          "a",
          "a",
          "a",
          "a",
          "a",
          "a",
          "a",
          "a",
          "a",
          "a",
          "a",
          "a",
          "a",
          "a",
          "a",
          "a",
          "a",
          "a",
          "a",
          "a",
          "a",
          "a",
          "a",
          "a",
          "a",
          "a",
          "a",
          "a",
          "a",
          "a",
          "a",
          "a",
          "a",
          "a",
          "a",
          "a",
          "a",
          "a",
          "a",
          "a",
          "a",
          "a",
          "a",
          "a",
          "a",
          "a",
          "a",
          "a",
          "a",
          "a",
          "a",
          "a",
          "a",
          "a",
          "a",
          "a",
          "a",
          "a",
          "a",
          "a",
          "a",
          "a",
          "a",
          "a",
          "a",
          "a",
          "a",
          "a",
          "a",
          "a",
          "a",
          "a",
          "a",
          "a",
          "a",
          "a",
          "a",
          "a",
          "a",
          "a",
          "a",
          "a",
          "a",
          "a",
          "a",
          "a",
          "a",
          "a",
          "a",
          "a",
          "a",
          "a",
          "a",
          "a",
          "a",
          "a",
          "a",
          "a",
          "a",
          "a",
          "a",
          "a",
          "a",
          "a",
          "a",
          "a",
          "a",
          "a",
          "a",
          "a",
          "a",
          "a",
          "a",
          "a",
          "a",
          "a",
          "a",
          "a",
          "a",
          "a",
          "a",
          "a",
          "a",
          "a",
          "a",
          "a",
          "a",
          "a",
          "a",
          "a",
          "a",
          "a",
          "a",
          "a",
          "a",
          "a",
          "a",
          "a",
          "a",
          "a",
          "a",
          "a",
          "a",
          "a",
          "a",
          "a",
          "a",
          "a",
          "a",
          "a",
          "a",
          "a",
          "a",
          "a",
          "a",
          "a",
          "a",
          "a",
          "a",
          "a",
          "a",
          "a",
          "a",
          "a",
          "a",
          "a",
          "a",
          "a",
          "a",
          "a",
          "a",
          "a",
          "a",
          "a",
          "a",
          "a",
          "a",
          "a",
          "a",
          "a",
          "a",
          "a",
          "a",
          "a",
          "a",
          "a",
          "a",
          "a",
          "a",
          "a",
          "a",
          "a",
          "a",
          "a",
          "a",
          "a",
          "a",
          "a",
          "a",
          "a",
          "a",
          "a",
          "a",
          "a",
          "a",
          "a",
          "a",
          "a",
          "a",
          "a",
          "a",
          "a",
          "a",
          "a",
          "a",
          "a",
          "a",
          "a",
          "a",
          "a",
          "a",
          "a",
          "a",
          "a",
          "a",
          "a",
          "a",
          "a",
          "a",
          "a",
          "a",
          "a",
          "a",
          "a",
          "a",
          "a",
          "a",
          "a",
          "a",
          "a",
          "a",
          "a",
          "a",
          "a",
          "a",
          "a",
          "a",
          "a",
          "a",
          "a",
          "a",
          "a",
          "a",
          "a",
          "a",
          "a",
          "a",
          "a",
          "a",
          "a",
          "a",
          "a",
          "a",
          "a",
          "a",
          "a",
          "a",
          "a",
          "a",
          "a",
          "a",
          "a",
          "a",
          "a",
          "a",
          "a",
          "a",
          "a",
          "a",
          "a",
          "a",
          "a",
          "a",
          "a",
          "a",
          "a",
          "a",
          "a",
          "a",
          "a",
          "a",
          "a",
          "a",
          "a",
          "a",
          "a",
          "a",
          "a",
          "a",
          "a",
          "a",
          "a",
          "a",
          "a",
          "a",
          "a",
          "a",
          "a",
          "a",
          "a",
          "a",
          "a",
          "a",
          "a",
          "a",
          "a",
          "a",
          "a",
          "a",
          "a",
          "a",
          "a",
          "a",
          "a",
          "a",
          "a",
          "a",
          "a",
          "a",
          "a",
          "a",
          "a",
          "a",
          "a",
          "a",
          "a",
          "a",
          "a",
          "a",
          "a",
          "a",
          "a",
          "a",
          "a",
          "a",
          "a",
          "a",
          "a",
          "a",
          "a",
          "a",
          "a",
          "a",
          "a",
          "a",
          "a",
          "a",
          "a",
          "a",
          "a",
          "a",
          "a",
          "a",
          "a",
          "a",
          "a",
          "a",
          "a",
          "a",
          "a",
          "a",
          "a",
          "a",
          "a",
          "a",
          "a",
          "a",
          "a",
          "a",
          "a",
          "a",
          "a",
          "a",
          "a",
          "a",
          "a",
          "a",
          "a",
          "a",
          "a",
          "a",
          "a",
          "a",
          "a",
          "a",
          "a",
          "a",
          "a",
          "a",
          "a",
          "a",
          "a",
          "a",
          "a",
          "a",
          "a",
          "a",
          "a",
          "a",
          "a",
          "a",
          "a",
          "a",
          "a",
          "a",
          "a",
          "a",
          "a",
          "a",
          "a",
          "a",
          "a",
          "a",
          "a",
          "a",
          "a",
          "a",
          "a",
          "a",
          "a",
          "a",
          "a",
          "a",
          "a",
          "a",
          "a",
          "a",
          "a",
          "a",
          "a",
          "a",
          "a",
          "a",
          "a",
          "a",
          "a",
          "a",
          "a",
          "a",
          "a",
          "a",
          "a",
          "a",
          "a",
          "a",
          "a",
          "a",
          "a",
          "a",
          "a",
          "a",
          "a",
          "a",
          "a",
          "a",
          "a",
          "a",
          "a",
          "a",
          "a",
          "a",
          "a",
          "a",
          "a",
          "a",
          "a",
          "a",
          "a",
          "a",
          "a",
          "a",
          "a",
          "a",
          "a",
          "a",
          "a",
          "a",
          "a",
          "a",
          "a",
          "a",
          "a",
          "a",
          "a",
          "a",
          "a",
          "a",
          "a",
          "a",
          "a",
          "a",
          "a",
          "a",
          "a",
          "a",
          "a",
          "a",
          "a",
          "a",
          "a",
          "a",
          "a",
          "a",
          "a",
          "a",
          "a",
          "a",
          "a",
          "a",
          "a",
          "a",
          "a",
          "a",
          "a",
          "a",
          "a",
          "a",
          "a",
          "a",
          "a",
          "a",
          "a",
          "a",
          "a",
          "a",
          "a",
          "a",
          "a",
          "a",
          "a",
          "a",
          "a",
          "a",
          "a",
          "a",
          "a",
          "a",
          "a",
          "a",
          "a",
          "a",
          "a",
          "a",
          "a",
          "a",
          "a",
          "a",
          "a",
          "a",
          "a",
          "a",
          "a",
          "a",
          "a",
          "a",
          "a",
          "a",
          "a",
          "a",
          "a",
          "a",
          "a",
          "a",
          "a",
          "a",
          "a",
          "a",
          "a",
          "a",
          "a",
          "a",
          "a",
          "a",
          "a",
          "a",
          "a",
          "a",
          "a",
          "a",
          "a",
          "a",
          "a",
          "a",
          "a",
          "a",
          "a",
          "a",
          "a",
          "a",
          "a",
          "a",
          "a",
          "a",
          "a",
          "a",
          "a",
          "a",
          "a",
          "a",
          "a",
          "a",
          "a",
          "a",
          "a",
          "a",
          "a",
          "a",
          "a",
          "a",
          "a",
          "a",
          "a",
          "a",
          "a",
          "a",
          "a",
          "a",
          "a",
          "a",
          "a",
          "a",
          "a",
          "a",
          "a",
          "a",
          "a",
          "a",
          "a",
          "a",
          "a",
          "a",
          "a",
          "a",
          "a",
          "a",
          "a",
          "a",
          "a",
          "a",
          "a",
          "a",
          "a",
          "a",
          "a",
          "a",
          "a",
          "a",
          "a",
          "a",
          "a",
          "a",
          "a",
          "a",
          "a",
          "a",
          "a",
          "a",
          "a",
          "a",
          "a",
          "a",
          "a",
          "a",
          "a",
          "a",
          "a",
          "a",
          "a",
          "a",
          "a",
          "a",
          "a",
          "a",
          "a",
          "a",
          "a",
          "a",
          "a",
          "a",
          "a",
          "a",
          "a",
          "a",
          "a",
          "a",
          "a",
          "a",
          "a",
          "a",
          "a",
          "a",
          "a",
          "a",
          "a",
          "a",
          "a",
          "a",
          "a",
          "a",
          "a",
          "a",
          "a",
          "a",
          "a",
          "a",
          "a",
          "a",
          "a",
          "a",
          "a",
          "a",
          "a",
          "a",
          "a",
          "a",
          "a",
          "a",
          "a",
          "a",
          "a",
          "a",
          "a",
          "a",
          "a",
          "a",
          "a",
          "a",
          "a",
          "a",
          "a",
          "a",
          "a",
          "a",
          "a",
          "a",
          "a",
          "a",
          "a",
          "a",
          "a",
          "a",
          "a",
          "a",
          "a",
          "a",
          "a",
          "a",
          "a",
          "a",
          "a",
          "a",
          "a",
          "a",
          "a",
          "a",
          "a",
          "a",
          "a",
          "a",
          "a",
          "a",
          "a",
          "a",
          "a",
          "a",
          "a",
          "a",
          "a",
          "a",
          "a",
          "a",
          "a",
          "a",
          "a",
          "a",
          "a",
          "a",
          "a",
          "a",
          "a",
          "a",
          "a",
          "a",
          "a",
          "a",
          "a",
          "a",
          "a",
          "a",
          "a",
          "a",
          "a",
          "a",
          "a",
          "a",
          "a",
          "a",
          "a",
          "a",
          "a",
          "a",
          "a",
          "a",
          "a",
          "a",
          "a",
          "a",
          "a",
          "a",
          "a",
          "a",
          "a",
          "a",
          "a",
          "a",
          "a",
          "a",
          "a",
          "a",
          "a",
          "a",
          "a",
          "a",
          "a",
          "a",
          "a",
          "a",
          "a",
          "a",
          "a",
          "a",
          "a",
          "a",
          "a",
          "a",
          "a",
          "a",
          "a",
          "a",
          "a",
          "a",
          "a",
          "a",
          "a",
          "a",
          "a",
          "a",
          "a",
          "a",
          "a",
          "a",
          "a",
          "a",
          "a",
          "a",
          "a",
          "a",
          "a",
          "a",
          "a",
          "a",
          "a",
          "a",
          "a",
          "a",
          "a",
          "a",
          "a",
          "a",
          "a",
          "a",
          "a",
          "a",
          "a",
          "a",
          "a",
          "a",
          "a",
          "a",
          "a",
          "a",
          "a",
          "a",
          "a",
          "a",
          "a",
          "a",
          "a",
          "a",
          "a",
          "a",
          "a",
          "a",
          "a",
          "a",
          "a",
          "a",
          "a",
          "a",
          "a",
          "a",
          "a",
          "a",
          "a",
          "a",
          "a",
          "a",
          "a",
          "a",
          "a",
          "a",
          "a",
          "a",
          "a",
          "a",
          "a",
          "a",
          "a",
          "a",
          "a",
          "a",
          "a",
          "a",
          "a",
          "a",
          "a",
          "a",
          "a",
          "a",
          "a",
          "a",
          "a",
          "a",
          "a",
          "a",
          "a",
          "a",
          "a",
          "a",
          "a",
          "a",
          "a",
          "a",
          "a",
          "a",
          "a",
          "a",
          "a",
          "a",
          "a",
          "a",
          "a",
          "a",
          "a",
          "a",
          "a",
          "a",
          "a",
          "a",
          "a",
          "a",
          "a",
          "a",
          "a",
          "a",
          "a",
          "a",
          "a",
          "a",
          "a",
          "a",
          "a",
          "a",
          "a",
          "a",
          "a",
          "a",
          "a"
         ],
         "yaxis": "y2"
        }
       ],
       "layout": {
        "barmode": "overlay",
        "hovermode": "closest",
        "legend": {
         "traceorder": "reversed"
        },
        "template": {
         "data": {
          "bar": [
           {
            "error_x": {
             "color": "#2a3f5f"
            },
            "error_y": {
             "color": "#2a3f5f"
            },
            "marker": {
             "line": {
              "color": "#E5ECF6",
              "width": 0.5
             },
             "pattern": {
              "fillmode": "overlay",
              "size": 10,
              "solidity": 0.2
             }
            },
            "type": "bar"
           }
          ],
          "barpolar": [
           {
            "marker": {
             "line": {
              "color": "#E5ECF6",
              "width": 0.5
             },
             "pattern": {
              "fillmode": "overlay",
              "size": 10,
              "solidity": 0.2
             }
            },
            "type": "barpolar"
           }
          ],
          "carpet": [
           {
            "aaxis": {
             "endlinecolor": "#2a3f5f",
             "gridcolor": "white",
             "linecolor": "white",
             "minorgridcolor": "white",
             "startlinecolor": "#2a3f5f"
            },
            "baxis": {
             "endlinecolor": "#2a3f5f",
             "gridcolor": "white",
             "linecolor": "white",
             "minorgridcolor": "white",
             "startlinecolor": "#2a3f5f"
            },
            "type": "carpet"
           }
          ],
          "choropleth": [
           {
            "colorbar": {
             "outlinewidth": 0,
             "ticks": ""
            },
            "type": "choropleth"
           }
          ],
          "contour": [
           {
            "colorbar": {
             "outlinewidth": 0,
             "ticks": ""
            },
            "colorscale": [
             [
              0,
              "#0d0887"
             ],
             [
              0.1111111111111111,
              "#46039f"
             ],
             [
              0.2222222222222222,
              "#7201a8"
             ],
             [
              0.3333333333333333,
              "#9c179e"
             ],
             [
              0.4444444444444444,
              "#bd3786"
             ],
             [
              0.5555555555555556,
              "#d8576b"
             ],
             [
              0.6666666666666666,
              "#ed7953"
             ],
             [
              0.7777777777777778,
              "#fb9f3a"
             ],
             [
              0.8888888888888888,
              "#fdca26"
             ],
             [
              1,
              "#f0f921"
             ]
            ],
            "type": "contour"
           }
          ],
          "contourcarpet": [
           {
            "colorbar": {
             "outlinewidth": 0,
             "ticks": ""
            },
            "type": "contourcarpet"
           }
          ],
          "heatmap": [
           {
            "colorbar": {
             "outlinewidth": 0,
             "ticks": ""
            },
            "colorscale": [
             [
              0,
              "#0d0887"
             ],
             [
              0.1111111111111111,
              "#46039f"
             ],
             [
              0.2222222222222222,
              "#7201a8"
             ],
             [
              0.3333333333333333,
              "#9c179e"
             ],
             [
              0.4444444444444444,
              "#bd3786"
             ],
             [
              0.5555555555555556,
              "#d8576b"
             ],
             [
              0.6666666666666666,
              "#ed7953"
             ],
             [
              0.7777777777777778,
              "#fb9f3a"
             ],
             [
              0.8888888888888888,
              "#fdca26"
             ],
             [
              1,
              "#f0f921"
             ]
            ],
            "type": "heatmap"
           }
          ],
          "heatmapgl": [
           {
            "colorbar": {
             "outlinewidth": 0,
             "ticks": ""
            },
            "colorscale": [
             [
              0,
              "#0d0887"
             ],
             [
              0.1111111111111111,
              "#46039f"
             ],
             [
              0.2222222222222222,
              "#7201a8"
             ],
             [
              0.3333333333333333,
              "#9c179e"
             ],
             [
              0.4444444444444444,
              "#bd3786"
             ],
             [
              0.5555555555555556,
              "#d8576b"
             ],
             [
              0.6666666666666666,
              "#ed7953"
             ],
             [
              0.7777777777777778,
              "#fb9f3a"
             ],
             [
              0.8888888888888888,
              "#fdca26"
             ],
             [
              1,
              "#f0f921"
             ]
            ],
            "type": "heatmapgl"
           }
          ],
          "histogram": [
           {
            "marker": {
             "pattern": {
              "fillmode": "overlay",
              "size": 10,
              "solidity": 0.2
             }
            },
            "type": "histogram"
           }
          ],
          "histogram2d": [
           {
            "colorbar": {
             "outlinewidth": 0,
             "ticks": ""
            },
            "colorscale": [
             [
              0,
              "#0d0887"
             ],
             [
              0.1111111111111111,
              "#46039f"
             ],
             [
              0.2222222222222222,
              "#7201a8"
             ],
             [
              0.3333333333333333,
              "#9c179e"
             ],
             [
              0.4444444444444444,
              "#bd3786"
             ],
             [
              0.5555555555555556,
              "#d8576b"
             ],
             [
              0.6666666666666666,
              "#ed7953"
             ],
             [
              0.7777777777777778,
              "#fb9f3a"
             ],
             [
              0.8888888888888888,
              "#fdca26"
             ],
             [
              1,
              "#f0f921"
             ]
            ],
            "type": "histogram2d"
           }
          ],
          "histogram2dcontour": [
           {
            "colorbar": {
             "outlinewidth": 0,
             "ticks": ""
            },
            "colorscale": [
             [
              0,
              "#0d0887"
             ],
             [
              0.1111111111111111,
              "#46039f"
             ],
             [
              0.2222222222222222,
              "#7201a8"
             ],
             [
              0.3333333333333333,
              "#9c179e"
             ],
             [
              0.4444444444444444,
              "#bd3786"
             ],
             [
              0.5555555555555556,
              "#d8576b"
             ],
             [
              0.6666666666666666,
              "#ed7953"
             ],
             [
              0.7777777777777778,
              "#fb9f3a"
             ],
             [
              0.8888888888888888,
              "#fdca26"
             ],
             [
              1,
              "#f0f921"
             ]
            ],
            "type": "histogram2dcontour"
           }
          ],
          "mesh3d": [
           {
            "colorbar": {
             "outlinewidth": 0,
             "ticks": ""
            },
            "type": "mesh3d"
           }
          ],
          "parcoords": [
           {
            "line": {
             "colorbar": {
              "outlinewidth": 0,
              "ticks": ""
             }
            },
            "type": "parcoords"
           }
          ],
          "pie": [
           {
            "automargin": true,
            "type": "pie"
           }
          ],
          "scatter": [
           {
            "fillpattern": {
             "fillmode": "overlay",
             "size": 10,
             "solidity": 0.2
            },
            "type": "scatter"
           }
          ],
          "scatter3d": [
           {
            "line": {
             "colorbar": {
              "outlinewidth": 0,
              "ticks": ""
             }
            },
            "marker": {
             "colorbar": {
              "outlinewidth": 0,
              "ticks": ""
             }
            },
            "type": "scatter3d"
           }
          ],
          "scattercarpet": [
           {
            "marker": {
             "colorbar": {
              "outlinewidth": 0,
              "ticks": ""
             }
            },
            "type": "scattercarpet"
           }
          ],
          "scattergeo": [
           {
            "marker": {
             "colorbar": {
              "outlinewidth": 0,
              "ticks": ""
             }
            },
            "type": "scattergeo"
           }
          ],
          "scattergl": [
           {
            "marker": {
             "colorbar": {
              "outlinewidth": 0,
              "ticks": ""
             }
            },
            "type": "scattergl"
           }
          ],
          "scattermapbox": [
           {
            "marker": {
             "colorbar": {
              "outlinewidth": 0,
              "ticks": ""
             }
            },
            "type": "scattermapbox"
           }
          ],
          "scatterpolar": [
           {
            "marker": {
             "colorbar": {
              "outlinewidth": 0,
              "ticks": ""
             }
            },
            "type": "scatterpolar"
           }
          ],
          "scatterpolargl": [
           {
            "marker": {
             "colorbar": {
              "outlinewidth": 0,
              "ticks": ""
             }
            },
            "type": "scatterpolargl"
           }
          ],
          "scatterternary": [
           {
            "marker": {
             "colorbar": {
              "outlinewidth": 0,
              "ticks": ""
             }
            },
            "type": "scatterternary"
           }
          ],
          "surface": [
           {
            "colorbar": {
             "outlinewidth": 0,
             "ticks": ""
            },
            "colorscale": [
             [
              0,
              "#0d0887"
             ],
             [
              0.1111111111111111,
              "#46039f"
             ],
             [
              0.2222222222222222,
              "#7201a8"
             ],
             [
              0.3333333333333333,
              "#9c179e"
             ],
             [
              0.4444444444444444,
              "#bd3786"
             ],
             [
              0.5555555555555556,
              "#d8576b"
             ],
             [
              0.6666666666666666,
              "#ed7953"
             ],
             [
              0.7777777777777778,
              "#fb9f3a"
             ],
             [
              0.8888888888888888,
              "#fdca26"
             ],
             [
              1,
              "#f0f921"
             ]
            ],
            "type": "surface"
           }
          ],
          "table": [
           {
            "cells": {
             "fill": {
              "color": "#EBF0F8"
             },
             "line": {
              "color": "white"
             }
            },
            "header": {
             "fill": {
              "color": "#C8D4E3"
             },
             "line": {
              "color": "white"
             }
            },
            "type": "table"
           }
          ]
         },
         "layout": {
          "annotationdefaults": {
           "arrowcolor": "#2a3f5f",
           "arrowhead": 0,
           "arrowwidth": 1
          },
          "autotypenumbers": "strict",
          "coloraxis": {
           "colorbar": {
            "outlinewidth": 0,
            "ticks": ""
           }
          },
          "colorscale": {
           "diverging": [
            [
             0,
             "#8e0152"
            ],
            [
             0.1,
             "#c51b7d"
            ],
            [
             0.2,
             "#de77ae"
            ],
            [
             0.3,
             "#f1b6da"
            ],
            [
             0.4,
             "#fde0ef"
            ],
            [
             0.5,
             "#f7f7f7"
            ],
            [
             0.6,
             "#e6f5d0"
            ],
            [
             0.7,
             "#b8e186"
            ],
            [
             0.8,
             "#7fbc41"
            ],
            [
             0.9,
             "#4d9221"
            ],
            [
             1,
             "#276419"
            ]
           ],
           "sequential": [
            [
             0,
             "#0d0887"
            ],
            [
             0.1111111111111111,
             "#46039f"
            ],
            [
             0.2222222222222222,
             "#7201a8"
            ],
            [
             0.3333333333333333,
             "#9c179e"
            ],
            [
             0.4444444444444444,
             "#bd3786"
            ],
            [
             0.5555555555555556,
             "#d8576b"
            ],
            [
             0.6666666666666666,
             "#ed7953"
            ],
            [
             0.7777777777777778,
             "#fb9f3a"
            ],
            [
             0.8888888888888888,
             "#fdca26"
            ],
            [
             1,
             "#f0f921"
            ]
           ],
           "sequentialminus": [
            [
             0,
             "#0d0887"
            ],
            [
             0.1111111111111111,
             "#46039f"
            ],
            [
             0.2222222222222222,
             "#7201a8"
            ],
            [
             0.3333333333333333,
             "#9c179e"
            ],
            [
             0.4444444444444444,
             "#bd3786"
            ],
            [
             0.5555555555555556,
             "#d8576b"
            ],
            [
             0.6666666666666666,
             "#ed7953"
            ],
            [
             0.7777777777777778,
             "#fb9f3a"
            ],
            [
             0.8888888888888888,
             "#fdca26"
            ],
            [
             1,
             "#f0f921"
            ]
           ]
          },
          "colorway": [
           "#636efa",
           "#EF553B",
           "#00cc96",
           "#ab63fa",
           "#FFA15A",
           "#19d3f3",
           "#FF6692",
           "#B6E880",
           "#FF97FF",
           "#FECB52"
          ],
          "font": {
           "color": "#2a3f5f"
          },
          "geo": {
           "bgcolor": "white",
           "lakecolor": "white",
           "landcolor": "#E5ECF6",
           "showlakes": true,
           "showland": true,
           "subunitcolor": "white"
          },
          "hoverlabel": {
           "align": "left"
          },
          "hovermode": "closest",
          "mapbox": {
           "style": "light"
          },
          "paper_bgcolor": "white",
          "plot_bgcolor": "#E5ECF6",
          "polar": {
           "angularaxis": {
            "gridcolor": "white",
            "linecolor": "white",
            "ticks": ""
           },
           "bgcolor": "#E5ECF6",
           "radialaxis": {
            "gridcolor": "white",
            "linecolor": "white",
            "ticks": ""
           }
          },
          "scene": {
           "xaxis": {
            "backgroundcolor": "#E5ECF6",
            "gridcolor": "white",
            "gridwidth": 2,
            "linecolor": "white",
            "showbackground": true,
            "ticks": "",
            "zerolinecolor": "white"
           },
           "yaxis": {
            "backgroundcolor": "#E5ECF6",
            "gridcolor": "white",
            "gridwidth": 2,
            "linecolor": "white",
            "showbackground": true,
            "ticks": "",
            "zerolinecolor": "white"
           },
           "zaxis": {
            "backgroundcolor": "#E5ECF6",
            "gridcolor": "white",
            "gridwidth": 2,
            "linecolor": "white",
            "showbackground": true,
            "ticks": "",
            "zerolinecolor": "white"
           }
          },
          "shapedefaults": {
           "line": {
            "color": "#2a3f5f"
           }
          },
          "ternary": {
           "aaxis": {
            "gridcolor": "white",
            "linecolor": "white",
            "ticks": ""
           },
           "baxis": {
            "gridcolor": "white",
            "linecolor": "white",
            "ticks": ""
           },
           "bgcolor": "#E5ECF6",
           "caxis": {
            "gridcolor": "white",
            "linecolor": "white",
            "ticks": ""
           }
          },
          "title": {
           "x": 0.05
          },
          "xaxis": {
           "automargin": true,
           "gridcolor": "white",
           "linecolor": "white",
           "ticks": "",
           "title": {
            "standoff": 15
           },
           "zerolinecolor": "white",
           "zerolinewidth": 2
          },
          "yaxis": {
           "automargin": true,
           "gridcolor": "white",
           "linecolor": "white",
           "ticks": "",
           "title": {
            "standoff": 15
           },
           "zerolinecolor": "white",
           "zerolinewidth": 2
          }
         }
        },
        "title": {
         "text": "Distplot with Normal Distribution"
        },
        "xaxis": {
         "anchor": "y2",
         "domain": [
          0,
          1
         ],
         "zeroline": false
        },
        "yaxis": {
         "anchor": "free",
         "domain": [
          0.35,
          1
         ],
         "position": 0
        },
        "yaxis2": {
         "anchor": "x",
         "domain": [
          0,
          0.25
         ],
         "dtick": 1,
         "showticklabels": false
        }
       }
      },
      "text/html": [
       "<div>                            <div id=\"52e237a9-02d7-4bc5-b51f-505e27b9d889\" class=\"plotly-graph-div\" style=\"height:525px; width:100%;\"></div>            <script type=\"text/javascript\">                require([\"plotly\"], function(Plotly) {                    window.PLOTLYENV=window.PLOTLYENV || {};                                    if (document.getElementById(\"52e237a9-02d7-4bc5-b51f-505e27b9d889\")) {                    Plotly.newPlot(                        \"52e237a9-02d7-4bc5-b51f-505e27b9d889\",                        [{\"autobinx\":false,\"histnorm\":\"probability density\",\"legendgroup\":\"a\",\"marker\":{\"color\":\"#6ad49b\"},\"name\":\"a\",\"opacity\":0.7,\"x\":[67.0,135.0,106.0,107.0,81.0,107.0,118.0,110.0,104.0,93.0,94.0,124.0,137.0,134.0,69.0,106.0,209.0,86.0,24.0,46.0,117.0,87.0,92.0,114.0,121.0,94.0,109.0,110.0,96.0,97.0,121.0,56.0,119.0,138.0,93.0,111.0,88.0,81.0,73.0,86.0,116.0,85.0,134.0,109.0,102.0,101.0,88.0,101.0,28.0,103.0,131.0,166.0,105.0,82.0,107.0,84.0,103.0,112.0,89.0,121.0,87.0,136.0,118.0,129.0,94.0,88.0,158.0,78.0,100.0,93.0,84.0,107.0,101.0,107.0,74.0,60.0,143.0,105.0,110.0,98.0,100.0,74.0,100.0,46.0,88.0,54.0,59.0,100.0,95.0,88.0,100.0,93.0,94.0,121.0,78.0,116.0,87.0,61.0,98.0,123.0,85.0,92.0,87.0,92.0,112.0,97.0,78.0,103.0,107.0,44.0,68.0,68.0,99.0,69.0,81.0,69.0,68.0,68.0,91.0,86.0,40.0,102.0,119.0,94.0,119.0,90.0,105.0,89.0,108.0,108.0,87.0,112.0,101.0,89.0,91.0,200.0,119.0,90.0,103.0,110.0,133.0,124.0,118.0,40.0,98.0,85.0,115.0,137.0,98.0,110.0,55.0,86.0,92.0,116.0,94.0,134.0,102.0,98.0,100.0,105.0,116.0,118.0,153.0,109.0,99.0,96.0,91.0,185.0,92.0,82.0,127.0,98.0,111.0,120.0,137.0,121.0,89.0,91.0,135.0,98.0,139.0,95.0,98.0,91.0,122.0,100.0,103.0,129.0,133.0,36.0,141.0,105.0,107.0,136.0,138.0,129.0,97.0,141.0,99.0,89.0,24.0,90.0,98.0,89.0,88.0,65.0,126.0,63.0,14.0,28.0,20.0,88.0,98.0,94.0,106.0,118.0,127.0,61.0,86.0,94.0,82.0,92.0,95.0,52.0,108.0,91.0,96.0,67.0,83.0,94.0,97.0,91.0,66.0,98.0,92.0,118.0,87.0,121.0,98.0,99.0,95.0,107.0,100.0,101.0,86.0,96.0,99.0,112.0,127.0,140.0,22.0,78.0,63.0,97.0,86.0,93.0,73.0,62.0,96.0,104.0,123.0,100.0,99.0,151.0,102.0,154.0,106.0,87.0,70.0,46.0,111.0,101.0,109.0,100.0,110.0,102.0,102.0,24.0,96.0,98.0,76.0,93.0,77.0,103.0,45.0,119.0,147.0,123.0,99.0,98.0,106.0,112.0,85.0,91.0,88.0,101.0,90.0,96.0,99.0,101.0,111.0,96.0,86.0,97.0,121.0,59.0,58.0,90.0,88.0,64.0,104.0,122.0,125.0,92.0,129.0,79.0,121.0,106.0,124.0,87.0,125.0,154.0,86.0,111.0,97.0,66.0,121.0,91.0,91.0,82.0,117.0,81.0,84.0,81.0,107.0,94.0,163.0,90.0,96.0,91.0,93.0,64.0,45.0,89.0,90.0,102.0,116.0,42.0,133.0,108.0,38.0,97.0,89.0,146.0,146.0,130.0,106.0,58.0,152.0,87.0,121.0,182.0,106.0,102.0,98.0,83.0,82.0,111.0,24.0,171.0,84.0,112.0,80.0,88.0,124.0,104.0,76.0,91.0,64.0,94.0,86.0,157.0,83.0,95.0,106.0,87.0,90.0,65.0,105.0,107.0,103.0,88.0,96.0,67.0,140.0,96.0,93.0,90.0,125.0,142.0,133.0,100.0,10.0,128.0,88.0,108.0,93.0,96.0,102.0,108.0,81.0,102.0,93.0,87.0,94.0,100.0,88.0,109.0,138.0,149.0,82.0,86.0,112.0,98.0,113.0,47.0,106.0,113.0,119.0,109.0,98.0,88.0,116.0,106.0,95.0,95.0,113.0,84.0,91.0,102.0,100.0,81.0,98.0,110.0,106.0,85.0,66.0,92.0,92.0,91.0,133.0,135.0,120.0,118.0,123.0,110.0,98.0,98.0,98.0,104.0,167.0,63.0,52.0,95.0,72.0,117.0,100.0,24.0,86.0,112.0,69.0,119.0,123.0,93.0,109.0,97.0,66.0,107.0,46.0,96.0,91.0,80.0,103.0,117.0,76.0,67.0,114.0,67.0,77.0,84.0,105.0,63.0,94.0,99.0,59.0,102.0,81.0,145.0,84.0,102.0,101.0,116.0,164.0,87.0,90.0,106.0,116.0,134.0,133.0,118.0,120.0,154.0,128.0,115.0,177.0,105.0,112.0,120.0,119.0,100.0,92.0,104.0,97.0,88.0,128.0,130.0,108.0,98.0,89.0,90.0,130.0,83.0,99.0,59.0,107.0,99.0,94.0,111.0,100.0,77.0,57.0,107.0,93.0,114.0,103.0,153.0,94.0,149.0,111.0,58.0,56.0,110.0,98.0,106.0,102.0,93.0,81.0,77.0,98.0,97.0,136.0,161.0,32.0,86.0,107.0,98.0,83.0,77.0,133.0,105.0,79.0,106.0,90.0,87.0,95.0,91.0,67.0,106.0,65.0,131.0,105.0,119.0,105.0,40.0,107.0,112.0,97.0,106.0,66.0,106.0,110.0,102.0,105.0,112.0,96.0,97.0,53.0,113.0,53.0,54.0,53.0,54.0,113.0,53.0,53.0,53.0,54.0,54.0,52.0,54.0,54.0,53.0,53.0,53.0,113.0,53.0,91.0,126.0,99.0,134.0,26.0,117.0,89.0,94.0,101.0,94.0,99.0,114.0,48.0,78.0,118.0,119.0,104.0,98.0,93.0,61.0,90.0,122.0,113.0,141.0,81.0,176.0,119.0,73.0,87.0,88.0,15.0,55.0,141.0,122.0,117.0,95.0,109.0,63.0,73.0,107.0,87.0,99.0,96.0,113.0,69.0,99.0,87.0,85.0,112.0,116.0,99.0,101.0,110.0,116.0,96.0,83.0,110.0,86.0,110.0,122.0,99.0,59.0,65.0,126.0,97.0,68.0,65.0,63.0,89.0,88.0,91.0,53.0,40.0,113.0,117.0,90.0,95.0,98.0,97.0,102.0,61.0,93.0,117.0,108.0,126.0,93.0,60.0,142.0,113.0,90.0,120.0,107.0,74.0,119.0,114.0,125.0,71.0,110.0,127.0,118.0,90.0,94.0,90.0,98.0,98.0,99.0,133.0,94.0,116.0,93.0,103.0,84.0,90.0,107.0,89.0,90.0,96.0,130.0,90.0,86.0,79.0,93.0,12.0,62.0,3.0,94.0,93.0,114.0,110.0,125.0,119.0,109.0,100.0,98.0,98.0,128.0,83.0,105.0,109.0,83.0,101.0,78.0,110.0,116.0,141.0,120.0,97.0,109.0,105.0,102.0,127.0,101.0,135.0,124.0,103.0,105.0,98.0,93.0,113.0,106.0,99.0,123.0,91.0,84.0,99.0,93.0,122.0,38.0,101.0,99.0,91.0,30.0,30.0,137.0,111.0,66.0,159.0,125.0,95.0,95.0,70.0,87.0,88.0,96.0,90.0,84.0,53.0,87.0,90.0,96.0,150.0,105.0,112.0,119.0,142.0,94.0,97.0,137.0,100.0,125.0,128.0,108.0,136.0,165.0,124.0,133.0,116.0,102.0,87.0,61.0,94.0,70.0,92.0,88.0,100.0,111.0,128.0,63.0,63.0,62.0,62.0,98.0,104.0,110.0,87.0,126.0,103.0,111.0,100.0,112.0,96.0,71.0,86.0,99.0,125.0,147.0,88.0,40.0,79.0,110.0,101.0,128.0,110.0,79.0,87.0,116.0,119.0,53.0,82.0,99.0,87.0,90.0,124.0,53.0,88.0,54.0,104.0,92.0,126.0,140.0,87.0,93.0,80.0,92.0,64.0,72.0,148.0,110.0,119.0,163.0,125.0,87.0,96.0,91.0,122.0,125.0,49.0,95.0,99.0,98.0,98.0,90.0,97.0,97.0,86.0,114.0,96.0,99.0,88.0,66.0,70.0,168.0,98.0,89.0,100.0,90.0,77.0,100.0,102.0,98.0,92.0,116.0,111.0,91.0,99.0,99.0,99.0,98.0,73.0,113.0,153.0,81.0,54.0,138.0,93.0,123.0,96.0,101.0,59.0,53.0,102.0,141.0,95.0,111.0,131.0,116.0,119.0,146.0,101.0,82.0,90.0,87.0,95.0,94.0,129.0,94.0,103.0,133.0,135.0,61.0,85.0,91.0,105.0,59.0,91.0,94.0,89.0,131.0,136.0,170.0,91.0,128.0,88.0,97.0,110.0,170.0,92.0,94.0,92.0,113.0,59.0,126.0,86.0,120.0,76.0,60.0,118.0,88.0,55.0,110.0,113.0,110.0,94.0,54.0,53.0,103.0,126.0,89.0,124.0,128.0,88.0,83.0,96.0,118.0,91.0,91.0,53.0,103.0,108.0,88.0,81.0,124.0,102.0,98.0,132.0,87.0,89.0,109.0,75.0,126.0,61.0,126.0,108.0,89.0,100.0,129.0,71.0,108.0,101.0,60.0,105.0,115.0,118.0,130.0,101.0,115.0,99.0,69.0,97.0,61.0,87.0,97.0,101.0,92.0,123.0,108.0,104.0,98.0,65.0,88.0,106.0,69.0,97.0,80.0,85.0,99.0,98.0,115.0,138.0,90.0,86.0,90.0,117.0,132.0,127.0,125.0,128.0,126.0,58.0,87.0,98.0,116.0,90.0,111.0,100.0,123.0,106.0,100.0,104.0,99.0,105.0,128.0,91.0,127.0,100.0,131.0,104.0,94.0,124.0,106.0,108.0,104.0,103.0,100.0,79.0,92.0,116.0,83.0,118.0,162.0,162.0,126.0,109.0,109.0,89.0,111.0,89.0,97.0,108.0,103.0,88.0,120.0,90.0,99.0,83.0,107.0,109.0,105.0,87.0,93.0,90.0,89.0,131.0,114.0,92.0,75.0,107.0,97.0,90.0,98.0,100.0,103.0,66.0,106.0,125.0,77.0,130.0,119.0,110.0,120.0,102.0,125.0,103.0,127.0,121.0,101.0,113.0,118.0,132.0,106.0,116.0,117.0,90.0,61.0,90.0,107.0,80.0,58.0,58.0,56.0,110.0,70.0,117.0,89.0,84.0,131.0,91.0,103.0,100.0,139.0,103.0,42.0,79.0,90.0,88.0,96.0,114.0,99.0,89.0,103.0,127.0,113.0,111.0,112.0,96.0,103.0,104.0,102.0,86.0,97.0,111.0,132.0,89.0,102.0,120.0,137.0,82.0,85.0,115.0,107.0,130.0,57.0,62.0,112.0,26.0,102.0,93.0,111.0,93.0,91.0,118.0,63.0,74.0,136.0,90.0,132.0,101.0,59.0,84.0,91.0,93.0,91.0,84.0,101.0,110.0,82.0,100.0,52.0,51.0,127.0,86.0,107.0,22.0,22.0,22.0,44.0,91.0,99.0,105.0,105.0,88.0,128.0,24.0,113.0,52.0,50.0,49.0,92.0,110.0,106.0,120.0,83.0,123.0,56.0,141.0,97.0,118.0,95.0,127.0,118.0,74.0,91.0,137.0,86.0,106.0,125.0,114.0,143.0,121.0,119.0,108.0,150.0,88.0,105.0,119.0,97.0,96.0,91.0,49.0,95.0,98.0,96.0,83.0,96.0,90.0,97.0,99.0,94.0,90.0,88.0,105.0,118.0,86.0,127.0,88.0,125.0,116.0,102.0,65.0,88.0,106.0,117.0,91.0,93.0,136.0,116.0,121.0,89.0,104.0,65.0,91.0,99.0,91.0,117.0,135.0,135.0,91.0,95.0,75.0,95.0,82.0,124.0,106.0,86.0,115.0,99.0,101.0,142.0,102.0,122.0,95.0,120.0,96.0,92.0,110.0,133.0,143.0,111.0,144.0,121.0,99.0,93.0,100.0,102.0,123.0,127.0,116.0,119.0,105.0,134.0,90.0,93.0,93.0,108.0,115.0,119.0,61.0,109.0,97.0,154.0,120.0,148.0,121.0,95.0,102.0,87.0,114.0,48.0,124.0,101.0,28.0,34.0,61.0,56.0,81.0,68.0,58.0,100.0,50.0,49.0,71.0,29.0,108.0,125.0,72.0,100.0,30.0,30.0,146.0,127.0,46.0,57.0,87.0,90.0,86.0,122.0,97.0,312.0,109.0,122.0,116.0,73.0,96.0,91.0,110.0,115.0,150.0,90.0,89.0,93.0,105.0,105.0,124.0,105.0,44.0,91.0,95.0,78.0,22.0,95.0,82.0,89.0,90.0,94.0,85.0,29.0,96.0,101.0,137.0,27.0,112.0,112.0,107.0,153.0,123.0,90.0,84.0,78.0,79.0,73.0,83.0,83.0,145.0,135.0,109.0,35.0,86.0,68.0,107.0,110.0,86.0,85.0,75.0,90.0,105.0,124.0,110.0,96.0,110.0,58.0,105.0,59.0,28.0,98.0,111.0,116.0,106.0,63.0,109.0,88.0,155.0,119.0,122.0,87.0,73.0,98.0,130.0,99.0,105.0,110.0,81.0,115.0,113.0,146.0,118.0,122.0,109.0,68.0,117.0,23.0,95.0,124.0,90.0,96.0,96.0,123.0,85.0,93.0,30.0,82.0,95.0,127.0,120.0,114.0,119.0,101.0,96.0,120.0,139.0,95.0,44.0,104.0,110.0,91.0,91.0,114.0,91.0,64.0,89.0,95.0,86.0,94.0,133.0,102.0,122.0,86.0,111.0,132.0,111.0,136.0,121.0,76.0,92.0,119.0,45.0,75.0,71.0,81.0,115.0,128.0,92.0,95.0,114.0,99.0,132.0,106.0,122.0,79.0,78.0,111.0,112.0,107.0,102.0,81.0,129.0,90.0,86.0,116.0,59.0,95.0,122.0,98.0,103.0,117.0,95.0,146.0,136.0,91.0,123.0,144.0,103.0,11.0,22.0,126.0,121.0,91.0,158.0,157.0,124.0,106.0,92.0,80.0,94.0,126.0,129.0,133.0,109.0,143.0,140.0,150.0,128.0,120.0,154.0,45.0,132.0,126.0,95.0,91.0,135.0,139.0,131.0,118.0,129.0,131.0,146.0,123.0,141.0,93.0,91.0,58.0,91.0,112.0,119.0,106.0,131.0,95.0,104.0,126.0,118.0,116.0,122.0,105.0,90.0,87.0,102.0,89.0,94.0,100.0,126.0,89.0,90.0,87.0,97.0,115.0,93.0,138.0,74.0,102.0,103.0,119.0,104.0,161.0,51.0,50.0,86.0,140.0,122.0,23.0,95.0,205.0,123.0,190.0,121.0,131.0,80.0,63.0,150.0,159.0,131.0,130.0,99.0,86.0,106.0,57.0,97.0,118.0,98.0,144.0,110.0,96.0,57.0,98.0,119.0,92.0,94.0,151.0,74.0,89.0,124.0,25.0,84.0,121.0,85.0,25.0,121.0,88.0,111.0,81.0,64.0,55.0,137.0,56.0,58.0,80.0,94.0,94.0,72.0,60.0,140.0,91.0,97.0,146.0,118.0,133.0,106.0,128.0,137.0,145.0,141.0,106.0,61.0,135.0,137.0,129.0,99.0,155.0,142.0,214.0,137.0,128.0,89.0,67.0,151.0,121.0,101.0,145.0,147.0,90.0,129.0,129.0,136.0,117.0,74.0,150.0,134.0,100.0,44.0,44.0,111.0,147.0,115.0,121.0,103.0,73.0,129.0,102.0,122.0,155.0,139.0,131.0,127.0,156.0,91.0,132.0,130.0,137.0,132.0,156.0,132.0,119.0,140.0,101.0,126.0,107.0,112.0,111.0,126.0,130.0,126.0,24.0,127.0,108.0,163.0,117.0,95.0,103.0,110.0,111.0,91.0,101.0,124.0,63.0,102.0,103.0,112.0,103.0,92.0,93.0,112.0,113.0,92.0,153.0,111.0,141.0,128.0,52.0,117.0,100.0,112.0,110.0,98.0,107.0,109.0,100.0,114.0,98.0,100.0,100.0,123.0,86.0,77.0,112.0,106.0,106.0,102.0,86.0,146.0,122.0,126.0,116.0,135.0,125.0,96.0,130.0,135.0,88.0,96.0,100.0,122.0,110.0,104.0,96.0,109.0,95.0,110.0,110.0,79.0,101.0,112.0,94.0,94.0,86.0,84.0,95.0,93.0,113.0,111.0,68.0,135.0,95.0,93.0,101.0,98.0,90.0,112.0,141.0,120.0,140.0,87.0,99.0,86.0,104.0,100.0,50.0,124.0,57.0,31.0,90.0,96.0,196.0,93.0,110.0,162.0,139.0,130.0,145.0,88.0,91.0,91.0,102.0,95.0,33.0,119.0,114.0,100.0,54.0,150.0,108.0,90.0,101.0,104.0,88.0,93.0,79.0,92.0,90.0,86.0,90.0,103.0,86.0,108.0,97.0,92.0,101.0,83.0,85.0,85.0,106.0,86.0,131.0,105.0,134.0,85.0,203.0,120.0,91.0,124.0,95.0,12.0,104.0,92.0,143.0,127.0,100.0,74.0,104.0,148.0,127.0,96.0,82.0,158.0,124.0,163.0,74.0,121.0,154.0,127.0,128.0,98.0,124.0,109.0,168.0,89.0,162.0,159.0,137.0,133.0,125.0,127.0,131.0,90.0,89.0,88.0,125.0,88.0,94.0,83.0,89.0,118.0,87.0,105.0,79.0,133.0,147.0,92.0,103.0,119.0,80.0,110.0,128.0,88.0,86.0,70.0,66.0,72.0,122.0,117.0,98.0,126.0,115.0,86.0,108.0,94.0,151.0,88.0,97.0,92.0,102.0,93.0,126.0,82.0,86.0,105.0,101.0,100.0,57.0,95.0,101.0,128.0,99.0,113.0,108.0,105.0,109.0,93.0,82.0,95.0,84.0,106.0,122.0,108.0,94.0,103.0,106.0,124.0,92.0,88.0,68.0,72.0,93.0,102.0,69.0,125.0,99.0,89.0,95.0,92.0,95.0,133.0,112.0,85.0,85.0,84.0,118.0,99.0,109.0,103.0,94.0,105.0,101.0,103.0,86.0,91.0,95.0,99.0,90.0,88.0,85.0,98.0,94.0,71.0,95.0,124.0,108.0,87.0,95.0,108.0,110.0,113.0,71.0,75.0,75.0,97.0,83.0,93.0,66.0,83.0,110.0,88.0,112.0,77.0,91.0,58.0,69.0,61.0,100.0,88.0,128.0,122.0,60.0,126.0,166.0,113.0,88.0,151.0,107.0,42.0,94.0,130.0,87.0,116.0,77.0,117.0,84.0,92.0,130.0,103.0,89.0,109.0,104.0,114.0,133.0,101.0,137.0,88.0,88.0,115.0,120.0,104.0,114.0,128.0,125.0,38.0,102.0,96.0,94.0,69.0,92.0,90.0,101.0,77.0,89.0,90.0,98.0,88.0,49.0,152.0,66.0,103.0,95.0,79.0,89.0,75.0,78.0,89.0,74.0,119.0,70.0,104.0,48.0,121.0,106.0,74.0,106.0,113.0,119.0,82.0,76.0,95.0,100.0,110.0,66.0,99.0,131.0,86.0,118.0,126.0,130.0,99.0,89.0,136.0,131.0,165.0,110.0,85.0,92.0,89.0,117.0,114.0,63.0,94.0,74.0,103.0,58.0,94.0,92.0,104.0,117.0,89.0,87.0,129.0,160.0,66.0,150.0,158.0,118.0,100.0,90.0,64.0,92.0,63.0,105.0,76.0,67.0,99.0,69.0,91.0,92.0,87.0,100.0,113.0,40.0,105.0,94.0,109.0,116.0,99.0,89.0,92.0,82.0,70.0,131.0,105.0,130.0,69.0,98.0,90.0,105.0,106.0,126.0,84.0,65.0,121.0,163.0,92.0,124.0,107.0,19.0,25.0,22.0,40.0,22.0,24.0,103.0,45.0,101.0,60.0,90.0,96.0,98.0,94.0,74.0,112.0,115.0,92.0,93.0,95.0,105.0,117.0,66.0,110.0,97.0,78.0,102.0,62.0,90.0,97.0,105.0,79.0,90.0,129.0,92.0,109.0,77.0,107.0,69.0,87.0,91.0,99.0,105.0,99.0,108.0,66.0,94.0,93.0,75.0,96.0,95.0,32.0,70.0,94.0,117.0,78.0,100.0,91.0,115.0,122.0,107.0,109.0,104.0,95.0,110.0,100.0,93.0,104.0,134.0,75.0,100.0,105.0,104.0,101.0,96.0,80.0,75.0,75.0,79.0,78.0,75.0,78.0,166.0,90.0,132.0,91.0,117.0,103.0,100.0,176.0,91.0,49.0,97.0,116.0,90.0,60.0,149.0,86.0,171.0,103.0,116.0,169.0,134.0,159.0,130.0,103.0,173.0,195.0,111.0,99.0,110.0,32.0,94.0,87.0,103.0,78.0,108.0,62.0,97.0,102.0,95.0,106.0,115.0,76.0,80.0,102.0,99.0,82.0,74.0,100.0,150.0,90.0,75.0,103.0,87.0,88.0,63.0,127.0,129.0,120.0,138.0,129.0,137.0,91.0,103.0,145.0,23.0,25.0,92.0,83.0,81.0,115.0,150.0,106.0,115.0,140.0,79.0,104.0,52.0,90.0,83.0,97.0,85.0,69.0,94.0,121.0,40.0,89.0,94.0,90.0,86.0,100.0,84.0,58.0,95.0,78.0,51.0,69.0,104.0,101.0,59.0,91.0,153.0,61.0,149.0,94.0,79.0,137.0,53.0,166.0,162.0,92.0,93.0,155.0,158.0,138.0,151.0,96.0,106.0,141.0,127.0,130.0,140.0,145.0,132.0,41.0,110.0,170.0,157.0,165.0,114.0,143.0,106.0,73.0,71.0,161.0,187.0,127.0,165.0,117.0,134.0,116.0,94.0,168.0,109.0,148.0,135.0,127.0,115.0,150.0,87.0,127.0,185.0,75.0,177.0,81.0,137.0,118.0,124.0,123.0,90.0,91.0,87.0,89.0,81.0,47.0,46.0,173.0,108.0,125.0,124.0,137.0,171.0,160.0,87.0,110.0,69.0,67.0,92.0,96.0,92.0,85.0,105.0,127.0,109.0,150.0,100.0,73.0,93.0,91.0,87.0,134.0,118.0,85.0,60.0,96.0,133.0,118.0,150.0,132.0,121.0,127.0,152.0,126.0,104.0,162.0,120.0,65.0,133.0,110.0,96.0,95.0,24.0,97.0,94.0,65.0,84.0,91.0,97.0,102.0,93.0,105.0,53.0,116.0,102.0,81.0,93.0,97.0,94.0,90.0,110.0,88.0,80.0,86.0,143.0,84.0,42.0,117.0,96.0,78.0,96.0,69.0,74.0,108.0,91.0,68.0,92.0,102.0,61.0,57.0,85.0,49.0,87.0,85.0,59.0,97.0,104.0,77.0,63.0,69.0,86.0,62.0,108.0,95.0,99.0,62.0,106.0,117.0,60.0,94.0,147.0,94.0,89.0,89.0,89.0,111.0,118.0,153.0,87.0,122.0,97.0,121.0,124.0,68.0,94.0,100.0,71.0,76.0,60.0,89.0,92.0,63.0,135.0,112.0,88.0,97.0,83.0,89.0,86.0,52.0,126.0,133.0,90.0,91.0,104.0,105.0,123.0,89.0,87.0,91.0,102.0,106.0,102.0,91.0,87.0,103.0,193.0,176.0,124.0,135.0,106.0,133.0,107.0,78.0,192.0,55.0,132.0,148.0,46.0,46.0,46.0,74.0,46.0,50.0,114.0,117.0,108.0,97.0,122.0,115.0,104.0,140.0,101.0,99.0,102.0,94.0,92.0,125.0,82.0,151.0,85.0,86.0,93.0,49.0,82.0,100.0,55.0,53.0,87.0,102.0,112.0,105.0,106.0,89.0,91.0,61.0,94.0,93.0,80.0,118.0,141.0,94.0,84.0,103.0,85.0,69.0,100.0,85.0,97.0,129.0,143.0,90.0,92.0,81.0,105.0,91.0,111.0,103.0,118.0,148.0,88.0,75.0,89.0,128.0,86.0,83.0,109.0,111.0,40.0,70.0,108.0,106.0,106.0,81.0,94.0,102.0,102.0,89.0,162.0,147.0,224.0,137.0,109.0,163.0,162.0,104.0,91.0,27.0,67.0,142.0,78.0,26.0,123.0,113.0,92.0,46.0,124.0,81.0,97.0,81.0,119.0,149.0,106.0,140.0,121.0,87.0,99.0,96.0,128.0,76.0,94.0,114.0,101.0,93.0,109.0,51.0,61.0,73.0,113.0,125.0,92.0,94.0,65.0,135.0,86.0,80.0,142.0,131.0,66.0,88.0,99.0,96.0,126.0,65.0,54.0,76.0,100.0,81.0,123.0,144.0,153.0,105.0,103.0,141.0,115.0,120.0,104.0,22.0,97.0,54.0,120.0,132.0,135.0,87.0,82.0,158.0,107.0,122.0,62.0,95.0,98.0,113.0,94.0,120.0,92.0,132.0,84.0,76.0,75.0,93.0,98.0,91.0,48.0,168.0,68.0,97.0,115.0,148.0,149.0,113.0,137.0,140.0,144.0,103.0,90.0,95.0,82.0,94.0,79.0,66.0,135.0,96.0,144.0,108.0,127.0,127.0,90.0,126.0,121.0,119.0,109.0,132.0,118.0,84.0,93.0,96.0,145.0,158.0,132.0,111.0,133.0,143.0,117.0,84.0,107.0,83.0,102.0,52.0,110.0,85.0,113.0,88.0,89.0,59.0,80.0,107.0,106.0,90.0,66.0,92.0,101.0,135.0,107.0,74.0,74.0,74.0,83.0,79.0,72.0,80.0,75.0,75.0,72.0,80.0,93.0,79.0,86.0,107.0,47.0,107.0,119.0,108.0,85.0,90.0,72.0,23.0,68.0,85.0,84.0,118.0,116.0,89.0,81.0,73.0,140.0,130.0,103.0,40.0,103.0,85.0,106.0,104.0,82.0,94.0,81.0,91.0,112.0,102.0,101.0,119.0,62.0,64.0,137.0,108.0,132.0,87.0,92.0,108.0,78.0,40.0,71.0,89.0,99.0,110.0,60.0,90.0,78.0,95.0,58.0,62.0,65.0,61.0,65.0,58.0,60.0,135.0,98.0,96.0,79.0,113.0,90.0,114.0,79.0,98.0,70.0,116.0,139.0,101.0,148.0,54.0,92.0,107.0,90.0,135.0,52.0,151.0,90.0,88.0,99.0,99.0,132.0,95.0,155.0,162.0,163.0,102.0,96.0,85.0,97.0,95.0,83.0,89.0,28.0,103.0,84.0,160.0,113.0,99.0,86.0,83.0,113.0,86.0,78.0,96.0,95.0,57.0,92.0,81.0,98.0,95.0,105.0,116.0,100.0,95.0,70.0,51.0,94.0,83.0,92.0,88.0,104.0,104.0,104.0,124.0,113.0,124.0,96.0,101.0,63.0,56.0,92.0,91.0,94.0,94.0,82.0,100.0,90.0,71.0,97.0,89.0,83.0,98.0,92.0,88.0,62.0,165.0,166.0,166.0,159.0,160.0,159.0,93.0,95.0,22.0,22.0,105.0,101.0,124.0,100.0,54.0,121.0,103.0,129.0,89.0,92.0,111.0,92.0,91.0,172.0,45.0,95.0,80.0,67.0,84.0,97.0,86.0,59.0,58.0,47.0,114.0,103.0,93.0,84.0,67.0,91.0,110.0,110.0,84.0,63.0,94.0,116.0,104.0,143.0,116.0,14.0,89.0,108.0,59.0,99.0,74.0,103.0,105.0,84.0,109.0,96.0,78.0,83.0,89.0,97.0,95.0,106.0,116.0,91.0,90.0,86.0,97.0,170.0,153.0,104.0,162.0,163.0,106.0,108.0,130.0,133.0,148.0,105.0,90.0,79.0,121.0,66.0,102.0,108.0,139.0,91.0,90.0,81.0,96.0,72.0,89.0,92.0,81.0,161.0,92.0,24.0,66.0,100.0,122.0,91.0,81.0,92.0,77.0,104.0,73.0,102.0,82.0,47.0,98.0,102.0,112.0,85.0,108.0,87.0,84.0,107.0,117.0,89.0,119.0,88.0,126.0,130.0,102.0,154.0,44.0,104.0,76.0,96.0,63.0,108.0,105.0,47.0,44.0,109.0,89.0,92.0,122.0,19.0,154.0,152.0,161.0,123.0,44.0,106.0,80.0,71.0,87.0,153.0,98.0,79.0,143.0,123.0,97.0,80.0,73.0,90.0,106.0,101.0,119.0,140.0,59.0,164.0,92.0,151.0,84.0,51.0,142.0,66.0,110.0,99.0,86.0,101.0,88.0,86.0,151.0,116.0,128.0,128.0,86.0,88.0,80.0,61.0,92.0,82.0,81.0,72.0,98.0,64.0,95.0,96.0,111.0,127.0,117.0,123.0,139.0,95.0,148.0,121.0,79.0,127.0,92.0,162.0,163.0,83.0,112.0,117.0,90.0,95.0,99.0,125.0,44.0,93.0,89.0,92.0,120.0,114.0,109.0,83.0,107.0,129.0,135.0,149.0,136.0,138.0,177.0,61.0,126.0,137.0,114.0,104.0,96.0,147.0,107.0,91.0,81.0,53.0,95.0,95.0,149.0,106.0,108.0,66.0,54.0,55.0,55.0,55.0,55.0,113.0,83.0,53.0,102.0,95.0,50.0,97.0,92.0,97.0,105.0,107.0,99.0,101.0,81.0,92.0,131.0,111.0,104.0,99.0,101.0,71.0,96.0,85.0,106.0,119.0,84.0,85.0,110.0,89.0,76.0,74.0,103.0,101.0,98.0,74.0,156.0,88.0,70.0,88.0,93.0,143.0,83.0,90.0,107.0,93.0,99.0,134.0,77.0,78.0,101.0,53.0,81.0,106.0,84.0,51.0,90.0,77.0,95.0,63.0,58.0,59.0,52.0,32.0,18.0,102.0,40.0,42.0,76.0,61.0,82.0,45.0,92.0,118.0,91.0,63.0,110.0,91.0,93.0,93.0,108.0,72.0,114.0,91.0,97.0,118.0,92.0,91.0,137.0,97.0,101.0,143.0,97.0,107.0,168.0,117.0,103.0,80.0,87.0,160.0,88.0,85.0,104.0,62.0,109.0,103.0,99.0,102.0,97.0,99.0,101.0,102.0,102.0,107.0,99.0,106.0,103.0,123.0,98.0,118.0,100.0,101.0,103.0,101.0,104.0,104.0,100.0,136.0,102.0,105.0,24.0,110.0,105.0,105.0,102.0,98.0,118.0,106.0,106.0,92.0,92.0,91.0,83.0,123.0,90.0,57.0,103.0,92.0,52.0,52.0,87.0,56.0,115.0,53.0,94.0,118.0,92.0,98.0,125.0,113.0,110.0,71.0,108.0,123.0,97.0,99.0,97.0,100.0,98.0,75.0,54.0,54.0,55.0,54.0,55.0,67.0,129.0,105.0,78.0,99.0,96.0,95.0,87.0,134.0,119.0,128.0,128.0,91.0,109.0,79.0,88.0,107.0,92.0,88.0,71.0,64.0,83.0,124.0,123.0,97.0,96.0,150.0,91.0,79.0,93.0,54.0,73.0,88.0,109.0,93.0,78.0,86.0,94.0,116.0,154.0,90.0,179.0,93.0,97.0,80.0,88.0,99.0,104.0,94.0,77.0,111.0,108.0,92.0,78.0,87.0,99.0,91.0,37.0,102.0,67.0,57.0,78.0,130.0,80.0,90.0,93.0,66.0,93.0,119.0,90.0,105.0,83.0,96.0,84.0,98.0,91.0,89.0,90.0,89.0,123.0,117.0,100.0,91.0,87.0,146.0,82.0,104.0,85.0,109.0,74.0,94.0,84.0,98.0,82.0,22.0,141.0,95.0,117.0,100.0,75.0,69.0,80.0,97.0,92.0,92.0,85.0,83.0,118.0,84.0,52.0,84.0,146.0,93.0,97.0,90.0,75.0,93.0,62.0,98.0,92.0,22.0,115.0,88.0,87.0,86.0,94.0,105.0,88.0,88.0,86.0,93.0,98.0,29.0,88.0,93.0,81.0,83.0,31.0,83.0,73.0,38.0,108.0,90.0,97.0,81.0,70.0,62.0,104.0,97.0,99.0,96.0,84.0,112.0,90.0,88.0,56.0,89.0,24.0,100.0,116.0,101.0,92.0,79.0,67.0,72.0,96.0,103.0,92.0,61.0,88.0,88.0,113.0,67.0,65.0,62.0,107.0,85.0,69.0,60.0,77.0,98.0,71.0,101.0,64.0,112.0,125.0,125.0,59.0,91.0,44.0,107.0,101.0,93.0,82.0,86.0,81.0,92.0,89.0,107.0,94.0,110.0,81.0,77.0,64.0,111.0,97.0,77.0,94.0,94.0,91.0,93.0,95.0,80.0,95.0,90.0,101.0,73.0,108.0,25.0,86.0,105.0,100.0,96.0,97.0,73.0,44.0,132.0,96.0,92.0,99.0,92.0,99.0,78.0,87.0,65.0,65.0,69.0,64.0,63.0,63.0,89.0,60.0,84.0,93.0,41.0,91.0,83.0,25.0,94.0,102.0,111.0,88.0,93.0,29.0,88.0,103.0,107.0,52.0,91.0,180.0,75.0,92.0,90.0,114.0,80.0,99.0,79.0,66.0,46.0,90.0,72.0,71.0,77.0,70.0,73.0,107.0,81.0,86.0,63.0,44.0,128.0,51.0,45.0,46.0,112.0,87.0,87.0,106.0,100.0,101.0,117.0,114.0,94.0,100.0,96.0,58.0,87.0,81.0,96.0,52.0,114.0,105.0,157.0,84.0,91.0,80.0,97.0,105.0,96.0,60.0,79.0,93.0,95.0,99.0,109.0,96.0,102.0,107.0,60.0,86.0,29.0,163.0,98.0,101.0,91.0,99.0,74.0,66.0,76.0,95.0,127.0,86.0,116.0,82.0,70.0,102.0,88.0,109.0,75.0,23.0,83.0,97.0,62.0,84.0,90.0,82.0,96.0,65.0,92.0,90.0,93.0,91.0,100.0,101.0,103.0,74.0,44.0,43.0,95.0,94.0,68.0,72.0,47.0,52.0,92.0,107.0,108.0,74.0,110.0,24.0,46.0,24.0,55.0,24.0,23.0,24.0,24.0,101.0,29.0,60.0,60.0,78.0,73.0,72.0,60.0,47.0,70.0,77.0,120.0,74.0,57.0,72.0,78.0,91.0,62.0,85.0,85.0,90.0,105.0,59.0,137.0,86.0,135.0,99.0,64.0,72.0,83.0,82.0,90.0,80.0,130.0,62.0,90.0,92.0,155.0,78.0,92.0,60.0,69.0,103.0,92.0,143.0,83.0,78.0,84.0,78.0,93.0,84.0,77.0,58.0,82.0,83.0,100.0,29.0,72.0,26.0,48.0,73.0,103.0,81.0,75.0,100.0,90.0,68.0,71.0,71.0,100.0,94.0,80.0,78.0,35.0,72.0,93.0,105.0,130.0,100.0,44.0,80.0,72.0,75.0,26.0,84.0,120.0,76.0,95.0,96.0,94.0,94.0,93.0,96.0,94.0,94.0,93.0,95.0,93.0,75.0,103.0,84.0,29.0,104.0,81.0],\"xaxis\":\"x\",\"xbins\":{\"end\":312.0,\"size\":0.7,\"start\":3.0},\"yaxis\":\"y\",\"type\":\"histogram\"},{\"legendgroup\":\"a\",\"marker\":{\"color\":\"#6ad49b\"},\"mode\":\"lines\",\"name\":\"a\",\"showlegend\":false,\"x\":[3.0,3.618,4.236,4.854,5.4719999999999995,6.09,6.708,7.326,7.944,8.562000000000001,9.18,9.798,10.416,11.034,11.652,12.27,12.888,13.506,14.124,14.742,15.36,15.978,16.596,17.214,17.832,18.45,19.068,19.686,20.304,20.922,21.54,22.158,22.776,23.394,24.012,24.63,25.248,25.866,26.484,27.102,27.72,28.338,28.956,29.574,30.192,30.81,31.428,32.046,32.664,33.282,33.9,34.518,35.136,35.754,36.372,36.99,37.608,38.226,38.844,39.462,40.08,40.698,41.316,41.934,42.552,43.17,43.788,44.406,45.024,45.642,46.26,46.878,47.496,48.114,48.732,49.35,49.968,50.586,51.204,51.822,52.44,53.058,53.676,54.294,54.912,55.53,56.148,56.766,57.384,58.002,58.62,59.238,59.856,60.474,61.092,61.71,62.328,62.946,63.564,64.182,64.8,65.418,66.036,66.654,67.272,67.89,68.508,69.126,69.744,70.362,70.98,71.598,72.216,72.834,73.452,74.07,74.688,75.306,75.924,76.542,77.16,77.778,78.396,79.014,79.632,80.25,80.868,81.486,82.104,82.722,83.34,83.958,84.576,85.194,85.812,86.43,87.048,87.666,88.284,88.902,89.52,90.138,90.756,91.374,91.992,92.61,93.228,93.846,94.464,95.082,95.7,96.318,96.936,97.554,98.172,98.79,99.408,100.026,100.644,101.262,101.88,102.498,103.116,103.734,104.352,104.97,105.588,106.206,106.824,107.442,108.06,108.678,109.296,109.914,110.532,111.15,111.768,112.386,113.004,113.622,114.24,114.858,115.476,116.094,116.712,117.33,117.948,118.566,119.184,119.802,120.42,121.038,121.656,122.274,122.892,123.51,124.128,124.746,125.364,125.982,126.6,127.218,127.836,128.454,129.072,129.69,130.308,130.926,131.544,132.162,132.78,133.398,134.016,134.634,135.252,135.87,136.488,137.106,137.724,138.342,138.96,139.578,140.196,140.814,141.432,142.05,142.668,143.286,143.904,144.522,145.14,145.758,146.376,146.994,147.612,148.23,148.848,149.466,150.084,150.702,151.32,151.938,152.556,153.174,153.792,154.41,155.028,155.646,156.264,156.882,157.5,158.118,158.736,159.354,159.972,160.59,161.208,161.826,162.444,163.062,163.68,164.298,164.916,165.534,166.152,166.77,167.388,168.006,168.624,169.242,169.86,170.478,171.096,171.714,172.332,172.95,173.568,174.186,174.804,175.422,176.04,176.658,177.276,177.894,178.512,179.13,179.748,180.366,180.984,181.602,182.22,182.838,183.456,184.074,184.692,185.31,185.928,186.546,187.164,187.782,188.4,189.018,189.636,190.254,190.872,191.49,192.108,192.726,193.344,193.962,194.58,195.198,195.816,196.434,197.052,197.67,198.288,198.906,199.524,200.142,200.76,201.378,201.996,202.614,203.232,203.85,204.468,205.086,205.704,206.322,206.94,207.558,208.176,208.794,209.412,210.03,210.648,211.266,211.884,212.502,213.12,213.738,214.356,214.974,215.592,216.21,216.828,217.446,218.064,218.682,219.3,219.918,220.536,221.154,221.772,222.39,223.008,223.626,224.244,224.862,225.48,226.098,226.716,227.334,227.952,228.57,229.188,229.806,230.424,231.042,231.66,232.278,232.896,233.514,234.132,234.75,235.368,235.986,236.604,237.222,237.84,238.458,239.076,239.694,240.312,240.93,241.548,242.166,242.784,243.402,244.02,244.638,245.256,245.874,246.492,247.11,247.728,248.346,248.964,249.582,250.2,250.818,251.436,252.054,252.672,253.29,253.908,254.526,255.144,255.762,256.38,256.998,257.616,258.23400000000004,258.852,259.47,260.088,260.706,261.324,261.942,262.56,263.178,263.796,264.414,265.032,265.65,266.268,266.886,267.504,268.122,268.74,269.358,269.976,270.594,271.212,271.83,272.448,273.066,273.684,274.302,274.92,275.538,276.156,276.774,277.392,278.01,278.628,279.246,279.864,280.482,281.1,281.718,282.336,282.954,283.572,284.19,284.808,285.426,286.044,286.662,287.28,287.898,288.516,289.134,289.752,290.37,290.988,291.606,292.224,292.842,293.46,294.078,294.696,295.314,295.932,296.55,297.168,297.786,298.404,299.022,299.64,300.258,300.876,301.494,302.112,302.73,303.348,303.966,304.584,305.202,305.82,306.438,307.056,307.674,308.292,308.91,309.528,310.146,310.764,311.382],\"xaxis\":\"x\",\"y\":[4.0194895106035e-05,4.337906059201206e-05,4.679219112259686e-05,5.044877416926587e-05,5.4364055860099413e-05,5.855406876491028e-05,6.303565981372065e-05,6.782651827247414e-05,7.294520369377718e-05,7.841117375424249e-05,8.424481188367807e-05,9.046745458493527e-05,9.710141833674479e-05,0.00010417002596533589,0.00011169763236408362,0.00011970964943389958,0.00012823257011058945,0.00013729399133899546,0.00014692263584744513,0.00015714837256988428,0.00016800223555712114,0.000179516441212889,0.0001917244036849885,0.00020466074823664344,0.0002183613224184495,0.00023286320485693633,0.00024820471147188924,0.00026442539893118235,0.0002815660651490706,0.000299668746631669,0.0003187767124718079,0.00033893445479460084,0.00036018767545500436,0.00038258326878936173,0.0004061693002245307,0.0004309949805506831,0.0004571106356673239,0.0004845676716165065,0.0005134185347227229,0.000543716666665481,0.0005755164543182599,0.0006088731741963412,0.0006438429313659686,0.0006804825926784963,0.00071884971420551,0.0007590024627645544,0.000800999531439905,0.0008449000490189175,0.0008907634832817465,0.0009386495381007986,0.00098861804432596,0.0010407288444525607,0.0010950416710910917,0.0011516160192808248,0.001210511012713723,0.0012717852639602247,0.0013354967288146619,0.001401702554905113,0.001470458924740295,0.0015418208933946267,0.0016158422210617762,0.0016925752007365877,0.0017720704813153614,0.0018543768864347626,0.0019395412294001186,0.0020276081245843157,0.0021186197957088907,0.0022126158814490446,0.00230963323883392,0.0024097057449426708,0.002512864097425212,0.002619135614404036,0.0027285440343399227,0.002841109316469631,0.00295684744244743,0.0030757702198446583,0.003197885088182023,0.003323194928188021,0.003451697874993474,0.003583387135986533,0.003718250814064617,0.0038562717370291665,0.003997427293876027,0.004141689278738329,0.00428902374323989,0.0044393908580152895,0.004592744784147799,0.004749033555268098,0.0049081989710452485,0.005070176502786435,0.005234895211843789,0.005402277681504826,0.005572239963017807,0.005744691536374752,0.005919535286442654,0.006096667494997946,0.0062759778491804025,0.006457349466840514,0.006640658939208972,0.006825776391268428,0.007012565560156433,0.007200883891874047,0.007390582656517869,0.007581507082193944,0.007773496507710275,0.007966384554081154,0.008159999314811142,0.00835416356485929,0.008548694988116196,0.008743406423156961,0.00893810612696318,0.009132598056236516,0.009326682165855991,0.00952015472396049,0.00971280864306825,0.009904433826576062,0.010094817529912904,0.010283744735556478,0.010470998541056653,0.01065636055914723,0.010839611328967816,0.011020530737360376,0.011198898449151094,0.011374494345277758,0.011547098967575827,0.011716493968993692,0.011882462567968924,0.012044790005663105,0.012203264004723508,0.012357675228215256,0.012507817737348152,0.012653489446608138,0.012794492574894565,0.01293063409126098,0.013061726153859417,0.013187586540696086,0.01330803907081961,0.01342291401458239,0.01353204849164023,0.013635286855385778,0.013732481062547196,0.013823491026724602,0.013908184954683298,0.013986439664274363,0.014058140882909425,0.014123183525577634,0.014181471951458158,0.014232920198251193,0.014277452193423898,0.014315001941644626,0.014345513687759057,0.014368942054744838,0.014385252156166994,0.014394419682743945,0.01439643096272351,0.014391282995858953,0.014378983460866909,0.014359550696341246,0.014333013655189231,0.014299411832748516,0.01425879516883471,0.01421122392405961,0.014156768530848867,0.014095509419674608,0.014027536821103154,0.013952950544339733,0.013871859733030942,0.013784382599161194,0.01369064613595119,0.013590785810734174,0.0134849452388494,0.013373275839651196,0.013255936475786205,0.013133093076940883,0.013004918249305273,0.012871590872038144,0.012733295682051842,0.012590222848463228,0.012442567538079324,0.012290529473303018,0.012134312483855074,0.011974124053714189,0.011810174864676523,0.011642678337930338,0.011471850175030213,0.0112979078996388,0.011121070401382223,0.010941557483138678,0.010759589413048207,0.01057538648249535,0.010389168571276124,0.010201154721115841,0.010011562718656072,0.009820608688976815,0.009628506700664542,0.009435468383378666,0.00924170255880776,0.009047414885843546,0.008852807520735443,0.008658078792921213,0.008463422897160887,0.008269029602531787,0.00807508397877215,0.00788176614039042,0.007689251008886734,0.007497708093362641,0.007307301289725548,0.00711818869862528,0.006930522462192537,0.0067444486195825945,0.006560106981262909,0.006377631021920635,0.006197147791805333,0.006018777846263889,0.005842635193169009,0.005668827257889608,0.005497454865401203,0.005328612239087526,0.005162387015740364,0.00499886027622403,0.004838106591233481,0.004680194081540886,0.004525184492095155,0.004373133279311469,0.004224089710864414,0.004078096977277958,0.003935192314588835,0.0037954071373463363,0.003658767181201704,0.0035252926543332553,0.003394998396949932,0.0032678940481153953,0.003143984219137243,0.0030232686727711473,0.002905742507497963,0.0027913963461422653,0.002680216528113984,0.0025721853045702053,0.0024672810358115976,0.002365478390247636,0.002266748544285948,0.0021710593825241607,0.0020783756976470906,0.0019886593894578993,0.0019018696624987005,0.0018179632217441442,0.001736894465880091,0.0016586156777089714,0.001583077211253271,0.001510227675158842,0.001440014112030121,0.0013723821733599277,0.0013072762897468238,0.0012446398361233022,0.0011844152917479184,0.0011265443947438994,0.0010709682909957087,0.001017627677243201,0.0009664629382405421,0.0009174142778737009,0.0008704218441561133,0.0008254258480468291,0.0007823666760593207,0.0007411849966517039,0.0007018218604107269,0.0006642187940622556,0.0006283178883601868,0.0005940618799236874,0.0005613942271094574,0.0005302591800212021,0.0005006018447728177,0.000472368242134856,0.0004455053607056556,0.00041996120475921604,0.00039568483693130116,0.0003726264159135894,0.0003507372293328566,0.00032996972199825843,0.0003102775197047837,0.0002916154487849916,0.0002739395516041335,0.00025720709819587484,0.0002413765942370438,0.0002264077855601997,0.00021226165940239252,0.00019890044258734902,0.0001862875968364525,0.00017438781140141516,0.000163166993208472,0.00015259225470030702,0.00014263189955783986,0.0001332554064794577,0.0001244334111903508,0.00011613768684934365,0.00010834112301504086,0.00010101770332727247,9.414248205379946e-05,8.769155964600853e-05,8.164205744098582e-05,7.597209164090931e-05,7.066074669418762e-05,6.568804819622675e-05,6.103493542116855e-05,5.6683233589420504e-05,5.261562596933507e-05,4.8815625905013744e-05,4.5267548855917e-05,4.195648452780337e-05,3.886826916848432e-05,3.598945809600981e-05,3.330729852119084e-05,3.080970272083942e-05,2.8485221612766437e-05,2.6323018778447207e-05,2.431284497432929e-05,2.2445013168043763e-05,2.0710374131280393e-05,1.9100292616808293e-05,1.7606624143063777e-05,1.622169240589429e-05,1.4938267333430317e-05,1.3749543796664044e-05,1.2649120985136403e-05,1.1630982454170838e-05,1.0689476847338343e-05,9.81929929529097e-06,9.01547348975134e-06,8.273334429290434e-06,7.588511831558867e-06,6.956914204848085e-06,6.374713570245244e-06,5.838330824196462e-06,5.34442173000451e-06,4.889863525648304e-06,4.4717421343168035e-06,4.087339963189754e-06,3.734124275266696e-06,3.4097361184330245e-06,3.111979795453202e-06,2.8388128581862436e-06,2.5883366090224675e-06,2.3587870923330165e-06,2.148526558601958e-06,1.9560353838630344e-06,1.7799044270879252e-06,1.6188278082596615e-06,1.4715960900104194e-06,1.3370898459000367e-06,1.2142735986553254e-06,1.1021901119749972e-06,9.999550198264439e-07,9.067517775131866e-07,8.218269191718198e-07,7.444856067605065e-07,6.740874560230482e-07,6.100426253507803e-07,5.518081539145087e-07,4.988845358983912e-07,4.508125181332991e-07,4.0717010889716113e-07,3.675697861206646e-07,3.316558937073719e-07,2.9910221514499914e-07,2.696097140481601e-07,2.429044317304329e-07,2.1873553235387271e-07,1.9687348664595546e-07,1.7710838560617957e-07,1.592483760464861e-07,1.4311821022028798e-07,1.2855790219386688e-07,1.154214840004271e-07,1.0357585499096186e-07,9.289971815695547e-08,8.328259754751941e-08,7.462393123785473e-08,6.683223462675524e-08,5.982432914835733e-08,5.3524631777480375e-08,4.786450098891085e-08,4.278163509895015e-08,3.821951917280279e-08,3.41269169240819e-08,3.045740426322052e-08,2.7168941370192756e-08,2.4223480373993808e-08,2.1586605917194456e-08,1.922720606891127e-08,1.7117171224134485e-08,1.523111879189303e-08,1.35461416296333e-08,1.2041578326820704e-08,1.0698803577555044e-08,9.501037010310251e-09,8.433168963159966e-09,7.481601805418689e-09,6.634105511897798e-09,5.879686294309468e-09,5.208467186122911e-09,4.611579562727594e-09,4.081064658439786e-09,3.609784216022674e-09,3.191339473304532e-09,2.819997755472329e-09,2.4906260009933786e-09,2.198630604149595e-09,1.9399030081337675e-09,1.7107705298106676e-09,1.5079519408328655e-09,1.3285173700576722e-09,1.1698521293573605e-09,1.0296240991620632e-09,9.057543416208117e-10,7.963906383006795e-10,6.998836760431184e-10,6.147656291280709e-10,5.397309084180832e-10,4.73618868812031e-10,4.1539828527311776e-10,3.641534250346709e-10,3.190715594543752e-10,2.794317734945195e-10,2.4459494405963475e-10,2.139947705216916e-10,1.871297517991801e-10,1.6355601441512004e-10,1.4288090512008264e-10,1.2475727000308508e-10,1.0887834959440842e-10,9.497322635290367e-11,8.280276718513339e-11,7.215600931839941e-11,6.284694299462746e-11,5.4711649112981504e-11,4.7605754168527893e-11,4.140216865117131e-11,3.598907851941732e-11,3.1268162480126154e-11,2.715301061863963e-11,2.35677224611254e-11,2.044566483812245e-11,1.7728371978314556e-11,1.5364572115698588e-11,1.3309326561010046e-11,1.1523268687160427e-11,9.971931624712424e-12,8.62515467173584e-12,7.456559506158827e-12,6.443088260097531e-12,5.564596385691019e-12,4.8034940207034765e-12,4.144430258702759e-12,3.5740153512252794e-12,3.080576425463894e-12,2.6539427974354694e-12,2.2852574034018655e-12,1.966811267061653e-12,1.6918982716778024e-12,1.4546878193590787e-12,1.250113238217215e-12,1.0737740457293845e-12,9.21850396625352e-13,7.910282389453684e-13,6.784338752267157e-13,5.815767794569062e-13,4.982996566120046e-13,4.26734852195919e-13,3.6526632592262235e-13,3.1249649807372156e-13,2.6721736048963707e-13,2.2838531784055296e-13,1.9509928986770645e-13,1.6658166266389145e-13,1.4216172764510422e-13,1.2126129142959578e-13,1.0338217907732357e-13,8.809538766672286e-14,7.503167754398522e-14,6.387341525805837e-14,5.4347505624024025e-14,4.621927092076799e-14,3.9287153265413883e-14,3.337813201727535e-14,2.8343761914308315e-14,2.405674977058829e-14,2.0407998172379297e-14,1.730405388681769e-14,1.4664906803399496e-14,1.2422092307677613e-14,1.0517056165051765e-14,8.89974638160939e-15,7.527401206583517e-15,6.363506533362752e-15,5.376899518898546e-15,4.540998341419921e-15,3.833140712055445e-15,3.234016098604678e-15,2.727178654283912e-15,2.298629610245213e-15,1.9364594225499665e-15],\"yaxis\":\"y\",\"type\":\"scatter\"},{\"legendgroup\":\"a\",\"marker\":{\"color\":\"#6ad49b\",\"symbol\":\"line-ns-open\"},\"mode\":\"markers\",\"name\":\"a\",\"showlegend\":false,\"x\":[67.0,135.0,106.0,107.0,81.0,107.0,118.0,110.0,104.0,93.0,94.0,124.0,137.0,134.0,69.0,106.0,209.0,86.0,24.0,46.0,117.0,87.0,92.0,114.0,121.0,94.0,109.0,110.0,96.0,97.0,121.0,56.0,119.0,138.0,93.0,111.0,88.0,81.0,73.0,86.0,116.0,85.0,134.0,109.0,102.0,101.0,88.0,101.0,28.0,103.0,131.0,166.0,105.0,82.0,107.0,84.0,103.0,112.0,89.0,121.0,87.0,136.0,118.0,129.0,94.0,88.0,158.0,78.0,100.0,93.0,84.0,107.0,101.0,107.0,74.0,60.0,143.0,105.0,110.0,98.0,100.0,74.0,100.0,46.0,88.0,54.0,59.0,100.0,95.0,88.0,100.0,93.0,94.0,121.0,78.0,116.0,87.0,61.0,98.0,123.0,85.0,92.0,87.0,92.0,112.0,97.0,78.0,103.0,107.0,44.0,68.0,68.0,99.0,69.0,81.0,69.0,68.0,68.0,91.0,86.0,40.0,102.0,119.0,94.0,119.0,90.0,105.0,89.0,108.0,108.0,87.0,112.0,101.0,89.0,91.0,200.0,119.0,90.0,103.0,110.0,133.0,124.0,118.0,40.0,98.0,85.0,115.0,137.0,98.0,110.0,55.0,86.0,92.0,116.0,94.0,134.0,102.0,98.0,100.0,105.0,116.0,118.0,153.0,109.0,99.0,96.0,91.0,185.0,92.0,82.0,127.0,98.0,111.0,120.0,137.0,121.0,89.0,91.0,135.0,98.0,139.0,95.0,98.0,91.0,122.0,100.0,103.0,129.0,133.0,36.0,141.0,105.0,107.0,136.0,138.0,129.0,97.0,141.0,99.0,89.0,24.0,90.0,98.0,89.0,88.0,65.0,126.0,63.0,14.0,28.0,20.0,88.0,98.0,94.0,106.0,118.0,127.0,61.0,86.0,94.0,82.0,92.0,95.0,52.0,108.0,91.0,96.0,67.0,83.0,94.0,97.0,91.0,66.0,98.0,92.0,118.0,87.0,121.0,98.0,99.0,95.0,107.0,100.0,101.0,86.0,96.0,99.0,112.0,127.0,140.0,22.0,78.0,63.0,97.0,86.0,93.0,73.0,62.0,96.0,104.0,123.0,100.0,99.0,151.0,102.0,154.0,106.0,87.0,70.0,46.0,111.0,101.0,109.0,100.0,110.0,102.0,102.0,24.0,96.0,98.0,76.0,93.0,77.0,103.0,45.0,119.0,147.0,123.0,99.0,98.0,106.0,112.0,85.0,91.0,88.0,101.0,90.0,96.0,99.0,101.0,111.0,96.0,86.0,97.0,121.0,59.0,58.0,90.0,88.0,64.0,104.0,122.0,125.0,92.0,129.0,79.0,121.0,106.0,124.0,87.0,125.0,154.0,86.0,111.0,97.0,66.0,121.0,91.0,91.0,82.0,117.0,81.0,84.0,81.0,107.0,94.0,163.0,90.0,96.0,91.0,93.0,64.0,45.0,89.0,90.0,102.0,116.0,42.0,133.0,108.0,38.0,97.0,89.0,146.0,146.0,130.0,106.0,58.0,152.0,87.0,121.0,182.0,106.0,102.0,98.0,83.0,82.0,111.0,24.0,171.0,84.0,112.0,80.0,88.0,124.0,104.0,76.0,91.0,64.0,94.0,86.0,157.0,83.0,95.0,106.0,87.0,90.0,65.0,105.0,107.0,103.0,88.0,96.0,67.0,140.0,96.0,93.0,90.0,125.0,142.0,133.0,100.0,10.0,128.0,88.0,108.0,93.0,96.0,102.0,108.0,81.0,102.0,93.0,87.0,94.0,100.0,88.0,109.0,138.0,149.0,82.0,86.0,112.0,98.0,113.0,47.0,106.0,113.0,119.0,109.0,98.0,88.0,116.0,106.0,95.0,95.0,113.0,84.0,91.0,102.0,100.0,81.0,98.0,110.0,106.0,85.0,66.0,92.0,92.0,91.0,133.0,135.0,120.0,118.0,123.0,110.0,98.0,98.0,98.0,104.0,167.0,63.0,52.0,95.0,72.0,117.0,100.0,24.0,86.0,112.0,69.0,119.0,123.0,93.0,109.0,97.0,66.0,107.0,46.0,96.0,91.0,80.0,103.0,117.0,76.0,67.0,114.0,67.0,77.0,84.0,105.0,63.0,94.0,99.0,59.0,102.0,81.0,145.0,84.0,102.0,101.0,116.0,164.0,87.0,90.0,106.0,116.0,134.0,133.0,118.0,120.0,154.0,128.0,115.0,177.0,105.0,112.0,120.0,119.0,100.0,92.0,104.0,97.0,88.0,128.0,130.0,108.0,98.0,89.0,90.0,130.0,83.0,99.0,59.0,107.0,99.0,94.0,111.0,100.0,77.0,57.0,107.0,93.0,114.0,103.0,153.0,94.0,149.0,111.0,58.0,56.0,110.0,98.0,106.0,102.0,93.0,81.0,77.0,98.0,97.0,136.0,161.0,32.0,86.0,107.0,98.0,83.0,77.0,133.0,105.0,79.0,106.0,90.0,87.0,95.0,91.0,67.0,106.0,65.0,131.0,105.0,119.0,105.0,40.0,107.0,112.0,97.0,106.0,66.0,106.0,110.0,102.0,105.0,112.0,96.0,97.0,53.0,113.0,53.0,54.0,53.0,54.0,113.0,53.0,53.0,53.0,54.0,54.0,52.0,54.0,54.0,53.0,53.0,53.0,113.0,53.0,91.0,126.0,99.0,134.0,26.0,117.0,89.0,94.0,101.0,94.0,99.0,114.0,48.0,78.0,118.0,119.0,104.0,98.0,93.0,61.0,90.0,122.0,113.0,141.0,81.0,176.0,119.0,73.0,87.0,88.0,15.0,55.0,141.0,122.0,117.0,95.0,109.0,63.0,73.0,107.0,87.0,99.0,96.0,113.0,69.0,99.0,87.0,85.0,112.0,116.0,99.0,101.0,110.0,116.0,96.0,83.0,110.0,86.0,110.0,122.0,99.0,59.0,65.0,126.0,97.0,68.0,65.0,63.0,89.0,88.0,91.0,53.0,40.0,113.0,117.0,90.0,95.0,98.0,97.0,102.0,61.0,93.0,117.0,108.0,126.0,93.0,60.0,142.0,113.0,90.0,120.0,107.0,74.0,119.0,114.0,125.0,71.0,110.0,127.0,118.0,90.0,94.0,90.0,98.0,98.0,99.0,133.0,94.0,116.0,93.0,103.0,84.0,90.0,107.0,89.0,90.0,96.0,130.0,90.0,86.0,79.0,93.0,12.0,62.0,3.0,94.0,93.0,114.0,110.0,125.0,119.0,109.0,100.0,98.0,98.0,128.0,83.0,105.0,109.0,83.0,101.0,78.0,110.0,116.0,141.0,120.0,97.0,109.0,105.0,102.0,127.0,101.0,135.0,124.0,103.0,105.0,98.0,93.0,113.0,106.0,99.0,123.0,91.0,84.0,99.0,93.0,122.0,38.0,101.0,99.0,91.0,30.0,30.0,137.0,111.0,66.0,159.0,125.0,95.0,95.0,70.0,87.0,88.0,96.0,90.0,84.0,53.0,87.0,90.0,96.0,150.0,105.0,112.0,119.0,142.0,94.0,97.0,137.0,100.0,125.0,128.0,108.0,136.0,165.0,124.0,133.0,116.0,102.0,87.0,61.0,94.0,70.0,92.0,88.0,100.0,111.0,128.0,63.0,63.0,62.0,62.0,98.0,104.0,110.0,87.0,126.0,103.0,111.0,100.0,112.0,96.0,71.0,86.0,99.0,125.0,147.0,88.0,40.0,79.0,110.0,101.0,128.0,110.0,79.0,87.0,116.0,119.0,53.0,82.0,99.0,87.0,90.0,124.0,53.0,88.0,54.0,104.0,92.0,126.0,140.0,87.0,93.0,80.0,92.0,64.0,72.0,148.0,110.0,119.0,163.0,125.0,87.0,96.0,91.0,122.0,125.0,49.0,95.0,99.0,98.0,98.0,90.0,97.0,97.0,86.0,114.0,96.0,99.0,88.0,66.0,70.0,168.0,98.0,89.0,100.0,90.0,77.0,100.0,102.0,98.0,92.0,116.0,111.0,91.0,99.0,99.0,99.0,98.0,73.0,113.0,153.0,81.0,54.0,138.0,93.0,123.0,96.0,101.0,59.0,53.0,102.0,141.0,95.0,111.0,131.0,116.0,119.0,146.0,101.0,82.0,90.0,87.0,95.0,94.0,129.0,94.0,103.0,133.0,135.0,61.0,85.0,91.0,105.0,59.0,91.0,94.0,89.0,131.0,136.0,170.0,91.0,128.0,88.0,97.0,110.0,170.0,92.0,94.0,92.0,113.0,59.0,126.0,86.0,120.0,76.0,60.0,118.0,88.0,55.0,110.0,113.0,110.0,94.0,54.0,53.0,103.0,126.0,89.0,124.0,128.0,88.0,83.0,96.0,118.0,91.0,91.0,53.0,103.0,108.0,88.0,81.0,124.0,102.0,98.0,132.0,87.0,89.0,109.0,75.0,126.0,61.0,126.0,108.0,89.0,100.0,129.0,71.0,108.0,101.0,60.0,105.0,115.0,118.0,130.0,101.0,115.0,99.0,69.0,97.0,61.0,87.0,97.0,101.0,92.0,123.0,108.0,104.0,98.0,65.0,88.0,106.0,69.0,97.0,80.0,85.0,99.0,98.0,115.0,138.0,90.0,86.0,90.0,117.0,132.0,127.0,125.0,128.0,126.0,58.0,87.0,98.0,116.0,90.0,111.0,100.0,123.0,106.0,100.0,104.0,99.0,105.0,128.0,91.0,127.0,100.0,131.0,104.0,94.0,124.0,106.0,108.0,104.0,103.0,100.0,79.0,92.0,116.0,83.0,118.0,162.0,162.0,126.0,109.0,109.0,89.0,111.0,89.0,97.0,108.0,103.0,88.0,120.0,90.0,99.0,83.0,107.0,109.0,105.0,87.0,93.0,90.0,89.0,131.0,114.0,92.0,75.0,107.0,97.0,90.0,98.0,100.0,103.0,66.0,106.0,125.0,77.0,130.0,119.0,110.0,120.0,102.0,125.0,103.0,127.0,121.0,101.0,113.0,118.0,132.0,106.0,116.0,117.0,90.0,61.0,90.0,107.0,80.0,58.0,58.0,56.0,110.0,70.0,117.0,89.0,84.0,131.0,91.0,103.0,100.0,139.0,103.0,42.0,79.0,90.0,88.0,96.0,114.0,99.0,89.0,103.0,127.0,113.0,111.0,112.0,96.0,103.0,104.0,102.0,86.0,97.0,111.0,132.0,89.0,102.0,120.0,137.0,82.0,85.0,115.0,107.0,130.0,57.0,62.0,112.0,26.0,102.0,93.0,111.0,93.0,91.0,118.0,63.0,74.0,136.0,90.0,132.0,101.0,59.0,84.0,91.0,93.0,91.0,84.0,101.0,110.0,82.0,100.0,52.0,51.0,127.0,86.0,107.0,22.0,22.0,22.0,44.0,91.0,99.0,105.0,105.0,88.0,128.0,24.0,113.0,52.0,50.0,49.0,92.0,110.0,106.0,120.0,83.0,123.0,56.0,141.0,97.0,118.0,95.0,127.0,118.0,74.0,91.0,137.0,86.0,106.0,125.0,114.0,143.0,121.0,119.0,108.0,150.0,88.0,105.0,119.0,97.0,96.0,91.0,49.0,95.0,98.0,96.0,83.0,96.0,90.0,97.0,99.0,94.0,90.0,88.0,105.0,118.0,86.0,127.0,88.0,125.0,116.0,102.0,65.0,88.0,106.0,117.0,91.0,93.0,136.0,116.0,121.0,89.0,104.0,65.0,91.0,99.0,91.0,117.0,135.0,135.0,91.0,95.0,75.0,95.0,82.0,124.0,106.0,86.0,115.0,99.0,101.0,142.0,102.0,122.0,95.0,120.0,96.0,92.0,110.0,133.0,143.0,111.0,144.0,121.0,99.0,93.0,100.0,102.0,123.0,127.0,116.0,119.0,105.0,134.0,90.0,93.0,93.0,108.0,115.0,119.0,61.0,109.0,97.0,154.0,120.0,148.0,121.0,95.0,102.0,87.0,114.0,48.0,124.0,101.0,28.0,34.0,61.0,56.0,81.0,68.0,58.0,100.0,50.0,49.0,71.0,29.0,108.0,125.0,72.0,100.0,30.0,30.0,146.0,127.0,46.0,57.0,87.0,90.0,86.0,122.0,97.0,312.0,109.0,122.0,116.0,73.0,96.0,91.0,110.0,115.0,150.0,90.0,89.0,93.0,105.0,105.0,124.0,105.0,44.0,91.0,95.0,78.0,22.0,95.0,82.0,89.0,90.0,94.0,85.0,29.0,96.0,101.0,137.0,27.0,112.0,112.0,107.0,153.0,123.0,90.0,84.0,78.0,79.0,73.0,83.0,83.0,145.0,135.0,109.0,35.0,86.0,68.0,107.0,110.0,86.0,85.0,75.0,90.0,105.0,124.0,110.0,96.0,110.0,58.0,105.0,59.0,28.0,98.0,111.0,116.0,106.0,63.0,109.0,88.0,155.0,119.0,122.0,87.0,73.0,98.0,130.0,99.0,105.0,110.0,81.0,115.0,113.0,146.0,118.0,122.0,109.0,68.0,117.0,23.0,95.0,124.0,90.0,96.0,96.0,123.0,85.0,93.0,30.0,82.0,95.0,127.0,120.0,114.0,119.0,101.0,96.0,120.0,139.0,95.0,44.0,104.0,110.0,91.0,91.0,114.0,91.0,64.0,89.0,95.0,86.0,94.0,133.0,102.0,122.0,86.0,111.0,132.0,111.0,136.0,121.0,76.0,92.0,119.0,45.0,75.0,71.0,81.0,115.0,128.0,92.0,95.0,114.0,99.0,132.0,106.0,122.0,79.0,78.0,111.0,112.0,107.0,102.0,81.0,129.0,90.0,86.0,116.0,59.0,95.0,122.0,98.0,103.0,117.0,95.0,146.0,136.0,91.0,123.0,144.0,103.0,11.0,22.0,126.0,121.0,91.0,158.0,157.0,124.0,106.0,92.0,80.0,94.0,126.0,129.0,133.0,109.0,143.0,140.0,150.0,128.0,120.0,154.0,45.0,132.0,126.0,95.0,91.0,135.0,139.0,131.0,118.0,129.0,131.0,146.0,123.0,141.0,93.0,91.0,58.0,91.0,112.0,119.0,106.0,131.0,95.0,104.0,126.0,118.0,116.0,122.0,105.0,90.0,87.0,102.0,89.0,94.0,100.0,126.0,89.0,90.0,87.0,97.0,115.0,93.0,138.0,74.0,102.0,103.0,119.0,104.0,161.0,51.0,50.0,86.0,140.0,122.0,23.0,95.0,205.0,123.0,190.0,121.0,131.0,80.0,63.0,150.0,159.0,131.0,130.0,99.0,86.0,106.0,57.0,97.0,118.0,98.0,144.0,110.0,96.0,57.0,98.0,119.0,92.0,94.0,151.0,74.0,89.0,124.0,25.0,84.0,121.0,85.0,25.0,121.0,88.0,111.0,81.0,64.0,55.0,137.0,56.0,58.0,80.0,94.0,94.0,72.0,60.0,140.0,91.0,97.0,146.0,118.0,133.0,106.0,128.0,137.0,145.0,141.0,106.0,61.0,135.0,137.0,129.0,99.0,155.0,142.0,214.0,137.0,128.0,89.0,67.0,151.0,121.0,101.0,145.0,147.0,90.0,129.0,129.0,136.0,117.0,74.0,150.0,134.0,100.0,44.0,44.0,111.0,147.0,115.0,121.0,103.0,73.0,129.0,102.0,122.0,155.0,139.0,131.0,127.0,156.0,91.0,132.0,130.0,137.0,132.0,156.0,132.0,119.0,140.0,101.0,126.0,107.0,112.0,111.0,126.0,130.0,126.0,24.0,127.0,108.0,163.0,117.0,95.0,103.0,110.0,111.0,91.0,101.0,124.0,63.0,102.0,103.0,112.0,103.0,92.0,93.0,112.0,113.0,92.0,153.0,111.0,141.0,128.0,52.0,117.0,100.0,112.0,110.0,98.0,107.0,109.0,100.0,114.0,98.0,100.0,100.0,123.0,86.0,77.0,112.0,106.0,106.0,102.0,86.0,146.0,122.0,126.0,116.0,135.0,125.0,96.0,130.0,135.0,88.0,96.0,100.0,122.0,110.0,104.0,96.0,109.0,95.0,110.0,110.0,79.0,101.0,112.0,94.0,94.0,86.0,84.0,95.0,93.0,113.0,111.0,68.0,135.0,95.0,93.0,101.0,98.0,90.0,112.0,141.0,120.0,140.0,87.0,99.0,86.0,104.0,100.0,50.0,124.0,57.0,31.0,90.0,96.0,196.0,93.0,110.0,162.0,139.0,130.0,145.0,88.0,91.0,91.0,102.0,95.0,33.0,119.0,114.0,100.0,54.0,150.0,108.0,90.0,101.0,104.0,88.0,93.0,79.0,92.0,90.0,86.0,90.0,103.0,86.0,108.0,97.0,92.0,101.0,83.0,85.0,85.0,106.0,86.0,131.0,105.0,134.0,85.0,203.0,120.0,91.0,124.0,95.0,12.0,104.0,92.0,143.0,127.0,100.0,74.0,104.0,148.0,127.0,96.0,82.0,158.0,124.0,163.0,74.0,121.0,154.0,127.0,128.0,98.0,124.0,109.0,168.0,89.0,162.0,159.0,137.0,133.0,125.0,127.0,131.0,90.0,89.0,88.0,125.0,88.0,94.0,83.0,89.0,118.0,87.0,105.0,79.0,133.0,147.0,92.0,103.0,119.0,80.0,110.0,128.0,88.0,86.0,70.0,66.0,72.0,122.0,117.0,98.0,126.0,115.0,86.0,108.0,94.0,151.0,88.0,97.0,92.0,102.0,93.0,126.0,82.0,86.0,105.0,101.0,100.0,57.0,95.0,101.0,128.0,99.0,113.0,108.0,105.0,109.0,93.0,82.0,95.0,84.0,106.0,122.0,108.0,94.0,103.0,106.0,124.0,92.0,88.0,68.0,72.0,93.0,102.0,69.0,125.0,99.0,89.0,95.0,92.0,95.0,133.0,112.0,85.0,85.0,84.0,118.0,99.0,109.0,103.0,94.0,105.0,101.0,103.0,86.0,91.0,95.0,99.0,90.0,88.0,85.0,98.0,94.0,71.0,95.0,124.0,108.0,87.0,95.0,108.0,110.0,113.0,71.0,75.0,75.0,97.0,83.0,93.0,66.0,83.0,110.0,88.0,112.0,77.0,91.0,58.0,69.0,61.0,100.0,88.0,128.0,122.0,60.0,126.0,166.0,113.0,88.0,151.0,107.0,42.0,94.0,130.0,87.0,116.0,77.0,117.0,84.0,92.0,130.0,103.0,89.0,109.0,104.0,114.0,133.0,101.0,137.0,88.0,88.0,115.0,120.0,104.0,114.0,128.0,125.0,38.0,102.0,96.0,94.0,69.0,92.0,90.0,101.0,77.0,89.0,90.0,98.0,88.0,49.0,152.0,66.0,103.0,95.0,79.0,89.0,75.0,78.0,89.0,74.0,119.0,70.0,104.0,48.0,121.0,106.0,74.0,106.0,113.0,119.0,82.0,76.0,95.0,100.0,110.0,66.0,99.0,131.0,86.0,118.0,126.0,130.0,99.0,89.0,136.0,131.0,165.0,110.0,85.0,92.0,89.0,117.0,114.0,63.0,94.0,74.0,103.0,58.0,94.0,92.0,104.0,117.0,89.0,87.0,129.0,160.0,66.0,150.0,158.0,118.0,100.0,90.0,64.0,92.0,63.0,105.0,76.0,67.0,99.0,69.0,91.0,92.0,87.0,100.0,113.0,40.0,105.0,94.0,109.0,116.0,99.0,89.0,92.0,82.0,70.0,131.0,105.0,130.0,69.0,98.0,90.0,105.0,106.0,126.0,84.0,65.0,121.0,163.0,92.0,124.0,107.0,19.0,25.0,22.0,40.0,22.0,24.0,103.0,45.0,101.0,60.0,90.0,96.0,98.0,94.0,74.0,112.0,115.0,92.0,93.0,95.0,105.0,117.0,66.0,110.0,97.0,78.0,102.0,62.0,90.0,97.0,105.0,79.0,90.0,129.0,92.0,109.0,77.0,107.0,69.0,87.0,91.0,99.0,105.0,99.0,108.0,66.0,94.0,93.0,75.0,96.0,95.0,32.0,70.0,94.0,117.0,78.0,100.0,91.0,115.0,122.0,107.0,109.0,104.0,95.0,110.0,100.0,93.0,104.0,134.0,75.0,100.0,105.0,104.0,101.0,96.0,80.0,75.0,75.0,79.0,78.0,75.0,78.0,166.0,90.0,132.0,91.0,117.0,103.0,100.0,176.0,91.0,49.0,97.0,116.0,90.0,60.0,149.0,86.0,171.0,103.0,116.0,169.0,134.0,159.0,130.0,103.0,173.0,195.0,111.0,99.0,110.0,32.0,94.0,87.0,103.0,78.0,108.0,62.0,97.0,102.0,95.0,106.0,115.0,76.0,80.0,102.0,99.0,82.0,74.0,100.0,150.0,90.0,75.0,103.0,87.0,88.0,63.0,127.0,129.0,120.0,138.0,129.0,137.0,91.0,103.0,145.0,23.0,25.0,92.0,83.0,81.0,115.0,150.0,106.0,115.0,140.0,79.0,104.0,52.0,90.0,83.0,97.0,85.0,69.0,94.0,121.0,40.0,89.0,94.0,90.0,86.0,100.0,84.0,58.0,95.0,78.0,51.0,69.0,104.0,101.0,59.0,91.0,153.0,61.0,149.0,94.0,79.0,137.0,53.0,166.0,162.0,92.0,93.0,155.0,158.0,138.0,151.0,96.0,106.0,141.0,127.0,130.0,140.0,145.0,132.0,41.0,110.0,170.0,157.0,165.0,114.0,143.0,106.0,73.0,71.0,161.0,187.0,127.0,165.0,117.0,134.0,116.0,94.0,168.0,109.0,148.0,135.0,127.0,115.0,150.0,87.0,127.0,185.0,75.0,177.0,81.0,137.0,118.0,124.0,123.0,90.0,91.0,87.0,89.0,81.0,47.0,46.0,173.0,108.0,125.0,124.0,137.0,171.0,160.0,87.0,110.0,69.0,67.0,92.0,96.0,92.0,85.0,105.0,127.0,109.0,150.0,100.0,73.0,93.0,91.0,87.0,134.0,118.0,85.0,60.0,96.0,133.0,118.0,150.0,132.0,121.0,127.0,152.0,126.0,104.0,162.0,120.0,65.0,133.0,110.0,96.0,95.0,24.0,97.0,94.0,65.0,84.0,91.0,97.0,102.0,93.0,105.0,53.0,116.0,102.0,81.0,93.0,97.0,94.0,90.0,110.0,88.0,80.0,86.0,143.0,84.0,42.0,117.0,96.0,78.0,96.0,69.0,74.0,108.0,91.0,68.0,92.0,102.0,61.0,57.0,85.0,49.0,87.0,85.0,59.0,97.0,104.0,77.0,63.0,69.0,86.0,62.0,108.0,95.0,99.0,62.0,106.0,117.0,60.0,94.0,147.0,94.0,89.0,89.0,89.0,111.0,118.0,153.0,87.0,122.0,97.0,121.0,124.0,68.0,94.0,100.0,71.0,76.0,60.0,89.0,92.0,63.0,135.0,112.0,88.0,97.0,83.0,89.0,86.0,52.0,126.0,133.0,90.0,91.0,104.0,105.0,123.0,89.0,87.0,91.0,102.0,106.0,102.0,91.0,87.0,103.0,193.0,176.0,124.0,135.0,106.0,133.0,107.0,78.0,192.0,55.0,132.0,148.0,46.0,46.0,46.0,74.0,46.0,50.0,114.0,117.0,108.0,97.0,122.0,115.0,104.0,140.0,101.0,99.0,102.0,94.0,92.0,125.0,82.0,151.0,85.0,86.0,93.0,49.0,82.0,100.0,55.0,53.0,87.0,102.0,112.0,105.0,106.0,89.0,91.0,61.0,94.0,93.0,80.0,118.0,141.0,94.0,84.0,103.0,85.0,69.0,100.0,85.0,97.0,129.0,143.0,90.0,92.0,81.0,105.0,91.0,111.0,103.0,118.0,148.0,88.0,75.0,89.0,128.0,86.0,83.0,109.0,111.0,40.0,70.0,108.0,106.0,106.0,81.0,94.0,102.0,102.0,89.0,162.0,147.0,224.0,137.0,109.0,163.0,162.0,104.0,91.0,27.0,67.0,142.0,78.0,26.0,123.0,113.0,92.0,46.0,124.0,81.0,97.0,81.0,119.0,149.0,106.0,140.0,121.0,87.0,99.0,96.0,128.0,76.0,94.0,114.0,101.0,93.0,109.0,51.0,61.0,73.0,113.0,125.0,92.0,94.0,65.0,135.0,86.0,80.0,142.0,131.0,66.0,88.0,99.0,96.0,126.0,65.0,54.0,76.0,100.0,81.0,123.0,144.0,153.0,105.0,103.0,141.0,115.0,120.0,104.0,22.0,97.0,54.0,120.0,132.0,135.0,87.0,82.0,158.0,107.0,122.0,62.0,95.0,98.0,113.0,94.0,120.0,92.0,132.0,84.0,76.0,75.0,93.0,98.0,91.0,48.0,168.0,68.0,97.0,115.0,148.0,149.0,113.0,137.0,140.0,144.0,103.0,90.0,95.0,82.0,94.0,79.0,66.0,135.0,96.0,144.0,108.0,127.0,127.0,90.0,126.0,121.0,119.0,109.0,132.0,118.0,84.0,93.0,96.0,145.0,158.0,132.0,111.0,133.0,143.0,117.0,84.0,107.0,83.0,102.0,52.0,110.0,85.0,113.0,88.0,89.0,59.0,80.0,107.0,106.0,90.0,66.0,92.0,101.0,135.0,107.0,74.0,74.0,74.0,83.0,79.0,72.0,80.0,75.0,75.0,72.0,80.0,93.0,79.0,86.0,107.0,47.0,107.0,119.0,108.0,85.0,90.0,72.0,23.0,68.0,85.0,84.0,118.0,116.0,89.0,81.0,73.0,140.0,130.0,103.0,40.0,103.0,85.0,106.0,104.0,82.0,94.0,81.0,91.0,112.0,102.0,101.0,119.0,62.0,64.0,137.0,108.0,132.0,87.0,92.0,108.0,78.0,40.0,71.0,89.0,99.0,110.0,60.0,90.0,78.0,95.0,58.0,62.0,65.0,61.0,65.0,58.0,60.0,135.0,98.0,96.0,79.0,113.0,90.0,114.0,79.0,98.0,70.0,116.0,139.0,101.0,148.0,54.0,92.0,107.0,90.0,135.0,52.0,151.0,90.0,88.0,99.0,99.0,132.0,95.0,155.0,162.0,163.0,102.0,96.0,85.0,97.0,95.0,83.0,89.0,28.0,103.0,84.0,160.0,113.0,99.0,86.0,83.0,113.0,86.0,78.0,96.0,95.0,57.0,92.0,81.0,98.0,95.0,105.0,116.0,100.0,95.0,70.0,51.0,94.0,83.0,92.0,88.0,104.0,104.0,104.0,124.0,113.0,124.0,96.0,101.0,63.0,56.0,92.0,91.0,94.0,94.0,82.0,100.0,90.0,71.0,97.0,89.0,83.0,98.0,92.0,88.0,62.0,165.0,166.0,166.0,159.0,160.0,159.0,93.0,95.0,22.0,22.0,105.0,101.0,124.0,100.0,54.0,121.0,103.0,129.0,89.0,92.0,111.0,92.0,91.0,172.0,45.0,95.0,80.0,67.0,84.0,97.0,86.0,59.0,58.0,47.0,114.0,103.0,93.0,84.0,67.0,91.0,110.0,110.0,84.0,63.0,94.0,116.0,104.0,143.0,116.0,14.0,89.0,108.0,59.0,99.0,74.0,103.0,105.0,84.0,109.0,96.0,78.0,83.0,89.0,97.0,95.0,106.0,116.0,91.0,90.0,86.0,97.0,170.0,153.0,104.0,162.0,163.0,106.0,108.0,130.0,133.0,148.0,105.0,90.0,79.0,121.0,66.0,102.0,108.0,139.0,91.0,90.0,81.0,96.0,72.0,89.0,92.0,81.0,161.0,92.0,24.0,66.0,100.0,122.0,91.0,81.0,92.0,77.0,104.0,73.0,102.0,82.0,47.0,98.0,102.0,112.0,85.0,108.0,87.0,84.0,107.0,117.0,89.0,119.0,88.0,126.0,130.0,102.0,154.0,44.0,104.0,76.0,96.0,63.0,108.0,105.0,47.0,44.0,109.0,89.0,92.0,122.0,19.0,154.0,152.0,161.0,123.0,44.0,106.0,80.0,71.0,87.0,153.0,98.0,79.0,143.0,123.0,97.0,80.0,73.0,90.0,106.0,101.0,119.0,140.0,59.0,164.0,92.0,151.0,84.0,51.0,142.0,66.0,110.0,99.0,86.0,101.0,88.0,86.0,151.0,116.0,128.0,128.0,86.0,88.0,80.0,61.0,92.0,82.0,81.0,72.0,98.0,64.0,95.0,96.0,111.0,127.0,117.0,123.0,139.0,95.0,148.0,121.0,79.0,127.0,92.0,162.0,163.0,83.0,112.0,117.0,90.0,95.0,99.0,125.0,44.0,93.0,89.0,92.0,120.0,114.0,109.0,83.0,107.0,129.0,135.0,149.0,136.0,138.0,177.0,61.0,126.0,137.0,114.0,104.0,96.0,147.0,107.0,91.0,81.0,53.0,95.0,95.0,149.0,106.0,108.0,66.0,54.0,55.0,55.0,55.0,55.0,113.0,83.0,53.0,102.0,95.0,50.0,97.0,92.0,97.0,105.0,107.0,99.0,101.0,81.0,92.0,131.0,111.0,104.0,99.0,101.0,71.0,96.0,85.0,106.0,119.0,84.0,85.0,110.0,89.0,76.0,74.0,103.0,101.0,98.0,74.0,156.0,88.0,70.0,88.0,93.0,143.0,83.0,90.0,107.0,93.0,99.0,134.0,77.0,78.0,101.0,53.0,81.0,106.0,84.0,51.0,90.0,77.0,95.0,63.0,58.0,59.0,52.0,32.0,18.0,102.0,40.0,42.0,76.0,61.0,82.0,45.0,92.0,118.0,91.0,63.0,110.0,91.0,93.0,93.0,108.0,72.0,114.0,91.0,97.0,118.0,92.0,91.0,137.0,97.0,101.0,143.0,97.0,107.0,168.0,117.0,103.0,80.0,87.0,160.0,88.0,85.0,104.0,62.0,109.0,103.0,99.0,102.0,97.0,99.0,101.0,102.0,102.0,107.0,99.0,106.0,103.0,123.0,98.0,118.0,100.0,101.0,103.0,101.0,104.0,104.0,100.0,136.0,102.0,105.0,24.0,110.0,105.0,105.0,102.0,98.0,118.0,106.0,106.0,92.0,92.0,91.0,83.0,123.0,90.0,57.0,103.0,92.0,52.0,52.0,87.0,56.0,115.0,53.0,94.0,118.0,92.0,98.0,125.0,113.0,110.0,71.0,108.0,123.0,97.0,99.0,97.0,100.0,98.0,75.0,54.0,54.0,55.0,54.0,55.0,67.0,129.0,105.0,78.0,99.0,96.0,95.0,87.0,134.0,119.0,128.0,128.0,91.0,109.0,79.0,88.0,107.0,92.0,88.0,71.0,64.0,83.0,124.0,123.0,97.0,96.0,150.0,91.0,79.0,93.0,54.0,73.0,88.0,109.0,93.0,78.0,86.0,94.0,116.0,154.0,90.0,179.0,93.0,97.0,80.0,88.0,99.0,104.0,94.0,77.0,111.0,108.0,92.0,78.0,87.0,99.0,91.0,37.0,102.0,67.0,57.0,78.0,130.0,80.0,90.0,93.0,66.0,93.0,119.0,90.0,105.0,83.0,96.0,84.0,98.0,91.0,89.0,90.0,89.0,123.0,117.0,100.0,91.0,87.0,146.0,82.0,104.0,85.0,109.0,74.0,94.0,84.0,98.0,82.0,22.0,141.0,95.0,117.0,100.0,75.0,69.0,80.0,97.0,92.0,92.0,85.0,83.0,118.0,84.0,52.0,84.0,146.0,93.0,97.0,90.0,75.0,93.0,62.0,98.0,92.0,22.0,115.0,88.0,87.0,86.0,94.0,105.0,88.0,88.0,86.0,93.0,98.0,29.0,88.0,93.0,81.0,83.0,31.0,83.0,73.0,38.0,108.0,90.0,97.0,81.0,70.0,62.0,104.0,97.0,99.0,96.0,84.0,112.0,90.0,88.0,56.0,89.0,24.0,100.0,116.0,101.0,92.0,79.0,67.0,72.0,96.0,103.0,92.0,61.0,88.0,88.0,113.0,67.0,65.0,62.0,107.0,85.0,69.0,60.0,77.0,98.0,71.0,101.0,64.0,112.0,125.0,125.0,59.0,91.0,44.0,107.0,101.0,93.0,82.0,86.0,81.0,92.0,89.0,107.0,94.0,110.0,81.0,77.0,64.0,111.0,97.0,77.0,94.0,94.0,91.0,93.0,95.0,80.0,95.0,90.0,101.0,73.0,108.0,25.0,86.0,105.0,100.0,96.0,97.0,73.0,44.0,132.0,96.0,92.0,99.0,92.0,99.0,78.0,87.0,65.0,65.0,69.0,64.0,63.0,63.0,89.0,60.0,84.0,93.0,41.0,91.0,83.0,25.0,94.0,102.0,111.0,88.0,93.0,29.0,88.0,103.0,107.0,52.0,91.0,180.0,75.0,92.0,90.0,114.0,80.0,99.0,79.0,66.0,46.0,90.0,72.0,71.0,77.0,70.0,73.0,107.0,81.0,86.0,63.0,44.0,128.0,51.0,45.0,46.0,112.0,87.0,87.0,106.0,100.0,101.0,117.0,114.0,94.0,100.0,96.0,58.0,87.0,81.0,96.0,52.0,114.0,105.0,157.0,84.0,91.0,80.0,97.0,105.0,96.0,60.0,79.0,93.0,95.0,99.0,109.0,96.0,102.0,107.0,60.0,86.0,29.0,163.0,98.0,101.0,91.0,99.0,74.0,66.0,76.0,95.0,127.0,86.0,116.0,82.0,70.0,102.0,88.0,109.0,75.0,23.0,83.0,97.0,62.0,84.0,90.0,82.0,96.0,65.0,92.0,90.0,93.0,91.0,100.0,101.0,103.0,74.0,44.0,43.0,95.0,94.0,68.0,72.0,47.0,52.0,92.0,107.0,108.0,74.0,110.0,24.0,46.0,24.0,55.0,24.0,23.0,24.0,24.0,101.0,29.0,60.0,60.0,78.0,73.0,72.0,60.0,47.0,70.0,77.0,120.0,74.0,57.0,72.0,78.0,91.0,62.0,85.0,85.0,90.0,105.0,59.0,137.0,86.0,135.0,99.0,64.0,72.0,83.0,82.0,90.0,80.0,130.0,62.0,90.0,92.0,155.0,78.0,92.0,60.0,69.0,103.0,92.0,143.0,83.0,78.0,84.0,78.0,93.0,84.0,77.0,58.0,82.0,83.0,100.0,29.0,72.0,26.0,48.0,73.0,103.0,81.0,75.0,100.0,90.0,68.0,71.0,71.0,100.0,94.0,80.0,78.0,35.0,72.0,93.0,105.0,130.0,100.0,44.0,80.0,72.0,75.0,26.0,84.0,120.0,76.0,95.0,96.0,94.0,94.0,93.0,96.0,94.0,94.0,93.0,95.0,93.0,75.0,103.0,84.0,29.0,104.0,81.0],\"xaxis\":\"x\",\"y\":[\"a\",\"a\",\"a\",\"a\",\"a\",\"a\",\"a\",\"a\",\"a\",\"a\",\"a\",\"a\",\"a\",\"a\",\"a\",\"a\",\"a\",\"a\",\"a\",\"a\",\"a\",\"a\",\"a\",\"a\",\"a\",\"a\",\"a\",\"a\",\"a\",\"a\",\"a\",\"a\",\"a\",\"a\",\"a\",\"a\",\"a\",\"a\",\"a\",\"a\",\"a\",\"a\",\"a\",\"a\",\"a\",\"a\",\"a\",\"a\",\"a\",\"a\",\"a\",\"a\",\"a\",\"a\",\"a\",\"a\",\"a\",\"a\",\"a\",\"a\",\"a\",\"a\",\"a\",\"a\",\"a\",\"a\",\"a\",\"a\",\"a\",\"a\",\"a\",\"a\",\"a\",\"a\",\"a\",\"a\",\"a\",\"a\",\"a\",\"a\",\"a\",\"a\",\"a\",\"a\",\"a\",\"a\",\"a\",\"a\",\"a\",\"a\",\"a\",\"a\",\"a\",\"a\",\"a\",\"a\",\"a\",\"a\",\"a\",\"a\",\"a\",\"a\",\"a\",\"a\",\"a\",\"a\",\"a\",\"a\",\"a\",\"a\",\"a\",\"a\",\"a\",\"a\",\"a\",\"a\",\"a\",\"a\",\"a\",\"a\",\"a\",\"a\",\"a\",\"a\",\"a\",\"a\",\"a\",\"a\",\"a\",\"a\",\"a\",\"a\",\"a\",\"a\",\"a\",\"a\",\"a\",\"a\",\"a\",\"a\",\"a\",\"a\",\"a\",\"a\",\"a\",\"a\",\"a\",\"a\",\"a\",\"a\",\"a\",\"a\",\"a\",\"a\",\"a\",\"a\",\"a\",\"a\",\"a\",\"a\",\"a\",\"a\",\"a\",\"a\",\"a\",\"a\",\"a\",\"a\",\"a\",\"a\",\"a\",\"a\",\"a\",\"a\",\"a\",\"a\",\"a\",\"a\",\"a\",\"a\",\"a\",\"a\",\"a\",\"a\",\"a\",\"a\",\"a\",\"a\",\"a\",\"a\",\"a\",\"a\",\"a\",\"a\",\"a\",\"a\",\"a\",\"a\",\"a\",\"a\",\"a\",\"a\",\"a\",\"a\",\"a\",\"a\",\"a\",\"a\",\"a\",\"a\",\"a\",\"a\",\"a\",\"a\",\"a\",\"a\",\"a\",\"a\",\"a\",\"a\",\"a\",\"a\",\"a\",\"a\",\"a\",\"a\",\"a\",\"a\",\"a\",\"a\",\"a\",\"a\",\"a\",\"a\",\"a\",\"a\",\"a\",\"a\",\"a\",\"a\",\"a\",\"a\",\"a\",\"a\",\"a\",\"a\",\"a\",\"a\",\"a\",\"a\",\"a\",\"a\",\"a\",\"a\",\"a\",\"a\",\"a\",\"a\",\"a\",\"a\",\"a\",\"a\",\"a\",\"a\",\"a\",\"a\",\"a\",\"a\",\"a\",\"a\",\"a\",\"a\",\"a\",\"a\",\"a\",\"a\",\"a\",\"a\",\"a\",\"a\",\"a\",\"a\",\"a\",\"a\",\"a\",\"a\",\"a\",\"a\",\"a\",\"a\",\"a\",\"a\",\"a\",\"a\",\"a\",\"a\",\"a\",\"a\",\"a\",\"a\",\"a\",\"a\",\"a\",\"a\",\"a\",\"a\",\"a\",\"a\",\"a\",\"a\",\"a\",\"a\",\"a\",\"a\",\"a\",\"a\",\"a\",\"a\",\"a\",\"a\",\"a\",\"a\",\"a\",\"a\",\"a\",\"a\",\"a\",\"a\",\"a\",\"a\",\"a\",\"a\",\"a\",\"a\",\"a\",\"a\",\"a\",\"a\",\"a\",\"a\",\"a\",\"a\",\"a\",\"a\",\"a\",\"a\",\"a\",\"a\",\"a\",\"a\",\"a\",\"a\",\"a\",\"a\",\"a\",\"a\",\"a\",\"a\",\"a\",\"a\",\"a\",\"a\",\"a\",\"a\",\"a\",\"a\",\"a\",\"a\",\"a\",\"a\",\"a\",\"a\",\"a\",\"a\",\"a\",\"a\",\"a\",\"a\",\"a\",\"a\",\"a\",\"a\",\"a\",\"a\",\"a\",\"a\",\"a\",\"a\",\"a\",\"a\",\"a\",\"a\",\"a\",\"a\",\"a\",\"a\",\"a\",\"a\",\"a\",\"a\",\"a\",\"a\",\"a\",\"a\",\"a\",\"a\",\"a\",\"a\",\"a\",\"a\",\"a\",\"a\",\"a\",\"a\",\"a\",\"a\",\"a\",\"a\",\"a\",\"a\",\"a\",\"a\",\"a\",\"a\",\"a\",\"a\",\"a\",\"a\",\"a\",\"a\",\"a\",\"a\",\"a\",\"a\",\"a\",\"a\",\"a\",\"a\",\"a\",\"a\",\"a\",\"a\",\"a\",\"a\",\"a\",\"a\",\"a\",\"a\",\"a\",\"a\",\"a\",\"a\",\"a\",\"a\",\"a\",\"a\",\"a\",\"a\",\"a\",\"a\",\"a\",\"a\",\"a\",\"a\",\"a\",\"a\",\"a\",\"a\",\"a\",\"a\",\"a\",\"a\",\"a\",\"a\",\"a\",\"a\",\"a\",\"a\",\"a\",\"a\",\"a\",\"a\",\"a\",\"a\",\"a\",\"a\",\"a\",\"a\",\"a\",\"a\",\"a\",\"a\",\"a\",\"a\",\"a\",\"a\",\"a\",\"a\",\"a\",\"a\",\"a\",\"a\",\"a\",\"a\",\"a\",\"a\",\"a\",\"a\",\"a\",\"a\",\"a\",\"a\",\"a\",\"a\",\"a\",\"a\",\"a\",\"a\",\"a\",\"a\",\"a\",\"a\",\"a\",\"a\",\"a\",\"a\",\"a\",\"a\",\"a\",\"a\",\"a\",\"a\",\"a\",\"a\",\"a\",\"a\",\"a\",\"a\",\"a\",\"a\",\"a\",\"a\",\"a\",\"a\",\"a\",\"a\",\"a\",\"a\",\"a\",\"a\",\"a\",\"a\",\"a\",\"a\",\"a\",\"a\",\"a\",\"a\",\"a\",\"a\",\"a\",\"a\",\"a\",\"a\",\"a\",\"a\",\"a\",\"a\",\"a\",\"a\",\"a\",\"a\",\"a\",\"a\",\"a\",\"a\",\"a\",\"a\",\"a\",\"a\",\"a\",\"a\",\"a\",\"a\",\"a\",\"a\",\"a\",\"a\",\"a\",\"a\",\"a\",\"a\",\"a\",\"a\",\"a\",\"a\",\"a\",\"a\",\"a\",\"a\",\"a\",\"a\",\"a\",\"a\",\"a\",\"a\",\"a\",\"a\",\"a\",\"a\",\"a\",\"a\",\"a\",\"a\",\"a\",\"a\",\"a\",\"a\",\"a\",\"a\",\"a\",\"a\",\"a\",\"a\",\"a\",\"a\",\"a\",\"a\",\"a\",\"a\",\"a\",\"a\",\"a\",\"a\",\"a\",\"a\",\"a\",\"a\",\"a\",\"a\",\"a\",\"a\",\"a\",\"a\",\"a\",\"a\",\"a\",\"a\",\"a\",\"a\",\"a\",\"a\",\"a\",\"a\",\"a\",\"a\",\"a\",\"a\",\"a\",\"a\",\"a\",\"a\",\"a\",\"a\",\"a\",\"a\",\"a\",\"a\",\"a\",\"a\",\"a\",\"a\",\"a\",\"a\",\"a\",\"a\",\"a\",\"a\",\"a\",\"a\",\"a\",\"a\",\"a\",\"a\",\"a\",\"a\",\"a\",\"a\",\"a\",\"a\",\"a\",\"a\",\"a\",\"a\",\"a\",\"a\",\"a\",\"a\",\"a\",\"a\",\"a\",\"a\",\"a\",\"a\",\"a\",\"a\",\"a\",\"a\",\"a\",\"a\",\"a\",\"a\",\"a\",\"a\",\"a\",\"a\",\"a\",\"a\",\"a\",\"a\",\"a\",\"a\",\"a\",\"a\",\"a\",\"a\",\"a\",\"a\",\"a\",\"a\",\"a\",\"a\",\"a\",\"a\",\"a\",\"a\",\"a\",\"a\",\"a\",\"a\",\"a\",\"a\",\"a\",\"a\",\"a\",\"a\",\"a\",\"a\",\"a\",\"a\",\"a\",\"a\",\"a\",\"a\",\"a\",\"a\",\"a\",\"a\",\"a\",\"a\",\"a\",\"a\",\"a\",\"a\",\"a\",\"a\",\"a\",\"a\",\"a\",\"a\",\"a\",\"a\",\"a\",\"a\",\"a\",\"a\",\"a\",\"a\",\"a\",\"a\",\"a\",\"a\",\"a\",\"a\",\"a\",\"a\",\"a\",\"a\",\"a\",\"a\",\"a\",\"a\",\"a\",\"a\",\"a\",\"a\",\"a\",\"a\",\"a\",\"a\",\"a\",\"a\",\"a\",\"a\",\"a\",\"a\",\"a\",\"a\",\"a\",\"a\",\"a\",\"a\",\"a\",\"a\",\"a\",\"a\",\"a\",\"a\",\"a\",\"a\",\"a\",\"a\",\"a\",\"a\",\"a\",\"a\",\"a\",\"a\",\"a\",\"a\",\"a\",\"a\",\"a\",\"a\",\"a\",\"a\",\"a\",\"a\",\"a\",\"a\",\"a\",\"a\",\"a\",\"a\",\"a\",\"a\",\"a\",\"a\",\"a\",\"a\",\"a\",\"a\",\"a\",\"a\",\"a\",\"a\",\"a\",\"a\",\"a\",\"a\",\"a\",\"a\",\"a\",\"a\",\"a\",\"a\",\"a\",\"a\",\"a\",\"a\",\"a\",\"a\",\"a\",\"a\",\"a\",\"a\",\"a\",\"a\",\"a\",\"a\",\"a\",\"a\",\"a\",\"a\",\"a\",\"a\",\"a\",\"a\",\"a\",\"a\",\"a\",\"a\",\"a\",\"a\",\"a\",\"a\",\"a\",\"a\",\"a\",\"a\",\"a\",\"a\",\"a\",\"a\",\"a\",\"a\",\"a\",\"a\",\"a\",\"a\",\"a\",\"a\",\"a\",\"a\",\"a\",\"a\",\"a\",\"a\",\"a\",\"a\",\"a\",\"a\",\"a\",\"a\",\"a\",\"a\",\"a\",\"a\",\"a\",\"a\",\"a\",\"a\",\"a\",\"a\",\"a\",\"a\",\"a\",\"a\",\"a\",\"a\",\"a\",\"a\",\"a\",\"a\",\"a\",\"a\",\"a\",\"a\",\"a\",\"a\",\"a\",\"a\",\"a\",\"a\",\"a\",\"a\",\"a\",\"a\",\"a\",\"a\",\"a\",\"a\",\"a\",\"a\",\"a\",\"a\",\"a\",\"a\",\"a\",\"a\",\"a\",\"a\",\"a\",\"a\",\"a\",\"a\",\"a\",\"a\",\"a\",\"a\",\"a\",\"a\",\"a\",\"a\",\"a\",\"a\",\"a\",\"a\",\"a\",\"a\",\"a\",\"a\",\"a\",\"a\",\"a\",\"a\",\"a\",\"a\",\"a\",\"a\",\"a\",\"a\",\"a\",\"a\",\"a\",\"a\",\"a\",\"a\",\"a\",\"a\",\"a\",\"a\",\"a\",\"a\",\"a\",\"a\",\"a\",\"a\",\"a\",\"a\",\"a\",\"a\",\"a\",\"a\",\"a\",\"a\",\"a\",\"a\",\"a\",\"a\",\"a\",\"a\",\"a\",\"a\",\"a\",\"a\",\"a\",\"a\",\"a\",\"a\",\"a\",\"a\",\"a\",\"a\",\"a\",\"a\",\"a\",\"a\",\"a\",\"a\",\"a\",\"a\",\"a\",\"a\",\"a\",\"a\",\"a\",\"a\",\"a\",\"a\",\"a\",\"a\",\"a\",\"a\",\"a\",\"a\",\"a\",\"a\",\"a\",\"a\",\"a\",\"a\",\"a\",\"a\",\"a\",\"a\",\"a\",\"a\",\"a\",\"a\",\"a\",\"a\",\"a\",\"a\",\"a\",\"a\",\"a\",\"a\",\"a\",\"a\",\"a\",\"a\",\"a\",\"a\",\"a\",\"a\",\"a\",\"a\",\"a\",\"a\",\"a\",\"a\",\"a\",\"a\",\"a\",\"a\",\"a\",\"a\",\"a\",\"a\",\"a\",\"a\",\"a\",\"a\",\"a\",\"a\",\"a\",\"a\",\"a\",\"a\",\"a\",\"a\",\"a\",\"a\",\"a\",\"a\",\"a\",\"a\",\"a\",\"a\",\"a\",\"a\",\"a\",\"a\",\"a\",\"a\",\"a\",\"a\",\"a\",\"a\",\"a\",\"a\",\"a\",\"a\",\"a\",\"a\",\"a\",\"a\",\"a\",\"a\",\"a\",\"a\",\"a\",\"a\",\"a\",\"a\",\"a\",\"a\",\"a\",\"a\",\"a\",\"a\",\"a\",\"a\",\"a\",\"a\",\"a\",\"a\",\"a\",\"a\",\"a\",\"a\",\"a\",\"a\",\"a\",\"a\",\"a\",\"a\",\"a\",\"a\",\"a\",\"a\",\"a\",\"a\",\"a\",\"a\",\"a\",\"a\",\"a\",\"a\",\"a\",\"a\",\"a\",\"a\",\"a\",\"a\",\"a\",\"a\",\"a\",\"a\",\"a\",\"a\",\"a\",\"a\",\"a\",\"a\",\"a\",\"a\",\"a\",\"a\",\"a\",\"a\",\"a\",\"a\",\"a\",\"a\",\"a\",\"a\",\"a\",\"a\",\"a\",\"a\",\"a\",\"a\",\"a\",\"a\",\"a\",\"a\",\"a\",\"a\",\"a\",\"a\",\"a\",\"a\",\"a\",\"a\",\"a\",\"a\",\"a\",\"a\",\"a\",\"a\",\"a\",\"a\",\"a\",\"a\",\"a\",\"a\",\"a\",\"a\",\"a\",\"a\",\"a\",\"a\",\"a\",\"a\",\"a\",\"a\",\"a\",\"a\",\"a\",\"a\",\"a\",\"a\",\"a\",\"a\",\"a\",\"a\",\"a\",\"a\",\"a\",\"a\",\"a\",\"a\",\"a\",\"a\",\"a\",\"a\",\"a\",\"a\",\"a\",\"a\",\"a\",\"a\",\"a\",\"a\",\"a\",\"a\",\"a\",\"a\",\"a\",\"a\",\"a\",\"a\",\"a\",\"a\",\"a\",\"a\",\"a\",\"a\",\"a\",\"a\",\"a\",\"a\",\"a\",\"a\",\"a\",\"a\",\"a\",\"a\",\"a\",\"a\",\"a\",\"a\",\"a\",\"a\",\"a\",\"a\",\"a\",\"a\",\"a\",\"a\",\"a\",\"a\",\"a\",\"a\",\"a\",\"a\",\"a\",\"a\",\"a\",\"a\",\"a\",\"a\",\"a\",\"a\",\"a\",\"a\",\"a\",\"a\",\"a\",\"a\",\"a\",\"a\",\"a\",\"a\",\"a\",\"a\",\"a\",\"a\",\"a\",\"a\",\"a\",\"a\",\"a\",\"a\",\"a\",\"a\",\"a\",\"a\",\"a\",\"a\",\"a\",\"a\",\"a\",\"a\",\"a\",\"a\",\"a\",\"a\",\"a\",\"a\",\"a\",\"a\",\"a\",\"a\",\"a\",\"a\",\"a\",\"a\",\"a\",\"a\",\"a\",\"a\",\"a\",\"a\",\"a\",\"a\",\"a\",\"a\",\"a\",\"a\",\"a\",\"a\",\"a\",\"a\",\"a\",\"a\",\"a\",\"a\",\"a\",\"a\",\"a\",\"a\",\"a\",\"a\",\"a\",\"a\",\"a\",\"a\",\"a\",\"a\",\"a\",\"a\",\"a\",\"a\",\"a\",\"a\",\"a\",\"a\",\"a\",\"a\",\"a\",\"a\",\"a\",\"a\",\"a\",\"a\",\"a\",\"a\",\"a\",\"a\",\"a\",\"a\",\"a\",\"a\",\"a\",\"a\",\"a\",\"a\",\"a\",\"a\",\"a\",\"a\",\"a\",\"a\",\"a\",\"a\",\"a\",\"a\",\"a\",\"a\",\"a\",\"a\",\"a\",\"a\",\"a\",\"a\",\"a\",\"a\",\"a\",\"a\",\"a\",\"a\",\"a\",\"a\",\"a\",\"a\",\"a\",\"a\",\"a\",\"a\",\"a\",\"a\",\"a\",\"a\",\"a\",\"a\",\"a\",\"a\",\"a\",\"a\",\"a\",\"a\",\"a\",\"a\",\"a\",\"a\",\"a\",\"a\",\"a\",\"a\",\"a\",\"a\",\"a\",\"a\",\"a\",\"a\",\"a\",\"a\",\"a\",\"a\",\"a\",\"a\",\"a\",\"a\",\"a\",\"a\",\"a\",\"a\",\"a\",\"a\",\"a\",\"a\",\"a\",\"a\",\"a\",\"a\",\"a\",\"a\",\"a\",\"a\",\"a\",\"a\",\"a\",\"a\",\"a\",\"a\",\"a\",\"a\",\"a\",\"a\",\"a\",\"a\",\"a\",\"a\",\"a\",\"a\",\"a\",\"a\",\"a\",\"a\",\"a\",\"a\",\"a\",\"a\",\"a\",\"a\",\"a\",\"a\",\"a\",\"a\",\"a\",\"a\",\"a\",\"a\",\"a\",\"a\",\"a\",\"a\",\"a\",\"a\",\"a\",\"a\",\"a\",\"a\",\"a\",\"a\",\"a\",\"a\",\"a\",\"a\",\"a\",\"a\",\"a\",\"a\",\"a\",\"a\",\"a\",\"a\",\"a\",\"a\",\"a\",\"a\",\"a\",\"a\",\"a\",\"a\",\"a\",\"a\",\"a\",\"a\",\"a\",\"a\",\"a\",\"a\",\"a\",\"a\",\"a\",\"a\",\"a\",\"a\",\"a\",\"a\",\"a\",\"a\",\"a\",\"a\",\"a\",\"a\",\"a\",\"a\",\"a\",\"a\",\"a\",\"a\",\"a\",\"a\",\"a\",\"a\",\"a\",\"a\",\"a\",\"a\",\"a\",\"a\",\"a\",\"a\",\"a\",\"a\",\"a\",\"a\",\"a\",\"a\",\"a\",\"a\",\"a\",\"a\",\"a\",\"a\",\"a\",\"a\",\"a\",\"a\",\"a\",\"a\",\"a\",\"a\",\"a\",\"a\",\"a\",\"a\",\"a\",\"a\",\"a\",\"a\",\"a\",\"a\",\"a\",\"a\",\"a\",\"a\",\"a\",\"a\",\"a\",\"a\",\"a\",\"a\",\"a\",\"a\",\"a\",\"a\",\"a\",\"a\",\"a\",\"a\",\"a\",\"a\",\"a\",\"a\",\"a\",\"a\",\"a\",\"a\",\"a\",\"a\",\"a\",\"a\",\"a\",\"a\",\"a\",\"a\",\"a\",\"a\",\"a\",\"a\",\"a\",\"a\",\"a\",\"a\",\"a\",\"a\",\"a\",\"a\",\"a\",\"a\",\"a\",\"a\",\"a\",\"a\",\"a\",\"a\",\"a\",\"a\",\"a\",\"a\",\"a\",\"a\",\"a\",\"a\",\"a\",\"a\",\"a\",\"a\",\"a\",\"a\",\"a\",\"a\",\"a\",\"a\",\"a\",\"a\",\"a\",\"a\",\"a\",\"a\",\"a\",\"a\",\"a\",\"a\",\"a\",\"a\",\"a\",\"a\",\"a\",\"a\",\"a\",\"a\",\"a\",\"a\",\"a\",\"a\",\"a\",\"a\",\"a\",\"a\",\"a\",\"a\",\"a\",\"a\",\"a\",\"a\",\"a\",\"a\",\"a\",\"a\",\"a\",\"a\",\"a\",\"a\",\"a\",\"a\",\"a\",\"a\",\"a\",\"a\",\"a\",\"a\",\"a\",\"a\",\"a\",\"a\",\"a\",\"a\",\"a\",\"a\",\"a\",\"a\",\"a\",\"a\",\"a\",\"a\",\"a\",\"a\",\"a\",\"a\",\"a\",\"a\",\"a\",\"a\",\"a\",\"a\",\"a\",\"a\",\"a\",\"a\",\"a\",\"a\",\"a\",\"a\",\"a\",\"a\",\"a\",\"a\",\"a\",\"a\",\"a\",\"a\",\"a\",\"a\",\"a\",\"a\",\"a\",\"a\",\"a\",\"a\",\"a\",\"a\",\"a\",\"a\",\"a\",\"a\",\"a\",\"a\",\"a\",\"a\",\"a\",\"a\",\"a\",\"a\",\"a\",\"a\",\"a\",\"a\",\"a\",\"a\",\"a\",\"a\",\"a\",\"a\",\"a\",\"a\",\"a\",\"a\",\"a\",\"a\",\"a\",\"a\",\"a\",\"a\",\"a\",\"a\",\"a\",\"a\",\"a\",\"a\",\"a\",\"a\",\"a\",\"a\",\"a\",\"a\",\"a\",\"a\",\"a\",\"a\",\"a\",\"a\",\"a\",\"a\",\"a\",\"a\",\"a\",\"a\",\"a\",\"a\",\"a\",\"a\",\"a\",\"a\",\"a\",\"a\",\"a\",\"a\",\"a\",\"a\",\"a\",\"a\",\"a\",\"a\",\"a\",\"a\",\"a\",\"a\",\"a\",\"a\",\"a\",\"a\",\"a\",\"a\",\"a\",\"a\",\"a\",\"a\",\"a\",\"a\",\"a\",\"a\",\"a\",\"a\",\"a\",\"a\",\"a\",\"a\",\"a\",\"a\",\"a\",\"a\",\"a\",\"a\",\"a\",\"a\",\"a\",\"a\",\"a\",\"a\",\"a\",\"a\",\"a\",\"a\",\"a\",\"a\",\"a\",\"a\",\"a\",\"a\",\"a\",\"a\",\"a\",\"a\",\"a\",\"a\",\"a\",\"a\",\"a\",\"a\",\"a\",\"a\",\"a\",\"a\",\"a\",\"a\",\"a\",\"a\",\"a\",\"a\",\"a\",\"a\",\"a\",\"a\",\"a\",\"a\",\"a\",\"a\",\"a\",\"a\",\"a\",\"a\",\"a\",\"a\",\"a\",\"a\",\"a\",\"a\",\"a\",\"a\",\"a\",\"a\",\"a\",\"a\",\"a\",\"a\",\"a\",\"a\",\"a\",\"a\",\"a\",\"a\",\"a\",\"a\",\"a\",\"a\",\"a\",\"a\",\"a\",\"a\",\"a\",\"a\",\"a\",\"a\",\"a\",\"a\",\"a\",\"a\",\"a\",\"a\",\"a\",\"a\",\"a\",\"a\",\"a\",\"a\",\"a\",\"a\",\"a\",\"a\",\"a\",\"a\",\"a\",\"a\",\"a\",\"a\",\"a\",\"a\",\"a\",\"a\",\"a\",\"a\",\"a\",\"a\",\"a\",\"a\",\"a\",\"a\",\"a\",\"a\",\"a\",\"a\",\"a\",\"a\",\"a\",\"a\",\"a\",\"a\",\"a\",\"a\",\"a\",\"a\",\"a\",\"a\",\"a\",\"a\",\"a\",\"a\",\"a\",\"a\",\"a\",\"a\",\"a\",\"a\",\"a\",\"a\",\"a\",\"a\",\"a\",\"a\",\"a\",\"a\",\"a\",\"a\",\"a\",\"a\",\"a\",\"a\",\"a\",\"a\",\"a\",\"a\",\"a\",\"a\",\"a\",\"a\",\"a\",\"a\",\"a\",\"a\",\"a\",\"a\",\"a\",\"a\",\"a\",\"a\",\"a\",\"a\",\"a\",\"a\",\"a\",\"a\",\"a\",\"a\",\"a\",\"a\",\"a\",\"a\",\"a\",\"a\",\"a\",\"a\",\"a\",\"a\",\"a\",\"a\",\"a\",\"a\",\"a\",\"a\",\"a\",\"a\",\"a\",\"a\",\"a\",\"a\",\"a\",\"a\",\"a\",\"a\",\"a\",\"a\",\"a\",\"a\",\"a\",\"a\",\"a\",\"a\",\"a\",\"a\",\"a\",\"a\",\"a\",\"a\",\"a\",\"a\",\"a\",\"a\",\"a\",\"a\",\"a\",\"a\",\"a\",\"a\",\"a\",\"a\",\"a\",\"a\",\"a\",\"a\",\"a\",\"a\",\"a\",\"a\",\"a\",\"a\",\"a\",\"a\",\"a\",\"a\",\"a\",\"a\",\"a\",\"a\",\"a\",\"a\",\"a\",\"a\",\"a\",\"a\",\"a\",\"a\",\"a\",\"a\",\"a\",\"a\",\"a\",\"a\",\"a\",\"a\",\"a\",\"a\",\"a\",\"a\",\"a\",\"a\",\"a\",\"a\",\"a\",\"a\",\"a\",\"a\",\"a\",\"a\",\"a\",\"a\",\"a\",\"a\",\"a\",\"a\",\"a\",\"a\",\"a\",\"a\",\"a\",\"a\",\"a\",\"a\",\"a\",\"a\",\"a\",\"a\",\"a\",\"a\",\"a\",\"a\",\"a\",\"a\",\"a\",\"a\",\"a\",\"a\",\"a\",\"a\",\"a\",\"a\",\"a\",\"a\",\"a\",\"a\",\"a\",\"a\",\"a\",\"a\",\"a\",\"a\",\"a\",\"a\",\"a\",\"a\",\"a\",\"a\",\"a\",\"a\",\"a\",\"a\",\"a\",\"a\",\"a\",\"a\",\"a\",\"a\",\"a\",\"a\",\"a\",\"a\",\"a\",\"a\",\"a\",\"a\",\"a\",\"a\",\"a\",\"a\",\"a\",\"a\",\"a\",\"a\",\"a\",\"a\",\"a\",\"a\",\"a\",\"a\",\"a\",\"a\",\"a\",\"a\",\"a\",\"a\",\"a\",\"a\",\"a\",\"a\",\"a\",\"a\",\"a\",\"a\",\"a\",\"a\",\"a\",\"a\",\"a\",\"a\",\"a\",\"a\",\"a\",\"a\",\"a\",\"a\",\"a\",\"a\",\"a\",\"a\",\"a\",\"a\",\"a\",\"a\",\"a\",\"a\",\"a\",\"a\",\"a\",\"a\",\"a\",\"a\",\"a\",\"a\",\"a\",\"a\",\"a\",\"a\",\"a\",\"a\",\"a\",\"a\",\"a\",\"a\",\"a\",\"a\",\"a\",\"a\",\"a\",\"a\",\"a\",\"a\",\"a\",\"a\",\"a\",\"a\",\"a\",\"a\",\"a\",\"a\",\"a\",\"a\",\"a\",\"a\",\"a\",\"a\",\"a\",\"a\",\"a\",\"a\",\"a\",\"a\",\"a\",\"a\",\"a\",\"a\",\"a\",\"a\",\"a\",\"a\",\"a\",\"a\",\"a\",\"a\",\"a\",\"a\",\"a\",\"a\",\"a\",\"a\",\"a\",\"a\",\"a\",\"a\",\"a\",\"a\",\"a\",\"a\",\"a\",\"a\",\"a\",\"a\",\"a\",\"a\",\"a\",\"a\",\"a\",\"a\",\"a\",\"a\",\"a\",\"a\",\"a\",\"a\",\"a\",\"a\",\"a\",\"a\",\"a\",\"a\",\"a\",\"a\",\"a\",\"a\",\"a\",\"a\",\"a\",\"a\",\"a\",\"a\",\"a\",\"a\",\"a\",\"a\",\"a\",\"a\",\"a\",\"a\",\"a\",\"a\",\"a\",\"a\",\"a\",\"a\",\"a\",\"a\",\"a\",\"a\",\"a\",\"a\",\"a\",\"a\",\"a\",\"a\",\"a\",\"a\",\"a\",\"a\",\"a\",\"a\",\"a\",\"a\",\"a\",\"a\",\"a\",\"a\",\"a\",\"a\",\"a\",\"a\",\"a\",\"a\",\"a\",\"a\",\"a\",\"a\",\"a\",\"a\",\"a\",\"a\",\"a\",\"a\",\"a\",\"a\",\"a\",\"a\",\"a\",\"a\",\"a\",\"a\",\"a\",\"a\",\"a\",\"a\",\"a\",\"a\",\"a\",\"a\",\"a\",\"a\",\"a\",\"a\",\"a\",\"a\",\"a\",\"a\",\"a\",\"a\",\"a\",\"a\",\"a\",\"a\",\"a\",\"a\",\"a\",\"a\",\"a\",\"a\",\"a\",\"a\",\"a\",\"a\",\"a\",\"a\",\"a\",\"a\",\"a\",\"a\",\"a\",\"a\",\"a\",\"a\",\"a\",\"a\",\"a\",\"a\",\"a\",\"a\",\"a\",\"a\",\"a\",\"a\",\"a\",\"a\",\"a\",\"a\",\"a\",\"a\",\"a\",\"a\",\"a\",\"a\",\"a\",\"a\",\"a\",\"a\",\"a\",\"a\",\"a\",\"a\",\"a\",\"a\",\"a\",\"a\",\"a\",\"a\",\"a\",\"a\",\"a\",\"a\",\"a\",\"a\",\"a\",\"a\",\"a\",\"a\",\"a\",\"a\",\"a\",\"a\",\"a\",\"a\",\"a\",\"a\",\"a\",\"a\",\"a\",\"a\",\"a\",\"a\",\"a\",\"a\",\"a\",\"a\",\"a\",\"a\",\"a\",\"a\",\"a\",\"a\",\"a\",\"a\",\"a\",\"a\",\"a\",\"a\",\"a\",\"a\",\"a\",\"a\",\"a\",\"a\",\"a\",\"a\",\"a\",\"a\",\"a\",\"a\",\"a\",\"a\",\"a\",\"a\",\"a\",\"a\",\"a\",\"a\",\"a\",\"a\",\"a\",\"a\",\"a\",\"a\",\"a\",\"a\",\"a\",\"a\",\"a\",\"a\",\"a\",\"a\",\"a\",\"a\",\"a\",\"a\",\"a\",\"a\",\"a\",\"a\",\"a\",\"a\",\"a\",\"a\",\"a\",\"a\",\"a\",\"a\",\"a\",\"a\",\"a\",\"a\",\"a\",\"a\",\"a\",\"a\",\"a\",\"a\",\"a\",\"a\",\"a\",\"a\",\"a\",\"a\",\"a\",\"a\",\"a\",\"a\",\"a\",\"a\",\"a\",\"a\",\"a\",\"a\",\"a\",\"a\",\"a\",\"a\",\"a\",\"a\",\"a\",\"a\",\"a\",\"a\",\"a\",\"a\",\"a\",\"a\",\"a\",\"a\",\"a\",\"a\",\"a\",\"a\",\"a\",\"a\",\"a\",\"a\",\"a\",\"a\",\"a\",\"a\",\"a\",\"a\",\"a\",\"a\",\"a\",\"a\",\"a\",\"a\",\"a\",\"a\",\"a\",\"a\",\"a\",\"a\",\"a\",\"a\",\"a\",\"a\",\"a\",\"a\",\"a\",\"a\",\"a\",\"a\",\"a\",\"a\",\"a\",\"a\",\"a\",\"a\",\"a\",\"a\",\"a\",\"a\",\"a\",\"a\",\"a\",\"a\",\"a\",\"a\",\"a\",\"a\",\"a\",\"a\",\"a\",\"a\",\"a\",\"a\",\"a\",\"a\",\"a\",\"a\",\"a\",\"a\",\"a\",\"a\",\"a\",\"a\",\"a\",\"a\",\"a\",\"a\",\"a\",\"a\",\"a\",\"a\",\"a\",\"a\",\"a\",\"a\",\"a\",\"a\",\"a\",\"a\",\"a\",\"a\",\"a\",\"a\",\"a\",\"a\",\"a\",\"a\",\"a\",\"a\",\"a\",\"a\",\"a\",\"a\",\"a\",\"a\",\"a\",\"a\",\"a\",\"a\",\"a\",\"a\",\"a\",\"a\",\"a\",\"a\",\"a\",\"a\",\"a\",\"a\",\"a\",\"a\",\"a\",\"a\",\"a\",\"a\",\"a\",\"a\",\"a\",\"a\",\"a\",\"a\",\"a\",\"a\",\"a\",\"a\",\"a\",\"a\",\"a\",\"a\",\"a\",\"a\",\"a\",\"a\",\"a\",\"a\",\"a\",\"a\",\"a\",\"a\",\"a\",\"a\",\"a\",\"a\",\"a\",\"a\",\"a\",\"a\",\"a\",\"a\",\"a\",\"a\",\"a\",\"a\",\"a\",\"a\",\"a\",\"a\",\"a\",\"a\",\"a\",\"a\",\"a\",\"a\",\"a\",\"a\",\"a\",\"a\",\"a\",\"a\",\"a\",\"a\",\"a\",\"a\",\"a\",\"a\",\"a\",\"a\",\"a\",\"a\",\"a\",\"a\",\"a\",\"a\",\"a\",\"a\",\"a\",\"a\",\"a\",\"a\",\"a\",\"a\",\"a\",\"a\",\"a\",\"a\",\"a\",\"a\",\"a\",\"a\",\"a\",\"a\",\"a\",\"a\",\"a\",\"a\",\"a\",\"a\",\"a\",\"a\",\"a\",\"a\",\"a\",\"a\",\"a\",\"a\",\"a\",\"a\",\"a\",\"a\",\"a\",\"a\",\"a\",\"a\",\"a\",\"a\",\"a\",\"a\",\"a\",\"a\",\"a\",\"a\",\"a\",\"a\",\"a\",\"a\",\"a\",\"a\",\"a\",\"a\",\"a\",\"a\",\"a\",\"a\",\"a\",\"a\",\"a\",\"a\",\"a\",\"a\",\"a\",\"a\",\"a\",\"a\",\"a\",\"a\",\"a\",\"a\",\"a\",\"a\",\"a\",\"a\",\"a\",\"a\",\"a\",\"a\",\"a\",\"a\",\"a\",\"a\",\"a\",\"a\",\"a\",\"a\",\"a\",\"a\",\"a\",\"a\",\"a\",\"a\",\"a\",\"a\",\"a\",\"a\",\"a\",\"a\",\"a\",\"a\",\"a\",\"a\",\"a\",\"a\",\"a\",\"a\",\"a\",\"a\",\"a\",\"a\",\"a\",\"a\",\"a\",\"a\",\"a\",\"a\",\"a\",\"a\",\"a\",\"a\",\"a\",\"a\",\"a\",\"a\",\"a\",\"a\",\"a\",\"a\",\"a\",\"a\",\"a\",\"a\",\"a\",\"a\",\"a\",\"a\",\"a\",\"a\",\"a\",\"a\",\"a\",\"a\",\"a\",\"a\",\"a\",\"a\",\"a\",\"a\",\"a\",\"a\",\"a\",\"a\",\"a\",\"a\",\"a\",\"a\",\"a\",\"a\",\"a\",\"a\",\"a\",\"a\",\"a\",\"a\",\"a\",\"a\",\"a\",\"a\",\"a\",\"a\",\"a\",\"a\",\"a\",\"a\",\"a\",\"a\",\"a\",\"a\",\"a\",\"a\",\"a\",\"a\",\"a\",\"a\",\"a\",\"a\",\"a\",\"a\",\"a\",\"a\",\"a\",\"a\",\"a\",\"a\",\"a\",\"a\",\"a\",\"a\",\"a\",\"a\",\"a\",\"a\",\"a\",\"a\",\"a\",\"a\",\"a\",\"a\",\"a\",\"a\",\"a\",\"a\",\"a\",\"a\",\"a\",\"a\",\"a\",\"a\",\"a\",\"a\",\"a\",\"a\",\"a\",\"a\",\"a\",\"a\",\"a\",\"a\",\"a\",\"a\",\"a\",\"a\",\"a\",\"a\",\"a\",\"a\",\"a\",\"a\",\"a\",\"a\",\"a\",\"a\",\"a\",\"a\",\"a\",\"a\",\"a\",\"a\",\"a\",\"a\",\"a\",\"a\",\"a\",\"a\",\"a\",\"a\",\"a\",\"a\",\"a\",\"a\",\"a\",\"a\",\"a\",\"a\",\"a\",\"a\",\"a\",\"a\",\"a\",\"a\",\"a\",\"a\",\"a\",\"a\",\"a\",\"a\",\"a\",\"a\",\"a\",\"a\",\"a\",\"a\",\"a\",\"a\",\"a\",\"a\",\"a\",\"a\",\"a\",\"a\",\"a\",\"a\",\"a\",\"a\",\"a\",\"a\",\"a\",\"a\",\"a\",\"a\",\"a\",\"a\",\"a\",\"a\",\"a\",\"a\",\"a\",\"a\",\"a\",\"a\",\"a\",\"a\",\"a\",\"a\",\"a\",\"a\",\"a\",\"a\",\"a\",\"a\",\"a\",\"a\",\"a\",\"a\",\"a\",\"a\",\"a\",\"a\",\"a\",\"a\",\"a\",\"a\",\"a\",\"a\",\"a\",\"a\",\"a\",\"a\",\"a\",\"a\",\"a\",\"a\",\"a\",\"a\",\"a\",\"a\",\"a\",\"a\",\"a\",\"a\",\"a\",\"a\",\"a\",\"a\",\"a\",\"a\",\"a\",\"a\",\"a\",\"a\",\"a\",\"a\",\"a\",\"a\",\"a\",\"a\",\"a\",\"a\",\"a\",\"a\",\"a\",\"a\",\"a\",\"a\",\"a\",\"a\",\"a\",\"a\",\"a\",\"a\",\"a\",\"a\",\"a\",\"a\",\"a\",\"a\",\"a\",\"a\",\"a\",\"a\",\"a\",\"a\",\"a\",\"a\",\"a\",\"a\",\"a\",\"a\",\"a\",\"a\",\"a\",\"a\",\"a\",\"a\",\"a\",\"a\",\"a\",\"a\",\"a\",\"a\",\"a\",\"a\",\"a\",\"a\",\"a\",\"a\",\"a\",\"a\",\"a\",\"a\",\"a\",\"a\",\"a\",\"a\",\"a\",\"a\",\"a\",\"a\",\"a\",\"a\",\"a\",\"a\",\"a\",\"a\",\"a\",\"a\",\"a\",\"a\",\"a\",\"a\",\"a\",\"a\",\"a\",\"a\",\"a\",\"a\",\"a\",\"a\",\"a\",\"a\",\"a\",\"a\",\"a\",\"a\",\"a\",\"a\",\"a\",\"a\",\"a\",\"a\",\"a\",\"a\",\"a\",\"a\",\"a\",\"a\",\"a\",\"a\",\"a\",\"a\",\"a\",\"a\",\"a\",\"a\",\"a\",\"a\",\"a\",\"a\",\"a\",\"a\",\"a\",\"a\",\"a\",\"a\",\"a\",\"a\",\"a\",\"a\",\"a\",\"a\",\"a\",\"a\",\"a\",\"a\",\"a\",\"a\",\"a\",\"a\",\"a\",\"a\",\"a\",\"a\",\"a\",\"a\",\"a\",\"a\",\"a\",\"a\",\"a\",\"a\",\"a\",\"a\",\"a\",\"a\",\"a\",\"a\",\"a\",\"a\",\"a\",\"a\",\"a\",\"a\",\"a\",\"a\",\"a\",\"a\",\"a\",\"a\",\"a\",\"a\",\"a\",\"a\",\"a\",\"a\",\"a\",\"a\",\"a\",\"a\",\"a\",\"a\",\"a\",\"a\",\"a\",\"a\",\"a\",\"a\",\"a\",\"a\",\"a\",\"a\",\"a\",\"a\",\"a\",\"a\",\"a\",\"a\",\"a\",\"a\",\"a\",\"a\",\"a\",\"a\",\"a\",\"a\",\"a\",\"a\",\"a\",\"a\",\"a\",\"a\",\"a\",\"a\",\"a\",\"a\",\"a\",\"a\",\"a\",\"a\",\"a\",\"a\",\"a\",\"a\",\"a\",\"a\",\"a\",\"a\",\"a\",\"a\",\"a\",\"a\",\"a\",\"a\",\"a\",\"a\",\"a\",\"a\",\"a\",\"a\",\"a\",\"a\",\"a\",\"a\",\"a\",\"a\",\"a\",\"a\",\"a\",\"a\",\"a\",\"a\",\"a\",\"a\",\"a\",\"a\",\"a\",\"a\",\"a\",\"a\",\"a\",\"a\",\"a\",\"a\",\"a\",\"a\",\"a\",\"a\",\"a\",\"a\",\"a\",\"a\",\"a\",\"a\",\"a\",\"a\",\"a\",\"a\",\"a\",\"a\",\"a\",\"a\",\"a\",\"a\",\"a\",\"a\",\"a\",\"a\",\"a\",\"a\",\"a\",\"a\",\"a\",\"a\",\"a\",\"a\",\"a\",\"a\",\"a\",\"a\",\"a\",\"a\",\"a\",\"a\",\"a\",\"a\",\"a\",\"a\",\"a\",\"a\",\"a\",\"a\",\"a\",\"a\",\"a\",\"a\",\"a\",\"a\",\"a\",\"a\",\"a\",\"a\",\"a\",\"a\",\"a\",\"a\",\"a\",\"a\",\"a\",\"a\",\"a\",\"a\",\"a\",\"a\",\"a\",\"a\",\"a\",\"a\",\"a\",\"a\",\"a\",\"a\",\"a\",\"a\",\"a\",\"a\",\"a\",\"a\",\"a\",\"a\",\"a\",\"a\",\"a\",\"a\",\"a\",\"a\",\"a\",\"a\",\"a\",\"a\",\"a\",\"a\",\"a\",\"a\",\"a\",\"a\",\"a\",\"a\",\"a\",\"a\",\"a\",\"a\",\"a\",\"a\",\"a\",\"a\",\"a\",\"a\",\"a\",\"a\",\"a\",\"a\",\"a\",\"a\",\"a\",\"a\",\"a\",\"a\",\"a\",\"a\",\"a\",\"a\",\"a\",\"a\",\"a\",\"a\",\"a\",\"a\",\"a\",\"a\",\"a\",\"a\",\"a\",\"a\",\"a\",\"a\",\"a\",\"a\",\"a\",\"a\",\"a\",\"a\",\"a\",\"a\",\"a\",\"a\",\"a\",\"a\",\"a\",\"a\",\"a\",\"a\",\"a\",\"a\",\"a\",\"a\",\"a\",\"a\",\"a\",\"a\",\"a\",\"a\",\"a\",\"a\",\"a\",\"a\",\"a\",\"a\",\"a\",\"a\",\"a\",\"a\",\"a\",\"a\",\"a\",\"a\",\"a\",\"a\",\"a\",\"a\",\"a\",\"a\",\"a\",\"a\",\"a\",\"a\",\"a\",\"a\",\"a\",\"a\",\"a\",\"a\",\"a\",\"a\",\"a\",\"a\",\"a\",\"a\",\"a\",\"a\",\"a\",\"a\",\"a\",\"a\",\"a\",\"a\",\"a\",\"a\",\"a\",\"a\",\"a\",\"a\",\"a\",\"a\",\"a\",\"a\",\"a\",\"a\",\"a\",\"a\",\"a\",\"a\",\"a\",\"a\",\"a\",\"a\",\"a\",\"a\",\"a\",\"a\",\"a\",\"a\",\"a\",\"a\",\"a\",\"a\",\"a\",\"a\",\"a\",\"a\",\"a\",\"a\",\"a\",\"a\",\"a\",\"a\",\"a\",\"a\",\"a\",\"a\",\"a\",\"a\",\"a\",\"a\",\"a\",\"a\",\"a\",\"a\",\"a\",\"a\",\"a\",\"a\",\"a\",\"a\",\"a\",\"a\",\"a\",\"a\",\"a\",\"a\",\"a\",\"a\",\"a\",\"a\",\"a\",\"a\",\"a\",\"a\",\"a\",\"a\",\"a\",\"a\",\"a\",\"a\",\"a\",\"a\",\"a\",\"a\",\"a\",\"a\",\"a\",\"a\",\"a\",\"a\",\"a\",\"a\",\"a\",\"a\",\"a\",\"a\",\"a\",\"a\",\"a\",\"a\",\"a\",\"a\",\"a\",\"a\",\"a\",\"a\",\"a\",\"a\",\"a\",\"a\",\"a\",\"a\",\"a\",\"a\",\"a\",\"a\",\"a\",\"a\",\"a\",\"a\",\"a\",\"a\",\"a\",\"a\",\"a\",\"a\",\"a\",\"a\",\"a\",\"a\",\"a\",\"a\",\"a\",\"a\",\"a\",\"a\",\"a\",\"a\",\"a\",\"a\",\"a\",\"a\",\"a\",\"a\",\"a\",\"a\",\"a\",\"a\",\"a\",\"a\",\"a\",\"a\",\"a\",\"a\",\"a\",\"a\",\"a\",\"a\",\"a\",\"a\",\"a\",\"a\",\"a\",\"a\",\"a\",\"a\",\"a\",\"a\",\"a\",\"a\",\"a\",\"a\",\"a\",\"a\",\"a\",\"a\",\"a\",\"a\",\"a\",\"a\",\"a\",\"a\",\"a\",\"a\",\"a\",\"a\",\"a\",\"a\",\"a\",\"a\",\"a\",\"a\",\"a\",\"a\",\"a\",\"a\",\"a\",\"a\",\"a\",\"a\",\"a\",\"a\",\"a\",\"a\",\"a\",\"a\",\"a\",\"a\",\"a\",\"a\"],\"yaxis\":\"y2\",\"type\":\"scatter\"}],                        {\"barmode\":\"overlay\",\"hovermode\":\"closest\",\"legend\":{\"traceorder\":\"reversed\"},\"xaxis\":{\"anchor\":\"y2\",\"domain\":[0.0,1.0],\"zeroline\":false},\"yaxis\":{\"anchor\":\"free\",\"domain\":[0.35,1],\"position\":0.0},\"yaxis2\":{\"anchor\":\"x\",\"domain\":[0,0.25],\"dtick\":1,\"showticklabels\":false},\"template\":{\"data\":{\"histogram2dcontour\":[{\"type\":\"histogram2dcontour\",\"colorbar\":{\"outlinewidth\":0,\"ticks\":\"\"},\"colorscale\":[[0.0,\"#0d0887\"],[0.1111111111111111,\"#46039f\"],[0.2222222222222222,\"#7201a8\"],[0.3333333333333333,\"#9c179e\"],[0.4444444444444444,\"#bd3786\"],[0.5555555555555556,\"#d8576b\"],[0.6666666666666666,\"#ed7953\"],[0.7777777777777778,\"#fb9f3a\"],[0.8888888888888888,\"#fdca26\"],[1.0,\"#f0f921\"]]}],\"choropleth\":[{\"type\":\"choropleth\",\"colorbar\":{\"outlinewidth\":0,\"ticks\":\"\"}}],\"histogram2d\":[{\"type\":\"histogram2d\",\"colorbar\":{\"outlinewidth\":0,\"ticks\":\"\"},\"colorscale\":[[0.0,\"#0d0887\"],[0.1111111111111111,\"#46039f\"],[0.2222222222222222,\"#7201a8\"],[0.3333333333333333,\"#9c179e\"],[0.4444444444444444,\"#bd3786\"],[0.5555555555555556,\"#d8576b\"],[0.6666666666666666,\"#ed7953\"],[0.7777777777777778,\"#fb9f3a\"],[0.8888888888888888,\"#fdca26\"],[1.0,\"#f0f921\"]]}],\"heatmap\":[{\"type\":\"heatmap\",\"colorbar\":{\"outlinewidth\":0,\"ticks\":\"\"},\"colorscale\":[[0.0,\"#0d0887\"],[0.1111111111111111,\"#46039f\"],[0.2222222222222222,\"#7201a8\"],[0.3333333333333333,\"#9c179e\"],[0.4444444444444444,\"#bd3786\"],[0.5555555555555556,\"#d8576b\"],[0.6666666666666666,\"#ed7953\"],[0.7777777777777778,\"#fb9f3a\"],[0.8888888888888888,\"#fdca26\"],[1.0,\"#f0f921\"]]}],\"heatmapgl\":[{\"type\":\"heatmapgl\",\"colorbar\":{\"outlinewidth\":0,\"ticks\":\"\"},\"colorscale\":[[0.0,\"#0d0887\"],[0.1111111111111111,\"#46039f\"],[0.2222222222222222,\"#7201a8\"],[0.3333333333333333,\"#9c179e\"],[0.4444444444444444,\"#bd3786\"],[0.5555555555555556,\"#d8576b\"],[0.6666666666666666,\"#ed7953\"],[0.7777777777777778,\"#fb9f3a\"],[0.8888888888888888,\"#fdca26\"],[1.0,\"#f0f921\"]]}],\"contourcarpet\":[{\"type\":\"contourcarpet\",\"colorbar\":{\"outlinewidth\":0,\"ticks\":\"\"}}],\"contour\":[{\"type\":\"contour\",\"colorbar\":{\"outlinewidth\":0,\"ticks\":\"\"},\"colorscale\":[[0.0,\"#0d0887\"],[0.1111111111111111,\"#46039f\"],[0.2222222222222222,\"#7201a8\"],[0.3333333333333333,\"#9c179e\"],[0.4444444444444444,\"#bd3786\"],[0.5555555555555556,\"#d8576b\"],[0.6666666666666666,\"#ed7953\"],[0.7777777777777778,\"#fb9f3a\"],[0.8888888888888888,\"#fdca26\"],[1.0,\"#f0f921\"]]}],\"surface\":[{\"type\":\"surface\",\"colorbar\":{\"outlinewidth\":0,\"ticks\":\"\"},\"colorscale\":[[0.0,\"#0d0887\"],[0.1111111111111111,\"#46039f\"],[0.2222222222222222,\"#7201a8\"],[0.3333333333333333,\"#9c179e\"],[0.4444444444444444,\"#bd3786\"],[0.5555555555555556,\"#d8576b\"],[0.6666666666666666,\"#ed7953\"],[0.7777777777777778,\"#fb9f3a\"],[0.8888888888888888,\"#fdca26\"],[1.0,\"#f0f921\"]]}],\"mesh3d\":[{\"type\":\"mesh3d\",\"colorbar\":{\"outlinewidth\":0,\"ticks\":\"\"}}],\"scatter\":[{\"fillpattern\":{\"fillmode\":\"overlay\",\"size\":10,\"solidity\":0.2},\"type\":\"scatter\"}],\"parcoords\":[{\"type\":\"parcoords\",\"line\":{\"colorbar\":{\"outlinewidth\":0,\"ticks\":\"\"}}}],\"scatterpolargl\":[{\"type\":\"scatterpolargl\",\"marker\":{\"colorbar\":{\"outlinewidth\":0,\"ticks\":\"\"}}}],\"bar\":[{\"error_x\":{\"color\":\"#2a3f5f\"},\"error_y\":{\"color\":\"#2a3f5f\"},\"marker\":{\"line\":{\"color\":\"#E5ECF6\",\"width\":0.5},\"pattern\":{\"fillmode\":\"overlay\",\"size\":10,\"solidity\":0.2}},\"type\":\"bar\"}],\"scattergeo\":[{\"type\":\"scattergeo\",\"marker\":{\"colorbar\":{\"outlinewidth\":0,\"ticks\":\"\"}}}],\"scatterpolar\":[{\"type\":\"scatterpolar\",\"marker\":{\"colorbar\":{\"outlinewidth\":0,\"ticks\":\"\"}}}],\"histogram\":[{\"marker\":{\"pattern\":{\"fillmode\":\"overlay\",\"size\":10,\"solidity\":0.2}},\"type\":\"histogram\"}],\"scattergl\":[{\"type\":\"scattergl\",\"marker\":{\"colorbar\":{\"outlinewidth\":0,\"ticks\":\"\"}}}],\"scatter3d\":[{\"type\":\"scatter3d\",\"line\":{\"colorbar\":{\"outlinewidth\":0,\"ticks\":\"\"}},\"marker\":{\"colorbar\":{\"outlinewidth\":0,\"ticks\":\"\"}}}],\"scattermapbox\":[{\"type\":\"scattermapbox\",\"marker\":{\"colorbar\":{\"outlinewidth\":0,\"ticks\":\"\"}}}],\"scatterternary\":[{\"type\":\"scatterternary\",\"marker\":{\"colorbar\":{\"outlinewidth\":0,\"ticks\":\"\"}}}],\"scattercarpet\":[{\"type\":\"scattercarpet\",\"marker\":{\"colorbar\":{\"outlinewidth\":0,\"ticks\":\"\"}}}],\"carpet\":[{\"aaxis\":{\"endlinecolor\":\"#2a3f5f\",\"gridcolor\":\"white\",\"linecolor\":\"white\",\"minorgridcolor\":\"white\",\"startlinecolor\":\"#2a3f5f\"},\"baxis\":{\"endlinecolor\":\"#2a3f5f\",\"gridcolor\":\"white\",\"linecolor\":\"white\",\"minorgridcolor\":\"white\",\"startlinecolor\":\"#2a3f5f\"},\"type\":\"carpet\"}],\"table\":[{\"cells\":{\"fill\":{\"color\":\"#EBF0F8\"},\"line\":{\"color\":\"white\"}},\"header\":{\"fill\":{\"color\":\"#C8D4E3\"},\"line\":{\"color\":\"white\"}},\"type\":\"table\"}],\"barpolar\":[{\"marker\":{\"line\":{\"color\":\"#E5ECF6\",\"width\":0.5},\"pattern\":{\"fillmode\":\"overlay\",\"size\":10,\"solidity\":0.2}},\"type\":\"barpolar\"}],\"pie\":[{\"automargin\":true,\"type\":\"pie\"}]},\"layout\":{\"autotypenumbers\":\"strict\",\"colorway\":[\"#636efa\",\"#EF553B\",\"#00cc96\",\"#ab63fa\",\"#FFA15A\",\"#19d3f3\",\"#FF6692\",\"#B6E880\",\"#FF97FF\",\"#FECB52\"],\"font\":{\"color\":\"#2a3f5f\"},\"hovermode\":\"closest\",\"hoverlabel\":{\"align\":\"left\"},\"paper_bgcolor\":\"white\",\"plot_bgcolor\":\"#E5ECF6\",\"polar\":{\"bgcolor\":\"#E5ECF6\",\"angularaxis\":{\"gridcolor\":\"white\",\"linecolor\":\"white\",\"ticks\":\"\"},\"radialaxis\":{\"gridcolor\":\"white\",\"linecolor\":\"white\",\"ticks\":\"\"}},\"ternary\":{\"bgcolor\":\"#E5ECF6\",\"aaxis\":{\"gridcolor\":\"white\",\"linecolor\":\"white\",\"ticks\":\"\"},\"baxis\":{\"gridcolor\":\"white\",\"linecolor\":\"white\",\"ticks\":\"\"},\"caxis\":{\"gridcolor\":\"white\",\"linecolor\":\"white\",\"ticks\":\"\"}},\"coloraxis\":{\"colorbar\":{\"outlinewidth\":0,\"ticks\":\"\"}},\"colorscale\":{\"sequential\":[[0.0,\"#0d0887\"],[0.1111111111111111,\"#46039f\"],[0.2222222222222222,\"#7201a8\"],[0.3333333333333333,\"#9c179e\"],[0.4444444444444444,\"#bd3786\"],[0.5555555555555556,\"#d8576b\"],[0.6666666666666666,\"#ed7953\"],[0.7777777777777778,\"#fb9f3a\"],[0.8888888888888888,\"#fdca26\"],[1.0,\"#f0f921\"]],\"sequentialminus\":[[0.0,\"#0d0887\"],[0.1111111111111111,\"#46039f\"],[0.2222222222222222,\"#7201a8\"],[0.3333333333333333,\"#9c179e\"],[0.4444444444444444,\"#bd3786\"],[0.5555555555555556,\"#d8576b\"],[0.6666666666666666,\"#ed7953\"],[0.7777777777777778,\"#fb9f3a\"],[0.8888888888888888,\"#fdca26\"],[1.0,\"#f0f921\"]],\"diverging\":[[0,\"#8e0152\"],[0.1,\"#c51b7d\"],[0.2,\"#de77ae\"],[0.3,\"#f1b6da\"],[0.4,\"#fde0ef\"],[0.5,\"#f7f7f7\"],[0.6,\"#e6f5d0\"],[0.7,\"#b8e186\"],[0.8,\"#7fbc41\"],[0.9,\"#4d9221\"],[1,\"#276419\"]]},\"xaxis\":{\"gridcolor\":\"white\",\"linecolor\":\"white\",\"ticks\":\"\",\"title\":{\"standoff\":15},\"zerolinecolor\":\"white\",\"automargin\":true,\"zerolinewidth\":2},\"yaxis\":{\"gridcolor\":\"white\",\"linecolor\":\"white\",\"ticks\":\"\",\"title\":{\"standoff\":15},\"zerolinecolor\":\"white\",\"automargin\":true,\"zerolinewidth\":2},\"scene\":{\"xaxis\":{\"backgroundcolor\":\"#E5ECF6\",\"gridcolor\":\"white\",\"linecolor\":\"white\",\"showbackground\":true,\"ticks\":\"\",\"zerolinecolor\":\"white\",\"gridwidth\":2},\"yaxis\":{\"backgroundcolor\":\"#E5ECF6\",\"gridcolor\":\"white\",\"linecolor\":\"white\",\"showbackground\":true,\"ticks\":\"\",\"zerolinecolor\":\"white\",\"gridwidth\":2},\"zaxis\":{\"backgroundcolor\":\"#E5ECF6\",\"gridcolor\":\"white\",\"linecolor\":\"white\",\"showbackground\":true,\"ticks\":\"\",\"zerolinecolor\":\"white\",\"gridwidth\":2}},\"shapedefaults\":{\"line\":{\"color\":\"#2a3f5f\"}},\"annotationdefaults\":{\"arrowcolor\":\"#2a3f5f\",\"arrowhead\":0,\"arrowwidth\":1},\"geo\":{\"bgcolor\":\"white\",\"landcolor\":\"#E5ECF6\",\"subunitcolor\":\"white\",\"showland\":true,\"showlakes\":true,\"lakecolor\":\"white\"},\"title\":{\"x\":0.05},\"mapbox\":{\"style\":\"light\"}}},\"title\":{\"text\":\"Distplot with Normal Distribution\"}},                        {\"responsive\": true}                    ).then(function(){\n",
       "                            \n",
       "var gd = document.getElementById('52e237a9-02d7-4bc5-b51f-505e27b9d889');\n",
       "var x = new MutationObserver(function (mutations, observer) {{\n",
       "        var display = window.getComputedStyle(gd).display;\n",
       "        if (!display || display === 'none') {{\n",
       "            console.log([gd, 'removed!']);\n",
       "            Plotly.purge(gd);\n",
       "            observer.disconnect();\n",
       "        }}\n",
       "}});\n",
       "\n",
       "// Listen for the removal of the full notebook cells\n",
       "var notebookContainer = gd.closest('#notebook-container');\n",
       "if (notebookContainer) {{\n",
       "    x.observe(notebookContainer, {childList: true});\n",
       "}}\n",
       "\n",
       "// Listen for the clearing of the current output cell\n",
       "var outputEl = gd.closest('.output');\n",
       "if (outputEl) {{\n",
       "    x.observe(outputEl, {childList: true});\n",
       "}}\n",
       "\n",
       "                        })                };                });            </script>        </div>"
      ]
     },
     "metadata": {},
     "output_type": "display_data"
    }
   ],
   "source": [
    "import plotly.figure_factory as ff\n",
    "x1 = d2['duration'].fillna(0.0).astype(float)\n",
    "fig = ff.create_distplot([x1], ['a'], bin_size=0.7, curve_type='normal', colors=[\"#6ad49b\"])\n",
    "fig.update_layout(title_text='Distplot with Normal Distribution')\n",
    "fig.show()"
   ]
  },
  {
   "cell_type": "markdown",
   "metadata": {
    "id": "wfc7tJRzpoxY"
   },
   "source": [
    "**TV Shows with many seasons**"
   ]
  },
  {
   "cell_type": "code",
   "execution_count": 44,
   "metadata": {
    "colab": {
     "base_uri": "https://localhost:8080/",
     "height": 542
    },
    "id": "WHFvSz35pqtA",
    "outputId": "81ead806-37af-484b-8c19-e75041cc5272"
   },
   "outputs": [
    {
     "data": {
      "application/vnd.plotly.v1+json": {
       "config": {
        "plotlyServerURL": "https://plot.ly"
       },
       "data": [
        {
         "marker": {
          "color": "#a678de"
         },
         "name": "TV Shows",
         "type": "bar",
         "x": [
          "1",
          "10",
          "11",
          "12",
          "13",
          "14",
          "15",
          "2",
          "3",
          "4",
          "5",
          "6",
          "7",
          "8",
          "9"
         ],
         "y": [
          1257,
          3,
          3,
          2,
          2,
          1,
          2,
          297,
          157,
          60,
          46,
          21,
          21,
          16,
          7
         ]
        }
       ],
       "layout": {
        "legend": {
         "orientation": "h",
         "x": 0.1,
         "y": 1.1
        },
        "template": {
         "data": {
          "bar": [
           {
            "error_x": {
             "color": "#2a3f5f"
            },
            "error_y": {
             "color": "#2a3f5f"
            },
            "marker": {
             "line": {
              "color": "#E5ECF6",
              "width": 0.5
             },
             "pattern": {
              "fillmode": "overlay",
              "size": 10,
              "solidity": 0.2
             }
            },
            "type": "bar"
           }
          ],
          "barpolar": [
           {
            "marker": {
             "line": {
              "color": "#E5ECF6",
              "width": 0.5
             },
             "pattern": {
              "fillmode": "overlay",
              "size": 10,
              "solidity": 0.2
             }
            },
            "type": "barpolar"
           }
          ],
          "carpet": [
           {
            "aaxis": {
             "endlinecolor": "#2a3f5f",
             "gridcolor": "white",
             "linecolor": "white",
             "minorgridcolor": "white",
             "startlinecolor": "#2a3f5f"
            },
            "baxis": {
             "endlinecolor": "#2a3f5f",
             "gridcolor": "white",
             "linecolor": "white",
             "minorgridcolor": "white",
             "startlinecolor": "#2a3f5f"
            },
            "type": "carpet"
           }
          ],
          "choropleth": [
           {
            "colorbar": {
             "outlinewidth": 0,
             "ticks": ""
            },
            "type": "choropleth"
           }
          ],
          "contour": [
           {
            "colorbar": {
             "outlinewidth": 0,
             "ticks": ""
            },
            "colorscale": [
             [
              0,
              "#0d0887"
             ],
             [
              0.1111111111111111,
              "#46039f"
             ],
             [
              0.2222222222222222,
              "#7201a8"
             ],
             [
              0.3333333333333333,
              "#9c179e"
             ],
             [
              0.4444444444444444,
              "#bd3786"
             ],
             [
              0.5555555555555556,
              "#d8576b"
             ],
             [
              0.6666666666666666,
              "#ed7953"
             ],
             [
              0.7777777777777778,
              "#fb9f3a"
             ],
             [
              0.8888888888888888,
              "#fdca26"
             ],
             [
              1,
              "#f0f921"
             ]
            ],
            "type": "contour"
           }
          ],
          "contourcarpet": [
           {
            "colorbar": {
             "outlinewidth": 0,
             "ticks": ""
            },
            "type": "contourcarpet"
           }
          ],
          "heatmap": [
           {
            "colorbar": {
             "outlinewidth": 0,
             "ticks": ""
            },
            "colorscale": [
             [
              0,
              "#0d0887"
             ],
             [
              0.1111111111111111,
              "#46039f"
             ],
             [
              0.2222222222222222,
              "#7201a8"
             ],
             [
              0.3333333333333333,
              "#9c179e"
             ],
             [
              0.4444444444444444,
              "#bd3786"
             ],
             [
              0.5555555555555556,
              "#d8576b"
             ],
             [
              0.6666666666666666,
              "#ed7953"
             ],
             [
              0.7777777777777778,
              "#fb9f3a"
             ],
             [
              0.8888888888888888,
              "#fdca26"
             ],
             [
              1,
              "#f0f921"
             ]
            ],
            "type": "heatmap"
           }
          ],
          "heatmapgl": [
           {
            "colorbar": {
             "outlinewidth": 0,
             "ticks": ""
            },
            "colorscale": [
             [
              0,
              "#0d0887"
             ],
             [
              0.1111111111111111,
              "#46039f"
             ],
             [
              0.2222222222222222,
              "#7201a8"
             ],
             [
              0.3333333333333333,
              "#9c179e"
             ],
             [
              0.4444444444444444,
              "#bd3786"
             ],
             [
              0.5555555555555556,
              "#d8576b"
             ],
             [
              0.6666666666666666,
              "#ed7953"
             ],
             [
              0.7777777777777778,
              "#fb9f3a"
             ],
             [
              0.8888888888888888,
              "#fdca26"
             ],
             [
              1,
              "#f0f921"
             ]
            ],
            "type": "heatmapgl"
           }
          ],
          "histogram": [
           {
            "marker": {
             "pattern": {
              "fillmode": "overlay",
              "size": 10,
              "solidity": 0.2
             }
            },
            "type": "histogram"
           }
          ],
          "histogram2d": [
           {
            "colorbar": {
             "outlinewidth": 0,
             "ticks": ""
            },
            "colorscale": [
             [
              0,
              "#0d0887"
             ],
             [
              0.1111111111111111,
              "#46039f"
             ],
             [
              0.2222222222222222,
              "#7201a8"
             ],
             [
              0.3333333333333333,
              "#9c179e"
             ],
             [
              0.4444444444444444,
              "#bd3786"
             ],
             [
              0.5555555555555556,
              "#d8576b"
             ],
             [
              0.6666666666666666,
              "#ed7953"
             ],
             [
              0.7777777777777778,
              "#fb9f3a"
             ],
             [
              0.8888888888888888,
              "#fdca26"
             ],
             [
              1,
              "#f0f921"
             ]
            ],
            "type": "histogram2d"
           }
          ],
          "histogram2dcontour": [
           {
            "colorbar": {
             "outlinewidth": 0,
             "ticks": ""
            },
            "colorscale": [
             [
              0,
              "#0d0887"
             ],
             [
              0.1111111111111111,
              "#46039f"
             ],
             [
              0.2222222222222222,
              "#7201a8"
             ],
             [
              0.3333333333333333,
              "#9c179e"
             ],
             [
              0.4444444444444444,
              "#bd3786"
             ],
             [
              0.5555555555555556,
              "#d8576b"
             ],
             [
              0.6666666666666666,
              "#ed7953"
             ],
             [
              0.7777777777777778,
              "#fb9f3a"
             ],
             [
              0.8888888888888888,
              "#fdca26"
             ],
             [
              1,
              "#f0f921"
             ]
            ],
            "type": "histogram2dcontour"
           }
          ],
          "mesh3d": [
           {
            "colorbar": {
             "outlinewidth": 0,
             "ticks": ""
            },
            "type": "mesh3d"
           }
          ],
          "parcoords": [
           {
            "line": {
             "colorbar": {
              "outlinewidth": 0,
              "ticks": ""
             }
            },
            "type": "parcoords"
           }
          ],
          "pie": [
           {
            "automargin": true,
            "type": "pie"
           }
          ],
          "scatter": [
           {
            "fillpattern": {
             "fillmode": "overlay",
             "size": 10,
             "solidity": 0.2
            },
            "type": "scatter"
           }
          ],
          "scatter3d": [
           {
            "line": {
             "colorbar": {
              "outlinewidth": 0,
              "ticks": ""
             }
            },
            "marker": {
             "colorbar": {
              "outlinewidth": 0,
              "ticks": ""
             }
            },
            "type": "scatter3d"
           }
          ],
          "scattercarpet": [
           {
            "marker": {
             "colorbar": {
              "outlinewidth": 0,
              "ticks": ""
             }
            },
            "type": "scattercarpet"
           }
          ],
          "scattergeo": [
           {
            "marker": {
             "colorbar": {
              "outlinewidth": 0,
              "ticks": ""
             }
            },
            "type": "scattergeo"
           }
          ],
          "scattergl": [
           {
            "marker": {
             "colorbar": {
              "outlinewidth": 0,
              "ticks": ""
             }
            },
            "type": "scattergl"
           }
          ],
          "scattermapbox": [
           {
            "marker": {
             "colorbar": {
              "outlinewidth": 0,
              "ticks": ""
             }
            },
            "type": "scattermapbox"
           }
          ],
          "scatterpolar": [
           {
            "marker": {
             "colorbar": {
              "outlinewidth": 0,
              "ticks": ""
             }
            },
            "type": "scatterpolar"
           }
          ],
          "scatterpolargl": [
           {
            "marker": {
             "colorbar": {
              "outlinewidth": 0,
              "ticks": ""
             }
            },
            "type": "scatterpolargl"
           }
          ],
          "scatterternary": [
           {
            "marker": {
             "colorbar": {
              "outlinewidth": 0,
              "ticks": ""
             }
            },
            "type": "scatterternary"
           }
          ],
          "surface": [
           {
            "colorbar": {
             "outlinewidth": 0,
             "ticks": ""
            },
            "colorscale": [
             [
              0,
              "#0d0887"
             ],
             [
              0.1111111111111111,
              "#46039f"
             ],
             [
              0.2222222222222222,
              "#7201a8"
             ],
             [
              0.3333333333333333,
              "#9c179e"
             ],
             [
              0.4444444444444444,
              "#bd3786"
             ],
             [
              0.5555555555555556,
              "#d8576b"
             ],
             [
              0.6666666666666666,
              "#ed7953"
             ],
             [
              0.7777777777777778,
              "#fb9f3a"
             ],
             [
              0.8888888888888888,
              "#fdca26"
             ],
             [
              1,
              "#f0f921"
             ]
            ],
            "type": "surface"
           }
          ],
          "table": [
           {
            "cells": {
             "fill": {
              "color": "#EBF0F8"
             },
             "line": {
              "color": "white"
             }
            },
            "header": {
             "fill": {
              "color": "#C8D4E3"
             },
             "line": {
              "color": "white"
             }
            },
            "type": "table"
           }
          ]
         },
         "layout": {
          "annotationdefaults": {
           "arrowcolor": "#2a3f5f",
           "arrowhead": 0,
           "arrowwidth": 1
          },
          "autotypenumbers": "strict",
          "coloraxis": {
           "colorbar": {
            "outlinewidth": 0,
            "ticks": ""
           }
          },
          "colorscale": {
           "diverging": [
            [
             0,
             "#8e0152"
            ],
            [
             0.1,
             "#c51b7d"
            ],
            [
             0.2,
             "#de77ae"
            ],
            [
             0.3,
             "#f1b6da"
            ],
            [
             0.4,
             "#fde0ef"
            ],
            [
             0.5,
             "#f7f7f7"
            ],
            [
             0.6,
             "#e6f5d0"
            ],
            [
             0.7,
             "#b8e186"
            ],
            [
             0.8,
             "#7fbc41"
            ],
            [
             0.9,
             "#4d9221"
            ],
            [
             1,
             "#276419"
            ]
           ],
           "sequential": [
            [
             0,
             "#0d0887"
            ],
            [
             0.1111111111111111,
             "#46039f"
            ],
            [
             0.2222222222222222,
             "#7201a8"
            ],
            [
             0.3333333333333333,
             "#9c179e"
            ],
            [
             0.4444444444444444,
             "#bd3786"
            ],
            [
             0.5555555555555556,
             "#d8576b"
            ],
            [
             0.6666666666666666,
             "#ed7953"
            ],
            [
             0.7777777777777778,
             "#fb9f3a"
            ],
            [
             0.8888888888888888,
             "#fdca26"
            ],
            [
             1,
             "#f0f921"
            ]
           ],
           "sequentialminus": [
            [
             0,
             "#0d0887"
            ],
            [
             0.1111111111111111,
             "#46039f"
            ],
            [
             0.2222222222222222,
             "#7201a8"
            ],
            [
             0.3333333333333333,
             "#9c179e"
            ],
            [
             0.4444444444444444,
             "#bd3786"
            ],
            [
             0.5555555555555556,
             "#d8576b"
            ],
            [
             0.6666666666666666,
             "#ed7953"
            ],
            [
             0.7777777777777778,
             "#fb9f3a"
            ],
            [
             0.8888888888888888,
             "#fdca26"
            ],
            [
             1,
             "#f0f921"
            ]
           ]
          },
          "colorway": [
           "#636efa",
           "#EF553B",
           "#00cc96",
           "#ab63fa",
           "#FFA15A",
           "#19d3f3",
           "#FF6692",
           "#B6E880",
           "#FF97FF",
           "#FECB52"
          ],
          "font": {
           "color": "#2a3f5f"
          },
          "geo": {
           "bgcolor": "white",
           "lakecolor": "white",
           "landcolor": "#E5ECF6",
           "showlakes": true,
           "showland": true,
           "subunitcolor": "white"
          },
          "hoverlabel": {
           "align": "left"
          },
          "hovermode": "closest",
          "mapbox": {
           "style": "light"
          },
          "paper_bgcolor": "white",
          "plot_bgcolor": "#E5ECF6",
          "polar": {
           "angularaxis": {
            "gridcolor": "white",
            "linecolor": "white",
            "ticks": ""
           },
           "bgcolor": "#E5ECF6",
           "radialaxis": {
            "gridcolor": "white",
            "linecolor": "white",
            "ticks": ""
           }
          },
          "scene": {
           "xaxis": {
            "backgroundcolor": "#E5ECF6",
            "gridcolor": "white",
            "gridwidth": 2,
            "linecolor": "white",
            "showbackground": true,
            "ticks": "",
            "zerolinecolor": "white"
           },
           "yaxis": {
            "backgroundcolor": "#E5ECF6",
            "gridcolor": "white",
            "gridwidth": 2,
            "linecolor": "white",
            "showbackground": true,
            "ticks": "",
            "zerolinecolor": "white"
           },
           "zaxis": {
            "backgroundcolor": "#E5ECF6",
            "gridcolor": "white",
            "gridwidth": 2,
            "linecolor": "white",
            "showbackground": true,
            "ticks": "",
            "zerolinecolor": "white"
           }
          },
          "shapedefaults": {
           "line": {
            "color": "#2a3f5f"
           }
          },
          "ternary": {
           "aaxis": {
            "gridcolor": "white",
            "linecolor": "white",
            "ticks": ""
           },
           "baxis": {
            "gridcolor": "white",
            "linecolor": "white",
            "ticks": ""
           },
           "bgcolor": "#E5ECF6",
           "caxis": {
            "gridcolor": "white",
            "linecolor": "white",
            "ticks": ""
           }
          },
          "title": {
           "x": 0.05
          },
          "xaxis": {
           "automargin": true,
           "gridcolor": "white",
           "linecolor": "white",
           "ticks": "",
           "title": {
            "standoff": 15
           },
           "zerolinecolor": "white",
           "zerolinewidth": 2
          },
          "yaxis": {
           "automargin": true,
           "gridcolor": "white",
           "linecolor": "white",
           "ticks": "",
           "title": {
            "standoff": 15
           },
           "zerolinecolor": "white",
           "zerolinewidth": 2
          }
         }
        },
        "title": {
         "text": "Seasons"
        }
       }
      },
      "text/html": [
       "<div>                            <div id=\"5bb3b4e3-38ed-4d8c-9299-d4867afdb1a3\" class=\"plotly-graph-div\" style=\"height:525px; width:100%;\"></div>            <script type=\"text/javascript\">                require([\"plotly\"], function(Plotly) {                    window.PLOTLYENV=window.PLOTLYENV || {};                                    if (document.getElementById(\"5bb3b4e3-38ed-4d8c-9299-d4867afdb1a3\")) {                    Plotly.newPlot(                        \"5bb3b4e3-38ed-4d8c-9299-d4867afdb1a3\",                        [{\"marker\":{\"color\":\"#a678de\"},\"name\":\"TV Shows\",\"x\":[\"1\",\"10\",\"11\",\"12\",\"13\",\"14\",\"15\",\"2\",\"3\",\"4\",\"5\",\"6\",\"7\",\"8\",\"9\"],\"y\":[1257,3,3,2,2,1,2,297,157,60,46,21,21,16,7],\"type\":\"bar\"}],                        {\"legend\":{\"orientation\":\"h\",\"x\":0.1,\"y\":1.1},\"title\":{\"text\":\"Seasons\"},\"template\":{\"data\":{\"histogram2dcontour\":[{\"type\":\"histogram2dcontour\",\"colorbar\":{\"outlinewidth\":0,\"ticks\":\"\"},\"colorscale\":[[0.0,\"#0d0887\"],[0.1111111111111111,\"#46039f\"],[0.2222222222222222,\"#7201a8\"],[0.3333333333333333,\"#9c179e\"],[0.4444444444444444,\"#bd3786\"],[0.5555555555555556,\"#d8576b\"],[0.6666666666666666,\"#ed7953\"],[0.7777777777777778,\"#fb9f3a\"],[0.8888888888888888,\"#fdca26\"],[1.0,\"#f0f921\"]]}],\"choropleth\":[{\"type\":\"choropleth\",\"colorbar\":{\"outlinewidth\":0,\"ticks\":\"\"}}],\"histogram2d\":[{\"type\":\"histogram2d\",\"colorbar\":{\"outlinewidth\":0,\"ticks\":\"\"},\"colorscale\":[[0.0,\"#0d0887\"],[0.1111111111111111,\"#46039f\"],[0.2222222222222222,\"#7201a8\"],[0.3333333333333333,\"#9c179e\"],[0.4444444444444444,\"#bd3786\"],[0.5555555555555556,\"#d8576b\"],[0.6666666666666666,\"#ed7953\"],[0.7777777777777778,\"#fb9f3a\"],[0.8888888888888888,\"#fdca26\"],[1.0,\"#f0f921\"]]}],\"heatmap\":[{\"type\":\"heatmap\",\"colorbar\":{\"outlinewidth\":0,\"ticks\":\"\"},\"colorscale\":[[0.0,\"#0d0887\"],[0.1111111111111111,\"#46039f\"],[0.2222222222222222,\"#7201a8\"],[0.3333333333333333,\"#9c179e\"],[0.4444444444444444,\"#bd3786\"],[0.5555555555555556,\"#d8576b\"],[0.6666666666666666,\"#ed7953\"],[0.7777777777777778,\"#fb9f3a\"],[0.8888888888888888,\"#fdca26\"],[1.0,\"#f0f921\"]]}],\"heatmapgl\":[{\"type\":\"heatmapgl\",\"colorbar\":{\"outlinewidth\":0,\"ticks\":\"\"},\"colorscale\":[[0.0,\"#0d0887\"],[0.1111111111111111,\"#46039f\"],[0.2222222222222222,\"#7201a8\"],[0.3333333333333333,\"#9c179e\"],[0.4444444444444444,\"#bd3786\"],[0.5555555555555556,\"#d8576b\"],[0.6666666666666666,\"#ed7953\"],[0.7777777777777778,\"#fb9f3a\"],[0.8888888888888888,\"#fdca26\"],[1.0,\"#f0f921\"]]}],\"contourcarpet\":[{\"type\":\"contourcarpet\",\"colorbar\":{\"outlinewidth\":0,\"ticks\":\"\"}}],\"contour\":[{\"type\":\"contour\",\"colorbar\":{\"outlinewidth\":0,\"ticks\":\"\"},\"colorscale\":[[0.0,\"#0d0887\"],[0.1111111111111111,\"#46039f\"],[0.2222222222222222,\"#7201a8\"],[0.3333333333333333,\"#9c179e\"],[0.4444444444444444,\"#bd3786\"],[0.5555555555555556,\"#d8576b\"],[0.6666666666666666,\"#ed7953\"],[0.7777777777777778,\"#fb9f3a\"],[0.8888888888888888,\"#fdca26\"],[1.0,\"#f0f921\"]]}],\"surface\":[{\"type\":\"surface\",\"colorbar\":{\"outlinewidth\":0,\"ticks\":\"\"},\"colorscale\":[[0.0,\"#0d0887\"],[0.1111111111111111,\"#46039f\"],[0.2222222222222222,\"#7201a8\"],[0.3333333333333333,\"#9c179e\"],[0.4444444444444444,\"#bd3786\"],[0.5555555555555556,\"#d8576b\"],[0.6666666666666666,\"#ed7953\"],[0.7777777777777778,\"#fb9f3a\"],[0.8888888888888888,\"#fdca26\"],[1.0,\"#f0f921\"]]}],\"mesh3d\":[{\"type\":\"mesh3d\",\"colorbar\":{\"outlinewidth\":0,\"ticks\":\"\"}}],\"scatter\":[{\"fillpattern\":{\"fillmode\":\"overlay\",\"size\":10,\"solidity\":0.2},\"type\":\"scatter\"}],\"parcoords\":[{\"type\":\"parcoords\",\"line\":{\"colorbar\":{\"outlinewidth\":0,\"ticks\":\"\"}}}],\"scatterpolargl\":[{\"type\":\"scatterpolargl\",\"marker\":{\"colorbar\":{\"outlinewidth\":0,\"ticks\":\"\"}}}],\"bar\":[{\"error_x\":{\"color\":\"#2a3f5f\"},\"error_y\":{\"color\":\"#2a3f5f\"},\"marker\":{\"line\":{\"color\":\"#E5ECF6\",\"width\":0.5},\"pattern\":{\"fillmode\":\"overlay\",\"size\":10,\"solidity\":0.2}},\"type\":\"bar\"}],\"scattergeo\":[{\"type\":\"scattergeo\",\"marker\":{\"colorbar\":{\"outlinewidth\":0,\"ticks\":\"\"}}}],\"scatterpolar\":[{\"type\":\"scatterpolar\",\"marker\":{\"colorbar\":{\"outlinewidth\":0,\"ticks\":\"\"}}}],\"histogram\":[{\"marker\":{\"pattern\":{\"fillmode\":\"overlay\",\"size\":10,\"solidity\":0.2}},\"type\":\"histogram\"}],\"scattergl\":[{\"type\":\"scattergl\",\"marker\":{\"colorbar\":{\"outlinewidth\":0,\"ticks\":\"\"}}}],\"scatter3d\":[{\"type\":\"scatter3d\",\"line\":{\"colorbar\":{\"outlinewidth\":0,\"ticks\":\"\"}},\"marker\":{\"colorbar\":{\"outlinewidth\":0,\"ticks\":\"\"}}}],\"scattermapbox\":[{\"type\":\"scattermapbox\",\"marker\":{\"colorbar\":{\"outlinewidth\":0,\"ticks\":\"\"}}}],\"scatterternary\":[{\"type\":\"scatterternary\",\"marker\":{\"colorbar\":{\"outlinewidth\":0,\"ticks\":\"\"}}}],\"scattercarpet\":[{\"type\":\"scattercarpet\",\"marker\":{\"colorbar\":{\"outlinewidth\":0,\"ticks\":\"\"}}}],\"carpet\":[{\"aaxis\":{\"endlinecolor\":\"#2a3f5f\",\"gridcolor\":\"white\",\"linecolor\":\"white\",\"minorgridcolor\":\"white\",\"startlinecolor\":\"#2a3f5f\"},\"baxis\":{\"endlinecolor\":\"#2a3f5f\",\"gridcolor\":\"white\",\"linecolor\":\"white\",\"minorgridcolor\":\"white\",\"startlinecolor\":\"#2a3f5f\"},\"type\":\"carpet\"}],\"table\":[{\"cells\":{\"fill\":{\"color\":\"#EBF0F8\"},\"line\":{\"color\":\"white\"}},\"header\":{\"fill\":{\"color\":\"#C8D4E3\"},\"line\":{\"color\":\"white\"}},\"type\":\"table\"}],\"barpolar\":[{\"marker\":{\"line\":{\"color\":\"#E5ECF6\",\"width\":0.5},\"pattern\":{\"fillmode\":\"overlay\",\"size\":10,\"solidity\":0.2}},\"type\":\"barpolar\"}],\"pie\":[{\"automargin\":true,\"type\":\"pie\"}]},\"layout\":{\"autotypenumbers\":\"strict\",\"colorway\":[\"#636efa\",\"#EF553B\",\"#00cc96\",\"#ab63fa\",\"#FFA15A\",\"#19d3f3\",\"#FF6692\",\"#B6E880\",\"#FF97FF\",\"#FECB52\"],\"font\":{\"color\":\"#2a3f5f\"},\"hovermode\":\"closest\",\"hoverlabel\":{\"align\":\"left\"},\"paper_bgcolor\":\"white\",\"plot_bgcolor\":\"#E5ECF6\",\"polar\":{\"bgcolor\":\"#E5ECF6\",\"angularaxis\":{\"gridcolor\":\"white\",\"linecolor\":\"white\",\"ticks\":\"\"},\"radialaxis\":{\"gridcolor\":\"white\",\"linecolor\":\"white\",\"ticks\":\"\"}},\"ternary\":{\"bgcolor\":\"#E5ECF6\",\"aaxis\":{\"gridcolor\":\"white\",\"linecolor\":\"white\",\"ticks\":\"\"},\"baxis\":{\"gridcolor\":\"white\",\"linecolor\":\"white\",\"ticks\":\"\"},\"caxis\":{\"gridcolor\":\"white\",\"linecolor\":\"white\",\"ticks\":\"\"}},\"coloraxis\":{\"colorbar\":{\"outlinewidth\":0,\"ticks\":\"\"}},\"colorscale\":{\"sequential\":[[0.0,\"#0d0887\"],[0.1111111111111111,\"#46039f\"],[0.2222222222222222,\"#7201a8\"],[0.3333333333333333,\"#9c179e\"],[0.4444444444444444,\"#bd3786\"],[0.5555555555555556,\"#d8576b\"],[0.6666666666666666,\"#ed7953\"],[0.7777777777777778,\"#fb9f3a\"],[0.8888888888888888,\"#fdca26\"],[1.0,\"#f0f921\"]],\"sequentialminus\":[[0.0,\"#0d0887\"],[0.1111111111111111,\"#46039f\"],[0.2222222222222222,\"#7201a8\"],[0.3333333333333333,\"#9c179e\"],[0.4444444444444444,\"#bd3786\"],[0.5555555555555556,\"#d8576b\"],[0.6666666666666666,\"#ed7953\"],[0.7777777777777778,\"#fb9f3a\"],[0.8888888888888888,\"#fdca26\"],[1.0,\"#f0f921\"]],\"diverging\":[[0,\"#8e0152\"],[0.1,\"#c51b7d\"],[0.2,\"#de77ae\"],[0.3,\"#f1b6da\"],[0.4,\"#fde0ef\"],[0.5,\"#f7f7f7\"],[0.6,\"#e6f5d0\"],[0.7,\"#b8e186\"],[0.8,\"#7fbc41\"],[0.9,\"#4d9221\"],[1,\"#276419\"]]},\"xaxis\":{\"gridcolor\":\"white\",\"linecolor\":\"white\",\"ticks\":\"\",\"title\":{\"standoff\":15},\"zerolinecolor\":\"white\",\"automargin\":true,\"zerolinewidth\":2},\"yaxis\":{\"gridcolor\":\"white\",\"linecolor\":\"white\",\"ticks\":\"\",\"title\":{\"standoff\":15},\"zerolinecolor\":\"white\",\"automargin\":true,\"zerolinewidth\":2},\"scene\":{\"xaxis\":{\"backgroundcolor\":\"#E5ECF6\",\"gridcolor\":\"white\",\"linecolor\":\"white\",\"showbackground\":true,\"ticks\":\"\",\"zerolinecolor\":\"white\",\"gridwidth\":2},\"yaxis\":{\"backgroundcolor\":\"#E5ECF6\",\"gridcolor\":\"white\",\"linecolor\":\"white\",\"showbackground\":true,\"ticks\":\"\",\"zerolinecolor\":\"white\",\"gridwidth\":2},\"zaxis\":{\"backgroundcolor\":\"#E5ECF6\",\"gridcolor\":\"white\",\"linecolor\":\"white\",\"showbackground\":true,\"ticks\":\"\",\"zerolinecolor\":\"white\",\"gridwidth\":2}},\"shapedefaults\":{\"line\":{\"color\":\"#2a3f5f\"}},\"annotationdefaults\":{\"arrowcolor\":\"#2a3f5f\",\"arrowhead\":0,\"arrowwidth\":1},\"geo\":{\"bgcolor\":\"white\",\"landcolor\":\"#E5ECF6\",\"subunitcolor\":\"white\",\"showland\":true,\"showlakes\":true,\"lakecolor\":\"white\"},\"title\":{\"x\":0.05},\"mapbox\":{\"style\":\"light\"}}}},                        {\"responsive\": true}                    ).then(function(){\n",
       "                            \n",
       "var gd = document.getElementById('5bb3b4e3-38ed-4d8c-9299-d4867afdb1a3');\n",
       "var x = new MutationObserver(function (mutations, observer) {{\n",
       "        var display = window.getComputedStyle(gd).display;\n",
       "        if (!display || display === 'none') {{\n",
       "            console.log([gd, 'removed!']);\n",
       "            Plotly.purge(gd);\n",
       "            observer.disconnect();\n",
       "        }}\n",
       "}});\n",
       "\n",
       "// Listen for the removal of the full notebook cells\n",
       "var notebookContainer = gd.closest('#notebook-container');\n",
       "if (notebookContainer) {{\n",
       "    x.observe(notebookContainer, {childList: true});\n",
       "}}\n",
       "\n",
       "// Listen for the clearing of the current output cell\n",
       "var outputEl = gd.closest('.output');\n",
       "if (outputEl) {{\n",
       "    x.observe(outputEl, {childList: true});\n",
       "}}\n",
       "\n",
       "                        })                };                });            </script>        </div>"
      ]
     },
     "metadata": {},
     "output_type": "display_data"
    }
   ],
   "source": [
    "col = 'season_count'\n",
    "vc1 = d1[col].value_counts().reset_index()\n",
    "vc1 = vc1.rename(columns = {col : \"count\", \"index\" : col})\n",
    "vc1['percent'] = vc1['count'].apply(lambda x : 100*x/sum(vc1['count']))\n",
    "vc1 = vc1.sort_values(col)\n",
    "\n",
    "trace1 = go.Bar(x=vc1[col], y=vc1[\"count\"], name=\"TV Shows\", marker=dict(color=\"#a678de\"))\n",
    "data = [trace1]\n",
    "layout = go.Layout(title=\"Seasons\", legend=dict(x=0.1, y=1.1, orientation=\"h\"))\n",
    "fig = go.Figure(data, layout=layout)\n",
    "fig.show()"
   ]
  },
  {
   "cell_type": "markdown",
   "metadata": {
    "id": "CajSFiQ9pyFZ"
   },
   "source": [
    "**The ratings of the content**"
   ]
  },
  {
   "cell_type": "code",
   "execution_count": 45,
   "metadata": {
    "colab": {
     "base_uri": "https://localhost:8080/",
     "height": 542
    },
    "id": "baaNSxukp4Lx",
    "outputId": "678e8eb1-795e-4fdf-8ae7-96a97c97a25f"
   },
   "outputs": [
    {
     "data": {
      "application/vnd.plotly.v1+json": {
       "config": {
        "plotlyServerURL": "https://plot.ly"
       },
       "data": [
        {
         "marker": {
          "color": "#a678de"
         },
         "name": "TV Shows",
         "type": "bar",
         "x": [
          "G",
          "NR",
          "R",
          "TV-14",
          "TV-G",
          "TV-MA",
          "TV-PG",
          "TV-Y",
          "TV-Y7",
          "TV-Y7-FV"
         ],
         "y": [
          1,
          16,
          2,
          637,
          68,
          649,
          263,
          98,
          94,
          65
         ]
        },
        {
         "marker": {
          "color": "#6ad49b"
         },
         "name": "Movies",
         "type": "bar",
         "x": [
          "G",
          "NC-17",
          "NR",
          "PG",
          "PG-13",
          "R",
          "TV-14",
          "TV-G",
          "TV-MA",
          "TV-PG",
          "TV-Y",
          "TV-Y7",
          "TV-Y7-FV",
          "UR"
         ],
         "y": [
          31,
          2,
          202,
          160,
          226,
          437,
          954,
          79,
          1286,
          412,
          41,
          62,
          27,
          7
         ]
        }
       ],
       "layout": {
        "legend": {
         "orientation": "h",
         "x": 0.1,
         "y": 1.1
        },
        "template": {
         "data": {
          "bar": [
           {
            "error_x": {
             "color": "#2a3f5f"
            },
            "error_y": {
             "color": "#2a3f5f"
            },
            "marker": {
             "line": {
              "color": "#E5ECF6",
              "width": 0.5
             },
             "pattern": {
              "fillmode": "overlay",
              "size": 10,
              "solidity": 0.2
             }
            },
            "type": "bar"
           }
          ],
          "barpolar": [
           {
            "marker": {
             "line": {
              "color": "#E5ECF6",
              "width": 0.5
             },
             "pattern": {
              "fillmode": "overlay",
              "size": 10,
              "solidity": 0.2
             }
            },
            "type": "barpolar"
           }
          ],
          "carpet": [
           {
            "aaxis": {
             "endlinecolor": "#2a3f5f",
             "gridcolor": "white",
             "linecolor": "white",
             "minorgridcolor": "white",
             "startlinecolor": "#2a3f5f"
            },
            "baxis": {
             "endlinecolor": "#2a3f5f",
             "gridcolor": "white",
             "linecolor": "white",
             "minorgridcolor": "white",
             "startlinecolor": "#2a3f5f"
            },
            "type": "carpet"
           }
          ],
          "choropleth": [
           {
            "colorbar": {
             "outlinewidth": 0,
             "ticks": ""
            },
            "type": "choropleth"
           }
          ],
          "contour": [
           {
            "colorbar": {
             "outlinewidth": 0,
             "ticks": ""
            },
            "colorscale": [
             [
              0,
              "#0d0887"
             ],
             [
              0.1111111111111111,
              "#46039f"
             ],
             [
              0.2222222222222222,
              "#7201a8"
             ],
             [
              0.3333333333333333,
              "#9c179e"
             ],
             [
              0.4444444444444444,
              "#bd3786"
             ],
             [
              0.5555555555555556,
              "#d8576b"
             ],
             [
              0.6666666666666666,
              "#ed7953"
             ],
             [
              0.7777777777777778,
              "#fb9f3a"
             ],
             [
              0.8888888888888888,
              "#fdca26"
             ],
             [
              1,
              "#f0f921"
             ]
            ],
            "type": "contour"
           }
          ],
          "contourcarpet": [
           {
            "colorbar": {
             "outlinewidth": 0,
             "ticks": ""
            },
            "type": "contourcarpet"
           }
          ],
          "heatmap": [
           {
            "colorbar": {
             "outlinewidth": 0,
             "ticks": ""
            },
            "colorscale": [
             [
              0,
              "#0d0887"
             ],
             [
              0.1111111111111111,
              "#46039f"
             ],
             [
              0.2222222222222222,
              "#7201a8"
             ],
             [
              0.3333333333333333,
              "#9c179e"
             ],
             [
              0.4444444444444444,
              "#bd3786"
             ],
             [
              0.5555555555555556,
              "#d8576b"
             ],
             [
              0.6666666666666666,
              "#ed7953"
             ],
             [
              0.7777777777777778,
              "#fb9f3a"
             ],
             [
              0.8888888888888888,
              "#fdca26"
             ],
             [
              1,
              "#f0f921"
             ]
            ],
            "type": "heatmap"
           }
          ],
          "heatmapgl": [
           {
            "colorbar": {
             "outlinewidth": 0,
             "ticks": ""
            },
            "colorscale": [
             [
              0,
              "#0d0887"
             ],
             [
              0.1111111111111111,
              "#46039f"
             ],
             [
              0.2222222222222222,
              "#7201a8"
             ],
             [
              0.3333333333333333,
              "#9c179e"
             ],
             [
              0.4444444444444444,
              "#bd3786"
             ],
             [
              0.5555555555555556,
              "#d8576b"
             ],
             [
              0.6666666666666666,
              "#ed7953"
             ],
             [
              0.7777777777777778,
              "#fb9f3a"
             ],
             [
              0.8888888888888888,
              "#fdca26"
             ],
             [
              1,
              "#f0f921"
             ]
            ],
            "type": "heatmapgl"
           }
          ],
          "histogram": [
           {
            "marker": {
             "pattern": {
              "fillmode": "overlay",
              "size": 10,
              "solidity": 0.2
             }
            },
            "type": "histogram"
           }
          ],
          "histogram2d": [
           {
            "colorbar": {
             "outlinewidth": 0,
             "ticks": ""
            },
            "colorscale": [
             [
              0,
              "#0d0887"
             ],
             [
              0.1111111111111111,
              "#46039f"
             ],
             [
              0.2222222222222222,
              "#7201a8"
             ],
             [
              0.3333333333333333,
              "#9c179e"
             ],
             [
              0.4444444444444444,
              "#bd3786"
             ],
             [
              0.5555555555555556,
              "#d8576b"
             ],
             [
              0.6666666666666666,
              "#ed7953"
             ],
             [
              0.7777777777777778,
              "#fb9f3a"
             ],
             [
              0.8888888888888888,
              "#fdca26"
             ],
             [
              1,
              "#f0f921"
             ]
            ],
            "type": "histogram2d"
           }
          ],
          "histogram2dcontour": [
           {
            "colorbar": {
             "outlinewidth": 0,
             "ticks": ""
            },
            "colorscale": [
             [
              0,
              "#0d0887"
             ],
             [
              0.1111111111111111,
              "#46039f"
             ],
             [
              0.2222222222222222,
              "#7201a8"
             ],
             [
              0.3333333333333333,
              "#9c179e"
             ],
             [
              0.4444444444444444,
              "#bd3786"
             ],
             [
              0.5555555555555556,
              "#d8576b"
             ],
             [
              0.6666666666666666,
              "#ed7953"
             ],
             [
              0.7777777777777778,
              "#fb9f3a"
             ],
             [
              0.8888888888888888,
              "#fdca26"
             ],
             [
              1,
              "#f0f921"
             ]
            ],
            "type": "histogram2dcontour"
           }
          ],
          "mesh3d": [
           {
            "colorbar": {
             "outlinewidth": 0,
             "ticks": ""
            },
            "type": "mesh3d"
           }
          ],
          "parcoords": [
           {
            "line": {
             "colorbar": {
              "outlinewidth": 0,
              "ticks": ""
             }
            },
            "type": "parcoords"
           }
          ],
          "pie": [
           {
            "automargin": true,
            "type": "pie"
           }
          ],
          "scatter": [
           {
            "fillpattern": {
             "fillmode": "overlay",
             "size": 10,
             "solidity": 0.2
            },
            "type": "scatter"
           }
          ],
          "scatter3d": [
           {
            "line": {
             "colorbar": {
              "outlinewidth": 0,
              "ticks": ""
             }
            },
            "marker": {
             "colorbar": {
              "outlinewidth": 0,
              "ticks": ""
             }
            },
            "type": "scatter3d"
           }
          ],
          "scattercarpet": [
           {
            "marker": {
             "colorbar": {
              "outlinewidth": 0,
              "ticks": ""
             }
            },
            "type": "scattercarpet"
           }
          ],
          "scattergeo": [
           {
            "marker": {
             "colorbar": {
              "outlinewidth": 0,
              "ticks": ""
             }
            },
            "type": "scattergeo"
           }
          ],
          "scattergl": [
           {
            "marker": {
             "colorbar": {
              "outlinewidth": 0,
              "ticks": ""
             }
            },
            "type": "scattergl"
           }
          ],
          "scattermapbox": [
           {
            "marker": {
             "colorbar": {
              "outlinewidth": 0,
              "ticks": ""
             }
            },
            "type": "scattermapbox"
           }
          ],
          "scatterpolar": [
           {
            "marker": {
             "colorbar": {
              "outlinewidth": 0,
              "ticks": ""
             }
            },
            "type": "scatterpolar"
           }
          ],
          "scatterpolargl": [
           {
            "marker": {
             "colorbar": {
              "outlinewidth": 0,
              "ticks": ""
             }
            },
            "type": "scatterpolargl"
           }
          ],
          "scatterternary": [
           {
            "marker": {
             "colorbar": {
              "outlinewidth": 0,
              "ticks": ""
             }
            },
            "type": "scatterternary"
           }
          ],
          "surface": [
           {
            "colorbar": {
             "outlinewidth": 0,
             "ticks": ""
            },
            "colorscale": [
             [
              0,
              "#0d0887"
             ],
             [
              0.1111111111111111,
              "#46039f"
             ],
             [
              0.2222222222222222,
              "#7201a8"
             ],
             [
              0.3333333333333333,
              "#9c179e"
             ],
             [
              0.4444444444444444,
              "#bd3786"
             ],
             [
              0.5555555555555556,
              "#d8576b"
             ],
             [
              0.6666666666666666,
              "#ed7953"
             ],
             [
              0.7777777777777778,
              "#fb9f3a"
             ],
             [
              0.8888888888888888,
              "#fdca26"
             ],
             [
              1,
              "#f0f921"
             ]
            ],
            "type": "surface"
           }
          ],
          "table": [
           {
            "cells": {
             "fill": {
              "color": "#EBF0F8"
             },
             "line": {
              "color": "white"
             }
            },
            "header": {
             "fill": {
              "color": "#C8D4E3"
             },
             "line": {
              "color": "white"
             }
            },
            "type": "table"
           }
          ]
         },
         "layout": {
          "annotationdefaults": {
           "arrowcolor": "#2a3f5f",
           "arrowhead": 0,
           "arrowwidth": 1
          },
          "autotypenumbers": "strict",
          "coloraxis": {
           "colorbar": {
            "outlinewidth": 0,
            "ticks": ""
           }
          },
          "colorscale": {
           "diverging": [
            [
             0,
             "#8e0152"
            ],
            [
             0.1,
             "#c51b7d"
            ],
            [
             0.2,
             "#de77ae"
            ],
            [
             0.3,
             "#f1b6da"
            ],
            [
             0.4,
             "#fde0ef"
            ],
            [
             0.5,
             "#f7f7f7"
            ],
            [
             0.6,
             "#e6f5d0"
            ],
            [
             0.7,
             "#b8e186"
            ],
            [
             0.8,
             "#7fbc41"
            ],
            [
             0.9,
             "#4d9221"
            ],
            [
             1,
             "#276419"
            ]
           ],
           "sequential": [
            [
             0,
             "#0d0887"
            ],
            [
             0.1111111111111111,
             "#46039f"
            ],
            [
             0.2222222222222222,
             "#7201a8"
            ],
            [
             0.3333333333333333,
             "#9c179e"
            ],
            [
             0.4444444444444444,
             "#bd3786"
            ],
            [
             0.5555555555555556,
             "#d8576b"
            ],
            [
             0.6666666666666666,
             "#ed7953"
            ],
            [
             0.7777777777777778,
             "#fb9f3a"
            ],
            [
             0.8888888888888888,
             "#fdca26"
            ],
            [
             1,
             "#f0f921"
            ]
           ],
           "sequentialminus": [
            [
             0,
             "#0d0887"
            ],
            [
             0.1111111111111111,
             "#46039f"
            ],
            [
             0.2222222222222222,
             "#7201a8"
            ],
            [
             0.3333333333333333,
             "#9c179e"
            ],
            [
             0.4444444444444444,
             "#bd3786"
            ],
            [
             0.5555555555555556,
             "#d8576b"
            ],
            [
             0.6666666666666666,
             "#ed7953"
            ],
            [
             0.7777777777777778,
             "#fb9f3a"
            ],
            [
             0.8888888888888888,
             "#fdca26"
            ],
            [
             1,
             "#f0f921"
            ]
           ]
          },
          "colorway": [
           "#636efa",
           "#EF553B",
           "#00cc96",
           "#ab63fa",
           "#FFA15A",
           "#19d3f3",
           "#FF6692",
           "#B6E880",
           "#FF97FF",
           "#FECB52"
          ],
          "font": {
           "color": "#2a3f5f"
          },
          "geo": {
           "bgcolor": "white",
           "lakecolor": "white",
           "landcolor": "#E5ECF6",
           "showlakes": true,
           "showland": true,
           "subunitcolor": "white"
          },
          "hoverlabel": {
           "align": "left"
          },
          "hovermode": "closest",
          "mapbox": {
           "style": "light"
          },
          "paper_bgcolor": "white",
          "plot_bgcolor": "#E5ECF6",
          "polar": {
           "angularaxis": {
            "gridcolor": "white",
            "linecolor": "white",
            "ticks": ""
           },
           "bgcolor": "#E5ECF6",
           "radialaxis": {
            "gridcolor": "white",
            "linecolor": "white",
            "ticks": ""
           }
          },
          "scene": {
           "xaxis": {
            "backgroundcolor": "#E5ECF6",
            "gridcolor": "white",
            "gridwidth": 2,
            "linecolor": "white",
            "showbackground": true,
            "ticks": "",
            "zerolinecolor": "white"
           },
           "yaxis": {
            "backgroundcolor": "#E5ECF6",
            "gridcolor": "white",
            "gridwidth": 2,
            "linecolor": "white",
            "showbackground": true,
            "ticks": "",
            "zerolinecolor": "white"
           },
           "zaxis": {
            "backgroundcolor": "#E5ECF6",
            "gridcolor": "white",
            "gridwidth": 2,
            "linecolor": "white",
            "showbackground": true,
            "ticks": "",
            "zerolinecolor": "white"
           }
          },
          "shapedefaults": {
           "line": {
            "color": "#2a3f5f"
           }
          },
          "ternary": {
           "aaxis": {
            "gridcolor": "white",
            "linecolor": "white",
            "ticks": ""
           },
           "baxis": {
            "gridcolor": "white",
            "linecolor": "white",
            "ticks": ""
           },
           "bgcolor": "#E5ECF6",
           "caxis": {
            "gridcolor": "white",
            "linecolor": "white",
            "ticks": ""
           }
          },
          "title": {
           "x": 0.05
          },
          "xaxis": {
           "automargin": true,
           "gridcolor": "white",
           "linecolor": "white",
           "ticks": "",
           "title": {
            "standoff": 15
           },
           "zerolinecolor": "white",
           "zerolinewidth": 2
          },
          "yaxis": {
           "automargin": true,
           "gridcolor": "white",
           "linecolor": "white",
           "ticks": "",
           "title": {
            "standoff": 15
           },
           "zerolinecolor": "white",
           "zerolinewidth": 2
          }
         }
        },
        "title": {
         "text": "Content added over the years"
        }
       }
      },
      "text/html": [
       "<div>                            <div id=\"cfbcdb8c-ae9b-4ace-a8b1-8501ba01156c\" class=\"plotly-graph-div\" style=\"height:525px; width:100%;\"></div>            <script type=\"text/javascript\">                require([\"plotly\"], function(Plotly) {                    window.PLOTLYENV=window.PLOTLYENV || {};                                    if (document.getElementById(\"cfbcdb8c-ae9b-4ace-a8b1-8501ba01156c\")) {                    Plotly.newPlot(                        \"cfbcdb8c-ae9b-4ace-a8b1-8501ba01156c\",                        [{\"marker\":{\"color\":\"#a678de\"},\"name\":\"TV Shows\",\"x\":[\"G\",\"NR\",\"R\",\"TV-14\",\"TV-G\",\"TV-MA\",\"TV-PG\",\"TV-Y\",\"TV-Y7\",\"TV-Y7-FV\"],\"y\":[1,16,2,637,68,649,263,98,94,65],\"type\":\"bar\"},{\"marker\":{\"color\":\"#6ad49b\"},\"name\":\"Movies\",\"x\":[\"G\",\"NC-17\",\"NR\",\"PG\",\"PG-13\",\"R\",\"TV-14\",\"TV-G\",\"TV-MA\",\"TV-PG\",\"TV-Y\",\"TV-Y7\",\"TV-Y7-FV\",\"UR\"],\"y\":[31,2,202,160,226,437,954,79,1286,412,41,62,27,7],\"type\":\"bar\"}],                        {\"legend\":{\"orientation\":\"h\",\"x\":0.1,\"y\":1.1},\"title\":{\"text\":\"Content added over the years\"},\"template\":{\"data\":{\"histogram2dcontour\":[{\"type\":\"histogram2dcontour\",\"colorbar\":{\"outlinewidth\":0,\"ticks\":\"\"},\"colorscale\":[[0.0,\"#0d0887\"],[0.1111111111111111,\"#46039f\"],[0.2222222222222222,\"#7201a8\"],[0.3333333333333333,\"#9c179e\"],[0.4444444444444444,\"#bd3786\"],[0.5555555555555556,\"#d8576b\"],[0.6666666666666666,\"#ed7953\"],[0.7777777777777778,\"#fb9f3a\"],[0.8888888888888888,\"#fdca26\"],[1.0,\"#f0f921\"]]}],\"choropleth\":[{\"type\":\"choropleth\",\"colorbar\":{\"outlinewidth\":0,\"ticks\":\"\"}}],\"histogram2d\":[{\"type\":\"histogram2d\",\"colorbar\":{\"outlinewidth\":0,\"ticks\":\"\"},\"colorscale\":[[0.0,\"#0d0887\"],[0.1111111111111111,\"#46039f\"],[0.2222222222222222,\"#7201a8\"],[0.3333333333333333,\"#9c179e\"],[0.4444444444444444,\"#bd3786\"],[0.5555555555555556,\"#d8576b\"],[0.6666666666666666,\"#ed7953\"],[0.7777777777777778,\"#fb9f3a\"],[0.8888888888888888,\"#fdca26\"],[1.0,\"#f0f921\"]]}],\"heatmap\":[{\"type\":\"heatmap\",\"colorbar\":{\"outlinewidth\":0,\"ticks\":\"\"},\"colorscale\":[[0.0,\"#0d0887\"],[0.1111111111111111,\"#46039f\"],[0.2222222222222222,\"#7201a8\"],[0.3333333333333333,\"#9c179e\"],[0.4444444444444444,\"#bd3786\"],[0.5555555555555556,\"#d8576b\"],[0.6666666666666666,\"#ed7953\"],[0.7777777777777778,\"#fb9f3a\"],[0.8888888888888888,\"#fdca26\"],[1.0,\"#f0f921\"]]}],\"heatmapgl\":[{\"type\":\"heatmapgl\",\"colorbar\":{\"outlinewidth\":0,\"ticks\":\"\"},\"colorscale\":[[0.0,\"#0d0887\"],[0.1111111111111111,\"#46039f\"],[0.2222222222222222,\"#7201a8\"],[0.3333333333333333,\"#9c179e\"],[0.4444444444444444,\"#bd3786\"],[0.5555555555555556,\"#d8576b\"],[0.6666666666666666,\"#ed7953\"],[0.7777777777777778,\"#fb9f3a\"],[0.8888888888888888,\"#fdca26\"],[1.0,\"#f0f921\"]]}],\"contourcarpet\":[{\"type\":\"contourcarpet\",\"colorbar\":{\"outlinewidth\":0,\"ticks\":\"\"}}],\"contour\":[{\"type\":\"contour\",\"colorbar\":{\"outlinewidth\":0,\"ticks\":\"\"},\"colorscale\":[[0.0,\"#0d0887\"],[0.1111111111111111,\"#46039f\"],[0.2222222222222222,\"#7201a8\"],[0.3333333333333333,\"#9c179e\"],[0.4444444444444444,\"#bd3786\"],[0.5555555555555556,\"#d8576b\"],[0.6666666666666666,\"#ed7953\"],[0.7777777777777778,\"#fb9f3a\"],[0.8888888888888888,\"#fdca26\"],[1.0,\"#f0f921\"]]}],\"surface\":[{\"type\":\"surface\",\"colorbar\":{\"outlinewidth\":0,\"ticks\":\"\"},\"colorscale\":[[0.0,\"#0d0887\"],[0.1111111111111111,\"#46039f\"],[0.2222222222222222,\"#7201a8\"],[0.3333333333333333,\"#9c179e\"],[0.4444444444444444,\"#bd3786\"],[0.5555555555555556,\"#d8576b\"],[0.6666666666666666,\"#ed7953\"],[0.7777777777777778,\"#fb9f3a\"],[0.8888888888888888,\"#fdca26\"],[1.0,\"#f0f921\"]]}],\"mesh3d\":[{\"type\":\"mesh3d\",\"colorbar\":{\"outlinewidth\":0,\"ticks\":\"\"}}],\"scatter\":[{\"fillpattern\":{\"fillmode\":\"overlay\",\"size\":10,\"solidity\":0.2},\"type\":\"scatter\"}],\"parcoords\":[{\"type\":\"parcoords\",\"line\":{\"colorbar\":{\"outlinewidth\":0,\"ticks\":\"\"}}}],\"scatterpolargl\":[{\"type\":\"scatterpolargl\",\"marker\":{\"colorbar\":{\"outlinewidth\":0,\"ticks\":\"\"}}}],\"bar\":[{\"error_x\":{\"color\":\"#2a3f5f\"},\"error_y\":{\"color\":\"#2a3f5f\"},\"marker\":{\"line\":{\"color\":\"#E5ECF6\",\"width\":0.5},\"pattern\":{\"fillmode\":\"overlay\",\"size\":10,\"solidity\":0.2}},\"type\":\"bar\"}],\"scattergeo\":[{\"type\":\"scattergeo\",\"marker\":{\"colorbar\":{\"outlinewidth\":0,\"ticks\":\"\"}}}],\"scatterpolar\":[{\"type\":\"scatterpolar\",\"marker\":{\"colorbar\":{\"outlinewidth\":0,\"ticks\":\"\"}}}],\"histogram\":[{\"marker\":{\"pattern\":{\"fillmode\":\"overlay\",\"size\":10,\"solidity\":0.2}},\"type\":\"histogram\"}],\"scattergl\":[{\"type\":\"scattergl\",\"marker\":{\"colorbar\":{\"outlinewidth\":0,\"ticks\":\"\"}}}],\"scatter3d\":[{\"type\":\"scatter3d\",\"line\":{\"colorbar\":{\"outlinewidth\":0,\"ticks\":\"\"}},\"marker\":{\"colorbar\":{\"outlinewidth\":0,\"ticks\":\"\"}}}],\"scattermapbox\":[{\"type\":\"scattermapbox\",\"marker\":{\"colorbar\":{\"outlinewidth\":0,\"ticks\":\"\"}}}],\"scatterternary\":[{\"type\":\"scatterternary\",\"marker\":{\"colorbar\":{\"outlinewidth\":0,\"ticks\":\"\"}}}],\"scattercarpet\":[{\"type\":\"scattercarpet\",\"marker\":{\"colorbar\":{\"outlinewidth\":0,\"ticks\":\"\"}}}],\"carpet\":[{\"aaxis\":{\"endlinecolor\":\"#2a3f5f\",\"gridcolor\":\"white\",\"linecolor\":\"white\",\"minorgridcolor\":\"white\",\"startlinecolor\":\"#2a3f5f\"},\"baxis\":{\"endlinecolor\":\"#2a3f5f\",\"gridcolor\":\"white\",\"linecolor\":\"white\",\"minorgridcolor\":\"white\",\"startlinecolor\":\"#2a3f5f\"},\"type\":\"carpet\"}],\"table\":[{\"cells\":{\"fill\":{\"color\":\"#EBF0F8\"},\"line\":{\"color\":\"white\"}},\"header\":{\"fill\":{\"color\":\"#C8D4E3\"},\"line\":{\"color\":\"white\"}},\"type\":\"table\"}],\"barpolar\":[{\"marker\":{\"line\":{\"color\":\"#E5ECF6\",\"width\":0.5},\"pattern\":{\"fillmode\":\"overlay\",\"size\":10,\"solidity\":0.2}},\"type\":\"barpolar\"}],\"pie\":[{\"automargin\":true,\"type\":\"pie\"}]},\"layout\":{\"autotypenumbers\":\"strict\",\"colorway\":[\"#636efa\",\"#EF553B\",\"#00cc96\",\"#ab63fa\",\"#FFA15A\",\"#19d3f3\",\"#FF6692\",\"#B6E880\",\"#FF97FF\",\"#FECB52\"],\"font\":{\"color\":\"#2a3f5f\"},\"hovermode\":\"closest\",\"hoverlabel\":{\"align\":\"left\"},\"paper_bgcolor\":\"white\",\"plot_bgcolor\":\"#E5ECF6\",\"polar\":{\"bgcolor\":\"#E5ECF6\",\"angularaxis\":{\"gridcolor\":\"white\",\"linecolor\":\"white\",\"ticks\":\"\"},\"radialaxis\":{\"gridcolor\":\"white\",\"linecolor\":\"white\",\"ticks\":\"\"}},\"ternary\":{\"bgcolor\":\"#E5ECF6\",\"aaxis\":{\"gridcolor\":\"white\",\"linecolor\":\"white\",\"ticks\":\"\"},\"baxis\":{\"gridcolor\":\"white\",\"linecolor\":\"white\",\"ticks\":\"\"},\"caxis\":{\"gridcolor\":\"white\",\"linecolor\":\"white\",\"ticks\":\"\"}},\"coloraxis\":{\"colorbar\":{\"outlinewidth\":0,\"ticks\":\"\"}},\"colorscale\":{\"sequential\":[[0.0,\"#0d0887\"],[0.1111111111111111,\"#46039f\"],[0.2222222222222222,\"#7201a8\"],[0.3333333333333333,\"#9c179e\"],[0.4444444444444444,\"#bd3786\"],[0.5555555555555556,\"#d8576b\"],[0.6666666666666666,\"#ed7953\"],[0.7777777777777778,\"#fb9f3a\"],[0.8888888888888888,\"#fdca26\"],[1.0,\"#f0f921\"]],\"sequentialminus\":[[0.0,\"#0d0887\"],[0.1111111111111111,\"#46039f\"],[0.2222222222222222,\"#7201a8\"],[0.3333333333333333,\"#9c179e\"],[0.4444444444444444,\"#bd3786\"],[0.5555555555555556,\"#d8576b\"],[0.6666666666666666,\"#ed7953\"],[0.7777777777777778,\"#fb9f3a\"],[0.8888888888888888,\"#fdca26\"],[1.0,\"#f0f921\"]],\"diverging\":[[0,\"#8e0152\"],[0.1,\"#c51b7d\"],[0.2,\"#de77ae\"],[0.3,\"#f1b6da\"],[0.4,\"#fde0ef\"],[0.5,\"#f7f7f7\"],[0.6,\"#e6f5d0\"],[0.7,\"#b8e186\"],[0.8,\"#7fbc41\"],[0.9,\"#4d9221\"],[1,\"#276419\"]]},\"xaxis\":{\"gridcolor\":\"white\",\"linecolor\":\"white\",\"ticks\":\"\",\"title\":{\"standoff\":15},\"zerolinecolor\":\"white\",\"automargin\":true,\"zerolinewidth\":2},\"yaxis\":{\"gridcolor\":\"white\",\"linecolor\":\"white\",\"ticks\":\"\",\"title\":{\"standoff\":15},\"zerolinecolor\":\"white\",\"automargin\":true,\"zerolinewidth\":2},\"scene\":{\"xaxis\":{\"backgroundcolor\":\"#E5ECF6\",\"gridcolor\":\"white\",\"linecolor\":\"white\",\"showbackground\":true,\"ticks\":\"\",\"zerolinecolor\":\"white\",\"gridwidth\":2},\"yaxis\":{\"backgroundcolor\":\"#E5ECF6\",\"gridcolor\":\"white\",\"linecolor\":\"white\",\"showbackground\":true,\"ticks\":\"\",\"zerolinecolor\":\"white\",\"gridwidth\":2},\"zaxis\":{\"backgroundcolor\":\"#E5ECF6\",\"gridcolor\":\"white\",\"linecolor\":\"white\",\"showbackground\":true,\"ticks\":\"\",\"zerolinecolor\":\"white\",\"gridwidth\":2}},\"shapedefaults\":{\"line\":{\"color\":\"#2a3f5f\"}},\"annotationdefaults\":{\"arrowcolor\":\"#2a3f5f\",\"arrowhead\":0,\"arrowwidth\":1},\"geo\":{\"bgcolor\":\"white\",\"landcolor\":\"#E5ECF6\",\"subunitcolor\":\"white\",\"showland\":true,\"showlakes\":true,\"lakecolor\":\"white\"},\"title\":{\"x\":0.05},\"mapbox\":{\"style\":\"light\"}}}},                        {\"responsive\": true}                    ).then(function(){\n",
       "                            \n",
       "var gd = document.getElementById('cfbcdb8c-ae9b-4ace-a8b1-8501ba01156c');\n",
       "var x = new MutationObserver(function (mutations, observer) {{\n",
       "        var display = window.getComputedStyle(gd).display;\n",
       "        if (!display || display === 'none') {{\n",
       "            console.log([gd, 'removed!']);\n",
       "            Plotly.purge(gd);\n",
       "            observer.disconnect();\n",
       "        }}\n",
       "}});\n",
       "\n",
       "// Listen for the removal of the full notebook cells\n",
       "var notebookContainer = gd.closest('#notebook-container');\n",
       "if (notebookContainer) {{\n",
       "    x.observe(notebookContainer, {childList: true});\n",
       "}}\n",
       "\n",
       "// Listen for the clearing of the current output cell\n",
       "var outputEl = gd.closest('.output');\n",
       "if (outputEl) {{\n",
       "    x.observe(outputEl, {childList: true});\n",
       "}}\n",
       "\n",
       "                        })                };                });            </script>        </div>"
      ]
     },
     "metadata": {},
     "output_type": "display_data"
    }
   ],
   "source": [
    "col = \"rating\"\n",
    "\n",
    "vc1 = d1[col].value_counts().reset_index()\n",
    "vc1 = vc1.rename(columns = {col : \"count\", \"index\" : col})\n",
    "vc1['percent'] = vc1['count'].apply(lambda x : 100*x/sum(vc1['count']))\n",
    "vc1 = vc1.sort_values(col)\n",
    "\n",
    "vc2 = d2[col].value_counts().reset_index()\n",
    "vc2 = vc2.rename(columns = {col : \"count\", \"index\" : col})\n",
    "vc2['percent'] = vc2['count'].apply(lambda x : 100*x/sum(vc2['count']))\n",
    "vc2 = vc2.sort_values(col)\n",
    "\n",
    "trace1 = go.Bar(x=vc1[col], y=vc1[\"count\"], name=\"TV Shows\", marker=dict(color=\"#a678de\"))\n",
    "trace2 = go.Bar(x=vc2[col], y=vc2[\"count\"], name=\"Movies\", marker=dict(color=\"#6ad49b\"))\n",
    "data = [trace1, trace2]\n",
    "layout = go.Layout(title=\"Content added over the years\", legend=dict(x=0.1, y=1.1, orientation=\"h\"))\n",
    "fig = go.Figure(data, layout=layout)\n",
    "fig.show()"
   ]
  },
  {
   "cell_type": "markdown",
   "metadata": {
    "id": "NYyNh4Abp894"
   },
   "source": [
    "**Top 10 Countries by Number of Movies**"
   ]
  },
  {
   "cell_type": "code",
   "execution_count": 46,
   "metadata": {
    "colab": {
     "base_uri": "https://localhost:8080/",
     "height": 542
    },
    "id": "9CKKsCAop7o6",
    "outputId": "8aa9d1de-5578-4444-d565-d53e2e98d5f9"
   },
   "outputs": [
    {
     "data": {
      "application/vnd.plotly.v1+json": {
       "config": {
        "plotlyServerURL": "https://plot.ly"
       },
       "data": [
        {
         "type": "bar",
         "x": [
          "United States",
          "India",
          "United Kingdom",
          "Canada",
          "Spain",
          "Turkey",
          "Mexico",
          "Hong Kong",
          "France",
          "Japan"
         ],
         "y": [
          1372,
          645,
          161,
          87,
          78,
          55,
          51,
          49,
          48,
          44
         ]
        }
       ],
       "layout": {
        "template": {
         "data": {
          "bar": [
           {
            "error_x": {
             "color": "#2a3f5f"
            },
            "error_y": {
             "color": "#2a3f5f"
            },
            "marker": {
             "line": {
              "color": "#E5ECF6",
              "width": 0.5
             },
             "pattern": {
              "fillmode": "overlay",
              "size": 10,
              "solidity": 0.2
             }
            },
            "type": "bar"
           }
          ],
          "barpolar": [
           {
            "marker": {
             "line": {
              "color": "#E5ECF6",
              "width": 0.5
             },
             "pattern": {
              "fillmode": "overlay",
              "size": 10,
              "solidity": 0.2
             }
            },
            "type": "barpolar"
           }
          ],
          "carpet": [
           {
            "aaxis": {
             "endlinecolor": "#2a3f5f",
             "gridcolor": "white",
             "linecolor": "white",
             "minorgridcolor": "white",
             "startlinecolor": "#2a3f5f"
            },
            "baxis": {
             "endlinecolor": "#2a3f5f",
             "gridcolor": "white",
             "linecolor": "white",
             "minorgridcolor": "white",
             "startlinecolor": "#2a3f5f"
            },
            "type": "carpet"
           }
          ],
          "choropleth": [
           {
            "colorbar": {
             "outlinewidth": 0,
             "ticks": ""
            },
            "type": "choropleth"
           }
          ],
          "contour": [
           {
            "colorbar": {
             "outlinewidth": 0,
             "ticks": ""
            },
            "colorscale": [
             [
              0,
              "#0d0887"
             ],
             [
              0.1111111111111111,
              "#46039f"
             ],
             [
              0.2222222222222222,
              "#7201a8"
             ],
             [
              0.3333333333333333,
              "#9c179e"
             ],
             [
              0.4444444444444444,
              "#bd3786"
             ],
             [
              0.5555555555555556,
              "#d8576b"
             ],
             [
              0.6666666666666666,
              "#ed7953"
             ],
             [
              0.7777777777777778,
              "#fb9f3a"
             ],
             [
              0.8888888888888888,
              "#fdca26"
             ],
             [
              1,
              "#f0f921"
             ]
            ],
            "type": "contour"
           }
          ],
          "contourcarpet": [
           {
            "colorbar": {
             "outlinewidth": 0,
             "ticks": ""
            },
            "type": "contourcarpet"
           }
          ],
          "heatmap": [
           {
            "colorbar": {
             "outlinewidth": 0,
             "ticks": ""
            },
            "colorscale": [
             [
              0,
              "#0d0887"
             ],
             [
              0.1111111111111111,
              "#46039f"
             ],
             [
              0.2222222222222222,
              "#7201a8"
             ],
             [
              0.3333333333333333,
              "#9c179e"
             ],
             [
              0.4444444444444444,
              "#bd3786"
             ],
             [
              0.5555555555555556,
              "#d8576b"
             ],
             [
              0.6666666666666666,
              "#ed7953"
             ],
             [
              0.7777777777777778,
              "#fb9f3a"
             ],
             [
              0.8888888888888888,
              "#fdca26"
             ],
             [
              1,
              "#f0f921"
             ]
            ],
            "type": "heatmap"
           }
          ],
          "heatmapgl": [
           {
            "colorbar": {
             "outlinewidth": 0,
             "ticks": ""
            },
            "colorscale": [
             [
              0,
              "#0d0887"
             ],
             [
              0.1111111111111111,
              "#46039f"
             ],
             [
              0.2222222222222222,
              "#7201a8"
             ],
             [
              0.3333333333333333,
              "#9c179e"
             ],
             [
              0.4444444444444444,
              "#bd3786"
             ],
             [
              0.5555555555555556,
              "#d8576b"
             ],
             [
              0.6666666666666666,
              "#ed7953"
             ],
             [
              0.7777777777777778,
              "#fb9f3a"
             ],
             [
              0.8888888888888888,
              "#fdca26"
             ],
             [
              1,
              "#f0f921"
             ]
            ],
            "type": "heatmapgl"
           }
          ],
          "histogram": [
           {
            "marker": {
             "pattern": {
              "fillmode": "overlay",
              "size": 10,
              "solidity": 0.2
             }
            },
            "type": "histogram"
           }
          ],
          "histogram2d": [
           {
            "colorbar": {
             "outlinewidth": 0,
             "ticks": ""
            },
            "colorscale": [
             [
              0,
              "#0d0887"
             ],
             [
              0.1111111111111111,
              "#46039f"
             ],
             [
              0.2222222222222222,
              "#7201a8"
             ],
             [
              0.3333333333333333,
              "#9c179e"
             ],
             [
              0.4444444444444444,
              "#bd3786"
             ],
             [
              0.5555555555555556,
              "#d8576b"
             ],
             [
              0.6666666666666666,
              "#ed7953"
             ],
             [
              0.7777777777777778,
              "#fb9f3a"
             ],
             [
              0.8888888888888888,
              "#fdca26"
             ],
             [
              1,
              "#f0f921"
             ]
            ],
            "type": "histogram2d"
           }
          ],
          "histogram2dcontour": [
           {
            "colorbar": {
             "outlinewidth": 0,
             "ticks": ""
            },
            "colorscale": [
             [
              0,
              "#0d0887"
             ],
             [
              0.1111111111111111,
              "#46039f"
             ],
             [
              0.2222222222222222,
              "#7201a8"
             ],
             [
              0.3333333333333333,
              "#9c179e"
             ],
             [
              0.4444444444444444,
              "#bd3786"
             ],
             [
              0.5555555555555556,
              "#d8576b"
             ],
             [
              0.6666666666666666,
              "#ed7953"
             ],
             [
              0.7777777777777778,
              "#fb9f3a"
             ],
             [
              0.8888888888888888,
              "#fdca26"
             ],
             [
              1,
              "#f0f921"
             ]
            ],
            "type": "histogram2dcontour"
           }
          ],
          "mesh3d": [
           {
            "colorbar": {
             "outlinewidth": 0,
             "ticks": ""
            },
            "type": "mesh3d"
           }
          ],
          "parcoords": [
           {
            "line": {
             "colorbar": {
              "outlinewidth": 0,
              "ticks": ""
             }
            },
            "type": "parcoords"
           }
          ],
          "pie": [
           {
            "automargin": true,
            "type": "pie"
           }
          ],
          "scatter": [
           {
            "fillpattern": {
             "fillmode": "overlay",
             "size": 10,
             "solidity": 0.2
            },
            "type": "scatter"
           }
          ],
          "scatter3d": [
           {
            "line": {
             "colorbar": {
              "outlinewidth": 0,
              "ticks": ""
             }
            },
            "marker": {
             "colorbar": {
              "outlinewidth": 0,
              "ticks": ""
             }
            },
            "type": "scatter3d"
           }
          ],
          "scattercarpet": [
           {
            "marker": {
             "colorbar": {
              "outlinewidth": 0,
              "ticks": ""
             }
            },
            "type": "scattercarpet"
           }
          ],
          "scattergeo": [
           {
            "marker": {
             "colorbar": {
              "outlinewidth": 0,
              "ticks": ""
             }
            },
            "type": "scattergeo"
           }
          ],
          "scattergl": [
           {
            "marker": {
             "colorbar": {
              "outlinewidth": 0,
              "ticks": ""
             }
            },
            "type": "scattergl"
           }
          ],
          "scattermapbox": [
           {
            "marker": {
             "colorbar": {
              "outlinewidth": 0,
              "ticks": ""
             }
            },
            "type": "scattermapbox"
           }
          ],
          "scatterpolar": [
           {
            "marker": {
             "colorbar": {
              "outlinewidth": 0,
              "ticks": ""
             }
            },
            "type": "scatterpolar"
           }
          ],
          "scatterpolargl": [
           {
            "marker": {
             "colorbar": {
              "outlinewidth": 0,
              "ticks": ""
             }
            },
            "type": "scatterpolargl"
           }
          ],
          "scatterternary": [
           {
            "marker": {
             "colorbar": {
              "outlinewidth": 0,
              "ticks": ""
             }
            },
            "type": "scatterternary"
           }
          ],
          "surface": [
           {
            "colorbar": {
             "outlinewidth": 0,
             "ticks": ""
            },
            "colorscale": [
             [
              0,
              "#0d0887"
             ],
             [
              0.1111111111111111,
              "#46039f"
             ],
             [
              0.2222222222222222,
              "#7201a8"
             ],
             [
              0.3333333333333333,
              "#9c179e"
             ],
             [
              0.4444444444444444,
              "#bd3786"
             ],
             [
              0.5555555555555556,
              "#d8576b"
             ],
             [
              0.6666666666666666,
              "#ed7953"
             ],
             [
              0.7777777777777778,
              "#fb9f3a"
             ],
             [
              0.8888888888888888,
              "#fdca26"
             ],
             [
              1,
              "#f0f921"
             ]
            ],
            "type": "surface"
           }
          ],
          "table": [
           {
            "cells": {
             "fill": {
              "color": "#EBF0F8"
             },
             "line": {
              "color": "white"
             }
            },
            "header": {
             "fill": {
              "color": "#C8D4E3"
             },
             "line": {
              "color": "white"
             }
            },
            "type": "table"
           }
          ]
         },
         "layout": {
          "annotationdefaults": {
           "arrowcolor": "#2a3f5f",
           "arrowhead": 0,
           "arrowwidth": 1
          },
          "autotypenumbers": "strict",
          "coloraxis": {
           "colorbar": {
            "outlinewidth": 0,
            "ticks": ""
           }
          },
          "colorscale": {
           "diverging": [
            [
             0,
             "#8e0152"
            ],
            [
             0.1,
             "#c51b7d"
            ],
            [
             0.2,
             "#de77ae"
            ],
            [
             0.3,
             "#f1b6da"
            ],
            [
             0.4,
             "#fde0ef"
            ],
            [
             0.5,
             "#f7f7f7"
            ],
            [
             0.6,
             "#e6f5d0"
            ],
            [
             0.7,
             "#b8e186"
            ],
            [
             0.8,
             "#7fbc41"
            ],
            [
             0.9,
             "#4d9221"
            ],
            [
             1,
             "#276419"
            ]
           ],
           "sequential": [
            [
             0,
             "#0d0887"
            ],
            [
             0.1111111111111111,
             "#46039f"
            ],
            [
             0.2222222222222222,
             "#7201a8"
            ],
            [
             0.3333333333333333,
             "#9c179e"
            ],
            [
             0.4444444444444444,
             "#bd3786"
            ],
            [
             0.5555555555555556,
             "#d8576b"
            ],
            [
             0.6666666666666666,
             "#ed7953"
            ],
            [
             0.7777777777777778,
             "#fb9f3a"
            ],
            [
             0.8888888888888888,
             "#fdca26"
            ],
            [
             1,
             "#f0f921"
            ]
           ],
           "sequentialminus": [
            [
             0,
             "#0d0887"
            ],
            [
             0.1111111111111111,
             "#46039f"
            ],
            [
             0.2222222222222222,
             "#7201a8"
            ],
            [
             0.3333333333333333,
             "#9c179e"
            ],
            [
             0.4444444444444444,
             "#bd3786"
            ],
            [
             0.5555555555555556,
             "#d8576b"
            ],
            [
             0.6666666666666666,
             "#ed7953"
            ],
            [
             0.7777777777777778,
             "#fb9f3a"
            ],
            [
             0.8888888888888888,
             "#fdca26"
            ],
            [
             1,
             "#f0f921"
            ]
           ]
          },
          "colorway": [
           "#636efa",
           "#EF553B",
           "#00cc96",
           "#ab63fa",
           "#FFA15A",
           "#19d3f3",
           "#FF6692",
           "#B6E880",
           "#FF97FF",
           "#FECB52"
          ],
          "font": {
           "color": "#2a3f5f"
          },
          "geo": {
           "bgcolor": "white",
           "lakecolor": "white",
           "landcolor": "#E5ECF6",
           "showlakes": true,
           "showland": true,
           "subunitcolor": "white"
          },
          "hoverlabel": {
           "align": "left"
          },
          "hovermode": "closest",
          "mapbox": {
           "style": "light"
          },
          "paper_bgcolor": "white",
          "plot_bgcolor": "#E5ECF6",
          "polar": {
           "angularaxis": {
            "gridcolor": "white",
            "linecolor": "white",
            "ticks": ""
           },
           "bgcolor": "#E5ECF6",
           "radialaxis": {
            "gridcolor": "white",
            "linecolor": "white",
            "ticks": ""
           }
          },
          "scene": {
           "xaxis": {
            "backgroundcolor": "#E5ECF6",
            "gridcolor": "white",
            "gridwidth": 2,
            "linecolor": "white",
            "showbackground": true,
            "ticks": "",
            "zerolinecolor": "white"
           },
           "yaxis": {
            "backgroundcolor": "#E5ECF6",
            "gridcolor": "white",
            "gridwidth": 2,
            "linecolor": "white",
            "showbackground": true,
            "ticks": "",
            "zerolinecolor": "white"
           },
           "zaxis": {
            "backgroundcolor": "#E5ECF6",
            "gridcolor": "white",
            "gridwidth": 2,
            "linecolor": "white",
            "showbackground": true,
            "ticks": "",
            "zerolinecolor": "white"
           }
          },
          "shapedefaults": {
           "line": {
            "color": "#2a3f5f"
           }
          },
          "ternary": {
           "aaxis": {
            "gridcolor": "white",
            "linecolor": "white",
            "ticks": ""
           },
           "baxis": {
            "gridcolor": "white",
            "linecolor": "white",
            "ticks": ""
           },
           "bgcolor": "#E5ECF6",
           "caxis": {
            "gridcolor": "white",
            "linecolor": "white",
            "ticks": ""
           }
          },
          "title": {
           "x": 0.05
          },
          "xaxis": {
           "automargin": true,
           "gridcolor": "white",
           "linecolor": "white",
           "ticks": "",
           "title": {
            "standoff": 15
           },
           "zerolinecolor": "white",
           "zerolinewidth": 2
          },
          "yaxis": {
           "automargin": true,
           "gridcolor": "white",
           "linecolor": "white",
           "ticks": "",
           "title": {
            "standoff": 15
           },
           "zerolinecolor": "white",
           "zerolinewidth": 2
          }
         }
        },
        "title": {
         "text": "Top 10 Countries by Number of Movies"
        },
        "xaxis": {
         "title": {
          "text": "Country"
         }
        },
        "yaxis": {
         "title": {
          "text": "Number of Movies"
         }
        }
       }
      },
      "text/html": [
       "<div>                            <div id=\"7cd99d7c-8e45-477f-9a06-ed78484b3ee2\" class=\"plotly-graph-div\" style=\"height:525px; width:100%;\"></div>            <script type=\"text/javascript\">                require([\"plotly\"], function(Plotly) {                    window.PLOTLYENV=window.PLOTLYENV || {};                                    if (document.getElementById(\"7cd99d7c-8e45-477f-9a06-ed78484b3ee2\")) {                    Plotly.newPlot(                        \"7cd99d7c-8e45-477f-9a06-ed78484b3ee2\",                        [{\"x\":[\"United States\",\"India\",\"United Kingdom\",\"Canada\",\"Spain\",\"Turkey\",\"Mexico\",\"Hong Kong\",\"France\",\"Japan\"],\"y\":[1372,645,161,87,78,55,51,49,48,44],\"type\":\"bar\"}],                        {\"template\":{\"data\":{\"histogram2dcontour\":[{\"type\":\"histogram2dcontour\",\"colorbar\":{\"outlinewidth\":0,\"ticks\":\"\"},\"colorscale\":[[0.0,\"#0d0887\"],[0.1111111111111111,\"#46039f\"],[0.2222222222222222,\"#7201a8\"],[0.3333333333333333,\"#9c179e\"],[0.4444444444444444,\"#bd3786\"],[0.5555555555555556,\"#d8576b\"],[0.6666666666666666,\"#ed7953\"],[0.7777777777777778,\"#fb9f3a\"],[0.8888888888888888,\"#fdca26\"],[1.0,\"#f0f921\"]]}],\"choropleth\":[{\"type\":\"choropleth\",\"colorbar\":{\"outlinewidth\":0,\"ticks\":\"\"}}],\"histogram2d\":[{\"type\":\"histogram2d\",\"colorbar\":{\"outlinewidth\":0,\"ticks\":\"\"},\"colorscale\":[[0.0,\"#0d0887\"],[0.1111111111111111,\"#46039f\"],[0.2222222222222222,\"#7201a8\"],[0.3333333333333333,\"#9c179e\"],[0.4444444444444444,\"#bd3786\"],[0.5555555555555556,\"#d8576b\"],[0.6666666666666666,\"#ed7953\"],[0.7777777777777778,\"#fb9f3a\"],[0.8888888888888888,\"#fdca26\"],[1.0,\"#f0f921\"]]}],\"heatmap\":[{\"type\":\"heatmap\",\"colorbar\":{\"outlinewidth\":0,\"ticks\":\"\"},\"colorscale\":[[0.0,\"#0d0887\"],[0.1111111111111111,\"#46039f\"],[0.2222222222222222,\"#7201a8\"],[0.3333333333333333,\"#9c179e\"],[0.4444444444444444,\"#bd3786\"],[0.5555555555555556,\"#d8576b\"],[0.6666666666666666,\"#ed7953\"],[0.7777777777777778,\"#fb9f3a\"],[0.8888888888888888,\"#fdca26\"],[1.0,\"#f0f921\"]]}],\"heatmapgl\":[{\"type\":\"heatmapgl\",\"colorbar\":{\"outlinewidth\":0,\"ticks\":\"\"},\"colorscale\":[[0.0,\"#0d0887\"],[0.1111111111111111,\"#46039f\"],[0.2222222222222222,\"#7201a8\"],[0.3333333333333333,\"#9c179e\"],[0.4444444444444444,\"#bd3786\"],[0.5555555555555556,\"#d8576b\"],[0.6666666666666666,\"#ed7953\"],[0.7777777777777778,\"#fb9f3a\"],[0.8888888888888888,\"#fdca26\"],[1.0,\"#f0f921\"]]}],\"contourcarpet\":[{\"type\":\"contourcarpet\",\"colorbar\":{\"outlinewidth\":0,\"ticks\":\"\"}}],\"contour\":[{\"type\":\"contour\",\"colorbar\":{\"outlinewidth\":0,\"ticks\":\"\"},\"colorscale\":[[0.0,\"#0d0887\"],[0.1111111111111111,\"#46039f\"],[0.2222222222222222,\"#7201a8\"],[0.3333333333333333,\"#9c179e\"],[0.4444444444444444,\"#bd3786\"],[0.5555555555555556,\"#d8576b\"],[0.6666666666666666,\"#ed7953\"],[0.7777777777777778,\"#fb9f3a\"],[0.8888888888888888,\"#fdca26\"],[1.0,\"#f0f921\"]]}],\"surface\":[{\"type\":\"surface\",\"colorbar\":{\"outlinewidth\":0,\"ticks\":\"\"},\"colorscale\":[[0.0,\"#0d0887\"],[0.1111111111111111,\"#46039f\"],[0.2222222222222222,\"#7201a8\"],[0.3333333333333333,\"#9c179e\"],[0.4444444444444444,\"#bd3786\"],[0.5555555555555556,\"#d8576b\"],[0.6666666666666666,\"#ed7953\"],[0.7777777777777778,\"#fb9f3a\"],[0.8888888888888888,\"#fdca26\"],[1.0,\"#f0f921\"]]}],\"mesh3d\":[{\"type\":\"mesh3d\",\"colorbar\":{\"outlinewidth\":0,\"ticks\":\"\"}}],\"scatter\":[{\"fillpattern\":{\"fillmode\":\"overlay\",\"size\":10,\"solidity\":0.2},\"type\":\"scatter\"}],\"parcoords\":[{\"type\":\"parcoords\",\"line\":{\"colorbar\":{\"outlinewidth\":0,\"ticks\":\"\"}}}],\"scatterpolargl\":[{\"type\":\"scatterpolargl\",\"marker\":{\"colorbar\":{\"outlinewidth\":0,\"ticks\":\"\"}}}],\"bar\":[{\"error_x\":{\"color\":\"#2a3f5f\"},\"error_y\":{\"color\":\"#2a3f5f\"},\"marker\":{\"line\":{\"color\":\"#E5ECF6\",\"width\":0.5},\"pattern\":{\"fillmode\":\"overlay\",\"size\":10,\"solidity\":0.2}},\"type\":\"bar\"}],\"scattergeo\":[{\"type\":\"scattergeo\",\"marker\":{\"colorbar\":{\"outlinewidth\":0,\"ticks\":\"\"}}}],\"scatterpolar\":[{\"type\":\"scatterpolar\",\"marker\":{\"colorbar\":{\"outlinewidth\":0,\"ticks\":\"\"}}}],\"histogram\":[{\"marker\":{\"pattern\":{\"fillmode\":\"overlay\",\"size\":10,\"solidity\":0.2}},\"type\":\"histogram\"}],\"scattergl\":[{\"type\":\"scattergl\",\"marker\":{\"colorbar\":{\"outlinewidth\":0,\"ticks\":\"\"}}}],\"scatter3d\":[{\"type\":\"scatter3d\",\"line\":{\"colorbar\":{\"outlinewidth\":0,\"ticks\":\"\"}},\"marker\":{\"colorbar\":{\"outlinewidth\":0,\"ticks\":\"\"}}}],\"scattermapbox\":[{\"type\":\"scattermapbox\",\"marker\":{\"colorbar\":{\"outlinewidth\":0,\"ticks\":\"\"}}}],\"scatterternary\":[{\"type\":\"scatterternary\",\"marker\":{\"colorbar\":{\"outlinewidth\":0,\"ticks\":\"\"}}}],\"scattercarpet\":[{\"type\":\"scattercarpet\",\"marker\":{\"colorbar\":{\"outlinewidth\":0,\"ticks\":\"\"}}}],\"carpet\":[{\"aaxis\":{\"endlinecolor\":\"#2a3f5f\",\"gridcolor\":\"white\",\"linecolor\":\"white\",\"minorgridcolor\":\"white\",\"startlinecolor\":\"#2a3f5f\"},\"baxis\":{\"endlinecolor\":\"#2a3f5f\",\"gridcolor\":\"white\",\"linecolor\":\"white\",\"minorgridcolor\":\"white\",\"startlinecolor\":\"#2a3f5f\"},\"type\":\"carpet\"}],\"table\":[{\"cells\":{\"fill\":{\"color\":\"#EBF0F8\"},\"line\":{\"color\":\"white\"}},\"header\":{\"fill\":{\"color\":\"#C8D4E3\"},\"line\":{\"color\":\"white\"}},\"type\":\"table\"}],\"barpolar\":[{\"marker\":{\"line\":{\"color\":\"#E5ECF6\",\"width\":0.5},\"pattern\":{\"fillmode\":\"overlay\",\"size\":10,\"solidity\":0.2}},\"type\":\"barpolar\"}],\"pie\":[{\"automargin\":true,\"type\":\"pie\"}]},\"layout\":{\"autotypenumbers\":\"strict\",\"colorway\":[\"#636efa\",\"#EF553B\",\"#00cc96\",\"#ab63fa\",\"#FFA15A\",\"#19d3f3\",\"#FF6692\",\"#B6E880\",\"#FF97FF\",\"#FECB52\"],\"font\":{\"color\":\"#2a3f5f\"},\"hovermode\":\"closest\",\"hoverlabel\":{\"align\":\"left\"},\"paper_bgcolor\":\"white\",\"plot_bgcolor\":\"#E5ECF6\",\"polar\":{\"bgcolor\":\"#E5ECF6\",\"angularaxis\":{\"gridcolor\":\"white\",\"linecolor\":\"white\",\"ticks\":\"\"},\"radialaxis\":{\"gridcolor\":\"white\",\"linecolor\":\"white\",\"ticks\":\"\"}},\"ternary\":{\"bgcolor\":\"#E5ECF6\",\"aaxis\":{\"gridcolor\":\"white\",\"linecolor\":\"white\",\"ticks\":\"\"},\"baxis\":{\"gridcolor\":\"white\",\"linecolor\":\"white\",\"ticks\":\"\"},\"caxis\":{\"gridcolor\":\"white\",\"linecolor\":\"white\",\"ticks\":\"\"}},\"coloraxis\":{\"colorbar\":{\"outlinewidth\":0,\"ticks\":\"\"}},\"colorscale\":{\"sequential\":[[0.0,\"#0d0887\"],[0.1111111111111111,\"#46039f\"],[0.2222222222222222,\"#7201a8\"],[0.3333333333333333,\"#9c179e\"],[0.4444444444444444,\"#bd3786\"],[0.5555555555555556,\"#d8576b\"],[0.6666666666666666,\"#ed7953\"],[0.7777777777777778,\"#fb9f3a\"],[0.8888888888888888,\"#fdca26\"],[1.0,\"#f0f921\"]],\"sequentialminus\":[[0.0,\"#0d0887\"],[0.1111111111111111,\"#46039f\"],[0.2222222222222222,\"#7201a8\"],[0.3333333333333333,\"#9c179e\"],[0.4444444444444444,\"#bd3786\"],[0.5555555555555556,\"#d8576b\"],[0.6666666666666666,\"#ed7953\"],[0.7777777777777778,\"#fb9f3a\"],[0.8888888888888888,\"#fdca26\"],[1.0,\"#f0f921\"]],\"diverging\":[[0,\"#8e0152\"],[0.1,\"#c51b7d\"],[0.2,\"#de77ae\"],[0.3,\"#f1b6da\"],[0.4,\"#fde0ef\"],[0.5,\"#f7f7f7\"],[0.6,\"#e6f5d0\"],[0.7,\"#b8e186\"],[0.8,\"#7fbc41\"],[0.9,\"#4d9221\"],[1,\"#276419\"]]},\"xaxis\":{\"gridcolor\":\"white\",\"linecolor\":\"white\",\"ticks\":\"\",\"title\":{\"standoff\":15},\"zerolinecolor\":\"white\",\"automargin\":true,\"zerolinewidth\":2},\"yaxis\":{\"gridcolor\":\"white\",\"linecolor\":\"white\",\"ticks\":\"\",\"title\":{\"standoff\":15},\"zerolinecolor\":\"white\",\"automargin\":true,\"zerolinewidth\":2},\"scene\":{\"xaxis\":{\"backgroundcolor\":\"#E5ECF6\",\"gridcolor\":\"white\",\"linecolor\":\"white\",\"showbackground\":true,\"ticks\":\"\",\"zerolinecolor\":\"white\",\"gridwidth\":2},\"yaxis\":{\"backgroundcolor\":\"#E5ECF6\",\"gridcolor\":\"white\",\"linecolor\":\"white\",\"showbackground\":true,\"ticks\":\"\",\"zerolinecolor\":\"white\",\"gridwidth\":2},\"zaxis\":{\"backgroundcolor\":\"#E5ECF6\",\"gridcolor\":\"white\",\"linecolor\":\"white\",\"showbackground\":true,\"ticks\":\"\",\"zerolinecolor\":\"white\",\"gridwidth\":2}},\"shapedefaults\":{\"line\":{\"color\":\"#2a3f5f\"}},\"annotationdefaults\":{\"arrowcolor\":\"#2a3f5f\",\"arrowhead\":0,\"arrowwidth\":1},\"geo\":{\"bgcolor\":\"white\",\"landcolor\":\"#E5ECF6\",\"subunitcolor\":\"white\",\"showland\":true,\"showlakes\":true,\"lakecolor\":\"white\"},\"title\":{\"x\":0.05},\"mapbox\":{\"style\":\"light\"}}},\"title\":{\"text\":\"Top 10 Countries by Number of Movies\"},\"xaxis\":{\"title\":{\"text\":\"Country\"}},\"yaxis\":{\"title\":{\"text\":\"Number of Movies\"}}},                        {\"responsive\": true}                    ).then(function(){\n",
       "                            \n",
       "var gd = document.getElementById('7cd99d7c-8e45-477f-9a06-ed78484b3ee2');\n",
       "var x = new MutationObserver(function (mutations, observer) {{\n",
       "        var display = window.getComputedStyle(gd).display;\n",
       "        if (!display || display === 'none') {{\n",
       "            console.log([gd, 'removed!']);\n",
       "            Plotly.purge(gd);\n",
       "            observer.disconnect();\n",
       "        }}\n",
       "}});\n",
       "\n",
       "// Listen for the removal of the full notebook cells\n",
       "var notebookContainer = gd.closest('#notebook-container');\n",
       "if (notebookContainer) {{\n",
       "    x.observe(notebookContainer, {childList: true});\n",
       "}}\n",
       "\n",
       "// Listen for the clearing of the current output cell\n",
       "var outputEl = gd.closest('.output');\n",
       "if (outputEl) {{\n",
       "    x.observe(outputEl, {childList: true});\n",
       "}}\n",
       "\n",
       "                        })                };                });            </script>        </div>"
      ]
     },
     "metadata": {},
     "output_type": "display_data"
    }
   ],
   "source": [
    "\n",
    "# Filter for movies only\n",
    "movies_df = df[df['type'] == 'Movie']\n",
    "\n",
    "# Count the number of movies per country\n",
    "country_counts = movies_df['country'].value_counts().reset_index()\n",
    "country_counts.columns = ['Country', 'Number of Movies']\n",
    "\n",
    "# Select the top 10 countries\n",
    "top_10_countries = country_counts.head(10)\n",
    "\n",
    "# Plot the bar chart\n",
    "fig = go.Figure([go.Bar(x=top_10_countries['Country'], y=top_10_countries['Number of Movies'])])\n",
    "fig.update_layout(title='Top 10 Countries by Number of Movies',\n",
    "                  xaxis_title='Country',\n",
    "                  yaxis_title='Number of Movies')\n",
    "fig.show()\n"
   ]
  },
  {
   "cell_type": "code",
   "execution_count": 36,
   "metadata": {
    "colab": {
     "base_uri": "https://localhost:8080/",
     "height": 924
    },
    "id": "8Awd6FVtrbRO",
    "outputId": "22b56b46-3cc4-4a25-f69a-c75d95b0c2fe"
   },
   "outputs": [
    {
     "data": {
      "application/vnd.plotly.v1+json": {
       "config": {
        "plotlyServerURL": "https://plot.ly"
       },
       "data": [
        {
         "alignmentgroup": "True",
         "hovertemplate": "Director=%{x}<br>Number of Movies=%{y}<extra></extra>",
         "legendgroup": "",
         "marker": {
          "color": "#636efa",
          "pattern": {
           "shape": ""
          }
         },
         "name": "",
         "offsetgroup": "",
         "orientation": "v",
         "showlegend": false,
         "textposition": "auto",
         "type": "bar",
         "x": [
          "Jan Suter",
          "RaÃºl Campos",
          "Jay Karas",
          "Marcus Raboy",
          "Jay Chapman",
          "Martin Scorsese",
          "Steven Spielberg",
          "Umesh Mehra",
          "Shannon Hartman",
          "Johnnie To",
          "Cathy Garcia-Molina",
          "Hakan AlgÃ¼l",
          "Ryan Polito",
          "YÄ±lmaz ErdoÄŸan",
          "S.S. Rajamouli",
          "Lance Bangs",
          "Poj Arnon",
          "Matt Askem",
          "Rocky Soraya",
          "Wong Jing"
         ],
         "xaxis": "x",
         "y": [
          21,
          19,
          14,
          14,
          12,
          8,
          8,
          8,
          8,
          8,
          7,
          7,
          7,
          7,
          7,
          7,
          6,
          6,
          6,
          6
         ],
         "yaxis": "y"
        }
       ],
       "layout": {
        "barmode": "relative",
        "legend": {
         "tracegroupgap": 0
        },
        "template": {
         "data": {
          "bar": [
           {
            "error_x": {
             "color": "#2a3f5f"
            },
            "error_y": {
             "color": "#2a3f5f"
            },
            "marker": {
             "line": {
              "color": "#E5ECF6",
              "width": 0.5
             },
             "pattern": {
              "fillmode": "overlay",
              "size": 10,
              "solidity": 0.2
             }
            },
            "type": "bar"
           }
          ],
          "barpolar": [
           {
            "marker": {
             "line": {
              "color": "#E5ECF6",
              "width": 0.5
             },
             "pattern": {
              "fillmode": "overlay",
              "size": 10,
              "solidity": 0.2
             }
            },
            "type": "barpolar"
           }
          ],
          "carpet": [
           {
            "aaxis": {
             "endlinecolor": "#2a3f5f",
             "gridcolor": "white",
             "linecolor": "white",
             "minorgridcolor": "white",
             "startlinecolor": "#2a3f5f"
            },
            "baxis": {
             "endlinecolor": "#2a3f5f",
             "gridcolor": "white",
             "linecolor": "white",
             "minorgridcolor": "white",
             "startlinecolor": "#2a3f5f"
            },
            "type": "carpet"
           }
          ],
          "choropleth": [
           {
            "colorbar": {
             "outlinewidth": 0,
             "ticks": ""
            },
            "type": "choropleth"
           }
          ],
          "contour": [
           {
            "colorbar": {
             "outlinewidth": 0,
             "ticks": ""
            },
            "colorscale": [
             [
              0,
              "#0d0887"
             ],
             [
              0.1111111111111111,
              "#46039f"
             ],
             [
              0.2222222222222222,
              "#7201a8"
             ],
             [
              0.3333333333333333,
              "#9c179e"
             ],
             [
              0.4444444444444444,
              "#bd3786"
             ],
             [
              0.5555555555555556,
              "#d8576b"
             ],
             [
              0.6666666666666666,
              "#ed7953"
             ],
             [
              0.7777777777777778,
              "#fb9f3a"
             ],
             [
              0.8888888888888888,
              "#fdca26"
             ],
             [
              1,
              "#f0f921"
             ]
            ],
            "type": "contour"
           }
          ],
          "contourcarpet": [
           {
            "colorbar": {
             "outlinewidth": 0,
             "ticks": ""
            },
            "type": "contourcarpet"
           }
          ],
          "heatmap": [
           {
            "colorbar": {
             "outlinewidth": 0,
             "ticks": ""
            },
            "colorscale": [
             [
              0,
              "#0d0887"
             ],
             [
              0.1111111111111111,
              "#46039f"
             ],
             [
              0.2222222222222222,
              "#7201a8"
             ],
             [
              0.3333333333333333,
              "#9c179e"
             ],
             [
              0.4444444444444444,
              "#bd3786"
             ],
             [
              0.5555555555555556,
              "#d8576b"
             ],
             [
              0.6666666666666666,
              "#ed7953"
             ],
             [
              0.7777777777777778,
              "#fb9f3a"
             ],
             [
              0.8888888888888888,
              "#fdca26"
             ],
             [
              1,
              "#f0f921"
             ]
            ],
            "type": "heatmap"
           }
          ],
          "heatmapgl": [
           {
            "colorbar": {
             "outlinewidth": 0,
             "ticks": ""
            },
            "colorscale": [
             [
              0,
              "#0d0887"
             ],
             [
              0.1111111111111111,
              "#46039f"
             ],
             [
              0.2222222222222222,
              "#7201a8"
             ],
             [
              0.3333333333333333,
              "#9c179e"
             ],
             [
              0.4444444444444444,
              "#bd3786"
             ],
             [
              0.5555555555555556,
              "#d8576b"
             ],
             [
              0.6666666666666666,
              "#ed7953"
             ],
             [
              0.7777777777777778,
              "#fb9f3a"
             ],
             [
              0.8888888888888888,
              "#fdca26"
             ],
             [
              1,
              "#f0f921"
             ]
            ],
            "type": "heatmapgl"
           }
          ],
          "histogram": [
           {
            "marker": {
             "pattern": {
              "fillmode": "overlay",
              "size": 10,
              "solidity": 0.2
             }
            },
            "type": "histogram"
           }
          ],
          "histogram2d": [
           {
            "colorbar": {
             "outlinewidth": 0,
             "ticks": ""
            },
            "colorscale": [
             [
              0,
              "#0d0887"
             ],
             [
              0.1111111111111111,
              "#46039f"
             ],
             [
              0.2222222222222222,
              "#7201a8"
             ],
             [
              0.3333333333333333,
              "#9c179e"
             ],
             [
              0.4444444444444444,
              "#bd3786"
             ],
             [
              0.5555555555555556,
              "#d8576b"
             ],
             [
              0.6666666666666666,
              "#ed7953"
             ],
             [
              0.7777777777777778,
              "#fb9f3a"
             ],
             [
              0.8888888888888888,
              "#fdca26"
             ],
             [
              1,
              "#f0f921"
             ]
            ],
            "type": "histogram2d"
           }
          ],
          "histogram2dcontour": [
           {
            "colorbar": {
             "outlinewidth": 0,
             "ticks": ""
            },
            "colorscale": [
             [
              0,
              "#0d0887"
             ],
             [
              0.1111111111111111,
              "#46039f"
             ],
             [
              0.2222222222222222,
              "#7201a8"
             ],
             [
              0.3333333333333333,
              "#9c179e"
             ],
             [
              0.4444444444444444,
              "#bd3786"
             ],
             [
              0.5555555555555556,
              "#d8576b"
             ],
             [
              0.6666666666666666,
              "#ed7953"
             ],
             [
              0.7777777777777778,
              "#fb9f3a"
             ],
             [
              0.8888888888888888,
              "#fdca26"
             ],
             [
              1,
              "#f0f921"
             ]
            ],
            "type": "histogram2dcontour"
           }
          ],
          "mesh3d": [
           {
            "colorbar": {
             "outlinewidth": 0,
             "ticks": ""
            },
            "type": "mesh3d"
           }
          ],
          "parcoords": [
           {
            "line": {
             "colorbar": {
              "outlinewidth": 0,
              "ticks": ""
             }
            },
            "type": "parcoords"
           }
          ],
          "pie": [
           {
            "automargin": true,
            "type": "pie"
           }
          ],
          "scatter": [
           {
            "fillpattern": {
             "fillmode": "overlay",
             "size": 10,
             "solidity": 0.2
            },
            "type": "scatter"
           }
          ],
          "scatter3d": [
           {
            "line": {
             "colorbar": {
              "outlinewidth": 0,
              "ticks": ""
             }
            },
            "marker": {
             "colorbar": {
              "outlinewidth": 0,
              "ticks": ""
             }
            },
            "type": "scatter3d"
           }
          ],
          "scattercarpet": [
           {
            "marker": {
             "colorbar": {
              "outlinewidth": 0,
              "ticks": ""
             }
            },
            "type": "scattercarpet"
           }
          ],
          "scattergeo": [
           {
            "marker": {
             "colorbar": {
              "outlinewidth": 0,
              "ticks": ""
             }
            },
            "type": "scattergeo"
           }
          ],
          "scattergl": [
           {
            "marker": {
             "colorbar": {
              "outlinewidth": 0,
              "ticks": ""
             }
            },
            "type": "scattergl"
           }
          ],
          "scattermapbox": [
           {
            "marker": {
             "colorbar": {
              "outlinewidth": 0,
              "ticks": ""
             }
            },
            "type": "scattermapbox"
           }
          ],
          "scatterpolar": [
           {
            "marker": {
             "colorbar": {
              "outlinewidth": 0,
              "ticks": ""
             }
            },
            "type": "scatterpolar"
           }
          ],
          "scatterpolargl": [
           {
            "marker": {
             "colorbar": {
              "outlinewidth": 0,
              "ticks": ""
             }
            },
            "type": "scatterpolargl"
           }
          ],
          "scatterternary": [
           {
            "marker": {
             "colorbar": {
              "outlinewidth": 0,
              "ticks": ""
             }
            },
            "type": "scatterternary"
           }
          ],
          "surface": [
           {
            "colorbar": {
             "outlinewidth": 0,
             "ticks": ""
            },
            "colorscale": [
             [
              0,
              "#0d0887"
             ],
             [
              0.1111111111111111,
              "#46039f"
             ],
             [
              0.2222222222222222,
              "#7201a8"
             ],
             [
              0.3333333333333333,
              "#9c179e"
             ],
             [
              0.4444444444444444,
              "#bd3786"
             ],
             [
              0.5555555555555556,
              "#d8576b"
             ],
             [
              0.6666666666666666,
              "#ed7953"
             ],
             [
              0.7777777777777778,
              "#fb9f3a"
             ],
             [
              0.8888888888888888,
              "#fdca26"
             ],
             [
              1,
              "#f0f921"
             ]
            ],
            "type": "surface"
           }
          ],
          "table": [
           {
            "cells": {
             "fill": {
              "color": "#EBF0F8"
             },
             "line": {
              "color": "white"
             }
            },
            "header": {
             "fill": {
              "color": "#C8D4E3"
             },
             "line": {
              "color": "white"
             }
            },
            "type": "table"
           }
          ]
         },
         "layout": {
          "annotationdefaults": {
           "arrowcolor": "#2a3f5f",
           "arrowhead": 0,
           "arrowwidth": 1
          },
          "autotypenumbers": "strict",
          "coloraxis": {
           "colorbar": {
            "outlinewidth": 0,
            "ticks": ""
           }
          },
          "colorscale": {
           "diverging": [
            [
             0,
             "#8e0152"
            ],
            [
             0.1,
             "#c51b7d"
            ],
            [
             0.2,
             "#de77ae"
            ],
            [
             0.3,
             "#f1b6da"
            ],
            [
             0.4,
             "#fde0ef"
            ],
            [
             0.5,
             "#f7f7f7"
            ],
            [
             0.6,
             "#e6f5d0"
            ],
            [
             0.7,
             "#b8e186"
            ],
            [
             0.8,
             "#7fbc41"
            ],
            [
             0.9,
             "#4d9221"
            ],
            [
             1,
             "#276419"
            ]
           ],
           "sequential": [
            [
             0,
             "#0d0887"
            ],
            [
             0.1111111111111111,
             "#46039f"
            ],
            [
             0.2222222222222222,
             "#7201a8"
            ],
            [
             0.3333333333333333,
             "#9c179e"
            ],
            [
             0.4444444444444444,
             "#bd3786"
            ],
            [
             0.5555555555555556,
             "#d8576b"
            ],
            [
             0.6666666666666666,
             "#ed7953"
            ],
            [
             0.7777777777777778,
             "#fb9f3a"
            ],
            [
             0.8888888888888888,
             "#fdca26"
            ],
            [
             1,
             "#f0f921"
            ]
           ],
           "sequentialminus": [
            [
             0,
             "#0d0887"
            ],
            [
             0.1111111111111111,
             "#46039f"
            ],
            [
             0.2222222222222222,
             "#7201a8"
            ],
            [
             0.3333333333333333,
             "#9c179e"
            ],
            [
             0.4444444444444444,
             "#bd3786"
            ],
            [
             0.5555555555555556,
             "#d8576b"
            ],
            [
             0.6666666666666666,
             "#ed7953"
            ],
            [
             0.7777777777777778,
             "#fb9f3a"
            ],
            [
             0.8888888888888888,
             "#fdca26"
            ],
            [
             1,
             "#f0f921"
            ]
           ]
          },
          "colorway": [
           "#636efa",
           "#EF553B",
           "#00cc96",
           "#ab63fa",
           "#FFA15A",
           "#19d3f3",
           "#FF6692",
           "#B6E880",
           "#FF97FF",
           "#FECB52"
          ],
          "font": {
           "color": "#2a3f5f"
          },
          "geo": {
           "bgcolor": "white",
           "lakecolor": "white",
           "landcolor": "#E5ECF6",
           "showlakes": true,
           "showland": true,
           "subunitcolor": "white"
          },
          "hoverlabel": {
           "align": "left"
          },
          "hovermode": "closest",
          "mapbox": {
           "style": "light"
          },
          "paper_bgcolor": "white",
          "plot_bgcolor": "#E5ECF6",
          "polar": {
           "angularaxis": {
            "gridcolor": "white",
            "linecolor": "white",
            "ticks": ""
           },
           "bgcolor": "#E5ECF6",
           "radialaxis": {
            "gridcolor": "white",
            "linecolor": "white",
            "ticks": ""
           }
          },
          "scene": {
           "xaxis": {
            "backgroundcolor": "#E5ECF6",
            "gridcolor": "white",
            "gridwidth": 2,
            "linecolor": "white",
            "showbackground": true,
            "ticks": "",
            "zerolinecolor": "white"
           },
           "yaxis": {
            "backgroundcolor": "#E5ECF6",
            "gridcolor": "white",
            "gridwidth": 2,
            "linecolor": "white",
            "showbackground": true,
            "ticks": "",
            "zerolinecolor": "white"
           },
           "zaxis": {
            "backgroundcolor": "#E5ECF6",
            "gridcolor": "white",
            "gridwidth": 2,
            "linecolor": "white",
            "showbackground": true,
            "ticks": "",
            "zerolinecolor": "white"
           }
          },
          "shapedefaults": {
           "line": {
            "color": "#2a3f5f"
           }
          },
          "ternary": {
           "aaxis": {
            "gridcolor": "white",
            "linecolor": "white",
            "ticks": ""
           },
           "baxis": {
            "gridcolor": "white",
            "linecolor": "white",
            "ticks": ""
           },
           "bgcolor": "#E5ECF6",
           "caxis": {
            "gridcolor": "white",
            "linecolor": "white",
            "ticks": ""
           }
          },
          "title": {
           "x": 0.05
          },
          "xaxis": {
           "automargin": true,
           "gridcolor": "white",
           "linecolor": "white",
           "ticks": "",
           "title": {
            "standoff": 15
           },
           "zerolinecolor": "white",
           "zerolinewidth": 2
          },
          "yaxis": {
           "automargin": true,
           "gridcolor": "white",
           "linecolor": "white",
           "ticks": "",
           "title": {
            "standoff": 15
           },
           "zerolinecolor": "white",
           "zerolinewidth": 2
          }
         }
        },
        "title": {
         "text": "Top 20 Directors with the Highest Number of Films"
        },
        "xaxis": {
         "anchor": "y",
         "domain": [
          0,
          1
         ],
         "title": {
          "text": "Director"
         }
        },
        "yaxis": {
         "anchor": "x",
         "domain": [
          0,
          1
         ],
         "title": {
          "text": "Number of Movies"
         }
        }
       }
      },
      "text/html": [
       "<div>                            <div id=\"06fc7d00-bcc8-4f21-b801-91b6c97fd0ee\" class=\"plotly-graph-div\" style=\"height:525px; width:100%;\"></div>            <script type=\"text/javascript\">                require([\"plotly\"], function(Plotly) {                    window.PLOTLYENV=window.PLOTLYENV || {};                                    if (document.getElementById(\"06fc7d00-bcc8-4f21-b801-91b6c97fd0ee\")) {                    Plotly.newPlot(                        \"06fc7d00-bcc8-4f21-b801-91b6c97fd0ee\",                        [{\"alignmentgroup\":\"True\",\"hovertemplate\":\"Director=%{x}<br>Number of Movies=%{y}<extra></extra>\",\"legendgroup\":\"\",\"marker\":{\"color\":\"#636efa\",\"pattern\":{\"shape\":\"\"}},\"name\":\"\",\"offsetgroup\":\"\",\"orientation\":\"v\",\"showlegend\":false,\"textposition\":\"auto\",\"x\":[\"Jan Suter\",\"Ra\\u00c3\\u00bal Campos\",\"Jay Karas\",\"Marcus Raboy\",\"Jay Chapman\",\"Martin Scorsese\",\"Steven Spielberg\",\"Umesh Mehra\",\"Shannon Hartman\",\"Johnnie To\",\"Cathy Garcia-Molina\",\"Hakan Alg\\u00c3\\u00bcl\",\"Ryan Polito\",\"Y\\u00c4\\u00b1lmaz Erdo\\u00c4\\u0178an\",\"S.S. Rajamouli\",\"Lance Bangs\",\"Poj Arnon\",\"Matt Askem\",\"Rocky Soraya\",\"Wong Jing\"],\"xaxis\":\"x\",\"y\":[21,19,14,14,12,8,8,8,8,8,7,7,7,7,7,7,6,6,6,6],\"yaxis\":\"y\",\"type\":\"bar\"}],                        {\"template\":{\"data\":{\"histogram2dcontour\":[{\"type\":\"histogram2dcontour\",\"colorbar\":{\"outlinewidth\":0,\"ticks\":\"\"},\"colorscale\":[[0.0,\"#0d0887\"],[0.1111111111111111,\"#46039f\"],[0.2222222222222222,\"#7201a8\"],[0.3333333333333333,\"#9c179e\"],[0.4444444444444444,\"#bd3786\"],[0.5555555555555556,\"#d8576b\"],[0.6666666666666666,\"#ed7953\"],[0.7777777777777778,\"#fb9f3a\"],[0.8888888888888888,\"#fdca26\"],[1.0,\"#f0f921\"]]}],\"choropleth\":[{\"type\":\"choropleth\",\"colorbar\":{\"outlinewidth\":0,\"ticks\":\"\"}}],\"histogram2d\":[{\"type\":\"histogram2d\",\"colorbar\":{\"outlinewidth\":0,\"ticks\":\"\"},\"colorscale\":[[0.0,\"#0d0887\"],[0.1111111111111111,\"#46039f\"],[0.2222222222222222,\"#7201a8\"],[0.3333333333333333,\"#9c179e\"],[0.4444444444444444,\"#bd3786\"],[0.5555555555555556,\"#d8576b\"],[0.6666666666666666,\"#ed7953\"],[0.7777777777777778,\"#fb9f3a\"],[0.8888888888888888,\"#fdca26\"],[1.0,\"#f0f921\"]]}],\"heatmap\":[{\"type\":\"heatmap\",\"colorbar\":{\"outlinewidth\":0,\"ticks\":\"\"},\"colorscale\":[[0.0,\"#0d0887\"],[0.1111111111111111,\"#46039f\"],[0.2222222222222222,\"#7201a8\"],[0.3333333333333333,\"#9c179e\"],[0.4444444444444444,\"#bd3786\"],[0.5555555555555556,\"#d8576b\"],[0.6666666666666666,\"#ed7953\"],[0.7777777777777778,\"#fb9f3a\"],[0.8888888888888888,\"#fdca26\"],[1.0,\"#f0f921\"]]}],\"heatmapgl\":[{\"type\":\"heatmapgl\",\"colorbar\":{\"outlinewidth\":0,\"ticks\":\"\"},\"colorscale\":[[0.0,\"#0d0887\"],[0.1111111111111111,\"#46039f\"],[0.2222222222222222,\"#7201a8\"],[0.3333333333333333,\"#9c179e\"],[0.4444444444444444,\"#bd3786\"],[0.5555555555555556,\"#d8576b\"],[0.6666666666666666,\"#ed7953\"],[0.7777777777777778,\"#fb9f3a\"],[0.8888888888888888,\"#fdca26\"],[1.0,\"#f0f921\"]]}],\"contourcarpet\":[{\"type\":\"contourcarpet\",\"colorbar\":{\"outlinewidth\":0,\"ticks\":\"\"}}],\"contour\":[{\"type\":\"contour\",\"colorbar\":{\"outlinewidth\":0,\"ticks\":\"\"},\"colorscale\":[[0.0,\"#0d0887\"],[0.1111111111111111,\"#46039f\"],[0.2222222222222222,\"#7201a8\"],[0.3333333333333333,\"#9c179e\"],[0.4444444444444444,\"#bd3786\"],[0.5555555555555556,\"#d8576b\"],[0.6666666666666666,\"#ed7953\"],[0.7777777777777778,\"#fb9f3a\"],[0.8888888888888888,\"#fdca26\"],[1.0,\"#f0f921\"]]}],\"surface\":[{\"type\":\"surface\",\"colorbar\":{\"outlinewidth\":0,\"ticks\":\"\"},\"colorscale\":[[0.0,\"#0d0887\"],[0.1111111111111111,\"#46039f\"],[0.2222222222222222,\"#7201a8\"],[0.3333333333333333,\"#9c179e\"],[0.4444444444444444,\"#bd3786\"],[0.5555555555555556,\"#d8576b\"],[0.6666666666666666,\"#ed7953\"],[0.7777777777777778,\"#fb9f3a\"],[0.8888888888888888,\"#fdca26\"],[1.0,\"#f0f921\"]]}],\"mesh3d\":[{\"type\":\"mesh3d\",\"colorbar\":{\"outlinewidth\":0,\"ticks\":\"\"}}],\"scatter\":[{\"fillpattern\":{\"fillmode\":\"overlay\",\"size\":10,\"solidity\":0.2},\"type\":\"scatter\"}],\"parcoords\":[{\"type\":\"parcoords\",\"line\":{\"colorbar\":{\"outlinewidth\":0,\"ticks\":\"\"}}}],\"scatterpolargl\":[{\"type\":\"scatterpolargl\",\"marker\":{\"colorbar\":{\"outlinewidth\":0,\"ticks\":\"\"}}}],\"bar\":[{\"error_x\":{\"color\":\"#2a3f5f\"},\"error_y\":{\"color\":\"#2a3f5f\"},\"marker\":{\"line\":{\"color\":\"#E5ECF6\",\"width\":0.5},\"pattern\":{\"fillmode\":\"overlay\",\"size\":10,\"solidity\":0.2}},\"type\":\"bar\"}],\"scattergeo\":[{\"type\":\"scattergeo\",\"marker\":{\"colorbar\":{\"outlinewidth\":0,\"ticks\":\"\"}}}],\"scatterpolar\":[{\"type\":\"scatterpolar\",\"marker\":{\"colorbar\":{\"outlinewidth\":0,\"ticks\":\"\"}}}],\"histogram\":[{\"marker\":{\"pattern\":{\"fillmode\":\"overlay\",\"size\":10,\"solidity\":0.2}},\"type\":\"histogram\"}],\"scattergl\":[{\"type\":\"scattergl\",\"marker\":{\"colorbar\":{\"outlinewidth\":0,\"ticks\":\"\"}}}],\"scatter3d\":[{\"type\":\"scatter3d\",\"line\":{\"colorbar\":{\"outlinewidth\":0,\"ticks\":\"\"}},\"marker\":{\"colorbar\":{\"outlinewidth\":0,\"ticks\":\"\"}}}],\"scattermapbox\":[{\"type\":\"scattermapbox\",\"marker\":{\"colorbar\":{\"outlinewidth\":0,\"ticks\":\"\"}}}],\"scatterternary\":[{\"type\":\"scatterternary\",\"marker\":{\"colorbar\":{\"outlinewidth\":0,\"ticks\":\"\"}}}],\"scattercarpet\":[{\"type\":\"scattercarpet\",\"marker\":{\"colorbar\":{\"outlinewidth\":0,\"ticks\":\"\"}}}],\"carpet\":[{\"aaxis\":{\"endlinecolor\":\"#2a3f5f\",\"gridcolor\":\"white\",\"linecolor\":\"white\",\"minorgridcolor\":\"white\",\"startlinecolor\":\"#2a3f5f\"},\"baxis\":{\"endlinecolor\":\"#2a3f5f\",\"gridcolor\":\"white\",\"linecolor\":\"white\",\"minorgridcolor\":\"white\",\"startlinecolor\":\"#2a3f5f\"},\"type\":\"carpet\"}],\"table\":[{\"cells\":{\"fill\":{\"color\":\"#EBF0F8\"},\"line\":{\"color\":\"white\"}},\"header\":{\"fill\":{\"color\":\"#C8D4E3\"},\"line\":{\"color\":\"white\"}},\"type\":\"table\"}],\"barpolar\":[{\"marker\":{\"line\":{\"color\":\"#E5ECF6\",\"width\":0.5},\"pattern\":{\"fillmode\":\"overlay\",\"size\":10,\"solidity\":0.2}},\"type\":\"barpolar\"}],\"pie\":[{\"automargin\":true,\"type\":\"pie\"}]},\"layout\":{\"autotypenumbers\":\"strict\",\"colorway\":[\"#636efa\",\"#EF553B\",\"#00cc96\",\"#ab63fa\",\"#FFA15A\",\"#19d3f3\",\"#FF6692\",\"#B6E880\",\"#FF97FF\",\"#FECB52\"],\"font\":{\"color\":\"#2a3f5f\"},\"hovermode\":\"closest\",\"hoverlabel\":{\"align\":\"left\"},\"paper_bgcolor\":\"white\",\"plot_bgcolor\":\"#E5ECF6\",\"polar\":{\"bgcolor\":\"#E5ECF6\",\"angularaxis\":{\"gridcolor\":\"white\",\"linecolor\":\"white\",\"ticks\":\"\"},\"radialaxis\":{\"gridcolor\":\"white\",\"linecolor\":\"white\",\"ticks\":\"\"}},\"ternary\":{\"bgcolor\":\"#E5ECF6\",\"aaxis\":{\"gridcolor\":\"white\",\"linecolor\":\"white\",\"ticks\":\"\"},\"baxis\":{\"gridcolor\":\"white\",\"linecolor\":\"white\",\"ticks\":\"\"},\"caxis\":{\"gridcolor\":\"white\",\"linecolor\":\"white\",\"ticks\":\"\"}},\"coloraxis\":{\"colorbar\":{\"outlinewidth\":0,\"ticks\":\"\"}},\"colorscale\":{\"sequential\":[[0.0,\"#0d0887\"],[0.1111111111111111,\"#46039f\"],[0.2222222222222222,\"#7201a8\"],[0.3333333333333333,\"#9c179e\"],[0.4444444444444444,\"#bd3786\"],[0.5555555555555556,\"#d8576b\"],[0.6666666666666666,\"#ed7953\"],[0.7777777777777778,\"#fb9f3a\"],[0.8888888888888888,\"#fdca26\"],[1.0,\"#f0f921\"]],\"sequentialminus\":[[0.0,\"#0d0887\"],[0.1111111111111111,\"#46039f\"],[0.2222222222222222,\"#7201a8\"],[0.3333333333333333,\"#9c179e\"],[0.4444444444444444,\"#bd3786\"],[0.5555555555555556,\"#d8576b\"],[0.6666666666666666,\"#ed7953\"],[0.7777777777777778,\"#fb9f3a\"],[0.8888888888888888,\"#fdca26\"],[1.0,\"#f0f921\"]],\"diverging\":[[0,\"#8e0152\"],[0.1,\"#c51b7d\"],[0.2,\"#de77ae\"],[0.3,\"#f1b6da\"],[0.4,\"#fde0ef\"],[0.5,\"#f7f7f7\"],[0.6,\"#e6f5d0\"],[0.7,\"#b8e186\"],[0.8,\"#7fbc41\"],[0.9,\"#4d9221\"],[1,\"#276419\"]]},\"xaxis\":{\"gridcolor\":\"white\",\"linecolor\":\"white\",\"ticks\":\"\",\"title\":{\"standoff\":15},\"zerolinecolor\":\"white\",\"automargin\":true,\"zerolinewidth\":2},\"yaxis\":{\"gridcolor\":\"white\",\"linecolor\":\"white\",\"ticks\":\"\",\"title\":{\"standoff\":15},\"zerolinecolor\":\"white\",\"automargin\":true,\"zerolinewidth\":2},\"scene\":{\"xaxis\":{\"backgroundcolor\":\"#E5ECF6\",\"gridcolor\":\"white\",\"linecolor\":\"white\",\"showbackground\":true,\"ticks\":\"\",\"zerolinecolor\":\"white\",\"gridwidth\":2},\"yaxis\":{\"backgroundcolor\":\"#E5ECF6\",\"gridcolor\":\"white\",\"linecolor\":\"white\",\"showbackground\":true,\"ticks\":\"\",\"zerolinecolor\":\"white\",\"gridwidth\":2},\"zaxis\":{\"backgroundcolor\":\"#E5ECF6\",\"gridcolor\":\"white\",\"linecolor\":\"white\",\"showbackground\":true,\"ticks\":\"\",\"zerolinecolor\":\"white\",\"gridwidth\":2}},\"shapedefaults\":{\"line\":{\"color\":\"#2a3f5f\"}},\"annotationdefaults\":{\"arrowcolor\":\"#2a3f5f\",\"arrowhead\":0,\"arrowwidth\":1},\"geo\":{\"bgcolor\":\"white\",\"landcolor\":\"#E5ECF6\",\"subunitcolor\":\"white\",\"showland\":true,\"showlakes\":true,\"lakecolor\":\"white\"},\"title\":{\"x\":0.05},\"mapbox\":{\"style\":\"light\"}}},\"xaxis\":{\"anchor\":\"y\",\"domain\":[0.0,1.0],\"title\":{\"text\":\"Director\"}},\"yaxis\":{\"anchor\":\"x\",\"domain\":[0.0,1.0],\"title\":{\"text\":\"Number of Movies\"}},\"legend\":{\"tracegroupgap\":0},\"title\":{\"text\":\"Top 20 Directors with the Highest Number of Films\"},\"barmode\":\"relative\"},                        {\"responsive\": true}                    ).then(function(){\n",
       "                            \n",
       "var gd = document.getElementById('06fc7d00-bcc8-4f21-b801-91b6c97fd0ee');\n",
       "var x = new MutationObserver(function (mutations, observer) {{\n",
       "        var display = window.getComputedStyle(gd).display;\n",
       "        if (!display || display === 'none') {{\n",
       "            console.log([gd, 'removed!']);\n",
       "            Plotly.purge(gd);\n",
       "            observer.disconnect();\n",
       "        }}\n",
       "}});\n",
       "\n",
       "// Listen for the removal of the full notebook cells\n",
       "var notebookContainer = gd.closest('#notebook-container');\n",
       "if (notebookContainer) {{\n",
       "    x.observe(notebookContainer, {childList: true});\n",
       "}}\n",
       "\n",
       "// Listen for the clearing of the current output cell\n",
       "var outputEl = gd.closest('.output');\n",
       "if (outputEl) {{\n",
       "    x.observe(outputEl, {childList: true});\n",
       "}}\n",
       "\n",
       "                        })                };                });            </script>        </div>"
      ]
     },
     "metadata": {},
     "output_type": "display_data"
    },
    {
     "name": "stdout",
     "output_type": "stream",
     "text": [
      "Top 20 Directors with the Highest Number of Films:\n",
      "               Director  Number of Movies\n",
      "0             Jan Suter                21\n",
      "1          RaÃºl Campos                19\n",
      "2             Jay Karas                14\n",
      "3          Marcus Raboy                14\n",
      "4           Jay Chapman                12\n",
      "5       Martin Scorsese                 8\n",
      "6      Steven Spielberg                 8\n",
      "7           Umesh Mehra                 8\n",
      "8       Shannon Hartman                 8\n",
      "9            Johnnie To                 8\n",
      "10  Cathy Garcia-Molina                 7\n",
      "11         Hakan AlgÃ¼l                 7\n",
      "12          Ryan Polito                 7\n",
      "13     YÄ±lmaz ErdoÄŸan                 7\n",
      "14       S.S. Rajamouli                 7\n",
      "15          Lance Bangs                 7\n",
      "16            Poj Arnon                 6\n",
      "17           Matt Askem                 6\n",
      "18         Rocky Soraya                 6\n",
      "19            Wong Jing                 6\n"
     ]
    }
   ],
   "source": [
    "import plotly.express as px\n",
    "# Filter for movies only\n",
    "movies_df = df[df['type'] == 'Movie']\n",
    "\n",
    "# Split directors if multiple directors are listed\n",
    "movies_df['director'] = movies_df['director'].str.split(', ')\n",
    "movies_df = movies_df.explode('director')\n",
    "\n",
    "# Count the number of movies per director\n",
    "director_counts = movies_df['director'].value_counts().reset_index()\n",
    "director_counts.columns = ['Director', 'Number of Movies']\n",
    "\n",
    "# Select the top 20 directors\n",
    "top_20_directors = director_counts.head(20)\n",
    "\n",
    "# Plot the result\n",
    "fig = px.bar(top_20_directors, x='Director', y='Number of Movies', title='Top 20 Directors with the Highest Number of Films')\n",
    "fig.update_layout(xaxis_title='Director', yaxis_title='Number of Movies')\n",
    "fig.show()\n",
    "\n",
    "# Display the top 20 directors with the highest number of films\n",
    "print(\"Top 20 Directors with the Highest Number of Films:\")\n",
    "print(top_20_directors)\n"
   ]
  },
  {
   "cell_type": "code",
   "execution_count": null,
   "metadata": {},
   "outputs": [],
   "source": []
  }
 ],
 "metadata": {
  "colab": {
   "provenance": []
  },
  "kernelspec": {
   "display_name": "Python 3 (ipykernel)",
   "language": "python",
   "name": "python3"
  },
  "language_info": {
   "codemirror_mode": {
    "name": "ipython",
    "version": 3
   },
   "file_extension": ".py",
   "mimetype": "text/x-python",
   "name": "python",
   "nbconvert_exporter": "python",
   "pygments_lexer": "ipython3",
   "version": "3.9.13"
  }
 },
 "nbformat": 4,
 "nbformat_minor": 1
}
